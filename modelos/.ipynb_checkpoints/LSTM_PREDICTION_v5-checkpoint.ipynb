{
 "cells": [
  {
   "cell_type": "code",
   "execution_count": 7,
   "id": "32c7e2d9",
   "metadata": {},
   "outputs": [],
   "source": [
    "import numpy as np\n",
    "from tensorflow.keras.models import Sequential\n",
    "from tensorflow.keras.layers import LSTM\n",
    "from tensorflow.keras.layers import Dense, Dropout\n",
    "from tensorflow import keras\n",
    "import pandas as pd\n",
    "from matplotlib import pyplot as plt\n",
    "from sklearn.preprocessing import StandardScaler, MinMaxScaler\n",
    "import seaborn as sns"
   ]
  },
  {
   "cell_type": "code",
   "execution_count": 83,
   "id": "06ab3596",
   "metadata": {},
   "outputs": [],
   "source": [
    "vueltas = pd.read_csv(\"../dataset_todos_pilotos/vueltas_spain_final.csv\")\n",
    "vueltas.drop(['Piloto'], axis = 1, inplace = True)"
   ]
  },
  {
   "cell_type": "code",
   "execution_count": 84,
   "id": "0aa7107a",
   "metadata": {},
   "outputs": [],
   "source": [
    "vueltas_train = vueltas[vueltas['anyo'].isin([2018, 2019, 2020, 2021])]\n",
    "vueltas_test = vueltas[vueltas['anyo'] == 2022]"
   ]
  },
  {
   "cell_type": "code",
   "execution_count": 85,
   "id": "ead79aa4",
   "metadata": {},
   "outputs": [],
   "source": [
    "vueltas_train = vueltas_train.drop(['anyo'], axis=1)\n",
    "vueltas_test = vueltas_test.drop(['anyo'], axis=1)\n"
   ]
  },
  {
   "cell_type": "code",
   "execution_count": 86,
   "id": "54ff995d",
   "metadata": {},
   "outputs": [],
   "source": [
    "vueltas_train = vueltas_train.astype(float)\n",
    "vueltas_test = vueltas_test.astype(float)"
   ]
  },
  {
   "cell_type": "code",
   "execution_count": 87,
   "id": "4e37a757",
   "metadata": {},
   "outputs": [
    {
     "data": {
      "text/plain": [
       "(1074, 20)"
      ]
     },
     "execution_count": 87,
     "metadata": {},
     "output_type": "execute_result"
    }
   ],
   "source": [
    "vueltas_test.shape"
   ]
  },
  {
   "cell_type": "code",
   "execution_count": 88,
   "id": "1e778c7a",
   "metadata": {},
   "outputs": [],
   "source": [
    "scaler = MinMaxScaler()\n",
    "scaler.fit(vueltas_train)\n",
    "vueltas_train_scaler = scaler.transform(vueltas_train)\n",
    "vueltas_test_scaler = scaler.transform(vueltas_test)\n"
   ]
  },
  {
   "cell_type": "code",
   "execution_count": 89,
   "id": "ca9b67f2",
   "metadata": {},
   "outputs": [],
   "source": [
    "trainX = []\n",
    "trainY = []\n",
    "testX = []\n",
    "testY = []\n",
    "loopback = 10 # Esto es el numero de muestras que usara en el pasado \n",
    "future = 1 # Esto es el numero de hechos futuros que usará como salida a las 10 muestras del pasado\n",
    "\n",
    "for i in range (loopback, len(vueltas_train_scaler) -future +1):\n",
    "    trainX.append(vueltas_train_scaler[i-loopback:i, 0:vueltas_train.shape[1]])\n",
    "    trainY.append(vueltas_train_scaler[i + future - 1:i + future, 5])\n",
    "    \n",
    "for i in range (loopback, len(vueltas_test_scaler) -future +1):\n",
    "    testX.append(vueltas_test_scaler[i-loopback:i, 0:vueltas_test.shape[1]])\n",
    "    testY.append(vueltas_test_scaler[i + future - 1:i + future,5])\n",
    "\n"
   ]
  },
  {
   "cell_type": "code",
   "execution_count": 90,
   "id": "9e056980",
   "metadata": {},
   "outputs": [],
   "source": [
    "trainX, trainY, testX, testY = np.array(trainX), np.array(trainY), np.array(testX), np.array(testY)"
   ]
  },
  {
   "cell_type": "code",
   "execution_count": 91,
   "id": "9822d371",
   "metadata": {},
   "outputs": [],
   "source": [
    "trainYOriginal = trainY"
   ]
  },
  {
   "cell_type": "code",
   "execution_count": 92,
   "id": "50137dda",
   "metadata": {},
   "outputs": [
    {
     "data": {
      "text/plain": [
       "(4067, 10, 20)"
      ]
     },
     "execution_count": 92,
     "metadata": {},
     "output_type": "execute_result"
    }
   ],
   "source": [
    "trainX.shape"
   ]
  },
  {
   "cell_type": "code",
   "execution_count": 93,
   "id": "d4496cbc",
   "metadata": {},
   "outputs": [
    {
     "data": {
      "text/plain": [
       "(4067, 1)"
      ]
     },
     "execution_count": 93,
     "metadata": {},
     "output_type": "execute_result"
    }
   ],
   "source": [
    "trainY.shape"
   ]
  },
  {
   "cell_type": "code",
   "execution_count": 94,
   "id": "d0fe2534",
   "metadata": {},
   "outputs": [
    {
     "data": {
      "text/plain": [
       "(1064, 10, 20)"
      ]
     },
     "execution_count": 94,
     "metadata": {},
     "output_type": "execute_result"
    }
   ],
   "source": [
    "testX.shape"
   ]
  },
  {
   "cell_type": "code",
   "execution_count": 95,
   "id": "6540a1f3",
   "metadata": {},
   "outputs": [
    {
     "data": {
      "text/plain": [
       "(1064, 1)"
      ]
     },
     "execution_count": 95,
     "metadata": {},
     "output_type": "execute_result"
    }
   ],
   "source": [
    "testY.shape"
   ]
  },
  {
   "cell_type": "code",
   "execution_count": 96,
   "id": "ff0fec0e",
   "metadata": {},
   "outputs": [
    {
     "name": "stdout",
     "output_type": "stream",
     "text": [
      "Model: \"sequential_2\"\n",
      "_________________________________________________________________\n",
      " Layer (type)                Output Shape              Param #   \n",
      "=================================================================\n",
      " lstm_4 (LSTM)               (None, 10, 256)           283648    \n",
      "                                                                 \n",
      " dropout_4 (Dropout)         (None, 10, 256)           0         \n",
      "                                                                 \n",
      " lstm_5 (LSTM)               (None, 128)               197120    \n",
      "                                                                 \n",
      " dropout_5 (Dropout)         (None, 128)               0         \n",
      "                                                                 \n",
      " dense_2 (Dense)             (None, 1)                 129       \n",
      "                                                                 \n",
      "=================================================================\n",
      "Total params: 480,897\n",
      "Trainable params: 480,897\n",
      "Non-trainable params: 0\n",
      "_________________________________________________________________\n"
     ]
    }
   ],
   "source": [
    "model = Sequential()\n",
    "model.add(LSTM(256, activation='relu', input_shape=(trainX.shape[1], trainX.shape[2]), return_sequences=True))\n",
    "model.add(Dropout(0.2))\n",
    "model.add(LSTM(128, activation='relu', return_sequences=False))\n",
    "model.add(Dropout(0.2))\n",
    "model.add(Dense(trainY.shape[1]))\n",
    "model.compile(optimizer=\"adam\", loss= \"mse\") ##Cambiar esto para la siguiente reunion (positivo 1, negativo 0)\n",
    "model.summary()"
   ]
  },
  {
   "cell_type": "code",
   "execution_count": 97,
   "id": "5596f13d",
   "metadata": {},
   "outputs": [
    {
     "name": "stdout",
     "output_type": "stream",
     "text": [
      "Epoch 1/12\n",
      "58/58 [==============================] - 7s 70ms/step - loss: 0.0336 - val_loss: 0.0261\n",
      "Epoch 2/12\n",
      "58/58 [==============================] - 4s 61ms/step - loss: 0.0150 - val_loss: 0.0193\n",
      "Epoch 3/12\n",
      "58/58 [==============================] - 4s 65ms/step - loss: 0.0124 - val_loss: 0.0189\n",
      "Epoch 4/12\n",
      "58/58 [==============================] - 4s 65ms/step - loss: 0.0107 - val_loss: 0.0145\n",
      "Epoch 5/12\n",
      "58/58 [==============================] - 4s 62ms/step - loss: 0.0102 - val_loss: 0.0129\n",
      "Epoch 6/12\n",
      "58/58 [==============================] - 3s 59ms/step - loss: 0.0097 - val_loss: 0.0158\n",
      "Epoch 7/12\n",
      "58/58 [==============================] - 3s 60ms/step - loss: 0.0096 - val_loss: 0.0163\n",
      "Epoch 8/12\n",
      "58/58 [==============================] - 4s 74ms/step - loss: 0.0086 - val_loss: 0.0125\n",
      "Epoch 9/12\n",
      "58/58 [==============================] - 4s 62ms/step - loss: 0.0086 - val_loss: 0.0133\n",
      "Epoch 10/12\n",
      "58/58 [==============================] - 4s 64ms/step - loss: 0.0082 - val_loss: 0.0118\n",
      "Epoch 11/12\n",
      "58/58 [==============================] - 4s 63ms/step - loss: 0.0081 - val_loss: 0.0118\n",
      "Epoch 12/12\n",
      "58/58 [==============================] - 4s 66ms/step - loss: 0.0077 - val_loss: 0.0133\n"
     ]
    },
    {
     "data": {
      "text/plain": [
       "<matplotlib.legend.Legend at 0x7fe8905fe0e0>"
      ]
     },
     "execution_count": 97,
     "metadata": {},
     "output_type": "execute_result"
    },
    {
     "data": {
      "image/png": "[encoded data removed]",
      "text/plain": [
       "<Figure size 640x480 with 1 Axes>"
      ]
     },
     "metadata": {},
     "output_type": "display_data"
    }
   ],
   "source": [
    "history = model.fit(trainX, trainY, epochs=12, batch_size=64, validation_split=0.1, verbose=1)\n",
    "\n",
    "plt.plot(history.history['loss'], label='Training loss')\n",
    "plt.plot(history.history['val_loss'], label='Validation loss')\n",
    "plt.legend()"
   ]
  },
  {
   "cell_type": "code",
   "execution_count": 98,
   "id": "bb4091b2",
   "metadata": {},
   "outputs": [
    {
     "name": "stdout",
     "output_type": "stream",
     "text": [
      "1/1 [==============================] - 0s 321ms/step\n"
     ]
    },
    {
     "data": {
      "text/plain": [
       "array([[0.54723626]], dtype=float32)"
      ]
     },
     "execution_count": 98,
     "metadata": {},
     "output_type": "execute_result"
    }
   ],
   "source": [
    "prediction = model.predict(testX[100:101]) \n",
    "prediction"
   ]
  },
  {
   "cell_type": "code",
   "execution_count": 99,
   "id": "5b7e6296",
   "metadata": {},
   "outputs": [
    {
     "data": {
      "text/plain": [
       "array([0.66666667])"
      ]
     },
     "execution_count": 99,
     "metadata": {},
     "output_type": "execute_result"
    }
   ],
   "source": [
    "testY[100]"
   ]
  },
  {
   "cell_type": "markdown",
   "id": "0e3ad311",
   "metadata": {},
   "source": [
    "### Sacar métricas de lo que falla. Con el unique, ver a cual se acerca más. Sacar matrix_confusion, con este modelo."
   ]
  },
  {
   "cell_type": "markdown",
   "id": "d98c6fc8",
   "metadata": {},
   "source": [
    "### Ahora vamos a sacar todas las Y^ y todas las y."
   ]
  },
  {
   "cell_type": "code",
   "execution_count": 100,
   "id": "5ed6ed53",
   "metadata": {},
   "outputs": [],
   "source": [
    "y_real = testY.tolist()"
   ]
  },
  {
   "cell_type": "code",
   "execution_count": 101,
   "id": "2e198766",
   "metadata": {
    "scrolled": true
   },
   "outputs": [
    {
     "name": "stdout",
     "output_type": "stream",
     "text": [
      "34/34 [==============================] - 0s 12ms/step\n"
     ]
    }
   ],
   "source": [
    "predictions = model.predict(testX)\n"
   ]
  },
  {
   "cell_type": "markdown",
   "id": "6e4e98fc",
   "metadata": {},
   "source": [
    "### Vamos a sacar los puntos que mejor separan las clases, y para ello vamos a usar una regresion logistica"
   ]
  },
  {
   "cell_type": "code",
   "execution_count": null,
   "id": "496663fb",
   "metadata": {},
   "outputs": [],
   "source": [
    "puntos = []"
   ]
  },
  {
   "cell_type": "code",
   "execution_count": null,
   "id": "1bfa930f",
   "metadata": {},
   "outputs": [],
   "source": [
    "from sklearn.linear_model import LogisticRegression\n",
    "##Este calcula el punto entre la clase 2 y la 3\n",
    "index0 = np.logical_or(trainY[:,0] == clases[0],trainY[:,0] == clases[1] )\n",
    "index1 = np.logical_or(trainY[:,0] == clases[2],trainY[:,0] == clases[3] )\n",
    "trainY[index0] = 0\n",
    "trainY[index1] = 1\n",
    "\n",
    "predictions = np.squeeze(predictions)\n",
    "predictions = predictions.reshape(-1,1)\n",
    "predictions.shape\n",
    "\n",
    "trainY = np.squeeze(trainY)\n",
    "trainY = trainY.reshape(-1,1)\n",
    "trainY.shape\n",
    "\n",
    "rl = LogisticRegression(random_state=0).fit(predictions, trainY)\n",
    "punto = -rl.intercept_/rl.coef_\n",
    "print(punto)\n",
    "puntos.append(punto)"
   ]
  },
  {
   "cell_type": "code",
   "execution_count": null,
   "id": "e62ddf50",
   "metadata": {},
   "outputs": [],
   "source": [
    "##Este calcula el punto entre la clase 1 y la 2\n",
    "index0 = trainY[:,0] == clases[0]\n",
    "index1 = np.logical_or(trainY[:,0] == clases[1],trainY[:,0] == clases[2], trainY[:,0] == clases[3])\n",
    "trainY[index0] = 1\n",
    "trainY[index1] = 0\n",
    "\n",
    "predictions = np.squeeze(predictions)\n",
    "predictions = predictions.reshape(-1,1)\n",
    "predictions.shape\n",
    "\n",
    "trainY = np.squeeze(trainY)\n",
    "trainY = trainY.reshape(-1,1)\n",
    "trainY.shape\n",
    "\n",
    "rl = LogisticRegression(random_state=0).fit(predictions, trainY)\n",
    "punto = -rl.intercept_/rl.coef_\n",
    "print(punto)\n"
   ]
  },
  {
   "cell_type": "code",
   "execution_count": null,
   "id": "30ea6223",
   "metadata": {},
   "outputs": [],
   "source": [
    "clases[3]"
   ]
  },
  {
   "cell_type": "code",
   "execution_count": null,
   "id": "b651e172",
   "metadata": {},
   "outputs": [],
   "source": [
    "index0 = trainY[:,0] != clases[3]\n",
    "index1 = trainY[:,0] == clases[3]\n",
    "trainY[index0] = 0\n",
    "trainY[index1] = 1\n",
    "\n",
    "predictions = np.squeeze(predictions)\n",
    "predictions = predictions.reshape(-1,1)\n",
    "\n",
    "trainY = np.squeeze(trainY)\n",
    "trainY = trainY.reshape(-1,1)\n",
    "\n",
    "rl = LogisticRegression(random_state=0).fit(predictions, trainY)\n",
    "punto = -rl.intercept_/rl.coef_\n",
    "print(punto)\n"
   ]
  },
  {
   "cell_type": "code",
   "execution_count": 116,
   "id": "0a2c51fe",
   "metadata": {},
   "outputs": [],
   "source": [
    "puntos = [0.18204395,0.50432424, 0.67542743]"
   ]
  },
  {
   "cell_type": "code",
   "execution_count": null,
   "id": "6f10f586",
   "metadata": {},
   "outputs": [],
   "source": []
  },
  {
   "cell_type": "code",
   "execution_count": null,
   "id": "a109a297",
   "metadata": {},
   "outputs": [],
   "source": []
  },
  {
   "cell_type": "code",
   "execution_count": null,
   "id": "96ce81c6",
   "metadata": {},
   "outputs": [],
   "source": []
  },
  {
   "cell_type": "code",
   "execution_count": null,
   "id": "3b9ab032",
   "metadata": {},
   "outputs": [],
   "source": []
  },
  {
   "cell_type": "code",
   "execution_count": 103,
   "id": "e770a412",
   "metadata": {},
   "outputs": [],
   "source": [
    "y_pred = predictions[:,0].tolist()"
   ]
  },
  {
   "cell_type": "code",
   "execution_count": 104,
   "id": "17a4f849",
   "metadata": {},
   "outputs": [],
   "source": [
    "uniques = set(tuple(x) for x in y_real)\n",
    "uniques = [list(x) for x in uniques]"
   ]
  },
  {
   "cell_type": "code",
   "execution_count": 74,
   "id": "9f5f81a5",
   "metadata": {
    "scrolled": false
   },
   "outputs": [],
   "source": [
    "#Esto es cogiendo el punto sacado mediante regresion logistica\n",
    "y_pred_normalized = []\n",
    "for val in y_pred:\n",
    "    if (val<puntos[0]):\n",
    "        y_pred_normalized.append(uniques[0][0])\n",
    "    if (val>=puntos[0] and val<puntos[1]):\n",
    "        y_pred_normalized.append(uniques[3][0])\n",
    "    if (val>=puntos[1] and val<puntos[2]):\n",
    "        y_pred_normalized.append(uniques[3][0])\n",
    "    if (val>=puntos[2]):\n",
    "        y_pred_normalized.append(uniques[2][0])\n"
   ]
  },
  {
   "cell_type": "code",
   "execution_count": 113,
   "id": "a154a021",
   "metadata": {},
   "outputs": [],
   "source": [
    "#Esto es cogiendo el punto predicho con la regresion logistica entre las dos clases solo para la ultima\n",
    "y_pred_normalized = []\n",
    "for val in y_pred:\n",
    "    dist = [abs(val-x[0]) if x[0] != 1 else abs(val-puntos[2]) for x in uniques]\n",
    "    closest_val = uniques[np.argmin(dist)][0]\n",
    "    y_pred_normalized.append(closest_val)\n"
   ]
  },
  {
   "cell_type": "code",
   "execution_count": 105,
   "id": "b751f39d",
   "metadata": {},
   "outputs": [],
   "source": [
    "#Esto es cogiendo el puno medio\n",
    "y_pred_normalized = []\n",
    "for val in y_pred:\n",
    "    dist = [abs(val-x[0]) for x in uniques]\n",
    "    closest_val = uniques[np.argmin(dist)][0]\n",
    "    y_pred_normalized.append(closest_val)"
   ]
  },
  {
   "cell_type": "code",
   "execution_count": 114,
   "id": "1fedb014",
   "metadata": {},
   "outputs": [],
   "source": [
    "bien_predecidas = 0\n",
    "mal_predecidas = 0\n",
    "\n",
    "for i in range (0, len(y_real)):\n",
    "    if y_pred_normalized[i] == y_real[i][0]:\n",
    "        bien_predecidas += 1\n",
    "    else:\n",
    "        mal_predecidas += 1\n",
    "\n",
    "precision = bien_predecidas/(mal_predecidas+bien_predecidas)      "
   ]
  },
  {
   "cell_type": "code",
   "execution_count": 115,
   "id": "39e27f8b",
   "metadata": {},
   "outputs": [
    {
     "name": "stdout",
     "output_type": "stream",
     "text": [
      "El modelo tiene una precision de:  0.7828947368421053\n"
     ]
    }
   ],
   "source": [
    "print(\"El modelo tiene una precision de: \", precision)"
   ]
  },
  {
   "cell_type": "markdown",
   "id": "a4ceff83",
   "metadata": {},
   "source": [
    "### Ahora tenemos que sacar las demás métricas y como tenemos 4 clases"
   ]
  },
  {
   "cell_type": "markdown",
   "id": "89c46421",
   "metadata": {},
   "source": [
    "### El número de stint que más veces aparece en el conjunto de test, ¿qué porcentaje sobre el total supone? "
   ]
  },
  {
   "cell_type": "code",
   "execution_count": 117,
   "id": "9557ed69",
   "metadata": {},
   "outputs": [
    {
     "name": "stdout",
     "output_type": "stream",
     "text": [
      "El número que aparece con más frecuencia es: 0.6666666666666667\n",
      "Las frecuencias de cada número son:\n",
      "0.0 aparece 195 veces que supone un 18.33 del total\n",
      "0.3333333333333333 aparece 329 veces que supone un 30.92 del total\n",
      "0.6666666666666667 aparece 350 veces que supone un 32.89 del total\n",
      "1.0 aparece 190 veces que supone un 17.86 del total\n"
     ]
    }
   ],
   "source": [
    "frecuencias = {}\n",
    "\n",
    "y_real_ = [sublista[0] for sublista in y_real]\n",
    "frecuencias = {}\n",
    "numero_mas_frecuente = None\n",
    "frecuencia_maxima = 0\n",
    "\n",
    "for numero in y_real_:\n",
    "    if numero in frecuencias:\n",
    "        frecuencias[numero] += 1\n",
    "    else:\n",
    "        frecuencias[numero] = 1\n",
    "\n",
    "    if frecuencias[numero] > frecuencia_maxima:\n",
    "        frecuencia_maxima = frecuencias[numero]\n",
    "        numero_mas_frecuente = numero\n",
    "\n",
    "print(\"El número que aparece con más frecuencia es:\", numero_mas_frecuente)\n",
    "print(\"Las frecuencias de cada número son:\")\n",
    "total = len(y_real_)\n",
    "\n",
    "for numero, frecuencia in frecuencias.items():\n",
    "    print(numero, \"aparece\", frecuencia, \"veces que supone un\", round((frecuencia/total)*100, 2), \"del total\")\n",
    "    "
   ]
  },
  {
   "cell_type": "code",
   "execution_count": 118,
   "id": "fa9ace6b",
   "metadata": {},
   "outputs": [],
   "source": [
    "clases = [str(sublista[0]) for sublista in uniques]"
   ]
  },
  {
   "cell_type": "markdown",
   "id": "c0880606",
   "metadata": {},
   "source": [
    "### Ahora tenemos la lista clases, que son nuestras 4 clases para clasificar. Asi que vamos a pasar las clases a string, y vamos a sacar FN, FP, TP, TN"
   ]
  },
  {
   "cell_type": "code",
   "execution_count": 119,
   "id": "342a2d9b",
   "metadata": {},
   "outputs": [],
   "source": [
    "y_real_str = [str(sublista) for sublista in y_real_]\n",
    "y_pred_normalized_str = [str(sublista) for sublista in y_pred_normalized]"
   ]
  },
  {
   "cell_type": "code",
   "execution_count": 120,
   "id": "fc241077",
   "metadata": {},
   "outputs": [
    {
     "name": "stdout",
     "output_type": "stream",
     "text": [
      "Matriz de confusión:\n",
      "['0.0', '1.0', '0.6666666666666667', '0.3333333333333333']\n",
      "[[131   8   3  53]\n",
      " [  0 158  29   3]\n",
      " [  0   0 231 119]\n",
      " [ 13   2   1 313]]\n",
      "Métricas:\n",
      "                    precision    recall  f1-score   support\n",
      "\n",
      "               0.0       0.91      0.67      0.77       195\n",
      "               1.0       0.94      0.83      0.88       190\n",
      "0.6666666666666667       0.88      0.66      0.75       350\n",
      "0.3333333333333333       0.64      0.95      0.77       329\n",
      "\n",
      "          accuracy                           0.78      1064\n",
      "         macro avg       0.84      0.78      0.79      1064\n",
      "      weighted avg       0.82      0.78      0.78      1064\n",
      "\n"
     ]
    }
   ],
   "source": [
    "from sklearn.metrics import confusion_matrix, classification_report\n",
    "# Calcular la matriz de confusión\n",
    "cm = confusion_matrix(y_real_str, y_pred_normalized_str, labels=clases)\n",
    "\n",
    "# Imprimir la matriz de confusión\n",
    "print(\"Matriz de confusión:\")\n",
    "print(clases)\n",
    "print(cm)\n",
    "\n",
    "# Imprimir las métricas básicas\n",
    "print(\"Métricas:\")\n",
    "print(classification_report(y_real_str, y_pred_normalized_str, labels=clases))"
   ]
  },
  {
   "cell_type": "markdown",
   "id": "f339d2f1",
   "metadata": {},
   "source": [
    "### Cuidado, ¿puede haber desbalanceo de clases?"
   ]
  },
  {
   "cell_type": "code",
   "execution_count": null,
   "id": "30acf035",
   "metadata": {},
   "outputs": [],
   "source": []
  }
 ],
 "metadata": {
  "kernelspec": {
   "display_name": "Python 3 (ipykernel)",
   "language": "python",
   "name": "python3"
  },
  "language_info": {
   "codemirror_mode": {
    "name": "ipython",
    "version": 3
   },
   "file_extension": ".py",
   "mimetype": "text/x-python",
   "name": "python",
   "nbconvert_exporter": "python",
   "pygments_lexer": "ipython3",
   "version": "3.10.9"
  }
 },
 "nbformat": 4,
 "nbformat_minor": 5
}
