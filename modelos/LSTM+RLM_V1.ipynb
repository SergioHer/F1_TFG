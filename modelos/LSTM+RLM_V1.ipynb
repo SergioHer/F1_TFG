{
 "cells": [
  {
   "cell_type": "code",
   "execution_count": 1,
   "id": "9ee4b771",
   "metadata": {},
   "outputs": [
    {
     "name": "stderr",
     "output_type": "stream",
     "text": [
      "2023-05-23 19:19:08.178492: I tensorflow/core/platform/cpu_feature_guard.cc:182] This TensorFlow binary is optimized to use available CPU instructions in performance-critical operations.\n",
      "To enable the following instructions: AVX2 FMA, in other operations, rebuild TensorFlow with the appropriate compiler flags.\n"
     ]
    }
   ],
   "source": [
    "import numpy as np\n",
    "from tensorflow.keras.models import Sequential\n",
    "from tensorflow.keras.layers import LSTM\n",
    "from tensorflow.keras.layers import Dense, Dropout\n",
    "from tensorflow import keras\n",
    "import pandas as pd\n",
    "from matplotlib import pyplot as plt\n",
    "from sklearn.preprocessing import StandardScaler, MinMaxScaler\n",
    "import seaborn as sns"
   ]
  },
  {
   "cell_type": "code",
   "execution_count": 2,
   "id": "9aafbad6",
   "metadata": {},
   "outputs": [],
   "source": [
    "vueltas = pd.read_csv(\"../dataset_todos_pilotos/vueltas_spain_final.csv\")\n",
    "\n",
    "vueltas.drop(['Piloto'], axis = 1, inplace = True)\n",
    "\n",
    "vueltas_train = vueltas[vueltas['anyo'].isin([2018, 2019, 2020, 2021])]\n",
    "vueltas_test = vueltas[vueltas['anyo'] == 2022]\n",
    "\n",
    "#vueltas_test = vueltas_test[vueltas_test['Piloto'] == \"alonso\"]\n",
    "\n",
    "vueltas_train = vueltas_train.drop(['anyo'], axis=1)\n",
    "vueltas_test = vueltas_test.drop(['anyo'], axis=1)\n",
    "\n",
    "#vueltas_train.drop(['Piloto'], axis = 1, inplace = True)\n",
    "#vueltas_test.drop(['Piloto'], axis = 1, inplace = True)\n",
    "\n",
    "\n",
    "vueltas_train = vueltas_train.astype(float)\n",
    "vueltas_test = vueltas_test.astype(float)"
   ]
  },
  {
   "cell_type": "code",
   "execution_count": 3,
   "id": "3741accf",
   "metadata": {},
   "outputs": [],
   "source": [
    "scaler = MinMaxScaler()\n",
    "scaler.fit(vueltas_train)\n",
    "vueltas_train_scaler = scaler.transform(vueltas_train)\n",
    "vueltas_test_scaler = scaler.transform(vueltas_test)"
   ]
  },
  {
   "cell_type": "code",
   "execution_count": 4,
   "id": "a43f2520",
   "metadata": {},
   "outputs": [],
   "source": [
    "trainX = []\n",
    "trainY = []\n",
    "testX = []\n",
    "testY = []\n",
    "loopback = 10 # Esto es el numero de muestras que usara en el pasado \n",
    "future = 1 # Esto es el numero de hechos futuros que usará como salida a las 10 muestras del pasado\n",
    "\n",
    "for i in range (loopback, len(vueltas_train_scaler) -future +1):\n",
    "    trainX.append(vueltas_train_scaler[i-loopback:i, 0:vueltas_train.shape[1]])\n",
    "    trainY.append(vueltas_train_scaler[i + future - 1:i + future, 5])\n",
    "    #print(vueltas_train_scaler[i + future - 1:i + future, 5])\n",
    "    \n",
    "for i in range (loopback, len(vueltas_test_scaler) -future +1):\n",
    "    testX.append(vueltas_test_scaler[i-loopback:i, 0:vueltas_test.shape[1]])\n",
    "    testY.append(vueltas_test_scaler[i + future - 1:i + future,5])\n"
   ]
  },
  {
   "cell_type": "code",
   "execution_count": 5,
   "id": "748744b3",
   "metadata": {},
   "outputs": [],
   "source": [
    "trainX, trainY, testX, testY = np.array(trainX), np.array(trainY), np.array(testX), np.array(testY)"
   ]
  },
  {
   "cell_type": "code",
   "execution_count": 19,
   "id": "f16e12f8",
   "metadata": {},
   "outputs": [
    {
     "name": "stdout",
     "output_type": "stream",
     "text": [
      "Model: \"sequential_1\"\n",
      "_________________________________________________________________\n",
      " Layer (type)                Output Shape              Param #   \n",
      "=================================================================\n",
      " lstm_2 (LSTM)               (None, 10, 256)           283648    \n",
      "                                                                 \n",
      " dropout_2 (Dropout)         (None, 10, 256)           0         \n",
      "                                                                 \n",
      " lstm_3 (LSTM)               (None, 128)               197120    \n",
      "                                                                 \n",
      " dropout_3 (Dropout)         (None, 128)               0         \n",
      "                                                                 \n",
      " dense_1 (Dense)             (None, 1)                 129       \n",
      "                                                                 \n",
      "=================================================================\n",
      "Total params: 480,897\n",
      "Trainable params: 480,897\n",
      "Non-trainable params: 0\n",
      "_________________________________________________________________\n"
     ]
    }
   ],
   "source": [
    "model = Sequential()\n",
    "model.add(LSTM(256, activation='relu', input_shape=(trainX.shape[1], trainX.shape[2]), return_sequences=True))\n",
    "model.add(Dropout(0.2))\n",
    "model.add(LSTM(128, activation='relu', return_sequences=False))\n",
    "model.add(Dropout(0.2))\n",
    "model.add(Dense(trainY.shape[1]))\n",
    "model.compile(optimizer=\"adam\", loss= \"mse\") ##Cambiar esto para la siguiente reunion (positivo 1, negativo 0)\n",
    "model.summary()"
   ]
  },
  {
   "cell_type": "code",
   "execution_count": 20,
   "id": "d48f6c99",
   "metadata": {},
   "outputs": [
    {
     "name": "stdout",
     "output_type": "stream",
     "text": [
      "Epoch 1/12\n",
      "64/64 [==============================] - 5s 40ms/step - loss: 0.0279\n",
      "Epoch 2/12\n",
      "64/64 [==============================] - 3s 40ms/step - loss: 0.0145\n",
      "Epoch 3/12\n",
      "64/64 [==============================] - 3s 41ms/step - loss: 0.0128\n",
      "Epoch 4/12\n",
      "64/64 [==============================] - 3s 41ms/step - loss: 0.0106\n",
      "Epoch 5/12\n",
      "64/64 [==============================] - 3s 40ms/step - loss: 0.0101\n",
      "Epoch 6/12\n",
      "64/64 [==============================] - 3s 40ms/step - loss: 0.0091\n",
      "Epoch 7/12\n",
      "64/64 [==============================] - 3s 41ms/step - loss: 0.0087\n",
      "Epoch 8/12\n",
      "64/64 [==============================] - 3s 40ms/step - loss: 0.0087\n",
      "Epoch 9/12\n",
      "64/64 [==============================] - 3s 40ms/step - loss: 0.0088\n",
      "Epoch 10/12\n",
      "64/64 [==============================] - 3s 40ms/step - loss: 0.0085\n",
      "Epoch 11/12\n",
      "64/64 [==============================] - 3s 41ms/step - loss: 0.0086\n",
      "Epoch 12/12\n",
      "64/64 [==============================] - 3s 42ms/step - loss: 0.0083\n"
     ]
    },
    {
     "data": {
      "text/plain": [
       "<matplotlib.legend.Legend at 0x7fc7f6acc040>"
      ]
     },
     "execution_count": 20,
     "metadata": {},
     "output_type": "execute_result"
    },
    {
     "data": {
      "image/png": "[encoded data removed]",
      "text/plain": [
       "<Figure size 640x480 with 1 Axes>"
      ]
     },
     "metadata": {},
     "output_type": "display_data"
    }
   ],
   "source": [
    "history = model.fit(trainX, trainY, epochs=12, batch_size=64, validation_split=0.0, verbose=1)\n",
    "\n",
    "plt.plot(history.history['loss'], label='Training loss')\n",
    "plt.legend()"
   ]
  },
  {
   "cell_type": "code",
   "execution_count": 21,
   "id": "571b3d2d",
   "metadata": {},
   "outputs": [
    {
     "data": {
      "text/plain": [
       "array([0.        , 0.33333333, 0.66666667, 1.        ])"
      ]
     },
     "execution_count": 21,
     "metadata": {},
     "output_type": "execute_result"
    }
   ],
   "source": [
    "clases = np.unique(trainY[:,0])\n",
    "clases"
   ]
  },
  {
   "cell_type": "code",
   "execution_count": 22,
   "id": "9928d8d7",
   "metadata": {
    "scrolled": false
   },
   "outputs": [],
   "source": [
    "f = lambda x: np.argwhere(x == clases)\n",
    "f = np.vectorize(f)\n",
    "y_real = f(testY[:,0])"
   ]
  },
  {
   "cell_type": "code",
   "execution_count": 23,
   "id": "01570325",
   "metadata": {},
   "outputs": [
    {
     "name": "stdout",
     "output_type": "stream",
     "text": [
      "34/34 [==============================] - 1s 10ms/step\n"
     ]
    }
   ],
   "source": [
    "predictions = model.predict(testX)"
   ]
  },
  {
   "cell_type": "code",
   "execution_count": 24,
   "id": "8e720daf",
   "metadata": {},
   "outputs": [
    {
     "data": {
      "text/plain": [
       "<matplotlib.collections.PathCollection at 0x7fc7ff55f880>"
      ]
     },
     "execution_count": 24,
     "metadata": {},
     "output_type": "execute_result"
    },
    {
     "data": {
      "image/png": "[encoded data removed]",
      "text/plain": [
       "<Figure size 640x480 with 1 Axes>"
      ]
     },
     "metadata": {},
     "output_type": "display_data"
    }
   ],
   "source": [
    "plt.scatter(predictions[:,0], predictions[:,0], s=1, c=y_real+1)"
   ]
  },
  {
   "cell_type": "code",
   "execution_count": 25,
   "id": "66383536",
   "metadata": {},
   "outputs": [],
   "source": [
    "y_real_train = f(trainY[:,0])"
   ]
  },
  {
   "cell_type": "code",
   "execution_count": 26,
   "id": "4c08176c",
   "metadata": {},
   "outputs": [
    {
     "name": "stdout",
     "output_type": "stream",
     "text": [
      "128/128 [==============================] - 1s 10ms/step\n"
     ]
    }
   ],
   "source": [
    "predictions_train = model.predict(trainX)"
   ]
  },
  {
   "cell_type": "code",
   "execution_count": 27,
   "id": "2bf956b8",
   "metadata": {},
   "outputs": [
    {
     "data": {
      "text/plain": [
       "<matplotlib.collections.PathCollection at 0x7fc7fd4f9ed0>"
      ]
     },
     "execution_count": 27,
     "metadata": {},
     "output_type": "execute_result"
    },
    {
     "data": {
      "image/png": "[encoded data removed]",
      "text/plain": [
       "<Figure size 640x480 with 1 Axes>"
      ]
     },
     "metadata": {},
     "output_type": "display_data"
    }
   ],
   "source": [
    "\n",
    "\n",
    "plt.scatter(predictions_train[:,0], predictions_train[:,0], s=1, c=y_real_train+1)"
   ]
  },
  {
   "cell_type": "code",
   "execution_count": 28,
   "id": "a3924feb",
   "metadata": {},
   "outputs": [],
   "source": [
    "from sklearn.model_selection import train_test_split\n",
    "X_train, X_test, y_train, y_test = train_test_split(predictions, y_real, test_size=0.3, stratify=y_real)"
   ]
  },
  {
   "cell_type": "code",
   "execution_count": 29,
   "id": "618ed0a4",
   "metadata": {},
   "outputs": [],
   "source": [
    "from sklearn.linear_model import LogisticRegression\n",
    "rl = LogisticRegression(random_state=0, penalty=None).fit(X_train, y_train)"
   ]
  },
  {
   "cell_type": "code",
   "execution_count": 30,
   "id": "365ec7d2",
   "metadata": {},
   "outputs": [],
   "source": [
    "pred_test_2 = rl.predict(X_test)"
   ]
  },
  {
   "cell_type": "code",
   "execution_count": 31,
   "id": "c1c4661d",
   "metadata": {},
   "outputs": [
    {
     "name": "stdout",
     "output_type": "stream",
     "text": [
      "[[49  6  1  3]\n",
      " [ 3 89  6  1]\n",
      " [ 0  7 98  0]\n",
      " [ 0  0  6 51]]\n",
      "              precision    recall  f1-score   support\n",
      "\n",
      "           0       0.94      0.83      0.88        59\n",
      "           1       0.87      0.90      0.89        99\n",
      "           2       0.88      0.93      0.91       105\n",
      "           3       0.93      0.89      0.91        57\n",
      "\n",
      "    accuracy                           0.90       320\n",
      "   macro avg       0.91      0.89      0.90       320\n",
      "weighted avg       0.90      0.90      0.90       320\n",
      "\n"
     ]
    }
   ],
   "source": [
    "from sklearn.metrics import confusion_matrix\n",
    "from sklearn.metrics import classification_report\n",
    "print(confusion_matrix(y_test, pred_test_2))\n",
    "print(classification_report(y_test, pred_test_2))"
   ]
  },
  {
   "cell_type": "code",
   "execution_count": null,
   "id": "2eb1cc96",
   "metadata": {},
   "outputs": [],
   "source": []
  }
 ],
 "metadata": {
  "kernelspec": {
   "display_name": "Python 3 (ipykernel)",
   "language": "python",
   "name": "python3"
  },
  "language_info": {
   "codemirror_mode": {
    "name": "ipython",
    "version": 3
   },
   "file_extension": ".py",
   "mimetype": "text/x-python",
   "name": "python",
   "nbconvert_exporter": "python",
   "pygments_lexer": "ipython3",
   "version": "3.10.9"
  }
 },
 "nbformat": 4,
 "nbformat_minor": 5
}
