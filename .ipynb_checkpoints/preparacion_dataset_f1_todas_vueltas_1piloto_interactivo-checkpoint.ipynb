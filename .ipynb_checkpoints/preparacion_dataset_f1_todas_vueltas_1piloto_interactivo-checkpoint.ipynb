{
 "cells": [
  {
   "cell_type": "code",
   "execution_count": 6,
   "metadata": {},
   "outputs": [],
   "source": [
    "#!/usr/bin/env python\n",
    "# coding: utf-8"
   ]
  },
  {
   "cell_type": "markdown",
   "metadata": {},
   "source": [
    "In[3]:"
   ]
  },
  {
   "cell_type": "code",
   "execution_count": 7,
   "metadata": {},
   "outputs": [],
   "source": [
    "import fastf1\n",
    "import pandas as pd"
   ]
  },
  {
   "cell_type": "markdown",
   "metadata": {},
   "source": [
    "In[4]:"
   ]
  },
  {
   "cell_type": "markdown",
   "metadata": {},
   "source": [
    "amos a preguntar por el piloto que queramos, el circuito que queramos y el año que queramos:"
   ]
  },
  {
   "cell_type": "code",
   "execution_count": 8,
   "metadata": {},
   "outputs": [
    {
     "name": "stdout",
     "output_type": "stream",
     "text": [
      "Introduce la abreviatura de un piloto('VER', 'ALO', 'HAM', ...): ALO\n",
      "Introduce un Gran Premio ('Barcelona', 'Monaco', 'Australia'): Monaco\n",
      "Introduce el año del GP (2017-2022): 2021\n"
     ]
    }
   ],
   "source": [
    "nombrePiloto = input(\"Introduce la abreviatura de un piloto('VER', 'ALO', 'HAM', ...): \")\n",
    "nombreCircuito = input(\"Introduce el pais de un Gran Premio ('España', 'Monaco', 'Australia', 'USA', ...): \")\n",
    "anyoGp = input(\"Introduce el año del GP (2017-2022): \")"
   ]
  },
  {
   "cell_type": "markdown",
   "metadata": {},
   "source": [
    "btención de todos los circuitos en csv"
   ]
  },
  {
   "cell_type": "code",
   "execution_count": 72,
   "metadata": {},
   "outputs": [
    {
     "data": {
      "text/html": [
       "<div>\n",
       "<style scoped>\n",
       "    .dataframe tbody tr th:only-of-type {\n",
       "        vertical-align: middle;\n",
       "    }\n",
       "\n",
       "    .dataframe tbody tr th {\n",
       "        vertical-align: top;\n",
       "    }\n",
       "\n",
       "    .dataframe thead th {\n",
       "        text-align: right;\n",
       "    }\n",
       "</style>\n",
       "<table border=\"1\" class=\"dataframe\">\n",
       "  <thead>\n",
       "    <tr style=\"text-align: right;\">\n",
       "      <th></th>\n",
       "      <th>circuitId</th>\n",
       "      <th>url</th>\n",
       "      <th>circuitName</th>\n",
       "      <th>Location/lat</th>\n",
       "      <th>Location/long</th>\n",
       "      <th>Location/locality</th>\n",
       "      <th>Location/country</th>\n",
       "    </tr>\n",
       "  </thead>\n",
       "  <tbody>\n",
       "    <tr>\n",
       "      <th>0</th>\n",
       "      <td>albert_park</td>\n",
       "      <td>http://en.wikipedia.org/wiki/Melbourne_Grand_P...</td>\n",
       "      <td>Albert Park Grand Prix Circuit</td>\n",
       "      <td>-37.8497</td>\n",
       "      <td>144.96800</td>\n",
       "      <td>Melbourne</td>\n",
       "      <td>Australia</td>\n",
       "    </tr>\n",
       "    <tr>\n",
       "      <th>1</th>\n",
       "      <td>americas</td>\n",
       "      <td>http://en.wikipedia.org/wiki/Circuit_of_the_Am...</td>\n",
       "      <td>Circuit of the Americas</td>\n",
       "      <td>30.1328</td>\n",
       "      <td>-97.64110</td>\n",
       "      <td>Austin</td>\n",
       "      <td>USA</td>\n",
       "    </tr>\n",
       "    <tr>\n",
       "      <th>2</th>\n",
       "      <td>bahrain</td>\n",
       "      <td>http://en.wikipedia.org/wiki/Bahrain_Internati...</td>\n",
       "      <td>Bahrain International Circuit</td>\n",
       "      <td>26.0325</td>\n",
       "      <td>50.51060</td>\n",
       "      <td>Sakhir</td>\n",
       "      <td>Bahrain</td>\n",
       "    </tr>\n",
       "    <tr>\n",
       "      <th>3</th>\n",
       "      <td>baku</td>\n",
       "      <td>http://en.wikipedia.org/wiki/Baku_City_Circuit</td>\n",
       "      <td>Baku City Circuit</td>\n",
       "      <td>40.3725</td>\n",
       "      <td>49.85330</td>\n",
       "      <td>Baku</td>\n",
       "      <td>Azerbaijan</td>\n",
       "    </tr>\n",
       "    <tr>\n",
       "      <th>4</th>\n",
       "      <td>catalunya</td>\n",
       "      <td>http://en.wikipedia.org/wiki/Circuit_de_Barcel...</td>\n",
       "      <td>Circuit de Barcelona-Catalunya</td>\n",
       "      <td>41.5700</td>\n",
       "      <td>2.26111</td>\n",
       "      <td>Montmeló</td>\n",
       "      <td>Spain</td>\n",
       "    </tr>\n",
       "    <tr>\n",
       "      <th>5</th>\n",
       "      <td>hungaroring</td>\n",
       "      <td>http://en.wikipedia.org/wiki/Hungaroring</td>\n",
       "      <td>Hungaroring</td>\n",
       "      <td>47.5789</td>\n",
       "      <td>19.24860</td>\n",
       "      <td>Budapest</td>\n",
       "      <td>Hungary</td>\n",
       "    </tr>\n",
       "    <tr>\n",
       "      <th>6</th>\n",
       "      <td>imola</td>\n",
       "      <td>http://en.wikipedia.org/wiki/Autodromo_Enzo_e_...</td>\n",
       "      <td>Autodromo Enzo e Dino Ferrari</td>\n",
       "      <td>44.3439</td>\n",
       "      <td>11.71670</td>\n",
       "      <td>Imola</td>\n",
       "      <td>Italy</td>\n",
       "    </tr>\n",
       "    <tr>\n",
       "      <th>7</th>\n",
       "      <td>interlagos</td>\n",
       "      <td>http://en.wikipedia.org/wiki/Aut%C3%B3dromo_Jo...</td>\n",
       "      <td>Autódromo José Carlos Pace</td>\n",
       "      <td>-23.7036</td>\n",
       "      <td>-46.69970</td>\n",
       "      <td>São Paulo</td>\n",
       "      <td>Brazil</td>\n",
       "    </tr>\n",
       "    <tr>\n",
       "      <th>8</th>\n",
       "      <td>jeddah</td>\n",
       "      <td>http://en.wikipedia.org/wiki/Jeddah_Street_Cir...</td>\n",
       "      <td>Jeddah Corniche Circuit</td>\n",
       "      <td>21.6319</td>\n",
       "      <td>39.10440</td>\n",
       "      <td>Jeddah</td>\n",
       "      <td>Saudi Arabia</td>\n",
       "    </tr>\n",
       "    <tr>\n",
       "      <th>9</th>\n",
       "      <td>marina_bay</td>\n",
       "      <td>http://en.wikipedia.org/wiki/Marina_Bay_Street...</td>\n",
       "      <td>Marina Bay Street Circuit</td>\n",
       "      <td>1.2914</td>\n",
       "      <td>103.86400</td>\n",
       "      <td>Marina Bay</td>\n",
       "      <td>Singapore</td>\n",
       "    </tr>\n",
       "    <tr>\n",
       "      <th>10</th>\n",
       "      <td>miami</td>\n",
       "      <td>http://en.wikipedia.org/wiki/Miami_Internation...</td>\n",
       "      <td>Miami International Autodrome</td>\n",
       "      <td>25.9581</td>\n",
       "      <td>-80.23890</td>\n",
       "      <td>Miami</td>\n",
       "      <td>USA</td>\n",
       "    </tr>\n",
       "    <tr>\n",
       "      <th>11</th>\n",
       "      <td>monaco</td>\n",
       "      <td>http://en.wikipedia.org/wiki/Circuit_de_Monaco</td>\n",
       "      <td>Circuit de Monaco</td>\n",
       "      <td>43.7347</td>\n",
       "      <td>7.42056</td>\n",
       "      <td>Monte-Carlo</td>\n",
       "      <td>Monaco</td>\n",
       "    </tr>\n",
       "    <tr>\n",
       "      <th>12</th>\n",
       "      <td>monza</td>\n",
       "      <td>http://en.wikipedia.org/wiki/Autodromo_Naziona...</td>\n",
       "      <td>Autodromo Nazionale di Monza</td>\n",
       "      <td>45.6156</td>\n",
       "      <td>9.28111</td>\n",
       "      <td>Monza</td>\n",
       "      <td>Italy</td>\n",
       "    </tr>\n",
       "    <tr>\n",
       "      <th>13</th>\n",
       "      <td>red_bull_ring</td>\n",
       "      <td>http://en.wikipedia.org/wiki/Red_Bull_Ring</td>\n",
       "      <td>Red Bull Ring</td>\n",
       "      <td>47.2197</td>\n",
       "      <td>14.76470</td>\n",
       "      <td>Spielberg</td>\n",
       "      <td>Austria</td>\n",
       "    </tr>\n",
       "    <tr>\n",
       "      <th>14</th>\n",
       "      <td>ricard</td>\n",
       "      <td>http://en.wikipedia.org/wiki/Paul_Ricard_Circuit</td>\n",
       "      <td>Circuit Paul Ricard</td>\n",
       "      <td>43.2506</td>\n",
       "      <td>5.79167</td>\n",
       "      <td>Le Castellet</td>\n",
       "      <td>France</td>\n",
       "    </tr>\n",
       "    <tr>\n",
       "      <th>15</th>\n",
       "      <td>rodriguez</td>\n",
       "      <td>http://en.wikipedia.org/wiki/Aut%C3%B3dromo_He...</td>\n",
       "      <td>Autódromo Hermanos Rodríguez</td>\n",
       "      <td>19.4042</td>\n",
       "      <td>-99.09070</td>\n",
       "      <td>Mexico City</td>\n",
       "      <td>Mexico</td>\n",
       "    </tr>\n",
       "    <tr>\n",
       "      <th>16</th>\n",
       "      <td>silverstone</td>\n",
       "      <td>http://en.wikipedia.org/wiki/Silverstone_Circuit</td>\n",
       "      <td>Silverstone Circuit</td>\n",
       "      <td>52.0786</td>\n",
       "      <td>-1.01694</td>\n",
       "      <td>Silverstone</td>\n",
       "      <td>UK</td>\n",
       "    </tr>\n",
       "    <tr>\n",
       "      <th>17</th>\n",
       "      <td>spa</td>\n",
       "      <td>http://en.wikipedia.org/wiki/Circuit_de_Spa-Fr...</td>\n",
       "      <td>Circuit de Spa-Francorchamps</td>\n",
       "      <td>50.4372</td>\n",
       "      <td>5.97139</td>\n",
       "      <td>Spa</td>\n",
       "      <td>Belgium</td>\n",
       "    </tr>\n",
       "    <tr>\n",
       "      <th>18</th>\n",
       "      <td>suzuka</td>\n",
       "      <td>http://en.wikipedia.org/wiki/Suzuka_Circuit</td>\n",
       "      <td>Suzuka Circuit</td>\n",
       "      <td>34.8431</td>\n",
       "      <td>136.54100</td>\n",
       "      <td>Suzuka</td>\n",
       "      <td>Japan</td>\n",
       "    </tr>\n",
       "    <tr>\n",
       "      <th>19</th>\n",
       "      <td>villeneuve</td>\n",
       "      <td>http://en.wikipedia.org/wiki/Circuit_Gilles_Vi...</td>\n",
       "      <td>Circuit Gilles Villeneuve</td>\n",
       "      <td>45.5000</td>\n",
       "      <td>-73.52280</td>\n",
       "      <td>Montreal</td>\n",
       "      <td>Canada</td>\n",
       "    </tr>\n",
       "    <tr>\n",
       "      <th>20</th>\n",
       "      <td>yas_marina</td>\n",
       "      <td>http://en.wikipedia.org/wiki/Yas_Marina_Circuit</td>\n",
       "      <td>Yas Marina Circuit</td>\n",
       "      <td>24.4672</td>\n",
       "      <td>54.60310</td>\n",
       "      <td>Abu Dhabi</td>\n",
       "      <td>UAE</td>\n",
       "    </tr>\n",
       "    <tr>\n",
       "      <th>21</th>\n",
       "      <td>zandvoort</td>\n",
       "      <td>http://en.wikipedia.org/wiki/Circuit_Zandvoort</td>\n",
       "      <td>Circuit Park Zandvoort</td>\n",
       "      <td>52.3888</td>\n",
       "      <td>4.54092</td>\n",
       "      <td>Zandvoort</td>\n",
       "      <td>Netherlands</td>\n",
       "    </tr>\n",
       "  </tbody>\n",
       "</table>\n",
       "</div>"
      ],
      "text/plain": [
       "        circuitId                                                url  \\\n",
       "0     albert_park  http://en.wikipedia.org/wiki/Melbourne_Grand_P...   \n",
       "1        americas  http://en.wikipedia.org/wiki/Circuit_of_the_Am...   \n",
       "2         bahrain  http://en.wikipedia.org/wiki/Bahrain_Internati...   \n",
       "3            baku     http://en.wikipedia.org/wiki/Baku_City_Circuit   \n",
       "4       catalunya  http://en.wikipedia.org/wiki/Circuit_de_Barcel...   \n",
       "5     hungaroring           http://en.wikipedia.org/wiki/Hungaroring   \n",
       "6           imola  http://en.wikipedia.org/wiki/Autodromo_Enzo_e_...   \n",
       "7      interlagos  http://en.wikipedia.org/wiki/Aut%C3%B3dromo_Jo...   \n",
       "8          jeddah  http://en.wikipedia.org/wiki/Jeddah_Street_Cir...   \n",
       "9      marina_bay  http://en.wikipedia.org/wiki/Marina_Bay_Street...   \n",
       "10          miami  http://en.wikipedia.org/wiki/Miami_Internation...   \n",
       "11         monaco     http://en.wikipedia.org/wiki/Circuit_de_Monaco   \n",
       "12          monza  http://en.wikipedia.org/wiki/Autodromo_Naziona...   \n",
       "13  red_bull_ring         http://en.wikipedia.org/wiki/Red_Bull_Ring   \n",
       "14         ricard   http://en.wikipedia.org/wiki/Paul_Ricard_Circuit   \n",
       "15      rodriguez  http://en.wikipedia.org/wiki/Aut%C3%B3dromo_He...   \n",
       "16    silverstone   http://en.wikipedia.org/wiki/Silverstone_Circuit   \n",
       "17            spa  http://en.wikipedia.org/wiki/Circuit_de_Spa-Fr...   \n",
       "18         suzuka        http://en.wikipedia.org/wiki/Suzuka_Circuit   \n",
       "19     villeneuve  http://en.wikipedia.org/wiki/Circuit_Gilles_Vi...   \n",
       "20     yas_marina    http://en.wikipedia.org/wiki/Yas_Marina_Circuit   \n",
       "21      zandvoort     http://en.wikipedia.org/wiki/Circuit_Zandvoort   \n",
       "\n",
       "                       circuitName  Location/lat  Location/long  \\\n",
       "0   Albert Park Grand Prix Circuit      -37.8497      144.96800   \n",
       "1          Circuit of the Americas       30.1328      -97.64110   \n",
       "2    Bahrain International Circuit       26.0325       50.51060   \n",
       "3                Baku City Circuit       40.3725       49.85330   \n",
       "4   Circuit de Barcelona-Catalunya       41.5700        2.26111   \n",
       "5                      Hungaroring       47.5789       19.24860   \n",
       "6    Autodromo Enzo e Dino Ferrari       44.3439       11.71670   \n",
       "7       Autódromo José Carlos Pace      -23.7036      -46.69970   \n",
       "8          Jeddah Corniche Circuit       21.6319       39.10440   \n",
       "9        Marina Bay Street Circuit        1.2914      103.86400   \n",
       "10   Miami International Autodrome       25.9581      -80.23890   \n",
       "11               Circuit de Monaco       43.7347        7.42056   \n",
       "12    Autodromo Nazionale di Monza       45.6156        9.28111   \n",
       "13                   Red Bull Ring       47.2197       14.76470   \n",
       "14             Circuit Paul Ricard       43.2506        5.79167   \n",
       "15    Autódromo Hermanos Rodríguez       19.4042      -99.09070   \n",
       "16             Silverstone Circuit       52.0786       -1.01694   \n",
       "17    Circuit de Spa-Francorchamps       50.4372        5.97139   \n",
       "18                  Suzuka Circuit       34.8431      136.54100   \n",
       "19       Circuit Gilles Villeneuve       45.5000      -73.52280   \n",
       "20              Yas Marina Circuit       24.4672       54.60310   \n",
       "21          Circuit Park Zandvoort       52.3888        4.54092   \n",
       "\n",
       "   Location/locality Location/country  \n",
       "0          Melbourne        Australia  \n",
       "1             Austin              USA  \n",
       "2             Sakhir          Bahrain  \n",
       "3               Baku       Azerbaijan  \n",
       "4           Montmeló            Spain  \n",
       "5           Budapest          Hungary  \n",
       "6              Imola            Italy  \n",
       "7          São Paulo           Brazil  \n",
       "8             Jeddah     Saudi Arabia  \n",
       "9         Marina Bay        Singapore  \n",
       "10             Miami              USA  \n",
       "11       Monte-Carlo           Monaco  \n",
       "12             Monza            Italy  \n",
       "13         Spielberg          Austria  \n",
       "14      Le Castellet           France  \n",
       "15       Mexico City           Mexico  \n",
       "16       Silverstone               UK  \n",
       "17               Spa          Belgium  \n",
       "18            Suzuka            Japan  \n",
       "19          Montreal           Canada  \n",
       "20         Abu Dhabi              UAE  \n",
       "21         Zandvoort      Netherlands  "
      ]
     },
     "execution_count": 72,
     "metadata": {},
     "output_type": "execute_result"
    }
   ],
   "source": [
    "circuitos = pd.read_csv(\"circuits/circuits_2022.csv\")\n",
    "circuitos"
   ]
  },
  {
   "cell_type": "markdown",
   "metadata": {},
   "source": [
    "In[5]:"
   ]
  },
  {
   "cell_type": "markdown",
   "metadata": {},
   "source": [
    "impiamos el dataframe de circuitos"
   ]
  },
  {
   "cell_type": "code",
   "execution_count": 74,
   "metadata": {},
   "outputs": [
    {
     "ename": "KeyError",
     "evalue": "\"['url', 'Location/lat', 'Location/long', 'Location/locality'] not found in axis\"",
     "output_type": "error",
     "traceback": [
      "\u001b[0;31m---------------------------------------------------------------------------\u001b[0m",
      "\u001b[0;31mKeyError\u001b[0m                                  Traceback (most recent call last)",
      "Cell \u001b[0;32mIn[74], line 1\u001b[0m\n\u001b[0;32m----> 1\u001b[0m circuitos \u001b[38;5;241m=\u001b[39m \u001b[43mcircuitos\u001b[49m\u001b[38;5;241;43m.\u001b[39;49m\u001b[43mdrop\u001b[49m\u001b[43m(\u001b[49m\u001b[43m[\u001b[49m\u001b[38;5;124;43m'\u001b[39;49m\u001b[38;5;124;43murl\u001b[39;49m\u001b[38;5;124;43m'\u001b[39;49m\u001b[43m,\u001b[49m\u001b[43m \u001b[49m\u001b[38;5;124;43m'\u001b[39;49m\u001b[38;5;124;43mLocation/lat\u001b[39;49m\u001b[38;5;124;43m'\u001b[39;49m\u001b[43m,\u001b[49m\u001b[43m \u001b[49m\u001b[38;5;124;43m'\u001b[39;49m\u001b[38;5;124;43mLocation/long\u001b[39;49m\u001b[38;5;124;43m'\u001b[39;49m\u001b[43m,\u001b[49m\u001b[43m \u001b[49m\u001b[38;5;124;43m'\u001b[39;49m\u001b[38;5;124;43mLocation/locality\u001b[39;49m\u001b[38;5;124;43m'\u001b[39;49m\u001b[43m]\u001b[49m\u001b[43m,\u001b[49m\u001b[43m \u001b[49m\u001b[43maxis\u001b[49m\u001b[43m \u001b[49m\u001b[38;5;241;43m=\u001b[39;49m\u001b[43m \u001b[49m\u001b[38;5;241;43m1\u001b[39;49m\u001b[43m)\u001b[49m\n\u001b[1;32m      2\u001b[0m \u001b[38;5;28mprint\u001b[39m(circuitos[\u001b[38;5;124m'\u001b[39m\u001b[38;5;124mLocation/country\u001b[39m\u001b[38;5;124m'\u001b[39m]\u001b[38;5;241m.\u001b[39mto_string(index\u001b[38;5;241m=\u001b[39m\u001b[38;5;28;01mFalse\u001b[39;00m))\n",
      "File \u001b[0;32m/usr/local/lib/python3.8/site-packages/pandas/util/_decorators.py:331\u001b[0m, in \u001b[0;36mdeprecate_nonkeyword_arguments.<locals>.decorate.<locals>.wrapper\u001b[0;34m(*args, **kwargs)\u001b[0m\n\u001b[1;32m    325\u001b[0m \u001b[38;5;28;01mif\u001b[39;00m \u001b[38;5;28mlen\u001b[39m(args) \u001b[38;5;241m>\u001b[39m num_allow_args:\n\u001b[1;32m    326\u001b[0m     warnings\u001b[38;5;241m.\u001b[39mwarn(\n\u001b[1;32m    327\u001b[0m         msg\u001b[38;5;241m.\u001b[39mformat(arguments\u001b[38;5;241m=\u001b[39m_format_argument_list(allow_args)),\n\u001b[1;32m    328\u001b[0m         \u001b[38;5;167;01mFutureWarning\u001b[39;00m,\n\u001b[1;32m    329\u001b[0m         stacklevel\u001b[38;5;241m=\u001b[39mfind_stack_level(),\n\u001b[1;32m    330\u001b[0m     )\n\u001b[0;32m--> 331\u001b[0m \u001b[38;5;28;01mreturn\u001b[39;00m \u001b[43mfunc\u001b[49m\u001b[43m(\u001b[49m\u001b[38;5;241;43m*\u001b[39;49m\u001b[43margs\u001b[49m\u001b[43m,\u001b[49m\u001b[43m \u001b[49m\u001b[38;5;241;43m*\u001b[39;49m\u001b[38;5;241;43m*\u001b[39;49m\u001b[43mkwargs\u001b[49m\u001b[43m)\u001b[49m\n",
      "File \u001b[0;32m/usr/local/lib/python3.8/site-packages/pandas/core/frame.py:5396\u001b[0m, in \u001b[0;36mDataFrame.drop\u001b[0;34m(self, labels, axis, index, columns, level, inplace, errors)\u001b[0m\n\u001b[1;32m   5248\u001b[0m \u001b[38;5;129m@deprecate_nonkeyword_arguments\u001b[39m(version\u001b[38;5;241m=\u001b[39m\u001b[38;5;28;01mNone\u001b[39;00m, allowed_args\u001b[38;5;241m=\u001b[39m[\u001b[38;5;124m\"\u001b[39m\u001b[38;5;124mself\u001b[39m\u001b[38;5;124m\"\u001b[39m, \u001b[38;5;124m\"\u001b[39m\u001b[38;5;124mlabels\u001b[39m\u001b[38;5;124m\"\u001b[39m])\n\u001b[1;32m   5249\u001b[0m \u001b[38;5;28;01mdef\u001b[39;00m \u001b[38;5;21mdrop\u001b[39m(  \u001b[38;5;66;03m# type: ignore[override]\u001b[39;00m\n\u001b[1;32m   5250\u001b[0m     \u001b[38;5;28mself\u001b[39m,\n\u001b[0;32m   (...)\u001b[0m\n\u001b[1;32m   5257\u001b[0m     errors: IgnoreRaise \u001b[38;5;241m=\u001b[39m \u001b[38;5;124m\"\u001b[39m\u001b[38;5;124mraise\u001b[39m\u001b[38;5;124m\"\u001b[39m,\n\u001b[1;32m   5258\u001b[0m ) \u001b[38;5;241m-\u001b[39m\u001b[38;5;241m>\u001b[39m DataFrame \u001b[38;5;241m|\u001b[39m \u001b[38;5;28;01mNone\u001b[39;00m:\n\u001b[1;32m   5259\u001b[0m     \u001b[38;5;124;03m\"\"\"\u001b[39;00m\n\u001b[1;32m   5260\u001b[0m \u001b[38;5;124;03m    Drop specified labels from rows or columns.\u001b[39;00m\n\u001b[1;32m   5261\u001b[0m \n\u001b[0;32m   (...)\u001b[0m\n\u001b[1;32m   5394\u001b[0m \u001b[38;5;124;03m            weight  1.0     0.8\u001b[39;00m\n\u001b[1;32m   5395\u001b[0m \u001b[38;5;124;03m    \"\"\"\u001b[39;00m\n\u001b[0;32m-> 5396\u001b[0m     \u001b[38;5;28;01mreturn\u001b[39;00m \u001b[38;5;28;43msuper\u001b[39;49m\u001b[43m(\u001b[49m\u001b[43m)\u001b[49m\u001b[38;5;241;43m.\u001b[39;49m\u001b[43mdrop\u001b[49m\u001b[43m(\u001b[49m\n\u001b[1;32m   5397\u001b[0m \u001b[43m        \u001b[49m\u001b[43mlabels\u001b[49m\u001b[38;5;241;43m=\u001b[39;49m\u001b[43mlabels\u001b[49m\u001b[43m,\u001b[49m\n\u001b[1;32m   5398\u001b[0m \u001b[43m        \u001b[49m\u001b[43maxis\u001b[49m\u001b[38;5;241;43m=\u001b[39;49m\u001b[43maxis\u001b[49m\u001b[43m,\u001b[49m\n\u001b[1;32m   5399\u001b[0m \u001b[43m        \u001b[49m\u001b[43mindex\u001b[49m\u001b[38;5;241;43m=\u001b[39;49m\u001b[43mindex\u001b[49m\u001b[43m,\u001b[49m\n\u001b[1;32m   5400\u001b[0m \u001b[43m        \u001b[49m\u001b[43mcolumns\u001b[49m\u001b[38;5;241;43m=\u001b[39;49m\u001b[43mcolumns\u001b[49m\u001b[43m,\u001b[49m\n\u001b[1;32m   5401\u001b[0m \u001b[43m        \u001b[49m\u001b[43mlevel\u001b[49m\u001b[38;5;241;43m=\u001b[39;49m\u001b[43mlevel\u001b[49m\u001b[43m,\u001b[49m\n\u001b[1;32m   5402\u001b[0m \u001b[43m        \u001b[49m\u001b[43minplace\u001b[49m\u001b[38;5;241;43m=\u001b[39;49m\u001b[43minplace\u001b[49m\u001b[43m,\u001b[49m\n\u001b[1;32m   5403\u001b[0m \u001b[43m        \u001b[49m\u001b[43merrors\u001b[49m\u001b[38;5;241;43m=\u001b[39;49m\u001b[43merrors\u001b[49m\u001b[43m,\u001b[49m\n\u001b[1;32m   5404\u001b[0m \u001b[43m    \u001b[49m\u001b[43m)\u001b[49m\n",
      "File \u001b[0;32m/usr/local/lib/python3.8/site-packages/pandas/util/_decorators.py:331\u001b[0m, in \u001b[0;36mdeprecate_nonkeyword_arguments.<locals>.decorate.<locals>.wrapper\u001b[0;34m(*args, **kwargs)\u001b[0m\n\u001b[1;32m    325\u001b[0m \u001b[38;5;28;01mif\u001b[39;00m \u001b[38;5;28mlen\u001b[39m(args) \u001b[38;5;241m>\u001b[39m num_allow_args:\n\u001b[1;32m    326\u001b[0m     warnings\u001b[38;5;241m.\u001b[39mwarn(\n\u001b[1;32m    327\u001b[0m         msg\u001b[38;5;241m.\u001b[39mformat(arguments\u001b[38;5;241m=\u001b[39m_format_argument_list(allow_args)),\n\u001b[1;32m    328\u001b[0m         \u001b[38;5;167;01mFutureWarning\u001b[39;00m,\n\u001b[1;32m    329\u001b[0m         stacklevel\u001b[38;5;241m=\u001b[39mfind_stack_level(),\n\u001b[1;32m    330\u001b[0m     )\n\u001b[0;32m--> 331\u001b[0m \u001b[38;5;28;01mreturn\u001b[39;00m \u001b[43mfunc\u001b[49m\u001b[43m(\u001b[49m\u001b[38;5;241;43m*\u001b[39;49m\u001b[43margs\u001b[49m\u001b[43m,\u001b[49m\u001b[43m \u001b[49m\u001b[38;5;241;43m*\u001b[39;49m\u001b[38;5;241;43m*\u001b[39;49m\u001b[43mkwargs\u001b[49m\u001b[43m)\u001b[49m\n",
      "File \u001b[0;32m/usr/local/lib/python3.8/site-packages/pandas/core/generic.py:4505\u001b[0m, in \u001b[0;36mNDFrame.drop\u001b[0;34m(self, labels, axis, index, columns, level, inplace, errors)\u001b[0m\n\u001b[1;32m   4503\u001b[0m \u001b[38;5;28;01mfor\u001b[39;00m axis, labels \u001b[38;5;129;01min\u001b[39;00m axes\u001b[38;5;241m.\u001b[39mitems():\n\u001b[1;32m   4504\u001b[0m     \u001b[38;5;28;01mif\u001b[39;00m labels \u001b[38;5;129;01mis\u001b[39;00m \u001b[38;5;129;01mnot\u001b[39;00m \u001b[38;5;28;01mNone\u001b[39;00m:\n\u001b[0;32m-> 4505\u001b[0m         obj \u001b[38;5;241m=\u001b[39m \u001b[43mobj\u001b[49m\u001b[38;5;241;43m.\u001b[39;49m\u001b[43m_drop_axis\u001b[49m\u001b[43m(\u001b[49m\u001b[43mlabels\u001b[49m\u001b[43m,\u001b[49m\u001b[43m \u001b[49m\u001b[43maxis\u001b[49m\u001b[43m,\u001b[49m\u001b[43m \u001b[49m\u001b[43mlevel\u001b[49m\u001b[38;5;241;43m=\u001b[39;49m\u001b[43mlevel\u001b[49m\u001b[43m,\u001b[49m\u001b[43m \u001b[49m\u001b[43merrors\u001b[49m\u001b[38;5;241;43m=\u001b[39;49m\u001b[43merrors\u001b[49m\u001b[43m)\u001b[49m\n\u001b[1;32m   4507\u001b[0m \u001b[38;5;28;01mif\u001b[39;00m inplace:\n\u001b[1;32m   4508\u001b[0m     \u001b[38;5;28mself\u001b[39m\u001b[38;5;241m.\u001b[39m_update_inplace(obj)\n",
      "File \u001b[0;32m/usr/local/lib/python3.8/site-packages/pandas/core/generic.py:4546\u001b[0m, in \u001b[0;36mNDFrame._drop_axis\u001b[0;34m(self, labels, axis, level, errors, only_slice)\u001b[0m\n\u001b[1;32m   4544\u001b[0m         new_axis \u001b[38;5;241m=\u001b[39m axis\u001b[38;5;241m.\u001b[39mdrop(labels, level\u001b[38;5;241m=\u001b[39mlevel, errors\u001b[38;5;241m=\u001b[39merrors)\n\u001b[1;32m   4545\u001b[0m     \u001b[38;5;28;01melse\u001b[39;00m:\n\u001b[0;32m-> 4546\u001b[0m         new_axis \u001b[38;5;241m=\u001b[39m \u001b[43maxis\u001b[49m\u001b[38;5;241;43m.\u001b[39;49m\u001b[43mdrop\u001b[49m\u001b[43m(\u001b[49m\u001b[43mlabels\u001b[49m\u001b[43m,\u001b[49m\u001b[43m \u001b[49m\u001b[43merrors\u001b[49m\u001b[38;5;241;43m=\u001b[39;49m\u001b[43merrors\u001b[49m\u001b[43m)\u001b[49m\n\u001b[1;32m   4547\u001b[0m     indexer \u001b[38;5;241m=\u001b[39m axis\u001b[38;5;241m.\u001b[39mget_indexer(new_axis)\n\u001b[1;32m   4549\u001b[0m \u001b[38;5;66;03m# Case for non-unique axis\u001b[39;00m\n\u001b[1;32m   4550\u001b[0m \u001b[38;5;28;01melse\u001b[39;00m:\n",
      "File \u001b[0;32m/usr/local/lib/python3.8/site-packages/pandas/core/indexes/base.py:6977\u001b[0m, in \u001b[0;36mIndex.drop\u001b[0;34m(self, labels, errors)\u001b[0m\n\u001b[1;32m   6975\u001b[0m \u001b[38;5;28;01mif\u001b[39;00m mask\u001b[38;5;241m.\u001b[39many():\n\u001b[1;32m   6976\u001b[0m     \u001b[38;5;28;01mif\u001b[39;00m errors \u001b[38;5;241m!=\u001b[39m \u001b[38;5;124m\"\u001b[39m\u001b[38;5;124mignore\u001b[39m\u001b[38;5;124m\"\u001b[39m:\n\u001b[0;32m-> 6977\u001b[0m         \u001b[38;5;28;01mraise\u001b[39;00m \u001b[38;5;167;01mKeyError\u001b[39;00m(\u001b[38;5;124mf\u001b[39m\u001b[38;5;124m\"\u001b[39m\u001b[38;5;132;01m{\u001b[39;00m\u001b[38;5;28mlist\u001b[39m(labels[mask])\u001b[38;5;132;01m}\u001b[39;00m\u001b[38;5;124m not found in axis\u001b[39m\u001b[38;5;124m\"\u001b[39m)\n\u001b[1;32m   6978\u001b[0m     indexer \u001b[38;5;241m=\u001b[39m indexer[\u001b[38;5;241m~\u001b[39mmask]\n\u001b[1;32m   6979\u001b[0m \u001b[38;5;28;01mreturn\u001b[39;00m \u001b[38;5;28mself\u001b[39m\u001b[38;5;241m.\u001b[39mdelete(indexer)\n",
      "\u001b[0;31mKeyError\u001b[0m: \"['url', 'Location/lat', 'Location/long', 'Location/locality'] not found in axis\""
     ]
    }
   ],
   "source": [
    "circuitos = circuitos.drop(['url', 'Location/lat', 'Location/long', 'Location/locality'], axis = 1)\n",
    "print(circuitos['Location/country'].to_string(index=False))"
   ]
  },
  {
   "cell_type": "markdown",
   "metadata": {},
   "source": [
    "In[6]:"
   ]
  },
  {
   "cell_type": "markdown",
   "metadata": {},
   "source": [
    "reamos un nuevo dataframe con el nombre, la localidad y el nivel de desgaste que pueden tener los neumaticos"
   ]
  },
  {
   "cell_type": "code",
   "execution_count": 75,
   "metadata": {},
   "outputs": [],
   "source": [
    "circuitos_desgaste = circuitos.drop(['circuitId'], axis=1)"
   ]
  },
  {
   "cell_type": "markdown",
   "metadata": {},
   "source": [
    "In[7]:"
   ]
  },
  {
   "cell_type": "markdown",
   "metadata": {},
   "source": [
    "reamos una lista con el nivel de desgaste, fuente PIRELLI F1 2022"
   ]
  },
  {
   "cell_type": "code",
   "execution_count": 76,
   "metadata": {},
   "outputs": [],
   "source": [
    "desgaste = ['Bajo', 'Alto', 'Alto', 'Bajo', 'Alto', 'Bajo', 'Medio', 'Medio', 'Bajo', 'Bajo', 'Bajo', 'Medio', 'Medio', 'Medio', 'Medio', 'Bajo', 'Medio', 'Alto', 'Medio', 'Bajo', 'Medio', 'Medio']\n",
    "circuitos_desgaste['desgaste'] = desgaste"
   ]
  },
  {
   "cell_type": "code",
   "execution_count": 77,
   "metadata": {},
   "outputs": [],
   "source": [
    "vueltas_circuito = ['58', '56', '57', '51', '66', '70', '63', '71', '50', '61', '57', '78', '53', '71', '53', '71', '52', '44', '53', '70', '58', '72']\n",
    "circuitos_desgaste['vueltas_totales'] = vueltas_circuito"
   ]
  },
  {
   "cell_type": "code",
   "execution_count": 78,
   "metadata": {},
   "outputs": [],
   "source": [
    "km_circuito = ['307.574', '308.405', '308.238', '306.049', '307.104', '306.630', '309.049', '305.879', '308.450', '308.706', '308.326', '260.286', '306.720', '306.452', '309.690', '305.354', '306.198', '308.052', '307.471', '305.270', '305.355', '306.648']\n",
    "circuitos_desgaste['km_total'] = km_circuito"
   ]
  },
  {
   "cell_type": "markdown",
   "metadata": {},
   "source": [
    "In[8]:"
   ]
  },
  {
   "cell_type": "markdown",
   "metadata": {},
   "source": [
    "amos entonces a crear un dataframe para un piloto en una determinada <br>\n",
    "arrera, por ejemplo, Fernando Alonso y Monaco 2022"
   ]
  },
  {
   "cell_type": "code",
   "execution_count": 79,
   "metadata": {},
   "outputs": [],
   "source": [
    "import warnings\n",
    "warnings.simplefilter(action='ignore', category=FutureWarning) #Omitimos los future warning"
   ]
  },
  {
   "cell_type": "code",
   "execution_count": 80,
   "metadata": {},
   "outputs": [],
   "source": [
    "fastf1.Cache.enable_cache('cache') # Para cachear los datos y no tener que bajarlos todo el tiempo"
   ]
  },
  {
   "cell_type": "markdown",
   "metadata": {},
   "source": [
    " continuacion, nos guardamos la sesión en una variable de tipo sesion"
   ]
  },
  {
   "cell_type": "code",
   "execution_count": 81,
   "metadata": {},
   "outputs": [
    {
     "name": "stderr",
     "output_type": "stream",
     "text": [
      "core           INFO \tLoading data for Monaco Grand Prix - Race [v2.3.0]\n",
      "api            INFO \tUsing cached data for driver_info\n",
      "api            INFO \tUsing cached data for timing_data\n",
      "api            INFO \tUsing cached data for timing_app_data\n",
      "core           INFO \tProcessing timing data...\n",
      "api            INFO \tUsing cached data for session_status_data\n",
      "api            INFO \tUsing cached data for track_status_data\n",
      "api            INFO \tUsing cached data for car_data\n",
      "api            INFO \tUsing cached data for position_data\n",
      "api            INFO \tUsing cached data for weather_data\n",
      "api            INFO \tUsing cached data for race_control_messages\n",
      "core           INFO \tFinished loading data for 20 drivers: ['33', '55', '4', '11', '5', '10', '44', '18', '31', '99', '7', '3', '14', '63', '6', '22', '9', '47', '77', '16']\n"
     ]
    }
   ],
   "source": [
    "race = fastf1.get_session(int(anyoGp), nombreCircuito, 'R')\n",
    "race.load(weather=True, telemetry= True)"
   ]
  },
  {
   "cell_type": "markdown",
   "metadata": {},
   "source": [
    "In[9]:"
   ]
  },
  {
   "cell_type": "code",
   "execution_count": 90,
   "metadata": {},
   "outputs": [
    {
     "name": "stdout",
     "output_type": "stream",
     "text": [
      "VER\n",
      "SAI\n",
      "NOR\n",
      "PER\n",
      "VET\n",
      "GAS\n",
      "HAM\n",
      "STR\n",
      "OCO\n",
      "GIO\n",
      "RAI\n",
      "RIC\n",
      "ALO\n",
      "RUS\n",
      "LAT\n",
      "TSU\n",
      "MAZ\n",
      "MSC\n",
      "BOT\n",
      "LEC\n"
     ]
    }
   ],
   "source": []
  },
  {
   "cell_type": "markdown",
   "metadata": {},
   "source": [
    "os interesa saber el numero de vueltas que dio Alonso en Barcelona 2022"
   ]
  },
  {
   "cell_type": "code",
   "execution_count": 44,
   "metadata": {},
   "outputs": [],
   "source": [
    "laps_race_pilot = race.laps.pick_driver(nombrePiloto)\n",
    "weather = race.weather_data # Cogemos tambien el tiempo que hizo al inicio de la carrera"
   ]
  },
  {
   "cell_type": "markdown",
   "metadata": {},
   "source": [
    "In[10]:"
   ]
  },
  {
   "cell_type": "markdown",
   "metadata": {},
   "source": [
    "In[11]:"
   ]
  },
  {
   "cell_type": "markdown",
   "metadata": {},
   "source": [
    "impiamos el dataset con solo lo que nos interesa"
   ]
  },
  {
   "cell_type": "code",
   "execution_count": 45,
   "metadata": {},
   "outputs": [],
   "source": [
    "laps_race_pilot = laps_race_pilot.filter(['Time', 'LapTime', 'LapNumber', 'Compound', 'TyreLife', 'FreshTyre', 'TrackStatus', 'Stint', 'PitInTime'])"
   ]
  },
  {
   "cell_type": "markdown",
   "metadata": {},
   "source": [
    "In[12]:"
   ]
  },
  {
   "cell_type": "markdown",
   "metadata": {},
   "source": [
    "e aqui solo queremos la temperatura de la pista, la temperatura ambiente y si llovía o no <br>\n",
    "mportante, hacemos match de la columna time, o ponemos simplemente el tiempo que hacia en la salida????"
   ]
  },
  {
   "cell_type": "code",
   "execution_count": 46,
   "metadata": {},
   "outputs": [],
   "source": [
    "weather = weather.filter(['Time', 'AirTemp', 'Rainfall', 'TrackTemp'])"
   ]
  },
  {
   "cell_type": "markdown",
   "metadata": {},
   "source": [
    "In[13]:"
   ]
  },
  {
   "cell_type": "code",
   "execution_count": 47,
   "metadata": {},
   "outputs": [],
   "source": [
    "weather['Time'] = weather['Time'].astype(str)"
   ]
  },
  {
   "cell_type": "markdown",
   "metadata": {},
   "source": [
    "In[14]:"
   ]
  },
  {
   "cell_type": "markdown",
   "metadata": {},
   "source": [
    "odificamos la columna de Time, para que solo nos muestre la hora y el minuto, esto es para<br>\n",
    "ue casen las keys al hacer el join y podamos tener info de la temperatura minuto a minuto en las vueltas"
   ]
  },
  {
   "cell_type": "code",
   "execution_count": 48,
   "metadata": {},
   "outputs": [],
   "source": [
    "weather['Time'] = weather[\"Time\"].apply(lambda x: x[7:12])"
   ]
  },
  {
   "cell_type": "markdown",
   "metadata": {},
   "source": [
    "In[15]:"
   ]
  },
  {
   "cell_type": "markdown",
   "metadata": {},
   "source": [
    "acemos lo mismo para la columa Time de las vueltas"
   ]
  },
  {
   "cell_type": "code",
   "execution_count": 49,
   "metadata": {},
   "outputs": [],
   "source": [
    "laps_race_pilot['Time'] = laps_race_pilot['Time'].astype(str)\n",
    "laps_race_pilot['Time'] = laps_race_pilot[\"Time\"].apply(lambda x: x[7:12])"
   ]
  },
  {
   "cell_type": "markdown",
   "metadata": {},
   "source": [
    "In[16]:"
   ]
  },
  {
   "cell_type": "markdown",
   "metadata": {},
   "source": [
    "acemos el join para meter en el mismo dataset, la imformacion en cada vuelta de la temperatura ambiente y de la pista"
   ]
  },
  {
   "cell_type": "code",
   "execution_count": 50,
   "metadata": {},
   "outputs": [],
   "source": [
    "laps_race_pilot = laps_race_pilot.set_index('Time').join(weather.set_index('Time'))"
   ]
  },
  {
   "cell_type": "markdown",
   "metadata": {},
   "source": [
    "In[17]:"
   ]
  },
  {
   "cell_type": "markdown",
   "metadata": {},
   "source": [
    "hora tenemos las 64 vueltas que dio Alonso y la temperatura que hacia, necesitamos:<br>\n",
    "- Posicion de salida"
   ]
  },
  {
   "cell_type": "markdown",
   "metadata": {},
   "source": [
    "In[18]:"
   ]
  },
  {
   "cell_type": "markdown",
   "metadata": {},
   "source": [
    "ara la posicion de salida"
   ]
  },
  {
   "cell_type": "code",
   "execution_count": 51,
   "metadata": {},
   "outputs": [],
   "source": [
    "posicion_salida = race.get_driver(nombrePiloto)['GridPosition']"
   ]
  },
  {
   "cell_type": "markdown",
   "metadata": {},
   "source": [
    "In[19]:"
   ]
  },
  {
   "cell_type": "markdown",
   "metadata": {},
   "source": [
    "ecesitamos ahora los outputs, que es la siguiente vuelta a parar"
   ]
  },
  {
   "cell_type": "code",
   "execution_count": 52,
   "metadata": {},
   "outputs": [],
   "source": [
    "vueltas_parada = laps_race_pilot[laps_race_pilot['PitInTime'].notna()]"
   ]
  },
  {
   "cell_type": "markdown",
   "metadata": {},
   "source": [
    "In[20]:"
   ]
  },
  {
   "cell_type": "code",
   "execution_count": 53,
   "metadata": {},
   "outputs": [],
   "source": [
    "nVuelta_parada = vueltas_parada['LapNumber']\n",
    "nParadas = 0\n",
    "paradas = []\n",
    "for i in nVuelta_parada:\n",
    "    paradas.append(i)\n",
    "    nParadas = nParadas + 1"
   ]
  },
  {
   "cell_type": "markdown",
   "metadata": {},
   "source": [
    "In[21]:"
   ]
  },
  {
   "cell_type": "markdown",
   "metadata": {},
   "source": [
    "liminanos la variable de la hora a la que entra a box porque ya no es necesaria"
   ]
  },
  {
   "cell_type": "code",
   "execution_count": 54,
   "metadata": {},
   "outputs": [],
   "source": [
    "laps_race_pilot.drop(['PitInTime'], axis = 1, inplace=True)"
   ]
  },
  {
   "cell_type": "markdown",
   "metadata": {},
   "source": [
    "In[22]:"
   ]
  },
  {
   "cell_type": "markdown",
   "metadata": {},
   "source": [
    "In[23]:"
   ]
  },
  {
   "cell_type": "markdown",
   "metadata": {},
   "source": [
    "hora hay que añadir al dataframe las variables<br>\n",
    "- Posicion de salida<br>\n",
    "- Siguiente parada (dependera de la vuelta en la que se encuentre)<br>\n",
    "- Todas variables del circuito en el que nos encontramos, en este caso Barcelona<br>\n",
    "- No creo que haga falta el piloto, las estrategias son independientes del piloto (o eso voy a pensar... que no será asi)"
   ]
  },
  {
   "cell_type": "markdown",
   "metadata": {},
   "source": [
    "qui ahora tenemos que hacer un match de el nombre que ha introducido el usuario, con el nombre que salga en el dataset"
   ]
  },
  {
   "cell_type": "code",
   "execution_count": 62,
   "metadata": {},
   "outputs": [
    {
     "data": {
      "text/html": [
       "<div>\n",
       "<style scoped>\n",
       "    .dataframe tbody tr th:only-of-type {\n",
       "        vertical-align: middle;\n",
       "    }\n",
       "\n",
       "    .dataframe tbody tr th {\n",
       "        vertical-align: top;\n",
       "    }\n",
       "\n",
       "    .dataframe thead th {\n",
       "        text-align: right;\n",
       "    }\n",
       "</style>\n",
       "<table border=\"1\" class=\"dataframe\">\n",
       "  <thead>\n",
       "    <tr style=\"text-align: right;\">\n",
       "      <th></th>\n",
       "      <th>circuitName</th>\n",
       "      <th>desgaste</th>\n",
       "      <th>vueltas_totales</th>\n",
       "      <th>km_total</th>\n",
       "    </tr>\n",
       "  </thead>\n",
       "  <tbody>\n",
       "    <tr>\n",
       "      <th>11</th>\n",
       "      <td>Circuit de Monaco</td>\n",
       "      <td>Medio</td>\n",
       "      <td>78</td>\n",
       "      <td>260.286</td>\n",
       "    </tr>\n",
       "  </tbody>\n",
       "</table>\n",
       "</div>"
      ],
      "text/plain": [
       "          circuitName desgaste vueltas_totales km_total\n",
       "11  Circuit de Monaco    Medio              78  260.286"
      ]
     },
     "execution_count": 62,
     "metadata": {},
     "output_type": "execute_result"
    }
   ],
   "source": [
    "circuito_actual = circuitos_desgaste.loc[circuitos_desgaste['Location/country'].str.lower() == nombreCircuito.lower()]\n",
    "circuito_actual = circuito_actual.filter(['circuitName', 'desgaste', 'vueltas_totales', 'km_total'])\n"
   ]
  },
  {
   "cell_type": "markdown",
   "metadata": {},
   "source": [
    "In[24]:"
   ]
  },
  {
   "cell_type": "code",
   "execution_count": 58,
   "metadata": {},
   "outputs": [
    {
     "data": {
      "text/html": [
       "<div>\n",
       "<style scoped>\n",
       "    .dataframe tbody tr th:only-of-type {\n",
       "        vertical-align: middle;\n",
       "    }\n",
       "\n",
       "    .dataframe tbody tr th {\n",
       "        vertical-align: top;\n",
       "    }\n",
       "\n",
       "    .dataframe thead th {\n",
       "        text-align: right;\n",
       "    }\n",
       "</style>\n",
       "<table border=\"1\" class=\"dataframe\">\n",
       "  <thead>\n",
       "    <tr style=\"text-align: right;\">\n",
       "      <th></th>\n",
       "      <th>circuitName</th>\n",
       "      <th>Location/country</th>\n",
       "      <th>desgaste</th>\n",
       "      <th>vueltas_totales</th>\n",
       "      <th>km_total</th>\n",
       "    </tr>\n",
       "  </thead>\n",
       "  <tbody>\n",
       "    <tr>\n",
       "      <th>0</th>\n",
       "      <td>Albert Park Grand Prix Circuit</td>\n",
       "      <td>Australia</td>\n",
       "      <td>Bajo</td>\n",
       "      <td>58</td>\n",
       "      <td>307.574</td>\n",
       "    </tr>\n",
       "    <tr>\n",
       "      <th>1</th>\n",
       "      <td>Circuit of the Americas</td>\n",
       "      <td>USA</td>\n",
       "      <td>Alto</td>\n",
       "      <td>56</td>\n",
       "      <td>308.405</td>\n",
       "    </tr>\n",
       "    <tr>\n",
       "      <th>2</th>\n",
       "      <td>Bahrain International Circuit</td>\n",
       "      <td>Bahrain</td>\n",
       "      <td>Alto</td>\n",
       "      <td>57</td>\n",
       "      <td>308.238</td>\n",
       "    </tr>\n",
       "    <tr>\n",
       "      <th>3</th>\n",
       "      <td>Baku City Circuit</td>\n",
       "      <td>Azerbaijan</td>\n",
       "      <td>Bajo</td>\n",
       "      <td>51</td>\n",
       "      <td>306.049</td>\n",
       "    </tr>\n",
       "    <tr>\n",
       "      <th>4</th>\n",
       "      <td>Circuit de Barcelona-Catalunya</td>\n",
       "      <td>Spain</td>\n",
       "      <td>Alto</td>\n",
       "      <td>66</td>\n",
       "      <td>307.104</td>\n",
       "    </tr>\n",
       "    <tr>\n",
       "      <th>5</th>\n",
       "      <td>Hungaroring</td>\n",
       "      <td>Hungary</td>\n",
       "      <td>Bajo</td>\n",
       "      <td>70</td>\n",
       "      <td>306.630</td>\n",
       "    </tr>\n",
       "    <tr>\n",
       "      <th>6</th>\n",
       "      <td>Autodromo Enzo e Dino Ferrari</td>\n",
       "      <td>Italy</td>\n",
       "      <td>Medio</td>\n",
       "      <td>63</td>\n",
       "      <td>309.049</td>\n",
       "    </tr>\n",
       "    <tr>\n",
       "      <th>7</th>\n",
       "      <td>Autódromo José Carlos Pace</td>\n",
       "      <td>Brazil</td>\n",
       "      <td>Medio</td>\n",
       "      <td>71</td>\n",
       "      <td>305.879</td>\n",
       "    </tr>\n",
       "    <tr>\n",
       "      <th>8</th>\n",
       "      <td>Jeddah Corniche Circuit</td>\n",
       "      <td>Saudi Arabia</td>\n",
       "      <td>Bajo</td>\n",
       "      <td>50</td>\n",
       "      <td>308.450</td>\n",
       "    </tr>\n",
       "    <tr>\n",
       "      <th>9</th>\n",
       "      <td>Marina Bay Street Circuit</td>\n",
       "      <td>Singapore</td>\n",
       "      <td>Bajo</td>\n",
       "      <td>61</td>\n",
       "      <td>308.706</td>\n",
       "    </tr>\n",
       "    <tr>\n",
       "      <th>10</th>\n",
       "      <td>Miami International Autodrome</td>\n",
       "      <td>USA</td>\n",
       "      <td>Bajo</td>\n",
       "      <td>57</td>\n",
       "      <td>308.326</td>\n",
       "    </tr>\n",
       "    <tr>\n",
       "      <th>11</th>\n",
       "      <td>Circuit de Monaco</td>\n",
       "      <td>Monaco</td>\n",
       "      <td>Medio</td>\n",
       "      <td>78</td>\n",
       "      <td>260.286</td>\n",
       "    </tr>\n",
       "    <tr>\n",
       "      <th>12</th>\n",
       "      <td>Autodromo Nazionale di Monza</td>\n",
       "      <td>Italy</td>\n",
       "      <td>Medio</td>\n",
       "      <td>53</td>\n",
       "      <td>306.720</td>\n",
       "    </tr>\n",
       "    <tr>\n",
       "      <th>13</th>\n",
       "      <td>Red Bull Ring</td>\n",
       "      <td>Austria</td>\n",
       "      <td>Medio</td>\n",
       "      <td>71</td>\n",
       "      <td>306.452</td>\n",
       "    </tr>\n",
       "    <tr>\n",
       "      <th>14</th>\n",
       "      <td>Circuit Paul Ricard</td>\n",
       "      <td>France</td>\n",
       "      <td>Medio</td>\n",
       "      <td>53</td>\n",
       "      <td>309.690</td>\n",
       "    </tr>\n",
       "    <tr>\n",
       "      <th>15</th>\n",
       "      <td>Autódromo Hermanos Rodríguez</td>\n",
       "      <td>Mexico</td>\n",
       "      <td>Bajo</td>\n",
       "      <td>71</td>\n",
       "      <td>305.354</td>\n",
       "    </tr>\n",
       "    <tr>\n",
       "      <th>16</th>\n",
       "      <td>Silverstone Circuit</td>\n",
       "      <td>UK</td>\n",
       "      <td>Medio</td>\n",
       "      <td>52</td>\n",
       "      <td>306.198</td>\n",
       "    </tr>\n",
       "    <tr>\n",
       "      <th>17</th>\n",
       "      <td>Circuit de Spa-Francorchamps</td>\n",
       "      <td>Belgium</td>\n",
       "      <td>Alto</td>\n",
       "      <td>44</td>\n",
       "      <td>308.052</td>\n",
       "    </tr>\n",
       "    <tr>\n",
       "      <th>18</th>\n",
       "      <td>Suzuka Circuit</td>\n",
       "      <td>Japan</td>\n",
       "      <td>Medio</td>\n",
       "      <td>53</td>\n",
       "      <td>307.471</td>\n",
       "    </tr>\n",
       "    <tr>\n",
       "      <th>19</th>\n",
       "      <td>Circuit Gilles Villeneuve</td>\n",
       "      <td>Canada</td>\n",
       "      <td>Bajo</td>\n",
       "      <td>70</td>\n",
       "      <td>305.270</td>\n",
       "    </tr>\n",
       "    <tr>\n",
       "      <th>20</th>\n",
       "      <td>Yas Marina Circuit</td>\n",
       "      <td>UAE</td>\n",
       "      <td>Medio</td>\n",
       "      <td>58</td>\n",
       "      <td>305.355</td>\n",
       "    </tr>\n",
       "    <tr>\n",
       "      <th>21</th>\n",
       "      <td>Circuit Park Zandvoort</td>\n",
       "      <td>Netherlands</td>\n",
       "      <td>Medio</td>\n",
       "      <td>72</td>\n",
       "      <td>306.648</td>\n",
       "    </tr>\n",
       "  </tbody>\n",
       "</table>\n",
       "</div>"
      ],
      "text/plain": [
       "                       circuitName Location/country desgaste vueltas_totales  \\\n",
       "0   Albert Park Grand Prix Circuit        Australia     Bajo              58   \n",
       "1          Circuit of the Americas              USA     Alto              56   \n",
       "2    Bahrain International Circuit          Bahrain     Alto              57   \n",
       "3                Baku City Circuit       Azerbaijan     Bajo              51   \n",
       "4   Circuit de Barcelona-Catalunya            Spain     Alto              66   \n",
       "5                      Hungaroring          Hungary     Bajo              70   \n",
       "6    Autodromo Enzo e Dino Ferrari            Italy    Medio              63   \n",
       "7       Autódromo José Carlos Pace           Brazil    Medio              71   \n",
       "8          Jeddah Corniche Circuit     Saudi Arabia     Bajo              50   \n",
       "9        Marina Bay Street Circuit        Singapore     Bajo              61   \n",
       "10   Miami International Autodrome              USA     Bajo              57   \n",
       "11               Circuit de Monaco           Monaco    Medio              78   \n",
       "12    Autodromo Nazionale di Monza            Italy    Medio              53   \n",
       "13                   Red Bull Ring          Austria    Medio              71   \n",
       "14             Circuit Paul Ricard           France    Medio              53   \n",
       "15    Autódromo Hermanos Rodríguez           Mexico     Bajo              71   \n",
       "16             Silverstone Circuit               UK    Medio              52   \n",
       "17    Circuit de Spa-Francorchamps          Belgium     Alto              44   \n",
       "18                  Suzuka Circuit            Japan    Medio              53   \n",
       "19       Circuit Gilles Villeneuve           Canada     Bajo              70   \n",
       "20              Yas Marina Circuit              UAE    Medio              58   \n",
       "21          Circuit Park Zandvoort      Netherlands    Medio              72   \n",
       "\n",
       "   km_total  \n",
       "0   307.574  \n",
       "1   308.405  \n",
       "2   308.238  \n",
       "3   306.049  \n",
       "4   307.104  \n",
       "5   306.630  \n",
       "6   309.049  \n",
       "7   305.879  \n",
       "8   308.450  \n",
       "9   308.706  \n",
       "10  308.326  \n",
       "11  260.286  \n",
       "12  306.720  \n",
       "13  306.452  \n",
       "14  309.690  \n",
       "15  305.354  \n",
       "16  306.198  \n",
       "17  308.052  \n",
       "18  307.471  \n",
       "19  305.270  \n",
       "20  305.355  \n",
       "21  306.648  "
      ]
     },
     "execution_count": 58,
     "metadata": {},
     "output_type": "execute_result"
    }
   ],
   "source": [
    "circuitos_desgaste"
   ]
  },
  {
   "cell_type": "markdown",
   "metadata": {},
   "source": [
    "ay que hacer una funcion para sacar el numero de vueltas (nVueltas) que se ha dado en ese circuito, y repetir nVueltas para crear una lista con el valor"
   ]
  },
  {
   "cell_type": "code",
   "execution_count": null,
   "metadata": {},
   "outputs": [],
   "source": [
    "nVueltasCircuito=laps_race_pilot.tail(1).LapNumber.values[0]\n",
    "circuitName = circuito_actual.circuitName.values[0]\n",
    "desgaste = circuito_actual.desgaste.values[0]\n",
    "km_total = circuito_actual.km_total.values[0]\n",
    "vueltas_totales = circuito_actual.vueltas_totales.values[0]\n",
    "desgaste\n",
    "    "
   ]
  },
  {
   "cell_type": "markdown",
   "metadata": {},
   "source": [
    "In[25]:"
   ]
  },
  {
   "cell_type": "markdown",
   "metadata": {},
   "source": [
    "a salida se la tenemos que meter a todas las filas del dataframe"
   ]
  },
  {
   "cell_type": "code",
   "execution_count": null,
   "metadata": {},
   "outputs": [],
   "source": [
    "laps_race_pilot['posicionSalida'] = posicion_salida\n",
    "laps_race_pilot['circuitName'] = circuitName\n",
    "laps_race_pilot['desgasteCircuito'] = desgaste\n",
    "laps_race_pilot['vueltasCircuito'] = km_total\n",
    "laps_race_pilot['kmCircuitoTotales'] = vueltas_totales"
   ]
  },
  {
   "cell_type": "code",
   "execution_count": null,
   "metadata": {},
   "outputs": [],
   "source": [
    "laps_race_pilot"
   ]
  },
  {
   "cell_type": "markdown",
   "metadata": {},
   "source": [
    "In[26]:"
   ]
  },
  {
   "cell_type": "markdown",
   "metadata": {},
   "source": [
    "hora hay que meter las paradas, habria que añadir una columna con la siguiente parada, dependiendo de la vuelta en la que se encuentre"
   ]
  },
  {
   "cell_type": "code",
   "execution_count": null,
   "metadata": {},
   "outputs": [],
   "source": [
    "paradas_list = paradas\n",
    "paradas_list"
   ]
  },
  {
   "cell_type": "markdown",
   "metadata": {},
   "source": [
    "In[27]:"
   ]
  },
  {
   "cell_type": "markdown",
   "metadata": {},
   "source": [
    "n cada intervalo de ventana de parada, se añade la siguiente parada de acuerdo con el numero de vuelta en el que vamos<br>\n",
    "s decir, del intervalo 1-9, el valor de la siguiente parada es 10, del 10-30, el valor es 31, y así<br>\n",
    "OTA: Cuando se hace la ultima parada, ¿cual debe ser el valor del la siguiente parada? ¿El numero de fin de vuelta?"
   ]
  },
  {
   "cell_type": "code",
   "execution_count": null,
   "metadata": {},
   "outputs": [],
   "source": [
    "inserciones = 1\n",
    "paradasList_insertar = []\n",
    "for i in paradas_list:\n",
    "        while (inserciones <= i):\n",
    "            paradasList_insertar.append(i)\n",
    "            inserciones = inserciones + 1\n",
    "            if (inserciones == paradas_list[nParadas-1]):\n",
    "                while inserciones <= nVueltasCircuito:\n",
    "                    paradasList_insertar.append(nVueltasCircuito)\n",
    "                    inserciones = inserciones + 1\n",
    "paradasList_insertar\n",
    "len(paradasList_insertar)\n",
    "        "
   ]
  },
  {
   "cell_type": "markdown",
   "metadata": {},
   "source": [
    "In[28]:"
   ]
  },
  {
   "cell_type": "markdown",
   "metadata": {},
   "source": [
    "nsertamos la nueva columna"
   ]
  },
  {
   "cell_type": "code",
   "execution_count": null,
   "metadata": {},
   "outputs": [],
   "source": [
    "laps_race_pilot['nextPit'] = paradasList_insertar\n",
    "laps_race_pilot"
   ]
  },
  {
   "cell_type": "markdown",
   "metadata": {},
   "source": [
    "En principio, ahora tenemos el dataset para:<br>\n",
    "<br>\n",
    "- Un piloto<br>\n",
    "- En un gran premio<br>\n",
    "- Durante todas sus vueltas"
   ]
  },
  {
   "cell_type": "markdown",
   "metadata": {},
   "source": [
    "In[29]:"
   ]
  },
  {
   "cell_type": "code",
   "execution_count": null,
   "metadata": {},
   "outputs": [],
   "source": [
    "laps_race_pilot.to_csv(\"laps_\" + nombreCircuito + \"_\" + nombrePiloto  + \".csv\", index=False)"
   ]
  },
  {
   "cell_type": "markdown",
   "metadata": {},
   "source": [
    "In[ ]:"
   ]
  },
  {
   "cell_type": "markdown",
   "metadata": {},
   "source": [
    "In[ ]:"
   ]
  }
 ],
 "metadata": {
  "kernelspec": {
   "display_name": "Python 3 (ipykernel)",
   "language": "python",
   "name": "python3"
  },
  "language_info": {
   "codemirror_mode": {
    "name": "ipython",
    "version": 3
   },
   "file_extension": ".py",
   "mimetype": "text/x-python",
   "name": "python",
   "nbconvert_exporter": "python",
   "pygments_lexer": "ipython3",
   "version": "3.8.15"
  }
 },
 "nbformat": 4,
 "nbformat_minor": 2
}
