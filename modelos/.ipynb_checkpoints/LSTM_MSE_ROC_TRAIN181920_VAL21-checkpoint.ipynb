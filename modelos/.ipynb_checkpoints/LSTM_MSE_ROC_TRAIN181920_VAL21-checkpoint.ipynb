{
 "cells": [
  {
   "cell_type": "code",
   "execution_count": 1,
   "id": "9ee4b771",
   "metadata": {},
   "outputs": [
    {
     "name": "stderr",
     "output_type": "stream",
     "text": [
      "2023-07-27 21:36:51.950980: I tensorflow/core/platform/cpu_feature_guard.cc:182] This TensorFlow binary is optimized to use available CPU instructions in performance-critical operations.\n",
      "To enable the following instructions: AVX2 FMA, in other operations, rebuild TensorFlow with the appropriate compiler flags.\n"
     ]
    }
   ],
   "source": [
    "import numpy as np\n",
    "from tensorflow.keras.models import Sequential\n",
    "from tensorflow.keras.layers import LSTM\n",
    "from tensorflow.keras.layers import Dense, Dropout\n",
    "from tensorflow import keras\n",
    "import pandas as pd\n",
    "from matplotlib import pyplot as plt\n",
    "from sklearn.preprocessing import StandardScaler, MinMaxScaler\n",
    "import seaborn as sns"
   ]
  },
  {
   "cell_type": "code",
   "execution_count": 545,
   "id": "b6688576",
   "metadata": {},
   "outputs": [],
   "source": [
    "vueltas = pd.read_csv(\"../dataset_todos_pilotos/final/laps_spain_final_v2.csv\")\n"
   ]
  },
  {
   "cell_type": "code",
   "execution_count": 546,
   "id": "096f4b34",
   "metadata": {},
   "outputs": [
    {
     "name": "stderr",
     "output_type": "stream",
     "text": [
      "/var/folders/pd/wpkltt694qx207z03w_cmlbh0000gn/T/ipykernel_85537/1494221414.py:2: SettingWithCopyWarning: \n",
      "A value is trying to be set on a copy of a slice from a DataFrame\n",
      "\n",
      "See the caveats in the documentation: https://pandas.pydata.org/pandas-docs/stable/user_guide/indexing.html#returning-a-view-versus-a-copy\n",
      "  vueltas['makeStop'][0] = 0\n"
     ]
    }
   ],
   "source": [
    "vueltas['makeStop'] = vueltas['makeStop'].shift(1)   \n",
    "vueltas['makeStop'][0] = 0"
   ]
  },
  {
   "cell_type": "code",
   "execution_count": 168,
   "id": "f20c1e81",
   "metadata": {},
   "outputs": [],
   "source": [
    "columnas = [\"Stint\", \"Piloto\", 'anyo', 'makeStop']\n",
    "vueltas = vueltas[columnas]"
   ]
  },
  {
   "cell_type": "code",
   "execution_count": 547,
   "id": "9aafbad6",
   "metadata": {},
   "outputs": [
    {
     "name": "stderr",
     "output_type": "stream",
     "text": [
      "/var/folders/pd/wpkltt694qx207z03w_cmlbh0000gn/T/ipykernel_85537/1637116034.py:20: SettingWithCopyWarning: \n",
      "A value is trying to be set on a copy of a slice from a DataFrame\n",
      "\n",
      "See the caveats in the documentation: https://pandas.pydata.org/pandas-docs/stable/user_guide/indexing.html#returning-a-view-versus-a-copy\n",
      "  vueltas_train.drop(['Piloto'], axis = 1, inplace = True)\n"
     ]
    }
   ],
   "source": [
    "piloto=\"bottas\"\n",
    "\n",
    "#vueltas = vueltas.drop(['Piloto'], axis = 1)\n",
    "\n",
    "#Entrenamiento con todos pilotos -> TODO\n",
    "\n",
    "vueltas_train = vueltas[vueltas['anyo'].isin([2018, 2019, 2020])]\n",
    "vueltas_validation = vueltas[vueltas['anyo'].isin([2021])]\n",
    "vueltas_test = vueltas[vueltas['anyo'] == 2022]\n",
    "\n",
    "#vueltas_train = vueltas_train[vueltas_train['Piloto'] == \"hamilton\"]\n",
    "\n",
    "#vueltas_validation = vueltas_validation[vueltas_validation['Piloto'] == \"max_verstappen\"]\n",
    "vueltas_test = vueltas_test[vueltas_test['Piloto'] == piloto]\n",
    "\n",
    "#vueltas_train = vueltas_train.drop(['anyo'], axis=1)\n",
    "vueltas_validation = vueltas_validation.drop(['anyo'], axis=1)\n",
    "\n",
    "vueltas_test = vueltas_test.drop(['anyo'], axis=1)\n",
    "vueltas_train.drop(['Piloto'], axis = 1, inplace = True)\n",
    "vueltas_test.drop(['Piloto'], axis = 1, inplace = True)\n",
    "vueltas_validation.drop(['Piloto'], axis = 1, inplace = True)\n",
    "vueltas_train = vueltas_train.drop(['Stint'], axis=1)\n",
    "vueltas_validation = vueltas_validation.drop(['Stint'], axis=1)\n",
    "vueltas_test = vueltas_test.drop(['Stint'], axis=1)\n",
    "\n",
    "vueltas_train = vueltas_train.astype('float')\n",
    "vueltas_validation = vueltas_validation.astype(float)\n",
    "vueltas_test = vueltas_test.astype(float)"
   ]
  },
  {
   "cell_type": "code",
   "execution_count": 548,
   "id": "65166273",
   "metadata": {},
   "outputs": [],
   "source": [
    "vueltas_train_18 = vueltas_train[vueltas_train['anyo'] == 2018]\n",
    "\n",
    "vueltas_train_18 = vueltas_train_18.drop('anyo', axis=1)\n",
    "vueltas_train_18['makeStop'] = vueltas_train_18['makeStop'].astype('int32')\n",
    "scaler = MinMaxScaler()\n",
    "scaler.fit(vueltas_train_18)\n",
    "vueltas_train_scaler_18= scaler.transform(vueltas_train_18)"
   ]
  },
  {
   "cell_type": "code",
   "execution_count": 549,
   "id": "60ffe789",
   "metadata": {},
   "outputs": [],
   "source": [
    "vueltas_train_19 = vueltas_train[vueltas_train['anyo'] == 2019]\n",
    "\n",
    "vueltas_train_19 = vueltas_train_19.drop('anyo', axis=1)\n",
    "vueltas_train_19['makeStop'] = vueltas_train_19['makeStop'].astype('int32')\n",
    "\n",
    "scaler.fit(vueltas_train_19)\n",
    "vueltas_train_scaler_19= scaler.transform(vueltas_train_19)"
   ]
  },
  {
   "cell_type": "code",
   "execution_count": 550,
   "id": "435d48a9",
   "metadata": {},
   "outputs": [],
   "source": [
    "vueltas_train_20 = vueltas_train[vueltas_train['anyo'] == 2020]\n",
    "\n",
    "vueltas_train_20 = vueltas_train_20.drop('anyo', axis=1)\n",
    "vueltas_train_20['makeStop'] = vueltas_train_20['makeStop'].astype('int32')\n",
    "\n",
    "scaler.fit(vueltas_train_20)\n",
    "vueltas_train_scaler_20= scaler.transform(vueltas_train_20)"
   ]
  },
  {
   "cell_type": "code",
   "execution_count": 551,
   "id": "4b435a8e",
   "metadata": {},
   "outputs": [],
   "source": [
    "vueltas_test_scaler = scaler.transform(vueltas_test)\n",
    "vueltas_validation_scaler = scaler.transform(vueltas_validation)\n"
   ]
  },
  {
   "cell_type": "code",
   "execution_count": 552,
   "id": "83ece4da",
   "metadata": {},
   "outputs": [],
   "source": [
    "trainX = []\n",
    "trainY = []\n",
    "testX = []\n",
    "testY = []\n",
    "validationX = []\n",
    "validationY = []\n",
    "loopback = 8 # Esto es el numero de muestras que usara en el pasado \n",
    "future = 1 # Esto es el numero de hechos futuros que usará como salida a las 10 muestras del pasado\n",
    "\n",
    "for i in range (loopback, len(vueltas_train_scaler_18) -future +1):\n",
    "    trainX.append(vueltas_train_scaler_18[i-loopback:i, 0:vueltas_train_18.shape[1]])\n",
    "    trainY.append(vueltas_train_scaler_18[i + future - 1:i + future,5])\n",
    "    \n",
    "for i in range (loopback, len(vueltas_train_scaler_19) -future +1):\n",
    "    trainX.append(vueltas_train_scaler_19[i-loopback:i, 0:vueltas_train_19.shape[1]])\n",
    "    trainY.append(vueltas_train_scaler_19[i + future - 1:i + future,5])\n",
    "    \n",
    "for i in range (loopback, len(vueltas_train_scaler_20) -future +1):\n",
    "    trainX.append(vueltas_train_scaler_20[i-loopback:i, 0:vueltas_train_20.shape[1]])\n",
    "    trainY.append(vueltas_train_scaler_20[i + future - 1:i + future,5])\n",
    " \n",
    "for i in range (loopback, len(vueltas_test_scaler) -future +1):\n",
    "        testX.append(vueltas_test_scaler[i-loopback:i, 0:vueltas_test.shape[1]])\n",
    "        testY.append(vueltas_test_scaler[i + future - 1:i + future,5])\n",
    "        \n",
    "    \n",
    "for i in range (loopback, len(vueltas_validation_scaler) -future +1):\n",
    "    validationX.append(vueltas_validation_scaler[i-loopback:i, 0:vueltas_validation.shape[1]])\n",
    "    validationY.append(vueltas_validation_scaler[i + future - 1:i + future,5])"
   ]
  },
  {
   "cell_type": "code",
   "execution_count": 553,
   "id": "748744b3",
   "metadata": {},
   "outputs": [],
   "source": [
    "trainX, trainY, testX, testY, validationX, validationY = np.array(trainX), np.array(trainY), np.array(testX), np.array(testY), np.array(validationX), np.array(validationY)"
   ]
  },
  {
   "cell_type": "code",
   "execution_count": 554,
   "id": "f16e12f8",
   "metadata": {},
   "outputs": [
    {
     "name": "stderr",
     "output_type": "stream",
     "text": [
      "2023-07-27 22:43:57.500498: I tensorflow/core/common_runtime/executor.cc:1197] [/device:CPU:0] (DEBUG INFO) Executor start aborting (this does not indicate an error and you can ignore this message): INVALID_ARGUMENT: You must feed a value for placeholder tensor 'gradients/split_2_grad/concat/split_2/split_dim' with dtype int32\n",
      "\t [[{{node gradients/split_2_grad/concat/split_2/split_dim}}]]\n",
      "2023-07-27 22:43:57.501561: I tensorflow/core/common_runtime/executor.cc:1197] [/device:CPU:0] (DEBUG INFO) Executor start aborting (this does not indicate an error and you can ignore this message): INVALID_ARGUMENT: You must feed a value for placeholder tensor 'gradients/split_grad/concat/split/split_dim' with dtype int32\n",
      "\t [[{{node gradients/split_grad/concat/split/split_dim}}]]\n",
      "2023-07-27 22:43:57.503132: I tensorflow/core/common_runtime/executor.cc:1197] [/device:CPU:0] (DEBUG INFO) Executor start aborting (this does not indicate an error and you can ignore this message): INVALID_ARGUMENT: You must feed a value for placeholder tensor 'gradients/split_1_grad/concat/split_1/split_dim' with dtype int32\n",
      "\t [[{{node gradients/split_1_grad/concat/split_1/split_dim}}]]\n",
      "2023-07-27 22:43:57.697800: I tensorflow/core/common_runtime/executor.cc:1197] [/device:CPU:0] (DEBUG INFO) Executor start aborting (this does not indicate an error and you can ignore this message): INVALID_ARGUMENT: You must feed a value for placeholder tensor 'gradients/split_2_grad/concat/split_2/split_dim' with dtype int32\n",
      "\t [[{{node gradients/split_2_grad/concat/split_2/split_dim}}]]\n",
      "2023-07-27 22:43:57.698858: I tensorflow/core/common_runtime/executor.cc:1197] [/device:CPU:0] (DEBUG INFO) Executor start aborting (this does not indicate an error and you can ignore this message): INVALID_ARGUMENT: You must feed a value for placeholder tensor 'gradients/split_grad/concat/split/split_dim' with dtype int32\n",
      "\t [[{{node gradients/split_grad/concat/split/split_dim}}]]\n",
      "2023-07-27 22:43:57.699940: I tensorflow/core/common_runtime/executor.cc:1197] [/device:CPU:0] (DEBUG INFO) Executor start aborting (this does not indicate an error and you can ignore this message): INVALID_ARGUMENT: You must feed a value for placeholder tensor 'gradients/split_1_grad/concat/split_1/split_dim' with dtype int32\n",
      "\t [[{{node gradients/split_1_grad/concat/split_1/split_dim}}]]\n"
     ]
    },
    {
     "name": "stdout",
     "output_type": "stream",
     "text": [
      "Model: \"sequential_29\"\n",
      "_________________________________________________________________\n",
      " Layer (type)                Output Shape              Param #   \n",
      "=================================================================\n",
      " lstm_58 (LSTM)              (None, 8, 256)            282624    \n",
      "                                                                 \n",
      " dropout_58 (Dropout)        (None, 8, 256)            0         \n",
      "                                                                 \n",
      " lstm_59 (LSTM)              (None, 128)               197120    \n",
      "                                                                 \n",
      " dropout_59 (Dropout)        (None, 128)               0         \n",
      "                                                                 \n",
      " dense_29 (Dense)            (None, 1)                 129       \n",
      "                                                                 \n",
      "=================================================================\n",
      "Total params: 479,873\n",
      "Trainable params: 479,873\n",
      "Non-trainable params: 0\n",
      "_________________________________________________________________\n"
     ]
    }
   ],
   "source": [
    "model = Sequential()\n",
    "model.add(LSTM(256, activation='tanh', input_shape=(trainX.shape[1], trainX.shape[2]), return_sequences=True))\n",
    "model.add(Dropout(0.2))\n",
    "model.add(LSTM(128, activation='tanh', return_sequences=False))\n",
    "model.add(Dropout(0.2))\n",
    "model.add(Dense(1, activation='sigmoid'))\n",
    "model.compile(optimizer=\"adam\", loss= \"binary_crossentropy\") \n",
    "model.summary()"
   ]
  },
  {
   "cell_type": "code",
   "execution_count": 555,
   "id": "d48f6c99",
   "metadata": {
    "scrolled": false
   },
   "outputs": [
    {
     "name": "stdout",
     "output_type": "stream",
     "text": [
      "Epoch 1/30\n"
     ]
    },
    {
     "name": "stderr",
     "output_type": "stream",
     "text": [
      "2023-07-27 22:43:58.047232: I tensorflow/core/common_runtime/executor.cc:1197] [/device:CPU:0] (DEBUG INFO) Executor start aborting (this does not indicate an error and you can ignore this message): INVALID_ARGUMENT: You must feed a value for placeholder tensor 'gradients/split_2_grad/concat/split_2/split_dim' with dtype int32\n",
      "\t [[{{node gradients/split_2_grad/concat/split_2/split_dim}}]]\n",
      "2023-07-27 22:43:58.048500: I tensorflow/core/common_runtime/executor.cc:1197] [/device:CPU:0] (DEBUG INFO) Executor start aborting (this does not indicate an error and you can ignore this message): INVALID_ARGUMENT: You must feed a value for placeholder tensor 'gradients/split_grad/concat/split/split_dim' with dtype int32\n",
      "\t [[{{node gradients/split_grad/concat/split/split_dim}}]]\n",
      "2023-07-27 22:43:58.050043: I tensorflow/core/common_runtime/executor.cc:1197] [/device:CPU:0] (DEBUG INFO) Executor start aborting (this does not indicate an error and you can ignore this message): INVALID_ARGUMENT: You must feed a value for placeholder tensor 'gradients/split_1_grad/concat/split_1/split_dim' with dtype int32\n",
      "\t [[{{node gradients/split_1_grad/concat/split_1/split_dim}}]]\n",
      "2023-07-27 22:43:58.226005: I tensorflow/core/common_runtime/executor.cc:1197] [/device:CPU:0] (DEBUG INFO) Executor start aborting (this does not indicate an error and you can ignore this message): INVALID_ARGUMENT: You must feed a value for placeholder tensor 'gradients/split_2_grad/concat/split_2/split_dim' with dtype int32\n",
      "\t [[{{node gradients/split_2_grad/concat/split_2/split_dim}}]]\n",
      "2023-07-27 22:43:58.227252: I tensorflow/core/common_runtime/executor.cc:1197] [/device:CPU:0] (DEBUG INFO) Executor start aborting (this does not indicate an error and you can ignore this message): INVALID_ARGUMENT: You must feed a value for placeholder tensor 'gradients/split_grad/concat/split/split_dim' with dtype int32\n",
      "\t [[{{node gradients/split_grad/concat/split/split_dim}}]]\n",
      "2023-07-27 22:43:58.228481: I tensorflow/core/common_runtime/executor.cc:1197] [/device:CPU:0] (DEBUG INFO) Executor start aborting (this does not indicate an error and you can ignore this message): INVALID_ARGUMENT: You must feed a value for placeholder tensor 'gradients/split_1_grad/concat/split_1/split_dim' with dtype int32\n",
      "\t [[{{node gradients/split_1_grad/concat/split_1/split_dim}}]]\n",
      "2023-07-27 22:43:59.108377: I tensorflow/core/common_runtime/executor.cc:1197] [/device:CPU:0] (DEBUG INFO) Executor start aborting (this does not indicate an error and you can ignore this message): INVALID_ARGUMENT: You must feed a value for placeholder tensor 'gradients/split_2_grad/concat/split_2/split_dim' with dtype int32\n",
      "\t [[{{node gradients/split_2_grad/concat/split_2/split_dim}}]]\n",
      "2023-07-27 22:43:59.110233: I tensorflow/core/common_runtime/executor.cc:1197] [/device:CPU:0] (DEBUG INFO) Executor start aborting (this does not indicate an error and you can ignore this message): INVALID_ARGUMENT: You must feed a value for placeholder tensor 'gradients/split_grad/concat/split/split_dim' with dtype int32\n",
      "\t [[{{node gradients/split_grad/concat/split/split_dim}}]]\n",
      "2023-07-27 22:43:59.111716: I tensorflow/core/common_runtime/executor.cc:1197] [/device:CPU:0] (DEBUG INFO) Executor start aborting (this does not indicate an error and you can ignore this message): INVALID_ARGUMENT: You must feed a value for placeholder tensor 'gradients/split_1_grad/concat/split_1/split_dim' with dtype int32\n",
      "\t [[{{node gradients/split_1_grad/concat/split_1/split_dim}}]]\n",
      "2023-07-27 22:43:59.299883: I tensorflow/core/common_runtime/executor.cc:1197] [/device:CPU:0] (DEBUG INFO) Executor start aborting (this does not indicate an error and you can ignore this message): INVALID_ARGUMENT: You must feed a value for placeholder tensor 'gradients/split_2_grad/concat/split_2/split_dim' with dtype int32\n",
      "\t [[{{node gradients/split_2_grad/concat/split_2/split_dim}}]]\n",
      "2023-07-27 22:43:59.301286: I tensorflow/core/common_runtime/executor.cc:1197] [/device:CPU:0] (DEBUG INFO) Executor start aborting (this does not indicate an error and you can ignore this message): INVALID_ARGUMENT: You must feed a value for placeholder tensor 'gradients/split_grad/concat/split/split_dim' with dtype int32\n",
      "\t [[{{node gradients/split_grad/concat/split/split_dim}}]]\n",
      "2023-07-27 22:43:59.302476: I tensorflow/core/common_runtime/executor.cc:1197] [/device:CPU:0] (DEBUG INFO) Executor start aborting (this does not indicate an error and you can ignore this message): INVALID_ARGUMENT: You must feed a value for placeholder tensor 'gradients/split_1_grad/concat/split_1/split_dim' with dtype int32\n",
      "\t [[{{node gradients/split_1_grad/concat/split_1/split_dim}}]]\n"
     ]
    },
    {
     "name": "stdout",
     "output_type": "stream",
     "text": [
      "24/24 [==============================] - 4s 55ms/step - loss: 0.1944\n",
      "Epoch 2/30\n",
      "24/24 [==============================] - 1s 54ms/step - loss: 0.1198\n",
      "Epoch 3/30\n",
      "24/24 [==============================] - 1s 55ms/step - loss: 0.1168\n",
      "Epoch 4/30\n",
      "24/24 [==============================] - 1s 54ms/step - loss: 0.1040\n",
      "Epoch 5/30\n",
      "24/24 [==============================] - 1s 54ms/step - loss: 0.1122\n",
      "Epoch 6/30\n",
      "24/24 [==============================] - 1s 54ms/step - loss: 0.1035\n",
      "Epoch 7/30\n",
      "24/24 [==============================] - 1s 54ms/step - loss: 0.0904\n",
      "Epoch 8/30\n",
      "24/24 [==============================] - 1s 54ms/step - loss: 0.0856\n",
      "Epoch 9/30\n",
      "24/24 [==============================] - 1s 54ms/step - loss: 0.0831\n",
      "Epoch 10/30\n",
      "24/24 [==============================] - 1s 54ms/step - loss: 0.0865\n",
      "Epoch 11/30\n",
      "24/24 [==============================] - 1s 55ms/step - loss: 0.0771\n",
      "Epoch 12/30\n",
      "24/24 [==============================] - 1s 54ms/step - loss: 0.0768\n",
      "Epoch 13/30\n",
      "24/24 [==============================] - 1s 55ms/step - loss: 0.0738\n",
      "Epoch 14/30\n",
      "24/24 [==============================] - 1s 54ms/step - loss: 0.0757\n",
      "Epoch 15/30\n",
      "24/24 [==============================] - 1s 54ms/step - loss: 0.0789\n",
      "Epoch 16/30\n",
      "24/24 [==============================] - 1s 54ms/step - loss: 0.0713\n",
      "Epoch 17/30\n",
      "24/24 [==============================] - 1s 54ms/step - loss: 0.0696\n",
      "Epoch 18/30\n",
      "24/24 [==============================] - 1s 54ms/step - loss: 0.0669\n",
      "Epoch 19/30\n",
      "24/24 [==============================] - 1s 54ms/step - loss: 0.0645\n",
      "Epoch 20/30\n",
      "24/24 [==============================] - 1s 54ms/step - loss: 0.0652\n",
      "Epoch 21/30\n",
      "24/24 [==============================] - 1s 54ms/step - loss: 0.0657\n",
      "Epoch 22/30\n",
      "24/24 [==============================] - 1s 55ms/step - loss: 0.0614\n",
      "Epoch 23/30\n",
      "24/24 [==============================] - 1s 56ms/step - loss: 0.0584\n",
      "Epoch 24/30\n",
      "24/24 [==============================] - 1s 54ms/step - loss: 0.0649\n",
      "Epoch 25/30\n",
      "24/24 [==============================] - 1s 54ms/step - loss: 0.0549\n",
      "Epoch 26/30\n",
      "24/24 [==============================] - 1s 54ms/step - loss: 0.0508\n",
      "Epoch 27/30\n",
      "24/24 [==============================] - 1s 54ms/step - loss: 0.0599\n",
      "Epoch 28/30\n",
      "24/24 [==============================] - 2s 67ms/step - loss: 0.0484\n",
      "Epoch 29/30\n",
      "24/24 [==============================] - 1s 55ms/step - loss: 0.0503\n",
      "Epoch 30/30\n",
      "24/24 [==============================] - 1s 55ms/step - loss: 0.0437\n"
     ]
    },
    {
     "data": {
      "text/plain": [
       "<matplotlib.legend.Legend at 0x7f8bef4fafb0>"
      ]
     },
     "execution_count": 555,
     "metadata": {},
     "output_type": "execute_result"
    },
    {
     "data": {
      "image/png": "[encoded data removed]",
      "text/plain": [
       "<Figure size 640x480 with 1 Axes>"
      ]
     },
     "metadata": {},
     "output_type": "display_data"
    }
   ],
   "source": [
    "history = model.fit(trainX, trainY, epochs=30, batch_size=128, validation_split=0.0, verbose=1)\n",
    "plt.plot(history.history['loss'], label='Training loss')\n",
    "plt.legend()"
   ]
  },
  {
   "cell_type": "code",
   "execution_count": 556,
   "id": "e10c1eb5",
   "metadata": {},
   "outputs": [
    {
     "name": "stderr",
     "output_type": "stream",
     "text": [
      "2023-07-27 22:44:41.064325: I tensorflow/core/common_runtime/executor.cc:1197] [/device:CPU:0] (DEBUG INFO) Executor start aborting (this does not indicate an error and you can ignore this message): INVALID_ARGUMENT: You must feed a value for placeholder tensor 'gradients/split_2_grad/concat/split_2/split_dim' with dtype int32\n",
      "\t [[{{node gradients/split_2_grad/concat/split_2/split_dim}}]]\n",
      "2023-07-27 22:44:41.065401: I tensorflow/core/common_runtime/executor.cc:1197] [/device:CPU:0] (DEBUG INFO) Executor start aborting (this does not indicate an error and you can ignore this message): INVALID_ARGUMENT: You must feed a value for placeholder tensor 'gradients/split_grad/concat/split/split_dim' with dtype int32\n",
      "\t [[{{node gradients/split_grad/concat/split/split_dim}}]]\n",
      "2023-07-27 22:44:41.066616: I tensorflow/core/common_runtime/executor.cc:1197] [/device:CPU:0] (DEBUG INFO) Executor start aborting (this does not indicate an error and you can ignore this message): INVALID_ARGUMENT: You must feed a value for placeholder tensor 'gradients/split_1_grad/concat/split_1/split_dim' with dtype int32\n",
      "\t [[{{node gradients/split_1_grad/concat/split_1/split_dim}}]]\n",
      "2023-07-27 22:44:41.231425: I tensorflow/core/common_runtime/executor.cc:1197] [/device:CPU:0] (DEBUG INFO) Executor start aborting (this does not indicate an error and you can ignore this message): INVALID_ARGUMENT: You must feed a value for placeholder tensor 'gradients/split_2_grad/concat/split_2/split_dim' with dtype int32\n",
      "\t [[{{node gradients/split_2_grad/concat/split_2/split_dim}}]]\n",
      "2023-07-27 22:44:41.232521: I tensorflow/core/common_runtime/executor.cc:1197] [/device:CPU:0] (DEBUG INFO) Executor start aborting (this does not indicate an error and you can ignore this message): INVALID_ARGUMENT: You must feed a value for placeholder tensor 'gradients/split_grad/concat/split/split_dim' with dtype int32\n",
      "\t [[{{node gradients/split_grad/concat/split/split_dim}}]]\n",
      "2023-07-27 22:44:41.233758: I tensorflow/core/common_runtime/executor.cc:1197] [/device:CPU:0] (DEBUG INFO) Executor start aborting (this does not indicate an error and you can ignore this message): INVALID_ARGUMENT: You must feed a value for placeholder tensor 'gradients/split_1_grad/concat/split_1/split_dim' with dtype int32\n",
      "\t [[{{node gradients/split_1_grad/concat/split_1/split_dim}}]]\n"
     ]
    },
    {
     "name": "stdout",
     "output_type": "stream",
     "text": [
      "33/33 [==============================] - 1s 8ms/step\n"
     ]
    }
   ],
   "source": [
    "predictions_val = model.predict(validationX)"
   ]
  },
  {
   "cell_type": "code",
   "execution_count": 557,
   "id": "db019bb3",
   "metadata": {},
   "outputs": [
    {
     "data": {
      "text/plain": [
       "array([[0.99687344],\n",
       "       [0.9981656 ],\n",
       "       [0.9976746 ],\n",
       "       ...,\n",
       "       [0.625476  ],\n",
       "       [0.65618664],\n",
       "       [0.66908795]], dtype=float32)"
      ]
     },
     "execution_count": 557,
     "metadata": {},
     "output_type": "execute_result"
    }
   ],
   "source": [
    "predictions_val"
   ]
  },
  {
   "cell_type": "markdown",
   "id": "c60536c0",
   "metadata": {},
   "source": [
    "### Sacamos el threeshold con los datos de entrenamiento"
   ]
  },
  {
   "cell_type": "code",
   "execution_count": 558,
   "id": "8e959713",
   "metadata": {},
   "outputs": [
    {
     "name": "stdout",
     "output_type": "stream",
     "text": [
      "El umbral óptimo según la curva ROC es: 0.715597\n"
     ]
    }
   ],
   "source": [
    "import numpy as np\n",
    "from sklearn.metrics import roc_curve\n",
    "\n",
    "\n",
    "# Etiquetas reales (0 o 1 según la clase verdadera)\n",
    "true_labels = validationY\n",
    "\n",
    "# Calculamos la curva ROC\n",
    "fpr, tpr, thresholds = roc_curve(true_labels, predictions_val)\n",
    "\n",
    "# Encontramos el umbral que maximiza la suma de sensibilidad y especificidad\n",
    "optimal_idx = np.argmax(tpr - fpr)\n",
    "optimal_threshold = thresholds[optimal_idx]\n",
    "\n",
    "\n",
    "print(\"El umbral óptimo según la curva ROC es:\", optimal_threshold)\n",
    "\n"
   ]
  },
  {
   "cell_type": "markdown",
   "id": "9a51e2d3",
   "metadata": {},
   "source": [
    "### Sacamos las predicciones del año 2022"
   ]
  },
  {
   "cell_type": "code",
   "execution_count": 559,
   "id": "b6a40816",
   "metadata": {},
   "outputs": [
    {
     "name": "stdout",
     "output_type": "stream",
     "text": [
      "2/2 [==============================] - 0s 7ms/step\n"
     ]
    }
   ],
   "source": [
    "predictions = model.predict(testX)"
   ]
  },
  {
   "cell_type": "code",
   "execution_count": 560,
   "id": "49fab729",
   "metadata": {},
   "outputs": [
    {
     "data": {
      "text/plain": [
       "array([[6.9838357e-01],\n",
       "       [7.4053091e-01],\n",
       "       [7.7010810e-01],\n",
       "       [7.8689796e-01],\n",
       "       [7.9322839e-01],\n",
       "       [7.8922963e-01],\n",
       "       [6.1735308e-01],\n",
       "       [3.8527006e-01],\n",
       "       [1.3718887e-01],\n",
       "       [5.2315388e-02],\n",
       "       [1.5992088e-02],\n",
       "       [4.4738646e-03],\n",
       "       [1.0802699e-03],\n",
       "       [2.2927947e-04],\n",
       "       [1.8852364e-02],\n",
       "       [2.0906648e-02],\n",
       "       [2.3153871e-02],\n",
       "       [2.7261307e-02],\n",
       "       [3.3831198e-02],\n",
       "       [3.8114596e-02],\n",
       "       [4.5385987e-02],\n",
       "       [4.9473375e-02],\n",
       "       [5.7401132e-02],\n",
       "       [6.3853651e-02],\n",
       "       [7.1914375e-02],\n",
       "       [9.7163633e-02],\n",
       "       [1.0954270e-02],\n",
       "       [4.4294167e-03],\n",
       "       [2.2531117e-03],\n",
       "       [7.1328162e-04],\n",
       "       [2.8114839e-04],\n",
       "       [1.4573634e-04],\n",
       "       [1.0617231e-04],\n",
       "       [1.0114122e-04],\n",
       "       [4.5601765e-04],\n",
       "       [4.7659877e-04],\n",
       "       [5.5630866e-04],\n",
       "       [5.8901228e-04],\n",
       "       [6.7243964e-04],\n",
       "       [8.0188189e-04],\n",
       "       [8.7109749e-04],\n",
       "       [9.5398474e-04],\n",
       "       [1.1121703e-03],\n",
       "       [1.5085845e-03],\n",
       "       [1.6363460e-03],\n",
       "       [1.7419378e-03],\n",
       "       [1.8762685e-03],\n",
       "       [2.0500391e-03],\n",
       "       [2.4040514e-03],\n",
       "       [3.1048171e-03],\n",
       "       [3.1942790e-03],\n",
       "       [3.9728619e-03],\n",
       "       [4.5603327e-03],\n",
       "       [5.1039741e-03],\n",
       "       [5.8038603e-03],\n",
       "       [6.6099400e-03]], dtype=float32)"
      ]
     },
     "execution_count": 560,
     "metadata": {},
     "output_type": "execute_result"
    }
   ],
   "source": [
    "predictions"
   ]
  },
  {
   "cell_type": "code",
   "execution_count": 561,
   "id": "e9aca464",
   "metadata": {},
   "outputs": [],
   "source": [
    "predictions[predictions>optimal_threshold] =1.0"
   ]
  },
  {
   "cell_type": "code",
   "execution_count": 562,
   "id": "8bde41ef",
   "metadata": {},
   "outputs": [],
   "source": [
    "predictions[predictions<=optimal_threshold] = 0.0"
   ]
  },
  {
   "cell_type": "code",
   "execution_count": 563,
   "id": "4ca27cd4",
   "metadata": {},
   "outputs": [
    {
     "data": {
      "text/plain": [
       "array([[0.],\n",
       "       [1.],\n",
       "       [1.],\n",
       "       [1.],\n",
       "       [1.],\n",
       "       [1.],\n",
       "       [0.],\n",
       "       [0.],\n",
       "       [0.],\n",
       "       [0.],\n",
       "       [0.],\n",
       "       [0.],\n",
       "       [0.],\n",
       "       [0.],\n",
       "       [0.],\n",
       "       [0.],\n",
       "       [0.],\n",
       "       [0.],\n",
       "       [0.],\n",
       "       [0.],\n",
       "       [0.],\n",
       "       [0.],\n",
       "       [0.],\n",
       "       [0.],\n",
       "       [0.],\n",
       "       [0.],\n",
       "       [0.],\n",
       "       [0.],\n",
       "       [0.],\n",
       "       [0.],\n",
       "       [0.],\n",
       "       [0.],\n",
       "       [0.],\n",
       "       [0.],\n",
       "       [0.],\n",
       "       [0.],\n",
       "       [0.],\n",
       "       [0.],\n",
       "       [0.],\n",
       "       [0.],\n",
       "       [0.],\n",
       "       [0.],\n",
       "       [0.],\n",
       "       [0.],\n",
       "       [0.],\n",
       "       [0.],\n",
       "       [0.],\n",
       "       [0.],\n",
       "       [0.],\n",
       "       [0.],\n",
       "       [0.],\n",
       "       [0.],\n",
       "       [0.],\n",
       "       [0.],\n",
       "       [0.],\n",
       "       [0.]], dtype=float32)"
      ]
     },
     "execution_count": 563,
     "metadata": {},
     "output_type": "execute_result"
    }
   ],
   "source": [
    "predictions"
   ]
  },
  {
   "cell_type": "code",
   "execution_count": 564,
   "id": "1188acbf",
   "metadata": {},
   "outputs": [
    {
     "name": "stdout",
     "output_type": "stream",
     "text": [
      "              precision    recall  f1-score   support\n",
      "\n",
      "         0.0       0.98      0.93      0.95        54\n",
      "         1.0       0.20      0.50      0.29         2\n",
      "\n",
      "    accuracy                           0.91        56\n",
      "   macro avg       0.59      0.71      0.62        56\n",
      "weighted avg       0.95      0.91      0.93        56\n",
      "\n"
     ]
    }
   ],
   "source": [
    "from sklearn.metrics import confusion_matrix\n",
    "from sklearn.metrics import classification_report\n",
    "metricas = classification_report(testY, predictions)\n",
    "print(metricas)"
   ]
  },
  {
   "cell_type": "code",
   "execution_count": 565,
   "id": "72986cb2",
   "metadata": {},
   "outputs": [],
   "source": [
    "def calculate_accuracy_within_range(real_values, predicted_values, within_range=3):\n",
    "    real_values = np.ravel(real_values).astype(int)\n",
    "    predicted_values = np.ravel(predicted_values).astype(int)\n",
    "\n",
    "    stop_indexes = np.where(real_values == 1)[0]\n",
    "\n",
    "    correct_laps = []\n",
    "\n",
    "    for stop_index in stop_indexes:\n",
    "        start_index = max(0, stop_index - within_range + 1)\n",
    "        #Esto lo hago para que no se me pase de la ultima vuelta\n",
    "        end_index = min(len(predicted_values), stop_index + within_range) \n",
    "\n",
    "        if 1 in predicted_values[start_index:end_index + 1]:\n",
    "            correct_laps.append(stop_index+1)\n",
    "\n",
    "    precision = len(correct_laps) / len(stop_indexes) if len(stop_indexes) > 0 else 0\n",
    "\n",
    "    return precision, correct_laps"
   ]
  },
  {
   "cell_type": "code",
   "execution_count": 566,
   "id": "e508c872",
   "metadata": {},
   "outputs": [
    {
     "name": "stdout",
     "output_type": "stream",
     "text": [
      "Los resultados se han guardado en el archivo: ./resultados/LSTM_BCR_ROC_TRAIN181920_VAL21/bottas.txt\n"
     ]
    }
   ],
   "source": [
    "import sys\n",
    "\n",
    "# Guardar la salida actual para restaurarla más tarde\n",
    "original_stdout = sys.stdout\n",
    "\n",
    "# Nombre del archivo en el que se guardarán los resultados\n",
    "nombre_archivo = f\"./resultados/LSTM_BCR_ROC_TRAIN181920_VAL21/{piloto}.txt\"\n",
    "\n",
    "# Abrir el archivo en modo de escritura y redirigir la salida estándar a ese archivo\n",
    "with open(nombre_archivo, \"w\") as f:\n",
    "    sys.stdout = f\n",
    "\n",
    "    # Ahora todos los prints se guardarán en el archivo en lugar de mostrarse en la consola\n",
    "\n",
    "    from sklearn.metrics import confusion_matrix\n",
    "    from sklearn.metrics import classification_report\n",
    "\n",
    "    metricas = classification_report(testY, predictions)\n",
    "    print(metricas)\n",
    "\n",
    "    rango = 2\n",
    "    accuracy, correct_laps = calculate_accuracy_within_range(testY, predictions, within_range=rango)\n",
    "    print(f\"Exactitud dentro del rango de vueltas: {accuracy:.2f}\")\n",
    "    print(f\"Vueltas en las que se ha acertado la parada o está dentro del rango con rango seteado a {rango}: {correct_laps}\")\n",
    "\n",
    "    precision = accuracy  # En este caso, la precisión es igual a la exactitud dentro del rango\n",
    "    recall = 1.0  # Recall es 1.0, ya que solo estamos considerando las paradas reales dentro del rango\n",
    "    f1_score = 2 * (precision * recall) / (precision + recall)  # Calculamos el F1-score\n",
    "\n",
    "    print(f\"Precisión: {precision:.2f}\")\n",
    "    print(f\"F1-score: {f1_score:.2f}\")\n",
    "\n",
    "    accuracy, correct_laps = calculate_accuracy_within_range(testY, predictions, within_range=0)\n",
    "    print(f\"Exactitud sin rango de vueltas: {accuracy:.2f}\")\n",
    "\n",
    "    precision = accuracy  # En este caso, la precisión es igual a la exactitud dentro del rango\n",
    "    recall = 1.0  # Recall es 1.0, ya que solo estamos considerando las paradas reales dentro del rango\n",
    "    f1_score = 2 * (precision * recall) / (precision + recall)  # Calculamos el F1-score\n",
    "\n",
    "    print(f\"Precisión: {precision:.2f}\")\n",
    "    print(f\"F1-score: {f1_score:.2f}\")\n",
    "    \n",
    "    print(f\"El threeshold ha sido: {optimal_threshold}\")\n",
    "\n",
    "# Restaurar la salida estándar original\n",
    "sys.stdout = original_stdout\n",
    "\n",
    "print(\"Los resultados se han guardado en el archivo:\", nombre_archivo)"
   ]
  },
  {
   "cell_type": "code",
   "execution_count": null,
   "id": "cb4bddf2",
   "metadata": {},
   "outputs": [],
   "source": []
  },
  {
   "cell_type": "code",
   "execution_count": null,
   "id": "80fc1b85",
   "metadata": {},
   "outputs": [],
   "source": []
  }
 ],
 "metadata": {
  "kernelspec": {
   "display_name": "Python 3 (ipykernel)",
   "language": "python",
   "name": "python3"
  },
  "language_info": {
   "codemirror_mode": {
    "name": "ipython",
    "version": 3
   },
   "file_extension": ".py",
   "mimetype": "text/x-python",
   "name": "python",
   "nbconvert_exporter": "python",
   "pygments_lexer": "ipython3",
   "version": "3.10.9"
  }
 },
 "nbformat": 4,
 "nbformat_minor": 5
}
