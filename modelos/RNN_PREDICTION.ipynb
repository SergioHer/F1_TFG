{
 "cells": [
  {
   "cell_type": "code",
   "execution_count": 66,
   "id": "32c7e2d9",
   "metadata": {},
   "outputs": [],
   "source": [
    "import numpy as np\n",
    "from tensorflow.keras.models import Sequential\n",
    "from tensorflow.keras.layers import LSTM\n",
    "from tensorflow.keras.layers import Dense, Dropout, GRU, SimpleRNN\n",
    "from tensorflow import keras\n",
    "import pandas as pd\n",
    "from matplotlib import pyplot as plt\n",
    "from sklearn.preprocessing import StandardScaler, MinMaxScaler\n",
    "import seaborn as sns"
   ]
  },
  {
   "cell_type": "code",
   "execution_count": 67,
   "id": "06ab3596",
   "metadata": {},
   "outputs": [],
   "source": [
    "vueltas = pd.read_csv(\"../dataset_todos_pilotos/vueltas_spain_final.csv\")\n",
    "vueltas.drop(['nextPit'], axis = 1, inplace = True)\n",
    "vueltas.drop(['makeStop'], axis = 1, inplace = True)"
   ]
  },
  {
   "cell_type": "code",
   "execution_count": 68,
   "id": "0aa7107a",
   "metadata": {},
   "outputs": [],
   "source": [
    "vueltas_train = vueltas[vueltas['anyo'].isin([2018, 2019, 2020, 2021])]\n",
    "vueltas_test = vueltas[vueltas['anyo'] == 2022]\n",
    "vueltas_test = vueltas_test[vueltas_test['Piloto'] == 'bottas']"
   ]
  },
  {
   "cell_type": "code",
   "execution_count": 69,
   "id": "ead79aa4",
   "metadata": {},
   "outputs": [],
   "source": [
    "vueltas_train = vueltas_train.drop(['anyo'], axis=1)\n",
    "vueltas_train.drop(['Piloto'], axis = 1, inplace = True)\n",
    "vueltas_test = vueltas_test.drop(['anyo'], axis=1)\n",
    "vueltas_test.drop(['Piloto'], axis = 1, inplace = True)"
   ]
  },
  {
   "cell_type": "code",
   "execution_count": 70,
   "id": "54ff995d",
   "metadata": {},
   "outputs": [],
   "source": [
    "vueltas_train = vueltas_train.astype(float)\n",
    "vueltas_test = vueltas_test.astype(float)"
   ]
  },
  {
   "cell_type": "code",
   "execution_count": 71,
   "id": "1e778c7a",
   "metadata": {},
   "outputs": [],
   "source": [
    "scaler = MinMaxScaler()\n",
    "scaler.fit(vueltas_train)\n",
    "vueltas_train_scaler = scaler.transform(vueltas_train)\n",
    "vueltas_test_scaler = scaler.transform(vueltas_test)\n"
   ]
  },
  {
   "cell_type": "code",
   "execution_count": 72,
   "id": "157b0016",
   "metadata": {},
   "outputs": [],
   "source": [
    "trainX = []\n",
    "trainY = []\n",
    "testX = []\n",
    "testY = []\n",
    "loopback = 10 # Esto es el numero de muestras que usara en el pasado \n",
    "future = 1 # Esto es el numero de hechos futuros que usará como salida a las 10 muestras del pasado\n",
    "\n",
    "for i in range (loopback, len(vueltas_train_scaler) -future +1):\n",
    "    trainX.append(vueltas_train_scaler[i-loopback:i, 0:vueltas_train.shape[1]])\n",
    "    trainY.append(vueltas_train_scaler[i + future - 1:i + future, 5])\n",
    "    #print(vueltas_train_scaler[i + future - 1:i + future, 5])\n",
    "    \n",
    "for i in range (loopback, len(vueltas_test_scaler) -future +1):\n",
    "    testX.append(vueltas_test_scaler[i-loopback:i, 0:vueltas_test.shape[1]])\n",
    "    testY.append(vueltas_test_scaler[i + future - 1:i + future,5])\n",
    "    "
   ]
  },
  {
   "cell_type": "code",
   "execution_count": 73,
   "id": "098c0057",
   "metadata": {},
   "outputs": [],
   "source": [
    "trainX, trainY, testX, testY = np.array(trainX), np.array(trainY), np.array(testX), np.array(testY)"
   ]
  },
  {
   "cell_type": "code",
   "execution_count": 74,
   "id": "96aa9aec",
   "metadata": {},
   "outputs": [
    {
     "name": "stdout",
     "output_type": "stream",
     "text": [
      "Model: \"sequential_3\"\n",
      "_________________________________________________________________\n",
      " Layer (type)                Output Shape              Param #   \n",
      "=================================================================\n",
      " simple_rnn_12 (SimpleRNN)   (None, 10, 18)            666       \n",
      "                                                                 \n",
      " simple_rnn_13 (SimpleRNN)   (None, 10, 256)           70400     \n",
      "                                                                 \n",
      " dropout_9 (Dropout)         (None, 10, 256)           0         \n",
      "                                                                 \n",
      " simple_rnn_14 (SimpleRNN)   (None, 10, 128)           49280     \n",
      "                                                                 \n",
      " dropout_10 (Dropout)        (None, 10, 128)           0         \n",
      "                                                                 \n",
      " simple_rnn_15 (SimpleRNN)   (None, 64)                12352     \n",
      "                                                                 \n",
      " dropout_11 (Dropout)        (None, 64)                0         \n",
      "                                                                 \n",
      " dense_3 (Dense)             (None, 1)                 65        \n",
      "                                                                 \n",
      "=================================================================\n",
      "Total params: 132,763\n",
      "Trainable params: 132,763\n",
      "Non-trainable params: 0\n",
      "_________________________________________________________________\n",
      "None\n"
     ]
    }
   ],
   "source": [
    "model = Sequential()\n",
    "model.add(SimpleRNN(trainX.shape[2],input_shape = (trainX.shape[1],trainX.shape[2]),return_sequences = True,\n",
    "                    activation = 'relu'))\n",
    "      \n",
    "model.add(SimpleRNN(256,activation = 'relu',return_sequences = True))\n",
    "model.add(Dropout(0.2))\n",
    "model.add(SimpleRNN(128,activation = 'relu', return_sequences= True))\n",
    "model.add(Dropout(0.2))\n",
    "model.add(SimpleRNN(64,activation = 'relu', return_sequences= False))\n",
    "model.add(Dropout(0.2))\n",
    "model.add(Dense(1))\n",
    "model.compile(optimizer =\"adam\", loss = 'mse')\n",
    "print(model.summary())"
   ]
  },
  {
   "cell_type": "code",
   "execution_count": 75,
   "id": "dd2e33de",
   "metadata": {},
   "outputs": [
    {
     "name": "stdout",
     "output_type": "stream",
     "text": [
      "Epoch 1/20\n",
      "58/58 [==============================] - 5s 27ms/step - loss: 0.0893 - val_loss: 0.0494\n",
      "Epoch 2/20\n",
      "58/58 [==============================] - 1s 22ms/step - loss: 0.0287 - val_loss: 0.0323\n",
      "Epoch 3/20\n",
      "58/58 [==============================] - 1s 19ms/step - loss: 0.0217 - val_loss: 0.0445\n",
      "Epoch 4/20\n",
      "58/58 [==============================] - 1s 20ms/step - loss: 0.0211 - val_loss: 0.0251\n",
      "Epoch 5/20\n",
      "58/58 [==============================] - 1s 21ms/step - loss: 0.0169 - val_loss: 0.0273\n",
      "Epoch 6/20\n",
      "58/58 [==============================] - 1s 22ms/step - loss: 0.0164 - val_loss: 0.0160\n",
      "Epoch 7/20\n",
      "58/58 [==============================] - 1s 21ms/step - loss: 0.0147 - val_loss: 0.0337\n",
      "Epoch 8/20\n",
      "58/58 [==============================] - 1s 21ms/step - loss: 0.0137 - val_loss: 0.0257\n",
      "Epoch 9/20\n",
      "58/58 [==============================] - 1s 21ms/step - loss: 0.0120 - val_loss: 0.0174\n",
      "Epoch 10/20\n",
      "58/58 [==============================] - 1s 20ms/step - loss: 0.0118 - val_loss: 0.0213\n",
      "Epoch 11/20\n",
      "58/58 [==============================] - 1s 20ms/step - loss: 0.0116 - val_loss: 0.0240\n",
      "Epoch 12/20\n",
      "58/58 [==============================] - 1s 20ms/step - loss: 0.0104 - val_loss: 0.0215\n",
      "Epoch 13/20\n",
      "58/58 [==============================] - 1s 21ms/step - loss: 0.0103 - val_loss: 0.0192\n",
      "Epoch 14/20\n",
      "58/58 [==============================] - 1s 21ms/step - loss: 0.0102 - val_loss: 0.0203\n",
      "Epoch 15/20\n",
      "58/58 [==============================] - 1s 20ms/step - loss: 0.0099 - val_loss: 0.0252\n",
      "Epoch 16/20\n",
      "58/58 [==============================] - 1s 20ms/step - loss: 0.0102 - val_loss: 0.0136\n",
      "Epoch 17/20\n",
      "58/58 [==============================] - 1s 20ms/step - loss: 0.0102 - val_loss: 0.0184\n",
      "Epoch 18/20\n",
      "58/58 [==============================] - 1s 21ms/step - loss: 0.0093 - val_loss: 0.0183\n",
      "Epoch 19/20\n",
      "58/58 [==============================] - 1s 23ms/step - loss: 0.0088 - val_loss: 0.0184\n",
      "Epoch 20/20\n",
      "58/58 [==============================] - 1s 20ms/step - loss: 0.0087 - val_loss: 0.0167\n"
     ]
    },
    {
     "data": {
      "text/plain": [
       "<matplotlib.legend.Legend at 0x7fc2f4b6e380>"
      ]
     },
     "execution_count": 75,
     "metadata": {},
     "output_type": "execute_result"
    },
    {
     "data": {
      "image/png": "[encoded data removed]",
      "text/plain": [
       "<Figure size 640x480 with 1 Axes>"
      ]
     },
     "metadata": {},
     "output_type": "display_data"
    }
   ],
   "source": [
    "history = model.fit(trainX,trainY,epochs = 20,batch_size = 64,validation_split =0.1,verbose = 1)\n",
    "plt.plot(history.history['loss'], label='Training loss')\n",
    "plt.plot(history.history['val_loss'], label='Validation loss')\n",
    "plt.legend()"
   ]
  },
  {
   "cell_type": "markdown",
   "id": "0e3ad311",
   "metadata": {},
   "source": [
    "### Sacar métricas de lo que falla. Con el unique, ver a cual se acerca más. Sacar matrix_confusion, con este modelo."
   ]
  },
  {
   "cell_type": "markdown",
   "id": "d98c6fc8",
   "metadata": {},
   "source": [
    "### Ahora vamos a sacar todas las Y^ y todas las y."
   ]
  },
  {
   "cell_type": "code",
   "execution_count": 76,
   "id": "5ed6ed53",
   "metadata": {},
   "outputs": [],
   "source": [
    "y_real = testY.tolist()"
   ]
  },
  {
   "cell_type": "code",
   "execution_count": 77,
   "id": "700d4fad",
   "metadata": {},
   "outputs": [
    {
     "name": "stdout",
     "output_type": "stream",
     "text": [
      "2/2 [==============================] - 0s 7ms/step\n"
     ]
    }
   ],
   "source": [
    "y_pred = model.predict(testX)     "
   ]
  },
  {
   "cell_type": "code",
   "execution_count": 78,
   "id": "b69cc69f",
   "metadata": {},
   "outputs": [
    {
     "name": "stdout",
     "output_type": "stream",
     "text": [
      "54 54\n"
     ]
    }
   ],
   "source": [
    "print(len(y_real), len(y_pred))"
   ]
  },
  {
   "cell_type": "code",
   "execution_count": 79,
   "id": "17a4f849",
   "metadata": {},
   "outputs": [],
   "source": [
    "uniques = set(tuple(x) for x in y_real)\n",
    "uniques = [list(x) for x in uniques]"
   ]
  },
  {
   "cell_type": "code",
   "execution_count": 80,
   "id": "5e082556",
   "metadata": {
    "scrolled": true
   },
   "outputs": [
    {
     "data": {
      "text/plain": [
       "[[0.0], [0.6666666666666667], [0.3333333333333333]]"
      ]
     },
     "execution_count": 80,
     "metadata": {},
     "output_type": "execute_result"
    }
   ],
   "source": [
    "uniques"
   ]
  },
  {
   "cell_type": "code",
   "execution_count": 81,
   "id": "9f5f81a5",
   "metadata": {},
   "outputs": [],
   "source": [
    "y_pred_normalized = []\n",
    "for val in y_pred:\n",
    "    dist = [abs(val-x[0]) for x in uniques]\n",
    "    closest_val = uniques[np.argmin(dist)][0]\n",
    "    y_pred_normalized.append(closest_val)\n"
   ]
  },
  {
   "cell_type": "code",
   "execution_count": 82,
   "id": "1fedb014",
   "metadata": {},
   "outputs": [],
   "source": [
    "bien_predecidas = 0\n",
    "mal_predecidas = 0\n",
    "\n",
    "for i in range (0, len(y_real)):\n",
    "    if y_pred_normalized[i] == y_real[i][0]:\n",
    "        bien_predecidas += 1\n",
    "    else:\n",
    "        mal_predecidas += 1\n",
    "\n",
    "precision = bien_predecidas/(mal_predecidas+bien_predecidas)      "
   ]
  },
  {
   "cell_type": "code",
   "execution_count": 83,
   "id": "39e27f8b",
   "metadata": {},
   "outputs": [
    {
     "name": "stdout",
     "output_type": "stream",
     "text": [
      "El modelo tiene una precision de:  0.5925925925925926\n"
     ]
    }
   ],
   "source": [
    "print(\"El modelo tiene una precision de: \", precision)"
   ]
  },
  {
   "cell_type": "markdown",
   "id": "a4ceff83",
   "metadata": {},
   "source": [
    "### Ahora tenemos que sacar las demás métricas y como tenemos 4 clases"
   ]
  },
  {
   "cell_type": "markdown",
   "id": "89c46421",
   "metadata": {},
   "source": [
    "### El número de stint que más veces aparece en el conjunto de test, ¿qué porcentaje sobre el total supone? "
   ]
  },
  {
   "cell_type": "code",
   "execution_count": 84,
   "id": "9557ed69",
   "metadata": {},
   "outputs": [
    {
     "name": "stdout",
     "output_type": "stream",
     "text": [
      "El número que aparece con más frecuencia es: 0.6666666666666667\n",
      "Las frecuencias de cada número son:\n",
      "0.0 aparece 3 veces que supone un 5.56 del total\n",
      "0.3333333333333333 aparece 20 veces que supone un 37.04 del total\n",
      "0.6666666666666667 aparece 31 veces que supone un 57.41 del total\n"
     ]
    }
   ],
   "source": [
    "frecuencias = {}\n",
    "\n",
    "y_real_ = [sublista[0] for sublista in y_real]\n",
    "frecuencias = {}\n",
    "numero_mas_frecuente = None\n",
    "frecuencia_maxima = 0\n",
    "\n",
    "for numero in y_real_:\n",
    "    if numero in frecuencias:\n",
    "        frecuencias[numero] += 1\n",
    "    else:\n",
    "        frecuencias[numero] = 1\n",
    "\n",
    "    if frecuencias[numero] > frecuencia_maxima:\n",
    "        frecuencia_maxima = frecuencias[numero]\n",
    "        numero_mas_frecuente = numero\n",
    "\n",
    "print(\"El número que aparece con más frecuencia es:\", numero_mas_frecuente)\n",
    "print(\"Las frecuencias de cada número son:\")\n",
    "total = len(y_real_)\n",
    "\n",
    "for numero, frecuencia in frecuencias.items():\n",
    "    print(numero, \"aparece\", frecuencia, \"veces que supone un\", round((frecuencia/total)*100, 2), \"del total\")\n",
    "    "
   ]
  },
  {
   "cell_type": "code",
   "execution_count": 85,
   "id": "fa9ace6b",
   "metadata": {},
   "outputs": [
    {
     "data": {
      "text/plain": [
       "[0.0, 0.3333333333333333, 0.6666666666666667]"
      ]
     },
     "execution_count": 85,
     "metadata": {},
     "output_type": "execute_result"
    }
   ],
   "source": [
    "clases = sorted([sublista[0] for sublista in uniques])\n",
    "clases"
   ]
  },
  {
   "cell_type": "markdown",
   "id": "c0880606",
   "metadata": {},
   "source": [
    "### Ahora tenemos la lista clases, que son nuestras 4 clases para clasificar. Asi que vamos a pasar las clases a string, y vamos a sacar FN, FP, TP, TN"
   ]
  },
  {
   "cell_type": "code",
   "execution_count": 86,
   "id": "342a2d9b",
   "metadata": {},
   "outputs": [],
   "source": [
    "y_real_str = [str(sublista) for sublista in y_real_]\n",
    "y_pred_normalized_str = [str(sublista) for sublista in y_pred_normalized]"
   ]
  },
  {
   "cell_type": "code",
   "execution_count": 87,
   "id": "fc241077",
   "metadata": {},
   "outputs": [
    {
     "name": "stdout",
     "output_type": "stream",
     "text": [
      "Matriz de confusión:\n",
      "[0.0, 0.3333333333333333, 0.6666666666666667]\n",
      "[[0 0 0]\n",
      " [0 0 0]\n",
      " [0 0 0]]\n",
      "Métricas:\n",
      "                    precision    recall  f1-score   support\n",
      "\n",
      "               0.0       0.00      0.00      0.00         3\n",
      "0.3333333333333333       0.25      0.05      0.08        20\n",
      "0.6666666666666667       0.62      1.00      0.77        31\n",
      "\n",
      "         micro avg       0.59      0.59      0.59        54\n",
      "         macro avg       0.29      0.35      0.28        54\n",
      "      weighted avg       0.45      0.59      0.47        54\n",
      "\n"
     ]
    },
    {
     "name": "stderr",
     "output_type": "stream",
     "text": [
      "/Users/sergio/.local/lib/python3.10/site-packages/numpy/lib/arraysetops.py:608: FutureWarning: elementwise comparison failed; returning scalar instead, but in the future will perform elementwise comparison\n",
      "  mask &= (ar1 != a)\n",
      "/Users/sergio/anaconda3/lib/python3.10/site-packages/sklearn/metrics/_classification.py:1344: UndefinedMetricWarning: Precision and F-score are ill-defined and being set to 0.0 in labels with no predicted samples. Use `zero_division` parameter to control this behavior.\n",
      "  _warn_prf(average, modifier, msg_start, len(result))\n",
      "/Users/sergio/.local/lib/python3.10/site-packages/numpy/lib/arraysetops.py:608: FutureWarning: elementwise comparison failed; returning scalar instead, but in the future will perform elementwise comparison\n",
      "  mask &= (ar1 != a)\n",
      "/Users/sergio/.local/lib/python3.10/site-packages/numpy/lib/arraysetops.py:608: FutureWarning: elementwise comparison failed; returning scalar instead, but in the future will perform elementwise comparison\n",
      "  mask &= (ar1 != a)\n",
      "/Users/sergio/anaconda3/lib/python3.10/site-packages/sklearn/metrics/_classification.py:1344: UndefinedMetricWarning: Precision and F-score are ill-defined and being set to 0.0 in labels with no predicted samples. Use `zero_division` parameter to control this behavior.\n",
      "  _warn_prf(average, modifier, msg_start, len(result))\n",
      "/Users/sergio/.local/lib/python3.10/site-packages/numpy/lib/arraysetops.py:608: FutureWarning: elementwise comparison failed; returning scalar instead, but in the future will perform elementwise comparison\n",
      "  mask &= (ar1 != a)\n",
      "/Users/sergio/anaconda3/lib/python3.10/site-packages/sklearn/metrics/_classification.py:1344: UndefinedMetricWarning: Precision and F-score are ill-defined and being set to 0.0 in labels with no predicted samples. Use `zero_division` parameter to control this behavior.\n",
      "  _warn_prf(average, modifier, msg_start, len(result))\n"
     ]
    }
   ],
   "source": [
    "from sklearn.metrics import confusion_matrix, classification_report\n",
    "# Calcular la matriz de confusión\n",
    "cm = confusion_matrix(y_real_str, y_pred_normalized_str, labels=clases)\n",
    "\n",
    "# Imprimir la matriz de confusión\n",
    "print(\"Matriz de confusión:\")\n",
    "print(clases)\n",
    "print(cm)\n",
    "\n",
    "# Imprimir las métricas básicas\n",
    "print(\"Métricas:\")\n",
    "print(classification_report(y_real_str, y_pred_normalized_str, labels=clases))"
   ]
  },
  {
   "cell_type": "code",
   "execution_count": null,
   "id": "923b9101",
   "metadata": {},
   "outputs": [],
   "source": []
  }
 ],
 "metadata": {
  "kernelspec": {
   "display_name": "Python 3 (ipykernel)",
   "language": "python",
   "name": "python3"
  },
  "language_info": {
   "codemirror_mode": {
    "name": "ipython",
    "version": 3
   },
   "file_extension": ".py",
   "mimetype": "text/x-python",
   "name": "python",
   "nbconvert_exporter": "python",
   "pygments_lexer": "ipython3",
   "version": "3.10.9"
  }
 },
 "nbformat": 4,
 "nbformat_minor": 5
}
