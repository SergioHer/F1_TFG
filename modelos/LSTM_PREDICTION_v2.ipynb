{
 "cells": [
  {
   "cell_type": "code",
   "execution_count": 1,
   "id": "32c7e2d9",
   "metadata": {},
   "outputs": [
    {
     "name": "stderr",
     "output_type": "stream",
     "text": [
      "2023-05-03 00:29:03.216476: I tensorflow/core/platform/cpu_feature_guard.cc:182] This TensorFlow binary is optimized to use available CPU instructions in performance-critical operations.\n",
      "To enable the following instructions: AVX2 FMA, in other operations, rebuild TensorFlow with the appropriate compiler flags.\n"
     ]
    }
   ],
   "source": [
    "import numpy as np\n",
    "from tensorflow.keras.models import Sequential\n",
    "from tensorflow.keras.layers import LSTM\n",
    "from tensorflow.keras.layers import Dense, Dropout\n",
    "from tensorflow import keras\n",
    "import pandas as pd\n",
    "from matplotlib import pyplot as plt\n",
    "from sklearn.preprocessing import StandardScaler, MinMaxScaler\n",
    "import seaborn as sns"
   ]
  },
  {
   "cell_type": "code",
   "execution_count": 2,
   "id": "06ab3596",
   "metadata": {},
   "outputs": [],
   "source": [
    "vueltas = pd.read_csv(\"../dataset_todos_pilotos/vueltas_spain_final.csv\")\n",
    "\n",
    "vueltas.drop(['Piloto'], axis = 1, inplace = True)"
   ]
  },
  {
   "cell_type": "code",
   "execution_count": 3,
   "id": "0aa7107a",
   "metadata": {},
   "outputs": [],
   "source": [
    "vueltas_train = vueltas[vueltas['anyo'].isin([2018, 2019, 2020, 2021])]\n",
    "vueltas_test = vueltas[vueltas['anyo'] == 2022]"
   ]
  },
  {
   "cell_type": "code",
   "execution_count": 4,
   "id": "04165c90",
   "metadata": {},
   "outputs": [],
   "source": [
    "#vueltas_test = vueltas_test[vueltas_test['Piloto'] == \"alonso\"]"
   ]
  },
  {
   "cell_type": "code",
   "execution_count": 5,
   "id": "ead79aa4",
   "metadata": {},
   "outputs": [],
   "source": [
    "vueltas_train = vueltas_train.drop(['anyo'], axis=1)\n",
    "vueltas_test = vueltas_test.drop(['anyo'], axis=1)\n",
    "#vueltas_train.drop(['Piloto'], axis = 1, inplace = True)\n",
    "#vueltas_test.drop(['Piloto'], axis = 1, inplace = True)"
   ]
  },
  {
   "cell_type": "code",
   "execution_count": 6,
   "id": "54ff995d",
   "metadata": {},
   "outputs": [],
   "source": [
    "vueltas_train = vueltas_train.astype(float)\n",
    "vueltas_test = vueltas_test.astype(float)"
   ]
  },
  {
   "cell_type": "code",
   "execution_count": 7,
   "id": "4e37a757",
   "metadata": {},
   "outputs": [
    {
     "data": {
      "text/plain": [
       "(1074, 20)"
      ]
     },
     "execution_count": 7,
     "metadata": {},
     "output_type": "execute_result"
    }
   ],
   "source": [
    "vueltas_test.shape"
   ]
  },
  {
   "cell_type": "code",
   "execution_count": 8,
   "id": "1e778c7a",
   "metadata": {},
   "outputs": [],
   "source": [
    "scaler = MinMaxScaler()\n",
    "scaler.fit(vueltas_train)\n",
    "vueltas_train_scaler = scaler.transform(vueltas_train)\n",
    "vueltas_test_scaler = scaler.transform(vueltas_test)\n"
   ]
  },
  {
   "cell_type": "code",
   "execution_count": 9,
   "id": "50785206",
   "metadata": {},
   "outputs": [
    {
     "data": {
      "text/html": [
       "<div>\n",
       "<style scoped>\n",
       "    .dataframe tbody tr th:only-of-type {\n",
       "        vertical-align: middle;\n",
       "    }\n",
       "\n",
       "    .dataframe tbody tr th {\n",
       "        vertical-align: top;\n",
       "    }\n",
       "\n",
       "    .dataframe thead th {\n",
       "        text-align: right;\n",
       "    }\n",
       "</style>\n",
       "<table border=\"1\" class=\"dataframe\">\n",
       "  <thead>\n",
       "    <tr style=\"text-align: right;\">\n",
       "      <th></th>\n",
       "      <th>LapTime</th>\n",
       "      <th>LapNumber</th>\n",
       "      <th>TyreLife</th>\n",
       "      <th>FreshTyre</th>\n",
       "      <th>TrackStatus</th>\n",
       "      <th>Stint</th>\n",
       "      <th>makeStop</th>\n",
       "      <th>AirTemp</th>\n",
       "      <th>Rainfall</th>\n",
       "      <th>Humidity</th>\n",
       "      <th>TrackTemp</th>\n",
       "      <th>posicionActual</th>\n",
       "      <th>tiempoPilotoDelante</th>\n",
       "      <th>tiempoPilotoDetras</th>\n",
       "      <th>posicionSalida</th>\n",
       "      <th>nextPit</th>\n",
       "      <th>compound_HARD</th>\n",
       "      <th>compound_MEDIUM</th>\n",
       "      <th>compound_SOFT</th>\n",
       "      <th>compound_SUPERSOFT</th>\n",
       "    </tr>\n",
       "  </thead>\n",
       "  <tbody>\n",
       "    <tr>\n",
       "      <th>4077</th>\n",
       "      <td>87.509</td>\n",
       "      <td>2.0</td>\n",
       "      <td>5.0</td>\n",
       "      <td>0.0</td>\n",
       "      <td>1.0</td>\n",
       "      <td>1.0</td>\n",
       "      <td>0.0</td>\n",
       "      <td>36.7</td>\n",
       "      <td>0.0</td>\n",
       "      <td>7.0</td>\n",
       "      <td>49.4</td>\n",
       "      <td>2.0</td>\n",
       "      <td>87.627</td>\n",
       "      <td>87.831</td>\n",
       "      <td>2.0</td>\n",
       "      <td>13.0</td>\n",
       "      <td>0.0</td>\n",
       "      <td>0.0</td>\n",
       "      <td>1.0</td>\n",
       "      <td>0.0</td>\n",
       "    </tr>\n",
       "    <tr>\n",
       "      <th>4078</th>\n",
       "      <td>87.574</td>\n",
       "      <td>3.0</td>\n",
       "      <td>6.0</td>\n",
       "      <td>0.0</td>\n",
       "      <td>1.0</td>\n",
       "      <td>1.0</td>\n",
       "      <td>0.0</td>\n",
       "      <td>36.9</td>\n",
       "      <td>0.0</td>\n",
       "      <td>6.0</td>\n",
       "      <td>49.4</td>\n",
       "      <td>2.0</td>\n",
       "      <td>87.198</td>\n",
       "      <td>87.009</td>\n",
       "      <td>2.0</td>\n",
       "      <td>13.0</td>\n",
       "      <td>0.0</td>\n",
       "      <td>0.0</td>\n",
       "      <td>1.0</td>\n",
       "      <td>0.0</td>\n",
       "    </tr>\n",
       "    <tr>\n",
       "      <th>4079</th>\n",
       "      <td>87.601</td>\n",
       "      <td>4.0</td>\n",
       "      <td>7.0</td>\n",
       "      <td>0.0</td>\n",
       "      <td>1.0</td>\n",
       "      <td>1.0</td>\n",
       "      <td>0.0</td>\n",
       "      <td>37.0</td>\n",
       "      <td>0.0</td>\n",
       "      <td>6.0</td>\n",
       "      <td>49.5</td>\n",
       "      <td>2.0</td>\n",
       "      <td>87.671</td>\n",
       "      <td>88.177</td>\n",
       "      <td>2.0</td>\n",
       "      <td>13.0</td>\n",
       "      <td>0.0</td>\n",
       "      <td>0.0</td>\n",
       "      <td>1.0</td>\n",
       "      <td>0.0</td>\n",
       "    </tr>\n",
       "    <tr>\n",
       "      <th>4080</th>\n",
       "      <td>87.937</td>\n",
       "      <td>5.0</td>\n",
       "      <td>8.0</td>\n",
       "      <td>0.0</td>\n",
       "      <td>1.0</td>\n",
       "      <td>1.0</td>\n",
       "      <td>0.0</td>\n",
       "      <td>37.0</td>\n",
       "      <td>0.0</td>\n",
       "      <td>6.0</td>\n",
       "      <td>49.3</td>\n",
       "      <td>2.0</td>\n",
       "      <td>87.891</td>\n",
       "      <td>88.503</td>\n",
       "      <td>2.0</td>\n",
       "      <td>13.0</td>\n",
       "      <td>0.0</td>\n",
       "      <td>0.0</td>\n",
       "      <td>1.0</td>\n",
       "      <td>0.0</td>\n",
       "    </tr>\n",
       "    <tr>\n",
       "      <th>4081</th>\n",
       "      <td>87.761</td>\n",
       "      <td>6.0</td>\n",
       "      <td>9.0</td>\n",
       "      <td>0.0</td>\n",
       "      <td>1.0</td>\n",
       "      <td>1.0</td>\n",
       "      <td>0.0</td>\n",
       "      <td>36.9</td>\n",
       "      <td>0.0</td>\n",
       "      <td>6.0</td>\n",
       "      <td>49.5</td>\n",
       "      <td>2.0</td>\n",
       "      <td>87.427</td>\n",
       "      <td>88.655</td>\n",
       "      <td>2.0</td>\n",
       "      <td>13.0</td>\n",
       "      <td>0.0</td>\n",
       "      <td>0.0</td>\n",
       "      <td>1.0</td>\n",
       "      <td>0.0</td>\n",
       "    </tr>\n",
       "    <tr>\n",
       "      <th>...</th>\n",
       "      <td>...</td>\n",
       "      <td>...</td>\n",
       "      <td>...</td>\n",
       "      <td>...</td>\n",
       "      <td>...</td>\n",
       "      <td>...</td>\n",
       "      <td>...</td>\n",
       "      <td>...</td>\n",
       "      <td>...</td>\n",
       "      <td>...</td>\n",
       "      <td>...</td>\n",
       "      <td>...</td>\n",
       "      <td>...</td>\n",
       "      <td>...</td>\n",
       "      <td>...</td>\n",
       "      <td>...</td>\n",
       "      <td>...</td>\n",
       "      <td>...</td>\n",
       "      <td>...</td>\n",
       "      <td>...</td>\n",
       "    </tr>\n",
       "    <tr>\n",
       "      <th>5146</th>\n",
       "      <td>87.021</td>\n",
       "      <td>23.0</td>\n",
       "      <td>2.0</td>\n",
       "      <td>1.0</td>\n",
       "      <td>1.0</td>\n",
       "      <td>2.0</td>\n",
       "      <td>0.0</td>\n",
       "      <td>37.1</td>\n",
       "      <td>0.0</td>\n",
       "      <td>6.0</td>\n",
       "      <td>49.5</td>\n",
       "      <td>1.0</td>\n",
       "      <td>90.757</td>\n",
       "      <td>88.555</td>\n",
       "      <td>1.0</td>\n",
       "      <td>27.0</td>\n",
       "      <td>0.0</td>\n",
       "      <td>1.0</td>\n",
       "      <td>0.0</td>\n",
       "      <td>0.0</td>\n",
       "    </tr>\n",
       "    <tr>\n",
       "      <th>5147</th>\n",
       "      <td>87.196</td>\n",
       "      <td>24.0</td>\n",
       "      <td>3.0</td>\n",
       "      <td>1.0</td>\n",
       "      <td>1.0</td>\n",
       "      <td>2.0</td>\n",
       "      <td>0.0</td>\n",
       "      <td>37.1</td>\n",
       "      <td>0.0</td>\n",
       "      <td>6.0</td>\n",
       "      <td>49.4</td>\n",
       "      <td>1.0</td>\n",
       "      <td>90.558</td>\n",
       "      <td>89.588</td>\n",
       "      <td>1.0</td>\n",
       "      <td>27.0</td>\n",
       "      <td>0.0</td>\n",
       "      <td>1.0</td>\n",
       "      <td>0.0</td>\n",
       "      <td>0.0</td>\n",
       "    </tr>\n",
       "    <tr>\n",
       "      <th>5148</th>\n",
       "      <td>87.003</td>\n",
       "      <td>25.0</td>\n",
       "      <td>4.0</td>\n",
       "      <td>1.0</td>\n",
       "      <td>1.0</td>\n",
       "      <td>2.0</td>\n",
       "      <td>0.0</td>\n",
       "      <td>37.0</td>\n",
       "      <td>0.0</td>\n",
       "      <td>6.0</td>\n",
       "      <td>49.4</td>\n",
       "      <td>1.0</td>\n",
       "      <td>92.489</td>\n",
       "      <td>88.079</td>\n",
       "      <td>1.0</td>\n",
       "      <td>27.0</td>\n",
       "      <td>0.0</td>\n",
       "      <td>1.0</td>\n",
       "      <td>0.0</td>\n",
       "      <td>0.0</td>\n",
       "    </tr>\n",
       "    <tr>\n",
       "      <th>5149</th>\n",
       "      <td>87.279</td>\n",
       "      <td>26.0</td>\n",
       "      <td>5.0</td>\n",
       "      <td>1.0</td>\n",
       "      <td>1.0</td>\n",
       "      <td>2.0</td>\n",
       "      <td>0.0</td>\n",
       "      <td>37.0</td>\n",
       "      <td>0.0</td>\n",
       "      <td>6.0</td>\n",
       "      <td>49.4</td>\n",
       "      <td>1.0</td>\n",
       "      <td>108.293</td>\n",
       "      <td>88.687</td>\n",
       "      <td>1.0</td>\n",
       "      <td>27.0</td>\n",
       "      <td>0.0</td>\n",
       "      <td>1.0</td>\n",
       "      <td>0.0</td>\n",
       "      <td>0.0</td>\n",
       "    </tr>\n",
       "    <tr>\n",
       "      <th>5150</th>\n",
       "      <td>109.008</td>\n",
       "      <td>27.0</td>\n",
       "      <td>6.0</td>\n",
       "      <td>1.0</td>\n",
       "      <td>1.0</td>\n",
       "      <td>2.0</td>\n",
       "      <td>0.0</td>\n",
       "      <td>37.0</td>\n",
       "      <td>0.0</td>\n",
       "      <td>7.0</td>\n",
       "      <td>49.4</td>\n",
       "      <td>4.0</td>\n",
       "      <td>88.642</td>\n",
       "      <td>88.508</td>\n",
       "      <td>1.0</td>\n",
       "      <td>27.0</td>\n",
       "      <td>0.0</td>\n",
       "      <td>1.0</td>\n",
       "      <td>0.0</td>\n",
       "      <td>0.0</td>\n",
       "    </tr>\n",
       "  </tbody>\n",
       "</table>\n",
       "<p>1074 rows × 20 columns</p>\n",
       "</div>"
      ],
      "text/plain": [
       "      LapTime  LapNumber  TyreLife  FreshTyre  TrackStatus  Stint  makeStop  \\\n",
       "4077   87.509        2.0       5.0        0.0          1.0    1.0       0.0   \n",
       "4078   87.574        3.0       6.0        0.0          1.0    1.0       0.0   \n",
       "4079   87.601        4.0       7.0        0.0          1.0    1.0       0.0   \n",
       "4080   87.937        5.0       8.0        0.0          1.0    1.0       0.0   \n",
       "4081   87.761        6.0       9.0        0.0          1.0    1.0       0.0   \n",
       "...       ...        ...       ...        ...          ...    ...       ...   \n",
       "5146   87.021       23.0       2.0        1.0          1.0    2.0       0.0   \n",
       "5147   87.196       24.0       3.0        1.0          1.0    2.0       0.0   \n",
       "5148   87.003       25.0       4.0        1.0          1.0    2.0       0.0   \n",
       "5149   87.279       26.0       5.0        1.0          1.0    2.0       0.0   \n",
       "5150  109.008       27.0       6.0        1.0          1.0    2.0       0.0   \n",
       "\n",
       "      AirTemp  Rainfall  Humidity  TrackTemp  posicionActual  \\\n",
       "4077     36.7       0.0       7.0       49.4             2.0   \n",
       "4078     36.9       0.0       6.0       49.4             2.0   \n",
       "4079     37.0       0.0       6.0       49.5             2.0   \n",
       "4080     37.0       0.0       6.0       49.3             2.0   \n",
       "4081     36.9       0.0       6.0       49.5             2.0   \n",
       "...       ...       ...       ...        ...             ...   \n",
       "5146     37.1       0.0       6.0       49.5             1.0   \n",
       "5147     37.1       0.0       6.0       49.4             1.0   \n",
       "5148     37.0       0.0       6.0       49.4             1.0   \n",
       "5149     37.0       0.0       6.0       49.4             1.0   \n",
       "5150     37.0       0.0       7.0       49.4             4.0   \n",
       "\n",
       "      tiempoPilotoDelante  tiempoPilotoDetras  posicionSalida  nextPit  \\\n",
       "4077               87.627              87.831             2.0     13.0   \n",
       "4078               87.198              87.009             2.0     13.0   \n",
       "4079               87.671              88.177             2.0     13.0   \n",
       "4080               87.891              88.503             2.0     13.0   \n",
       "4081               87.427              88.655             2.0     13.0   \n",
       "...                   ...                 ...             ...      ...   \n",
       "5146               90.757              88.555             1.0     27.0   \n",
       "5147               90.558              89.588             1.0     27.0   \n",
       "5148               92.489              88.079             1.0     27.0   \n",
       "5149              108.293              88.687             1.0     27.0   \n",
       "5150               88.642              88.508             1.0     27.0   \n",
       "\n",
       "      compound_HARD  compound_MEDIUM  compound_SOFT  compound_SUPERSOFT  \n",
       "4077            0.0              0.0            1.0                 0.0  \n",
       "4078            0.0              0.0            1.0                 0.0  \n",
       "4079            0.0              0.0            1.0                 0.0  \n",
       "4080            0.0              0.0            1.0                 0.0  \n",
       "4081            0.0              0.0            1.0                 0.0  \n",
       "...             ...              ...            ...                 ...  \n",
       "5146            0.0              1.0            0.0                 0.0  \n",
       "5147            0.0              1.0            0.0                 0.0  \n",
       "5148            0.0              1.0            0.0                 0.0  \n",
       "5149            0.0              1.0            0.0                 0.0  \n",
       "5150            0.0              1.0            0.0                 0.0  \n",
       "\n",
       "[1074 rows x 20 columns]"
      ]
     },
     "execution_count": 9,
     "metadata": {},
     "output_type": "execute_result"
    }
   ],
   "source": [
    "vueltas_test"
   ]
  },
  {
   "cell_type": "code",
   "execution_count": 10,
   "id": "3a9e88a6",
   "metadata": {},
   "outputs": [
    {
     "data": {
      "text/plain": [
       "16"
      ]
     },
     "execution_count": 10,
     "metadata": {},
     "output_type": "execute_result"
    }
   ],
   "source": [
    "sum(vueltas_train['Stint'] == 4)"
   ]
  },
  {
   "cell_type": "code",
   "execution_count": 11,
   "id": "e66f7af6",
   "metadata": {},
   "outputs": [],
   "source": [
    "df = pd.DataFrame(vueltas_test_scaler)"
   ]
  },
  {
   "cell_type": "code",
   "execution_count": 12,
   "id": "5908482b",
   "metadata": {},
   "outputs": [
    {
     "data": {
      "text/html": [
       "<div>\n",
       "<style scoped>\n",
       "    .dataframe tbody tr th:only-of-type {\n",
       "        vertical-align: middle;\n",
       "    }\n",
       "\n",
       "    .dataframe tbody tr th {\n",
       "        vertical-align: top;\n",
       "    }\n",
       "\n",
       "    .dataframe thead th {\n",
       "        text-align: right;\n",
       "    }\n",
       "</style>\n",
       "<table border=\"1\" class=\"dataframe\">\n",
       "  <thead>\n",
       "    <tr style=\"text-align: right;\">\n",
       "      <th></th>\n",
       "      <th>0</th>\n",
       "      <th>1</th>\n",
       "      <th>2</th>\n",
       "      <th>3</th>\n",
       "      <th>4</th>\n",
       "      <th>5</th>\n",
       "      <th>6</th>\n",
       "      <th>7</th>\n",
       "      <th>8</th>\n",
       "      <th>9</th>\n",
       "      <th>10</th>\n",
       "      <th>11</th>\n",
       "      <th>12</th>\n",
       "      <th>13</th>\n",
       "      <th>14</th>\n",
       "      <th>15</th>\n",
       "      <th>16</th>\n",
       "      <th>17</th>\n",
       "      <th>18</th>\n",
       "      <th>19</th>\n",
       "    </tr>\n",
       "  </thead>\n",
       "  <tbody>\n",
       "    <tr>\n",
       "      <th>0</th>\n",
       "      <td>0.136404</td>\n",
       "      <td>0.000000</td>\n",
       "      <td>0.088889</td>\n",
       "      <td>0.0</td>\n",
       "      <td>0.0</td>\n",
       "      <td>0.0</td>\n",
       "      <td>0.0</td>\n",
       "      <td>1.397351</td>\n",
       "      <td>0.0</td>\n",
       "      <td>-3.007407</td>\n",
       "      <td>1.009804</td>\n",
       "      <td>0.055556</td>\n",
       "      <td>0.108344</td>\n",
       "      <td>0.110651</td>\n",
       "      <td>0.10</td>\n",
       "      <td>0.116667</td>\n",
       "      <td>0.0</td>\n",
       "      <td>0.0</td>\n",
       "      <td>1.0</td>\n",
       "      <td>0.0</td>\n",
       "    </tr>\n",
       "    <tr>\n",
       "      <th>1</th>\n",
       "      <td>0.137341</td>\n",
       "      <td>0.015873</td>\n",
       "      <td>0.111111</td>\n",
       "      <td>0.0</td>\n",
       "      <td>0.0</td>\n",
       "      <td>0.0</td>\n",
       "      <td>0.0</td>\n",
       "      <td>1.410596</td>\n",
       "      <td>0.0</td>\n",
       "      <td>-3.081481</td>\n",
       "      <td>1.009804</td>\n",
       "      <td>0.055556</td>\n",
       "      <td>0.103493</td>\n",
       "      <td>0.101356</td>\n",
       "      <td>0.10</td>\n",
       "      <td>0.116667</td>\n",
       "      <td>0.0</td>\n",
       "      <td>0.0</td>\n",
       "      <td>1.0</td>\n",
       "      <td>0.0</td>\n",
       "    </tr>\n",
       "    <tr>\n",
       "      <th>2</th>\n",
       "      <td>0.137730</td>\n",
       "      <td>0.031746</td>\n",
       "      <td>0.133333</td>\n",
       "      <td>0.0</td>\n",
       "      <td>0.0</td>\n",
       "      <td>0.0</td>\n",
       "      <td>0.0</td>\n",
       "      <td>1.417219</td>\n",
       "      <td>0.0</td>\n",
       "      <td>-3.081481</td>\n",
       "      <td>1.014706</td>\n",
       "      <td>0.055556</td>\n",
       "      <td>0.108842</td>\n",
       "      <td>0.114564</td>\n",
       "      <td>0.10</td>\n",
       "      <td>0.116667</td>\n",
       "      <td>0.0</td>\n",
       "      <td>0.0</td>\n",
       "      <td>1.0</td>\n",
       "      <td>0.0</td>\n",
       "    </tr>\n",
       "    <tr>\n",
       "      <th>3</th>\n",
       "      <td>0.142573</td>\n",
       "      <td>0.047619</td>\n",
       "      <td>0.155556</td>\n",
       "      <td>0.0</td>\n",
       "      <td>0.0</td>\n",
       "      <td>0.0</td>\n",
       "      <td>0.0</td>\n",
       "      <td>1.417219</td>\n",
       "      <td>0.0</td>\n",
       "      <td>-3.081481</td>\n",
       "      <td>1.004902</td>\n",
       "      <td>0.055556</td>\n",
       "      <td>0.111330</td>\n",
       "      <td>0.118250</td>\n",
       "      <td>0.10</td>\n",
       "      <td>0.116667</td>\n",
       "      <td>0.0</td>\n",
       "      <td>0.0</td>\n",
       "      <td>1.0</td>\n",
       "      <td>0.0</td>\n",
       "    </tr>\n",
       "    <tr>\n",
       "      <th>4</th>\n",
       "      <td>0.140036</td>\n",
       "      <td>0.063492</td>\n",
       "      <td>0.177778</td>\n",
       "      <td>0.0</td>\n",
       "      <td>0.0</td>\n",
       "      <td>0.0</td>\n",
       "      <td>0.0</td>\n",
       "      <td>1.410596</td>\n",
       "      <td>0.0</td>\n",
       "      <td>-3.081481</td>\n",
       "      <td>1.014706</td>\n",
       "      <td>0.055556</td>\n",
       "      <td>0.106083</td>\n",
       "      <td>0.119969</td>\n",
       "      <td>0.10</td>\n",
       "      <td>0.116667</td>\n",
       "      <td>0.0</td>\n",
       "      <td>0.0</td>\n",
       "      <td>1.0</td>\n",
       "      <td>0.0</td>\n",
       "    </tr>\n",
       "    <tr>\n",
       "      <th>...</th>\n",
       "      <td>...</td>\n",
       "      <td>...</td>\n",
       "      <td>...</td>\n",
       "      <td>...</td>\n",
       "      <td>...</td>\n",
       "      <td>...</td>\n",
       "      <td>...</td>\n",
       "      <td>...</td>\n",
       "      <td>...</td>\n",
       "      <td>...</td>\n",
       "      <td>...</td>\n",
       "      <td>...</td>\n",
       "      <td>...</td>\n",
       "      <td>...</td>\n",
       "      <td>...</td>\n",
       "      <td>...</td>\n",
       "      <td>...</td>\n",
       "      <td>...</td>\n",
       "      <td>...</td>\n",
       "      <td>...</td>\n",
       "    </tr>\n",
       "    <tr>\n",
       "      <th>61</th>\n",
       "      <td>0.132022</td>\n",
       "      <td>0.968254</td>\n",
       "      <td>0.400000</td>\n",
       "      <td>1.0</td>\n",
       "      <td>0.0</td>\n",
       "      <td>1.0</td>\n",
       "      <td>0.0</td>\n",
       "      <td>1.384106</td>\n",
       "      <td>0.0</td>\n",
       "      <td>-2.933333</td>\n",
       "      <td>0.941176</td>\n",
       "      <td>0.000000</td>\n",
       "      <td>0.133245</td>\n",
       "      <td>0.092411</td>\n",
       "      <td>0.10</td>\n",
       "      <td>1.000000</td>\n",
       "      <td>0.0</td>\n",
       "      <td>1.0</td>\n",
       "      <td>0.0</td>\n",
       "      <td>0.0</td>\n",
       "    </tr>\n",
       "    <tr>\n",
       "      <th>62</th>\n",
       "      <td>0.134040</td>\n",
       "      <td>0.984127</td>\n",
       "      <td>0.422222</td>\n",
       "      <td>1.0</td>\n",
       "      <td>0.0</td>\n",
       "      <td>1.0</td>\n",
       "      <td>0.0</td>\n",
       "      <td>1.377483</td>\n",
       "      <td>0.0</td>\n",
       "      <td>-2.933333</td>\n",
       "      <td>0.941176</td>\n",
       "      <td>0.000000</td>\n",
       "      <td>0.130576</td>\n",
       "      <td>0.087141</td>\n",
       "      <td>0.10</td>\n",
       "      <td>1.000000</td>\n",
       "      <td>0.0</td>\n",
       "      <td>1.0</td>\n",
       "      <td>0.0</td>\n",
       "      <td>0.0</td>\n",
       "    </tr>\n",
       "    <tr>\n",
       "      <th>63</th>\n",
       "      <td>0.137874</td>\n",
       "      <td>1.000000</td>\n",
       "      <td>0.444444</td>\n",
       "      <td>1.0</td>\n",
       "      <td>0.0</td>\n",
       "      <td>1.0</td>\n",
       "      <td>0.0</td>\n",
       "      <td>1.377483</td>\n",
       "      <td>0.0</td>\n",
       "      <td>-3.007407</td>\n",
       "      <td>0.946078</td>\n",
       "      <td>0.000000</td>\n",
       "      <td>0.124832</td>\n",
       "      <td>0.091031</td>\n",
       "      <td>0.10</td>\n",
       "      <td>1.000000</td>\n",
       "      <td>0.0</td>\n",
       "      <td>1.0</td>\n",
       "      <td>0.0</td>\n",
       "      <td>0.0</td>\n",
       "    </tr>\n",
       "    <tr>\n",
       "      <th>64</th>\n",
       "      <td>0.140468</td>\n",
       "      <td>0.000000</td>\n",
       "      <td>0.088889</td>\n",
       "      <td>0.0</td>\n",
       "      <td>0.0</td>\n",
       "      <td>0.0</td>\n",
       "      <td>0.0</td>\n",
       "      <td>1.397351</td>\n",
       "      <td>0.0</td>\n",
       "      <td>-3.007407</td>\n",
       "      <td>1.009804</td>\n",
       "      <td>0.166667</td>\n",
       "      <td>0.110651</td>\n",
       "      <td>0.117436</td>\n",
       "      <td>0.25</td>\n",
       "      <td>0.183333</td>\n",
       "      <td>0.0</td>\n",
       "      <td>0.0</td>\n",
       "      <td>1.0</td>\n",
       "      <td>0.0</td>\n",
       "    </tr>\n",
       "    <tr>\n",
       "      <th>65</th>\n",
       "      <td>0.142645</td>\n",
       "      <td>0.015873</td>\n",
       "      <td>0.111111</td>\n",
       "      <td>0.0</td>\n",
       "      <td>0.0</td>\n",
       "      <td>0.0</td>\n",
       "      <td>0.0</td>\n",
       "      <td>1.410596</td>\n",
       "      <td>0.0</td>\n",
       "      <td>-3.081481</td>\n",
       "      <td>1.009804</td>\n",
       "      <td>0.166667</td>\n",
       "      <td>0.101356</td>\n",
       "      <td>0.114202</td>\n",
       "      <td>0.25</td>\n",
       "      <td>0.183333</td>\n",
       "      <td>0.0</td>\n",
       "      <td>0.0</td>\n",
       "      <td>1.0</td>\n",
       "      <td>0.0</td>\n",
       "    </tr>\n",
       "  </tbody>\n",
       "</table>\n",
       "<p>66 rows × 20 columns</p>\n",
       "</div>"
      ],
      "text/plain": [
       "          0         1         2    3    4    5    6         7    8         9   \\\n",
       "0   0.136404  0.000000  0.088889  0.0  0.0  0.0  0.0  1.397351  0.0 -3.007407   \n",
       "1   0.137341  0.015873  0.111111  0.0  0.0  0.0  0.0  1.410596  0.0 -3.081481   \n",
       "2   0.137730  0.031746  0.133333  0.0  0.0  0.0  0.0  1.417219  0.0 -3.081481   \n",
       "3   0.142573  0.047619  0.155556  0.0  0.0  0.0  0.0  1.417219  0.0 -3.081481   \n",
       "4   0.140036  0.063492  0.177778  0.0  0.0  0.0  0.0  1.410596  0.0 -3.081481   \n",
       "..       ...       ...       ...  ...  ...  ...  ...       ...  ...       ...   \n",
       "61  0.132022  0.968254  0.400000  1.0  0.0  1.0  0.0  1.384106  0.0 -2.933333   \n",
       "62  0.134040  0.984127  0.422222  1.0  0.0  1.0  0.0  1.377483  0.0 -2.933333   \n",
       "63  0.137874  1.000000  0.444444  1.0  0.0  1.0  0.0  1.377483  0.0 -3.007407   \n",
       "64  0.140468  0.000000  0.088889  0.0  0.0  0.0  0.0  1.397351  0.0 -3.007407   \n",
       "65  0.142645  0.015873  0.111111  0.0  0.0  0.0  0.0  1.410596  0.0 -3.081481   \n",
       "\n",
       "          10        11        12        13    14        15   16   17   18   19  \n",
       "0   1.009804  0.055556  0.108344  0.110651  0.10  0.116667  0.0  0.0  1.0  0.0  \n",
       "1   1.009804  0.055556  0.103493  0.101356  0.10  0.116667  0.0  0.0  1.0  0.0  \n",
       "2   1.014706  0.055556  0.108842  0.114564  0.10  0.116667  0.0  0.0  1.0  0.0  \n",
       "3   1.004902  0.055556  0.111330  0.118250  0.10  0.116667  0.0  0.0  1.0  0.0  \n",
       "4   1.014706  0.055556  0.106083  0.119969  0.10  0.116667  0.0  0.0  1.0  0.0  \n",
       "..       ...       ...       ...       ...   ...       ...  ...  ...  ...  ...  \n",
       "61  0.941176  0.000000  0.133245  0.092411  0.10  1.000000  0.0  1.0  0.0  0.0  \n",
       "62  0.941176  0.000000  0.130576  0.087141  0.10  1.000000  0.0  1.0  0.0  0.0  \n",
       "63  0.946078  0.000000  0.124832  0.091031  0.10  1.000000  0.0  1.0  0.0  0.0  \n",
       "64  1.009804  0.166667  0.110651  0.117436  0.25  0.183333  0.0  0.0  1.0  0.0  \n",
       "65  1.009804  0.166667  0.101356  0.114202  0.25  0.183333  0.0  0.0  1.0  0.0  \n",
       "\n",
       "[66 rows x 20 columns]"
      ]
     },
     "execution_count": 12,
     "metadata": {},
     "output_type": "execute_result"
    }
   ],
   "source": [
    "df[:66]"
   ]
  },
  {
   "cell_type": "code",
   "execution_count": 13,
   "id": "e6b0b3c3",
   "metadata": {},
   "outputs": [
    {
     "data": {
      "text/html": [
       "<div>\n",
       "<style scoped>\n",
       "    .dataframe tbody tr th:only-of-type {\n",
       "        vertical-align: middle;\n",
       "    }\n",
       "\n",
       "    .dataframe tbody tr th {\n",
       "        vertical-align: top;\n",
       "    }\n",
       "\n",
       "    .dataframe thead th {\n",
       "        text-align: right;\n",
       "    }\n",
       "</style>\n",
       "<table border=\"1\" class=\"dataframe\">\n",
       "  <thead>\n",
       "    <tr style=\"text-align: right;\">\n",
       "      <th></th>\n",
       "      <th>LapTime</th>\n",
       "      <th>LapNumber</th>\n",
       "      <th>TyreLife</th>\n",
       "      <th>FreshTyre</th>\n",
       "      <th>TrackStatus</th>\n",
       "      <th>Stint</th>\n",
       "      <th>makeStop</th>\n",
       "      <th>AirTemp</th>\n",
       "      <th>Rainfall</th>\n",
       "      <th>Humidity</th>\n",
       "      <th>TrackTemp</th>\n",
       "      <th>posicionActual</th>\n",
       "      <th>tiempoPilotoDelante</th>\n",
       "      <th>tiempoPilotoDetras</th>\n",
       "      <th>posicionSalida</th>\n",
       "      <th>nextPit</th>\n",
       "      <th>compound_HARD</th>\n",
       "      <th>compound_MEDIUM</th>\n",
       "      <th>compound_SOFT</th>\n",
       "      <th>compound_SUPERSOFT</th>\n",
       "    </tr>\n",
       "  </thead>\n",
       "  <tbody>\n",
       "    <tr>\n",
       "      <th>0</th>\n",
       "      <td>132.826</td>\n",
       "      <td>3.0</td>\n",
       "      <td>4.0</td>\n",
       "      <td>0.0</td>\n",
       "      <td>4.0</td>\n",
       "      <td>1.0</td>\n",
       "      <td>1.0</td>\n",
       "      <td>16.3</td>\n",
       "      <td>1.0</td>\n",
       "      <td>51.0</td>\n",
       "      <td>35.6</td>\n",
       "      <td>1.0</td>\n",
       "      <td>134.646</td>\n",
       "      <td>133.906</td>\n",
       "      <td>1.0</td>\n",
       "      <td>25.0</td>\n",
       "      <td>0.0</td>\n",
       "      <td>0.0</td>\n",
       "      <td>1.0</td>\n",
       "      <td>0.0</td>\n",
       "    </tr>\n",
       "    <tr>\n",
       "      <th>1</th>\n",
       "      <td>128.778</td>\n",
       "      <td>4.0</td>\n",
       "      <td>5.0</td>\n",
       "      <td>0.0</td>\n",
       "      <td>4.0</td>\n",
       "      <td>1.0</td>\n",
       "      <td>0.0</td>\n",
       "      <td>15.9</td>\n",
       "      <td>1.0</td>\n",
       "      <td>52.0</td>\n",
       "      <td>34.0</td>\n",
       "      <td>1.0</td>\n",
       "      <td>133.632</td>\n",
       "      <td>128.681</td>\n",
       "      <td>1.0</td>\n",
       "      <td>25.0</td>\n",
       "      <td>0.0</td>\n",
       "      <td>0.0</td>\n",
       "      <td>1.0</td>\n",
       "      <td>0.0</td>\n",
       "    </tr>\n",
       "    <tr>\n",
       "      <th>2</th>\n",
       "      <td>130.044</td>\n",
       "      <td>5.0</td>\n",
       "      <td>6.0</td>\n",
       "      <td>0.0</td>\n",
       "      <td>4.0</td>\n",
       "      <td>1.0</td>\n",
       "      <td>0.0</td>\n",
       "      <td>16.1</td>\n",
       "      <td>1.0</td>\n",
       "      <td>52.4</td>\n",
       "      <td>36.2</td>\n",
       "      <td>1.0</td>\n",
       "      <td>127.041</td>\n",
       "      <td>129.827</td>\n",
       "      <td>1.0</td>\n",
       "      <td>25.0</td>\n",
       "      <td>0.0</td>\n",
       "      <td>0.0</td>\n",
       "      <td>1.0</td>\n",
       "      <td>0.0</td>\n",
       "    </tr>\n",
       "    <tr>\n",
       "      <th>3</th>\n",
       "      <td>133.088</td>\n",
       "      <td>6.0</td>\n",
       "      <td>7.0</td>\n",
       "      <td>0.0</td>\n",
       "      <td>4.0</td>\n",
       "      <td>1.0</td>\n",
       "      <td>0.0</td>\n",
       "      <td>16.7</td>\n",
       "      <td>0.0</td>\n",
       "      <td>51.5</td>\n",
       "      <td>36.6</td>\n",
       "      <td>1.0</td>\n",
       "      <td>119.521</td>\n",
       "      <td>133.232</td>\n",
       "      <td>1.0</td>\n",
       "      <td>25.0</td>\n",
       "      <td>0.0</td>\n",
       "      <td>0.0</td>\n",
       "      <td>1.0</td>\n",
       "      <td>0.0</td>\n",
       "    </tr>\n",
       "    <tr>\n",
       "      <th>4</th>\n",
       "      <td>82.099</td>\n",
       "      <td>7.0</td>\n",
       "      <td>8.0</td>\n",
       "      <td>0.0</td>\n",
       "      <td>1.0</td>\n",
       "      <td>1.0</td>\n",
       "      <td>0.0</td>\n",
       "      <td>16.4</td>\n",
       "      <td>0.0</td>\n",
       "      <td>50.3</td>\n",
       "      <td>36.7</td>\n",
       "      <td>1.0</td>\n",
       "      <td>90.479</td>\n",
       "      <td>83.604</td>\n",
       "      <td>1.0</td>\n",
       "      <td>25.0</td>\n",
       "      <td>0.0</td>\n",
       "      <td>0.0</td>\n",
       "      <td>1.0</td>\n",
       "      <td>0.0</td>\n",
       "    </tr>\n",
       "    <tr>\n",
       "      <th>...</th>\n",
       "      <td>...</td>\n",
       "      <td>...</td>\n",
       "      <td>...</td>\n",
       "      <td>...</td>\n",
       "      <td>...</td>\n",
       "      <td>...</td>\n",
       "      <td>...</td>\n",
       "      <td>...</td>\n",
       "      <td>...</td>\n",
       "      <td>...</td>\n",
       "      <td>...</td>\n",
       "      <td>...</td>\n",
       "      <td>...</td>\n",
       "      <td>...</td>\n",
       "      <td>...</td>\n",
       "      <td>...</td>\n",
       "      <td>...</td>\n",
       "      <td>...</td>\n",
       "      <td>...</td>\n",
       "      <td>...</td>\n",
       "    </tr>\n",
       "    <tr>\n",
       "      <th>4072</th>\n",
       "      <td>87.714</td>\n",
       "      <td>2.0</td>\n",
       "      <td>2.0</td>\n",
       "      <td>1.0</td>\n",
       "      <td>1.0</td>\n",
       "      <td>1.0</td>\n",
       "      <td>0.0</td>\n",
       "      <td>21.7</td>\n",
       "      <td>0.0</td>\n",
       "      <td>58.0</td>\n",
       "      <td>31.6</td>\n",
       "      <td>17.0</td>\n",
       "      <td>88.135</td>\n",
       "      <td>88.774</td>\n",
       "      <td>16.0</td>\n",
       "      <td>6.0</td>\n",
       "      <td>0.0</td>\n",
       "      <td>0.0</td>\n",
       "      <td>1.0</td>\n",
       "      <td>0.0</td>\n",
       "    </tr>\n",
       "    <tr>\n",
       "      <th>4073</th>\n",
       "      <td>86.076</td>\n",
       "      <td>3.0</td>\n",
       "      <td>3.0</td>\n",
       "      <td>1.0</td>\n",
       "      <td>1.0</td>\n",
       "      <td>1.0</td>\n",
       "      <td>0.0</td>\n",
       "      <td>21.7</td>\n",
       "      <td>0.0</td>\n",
       "      <td>57.9</td>\n",
       "      <td>31.8</td>\n",
       "      <td>17.0</td>\n",
       "      <td>86.736</td>\n",
       "      <td>87.083</td>\n",
       "      <td>16.0</td>\n",
       "      <td>6.0</td>\n",
       "      <td>0.0</td>\n",
       "      <td>0.0</td>\n",
       "      <td>1.0</td>\n",
       "      <td>0.0</td>\n",
       "    </tr>\n",
       "    <tr>\n",
       "      <th>4074</th>\n",
       "      <td>86.189</td>\n",
       "      <td>4.0</td>\n",
       "      <td>4.0</td>\n",
       "      <td>1.0</td>\n",
       "      <td>1.0</td>\n",
       "      <td>1.0</td>\n",
       "      <td>0.0</td>\n",
       "      <td>21.8</td>\n",
       "      <td>0.0</td>\n",
       "      <td>58.5</td>\n",
       "      <td>31.6</td>\n",
       "      <td>17.0</td>\n",
       "      <td>86.209</td>\n",
       "      <td>86.223</td>\n",
       "      <td>16.0</td>\n",
       "      <td>6.0</td>\n",
       "      <td>0.0</td>\n",
       "      <td>0.0</td>\n",
       "      <td>1.0</td>\n",
       "      <td>0.0</td>\n",
       "    </tr>\n",
       "    <tr>\n",
       "      <th>4075</th>\n",
       "      <td>84.825</td>\n",
       "      <td>5.0</td>\n",
       "      <td>5.0</td>\n",
       "      <td>1.0</td>\n",
       "      <td>1.0</td>\n",
       "      <td>1.0</td>\n",
       "      <td>0.0</td>\n",
       "      <td>21.8</td>\n",
       "      <td>0.0</td>\n",
       "      <td>57.9</td>\n",
       "      <td>31.6</td>\n",
       "      <td>16.0</td>\n",
       "      <td>85.571</td>\n",
       "      <td>87.216</td>\n",
       "      <td>16.0</td>\n",
       "      <td>6.0</td>\n",
       "      <td>0.0</td>\n",
       "      <td>0.0</td>\n",
       "      <td>1.0</td>\n",
       "      <td>0.0</td>\n",
       "    </tr>\n",
       "    <tr>\n",
       "      <th>4076</th>\n",
       "      <td>85.148</td>\n",
       "      <td>6.0</td>\n",
       "      <td>6.0</td>\n",
       "      <td>1.0</td>\n",
       "      <td>1.0</td>\n",
       "      <td>1.0</td>\n",
       "      <td>0.0</td>\n",
       "      <td>21.7</td>\n",
       "      <td>0.0</td>\n",
       "      <td>58.1</td>\n",
       "      <td>31.4</td>\n",
       "      <td>16.0</td>\n",
       "      <td>85.437</td>\n",
       "      <td>86.032</td>\n",
       "      <td>16.0</td>\n",
       "      <td>6.0</td>\n",
       "      <td>0.0</td>\n",
       "      <td>0.0</td>\n",
       "      <td>1.0</td>\n",
       "      <td>0.0</td>\n",
       "    </tr>\n",
       "  </tbody>\n",
       "</table>\n",
       "<p>4077 rows × 20 columns</p>\n",
       "</div>"
      ],
      "text/plain": [
       "      LapTime  LapNumber  TyreLife  FreshTyre  TrackStatus  Stint  makeStop  \\\n",
       "0     132.826        3.0       4.0        0.0          4.0    1.0       1.0   \n",
       "1     128.778        4.0       5.0        0.0          4.0    1.0       0.0   \n",
       "2     130.044        5.0       6.0        0.0          4.0    1.0       0.0   \n",
       "3     133.088        6.0       7.0        0.0          4.0    1.0       0.0   \n",
       "4      82.099        7.0       8.0        0.0          1.0    1.0       0.0   \n",
       "...       ...        ...       ...        ...          ...    ...       ...   \n",
       "4072   87.714        2.0       2.0        1.0          1.0    1.0       0.0   \n",
       "4073   86.076        3.0       3.0        1.0          1.0    1.0       0.0   \n",
       "4074   86.189        4.0       4.0        1.0          1.0    1.0       0.0   \n",
       "4075   84.825        5.0       5.0        1.0          1.0    1.0       0.0   \n",
       "4076   85.148        6.0       6.0        1.0          1.0    1.0       0.0   \n",
       "\n",
       "      AirTemp  Rainfall  Humidity  TrackTemp  posicionActual  \\\n",
       "0        16.3       1.0      51.0       35.6             1.0   \n",
       "1        15.9       1.0      52.0       34.0             1.0   \n",
       "2        16.1       1.0      52.4       36.2             1.0   \n",
       "3        16.7       0.0      51.5       36.6             1.0   \n",
       "4        16.4       0.0      50.3       36.7             1.0   \n",
       "...       ...       ...       ...        ...             ...   \n",
       "4072     21.7       0.0      58.0       31.6            17.0   \n",
       "4073     21.7       0.0      57.9       31.8            17.0   \n",
       "4074     21.8       0.0      58.5       31.6            17.0   \n",
       "4075     21.8       0.0      57.9       31.6            16.0   \n",
       "4076     21.7       0.0      58.1       31.4            16.0   \n",
       "\n",
       "      tiempoPilotoDelante  tiempoPilotoDetras  posicionSalida  nextPit  \\\n",
       "0                 134.646             133.906             1.0     25.0   \n",
       "1                 133.632             128.681             1.0     25.0   \n",
       "2                 127.041             129.827             1.0     25.0   \n",
       "3                 119.521             133.232             1.0     25.0   \n",
       "4                  90.479              83.604             1.0     25.0   \n",
       "...                   ...                 ...             ...      ...   \n",
       "4072               88.135              88.774            16.0      6.0   \n",
       "4073               86.736              87.083            16.0      6.0   \n",
       "4074               86.209              86.223            16.0      6.0   \n",
       "4075               85.571              87.216            16.0      6.0   \n",
       "4076               85.437              86.032            16.0      6.0   \n",
       "\n",
       "      compound_HARD  compound_MEDIUM  compound_SOFT  compound_SUPERSOFT  \n",
       "0               0.0              0.0            1.0                 0.0  \n",
       "1               0.0              0.0            1.0                 0.0  \n",
       "2               0.0              0.0            1.0                 0.0  \n",
       "3               0.0              0.0            1.0                 0.0  \n",
       "4               0.0              0.0            1.0                 0.0  \n",
       "...             ...              ...            ...                 ...  \n",
       "4072            0.0              0.0            1.0                 0.0  \n",
       "4073            0.0              0.0            1.0                 0.0  \n",
       "4074            0.0              0.0            1.0                 0.0  \n",
       "4075            0.0              0.0            1.0                 0.0  \n",
       "4076            0.0              0.0            1.0                 0.0  \n",
       "\n",
       "[4077 rows x 20 columns]"
      ]
     },
     "execution_count": 13,
     "metadata": {},
     "output_type": "execute_result"
    }
   ],
   "source": [
    "vueltas_train"
   ]
  },
  {
   "cell_type": "code",
   "execution_count": 14,
   "id": "ca9b67f2",
   "metadata": {},
   "outputs": [],
   "source": [
    "trainX = []\n",
    "trainY = []\n",
    "testX = []\n",
    "testY = []\n",
    "loopback = 10 # Esto es el numero de muestras que usara en el pasado \n",
    "future = 1 # Esto es el numero de hechos futuros que usará como salida a las 10 muestras del pasado\n",
    "\n",
    "for i in range (loopback, len(vueltas_train_scaler) -future +1):\n",
    "    trainX.append(vueltas_train_scaler[i-loopback:i, 0:vueltas_train.shape[1]])\n",
    "    trainY.append(vueltas_train_scaler[i + future - 1:i + future, 5])\n",
    "    #print(vueltas_train_scaler[i + future - 1:i + future, 5])\n",
    "    \n",
    "for i in range (loopback, len(vueltas_test_scaler) -future +1):\n",
    "    testX.append(vueltas_test_scaler[i-loopback:i, 0:vueltas_test.shape[1]])\n",
    "    testY.append(vueltas_test_scaler[i + future - 1:i + future,5\n",
    "                                    ])\n",
    "\n"
   ]
  },
  {
   "cell_type": "code",
   "execution_count": 15,
   "id": "9e056980",
   "metadata": {},
   "outputs": [],
   "source": [
    "trainX, trainY, testX, testY = np.array(trainX), np.array(trainY), np.array(testX), np.array(testY)"
   ]
  },
  {
   "cell_type": "code",
   "execution_count": 16,
   "id": "9822d371",
   "metadata": {},
   "outputs": [],
   "source": [
    "trainYOriginal = trainY"
   ]
  },
  {
   "cell_type": "code",
   "execution_count": 17,
   "id": "50137dda",
   "metadata": {},
   "outputs": [
    {
     "data": {
      "text/plain": [
       "(4067, 10, 20)"
      ]
     },
     "execution_count": 17,
     "metadata": {},
     "output_type": "execute_result"
    }
   ],
   "source": [
    "trainX.shape"
   ]
  },
  {
   "cell_type": "code",
   "execution_count": 18,
   "id": "d4496cbc",
   "metadata": {},
   "outputs": [
    {
     "data": {
      "text/plain": [
       "(4067, 1)"
      ]
     },
     "execution_count": 18,
     "metadata": {},
     "output_type": "execute_result"
    }
   ],
   "source": [
    "trainY.shape"
   ]
  },
  {
   "cell_type": "code",
   "execution_count": 19,
   "id": "d0fe2534",
   "metadata": {},
   "outputs": [
    {
     "data": {
      "text/plain": [
       "(1064, 10, 20)"
      ]
     },
     "execution_count": 19,
     "metadata": {},
     "output_type": "execute_result"
    }
   ],
   "source": [
    "testX.shape"
   ]
  },
  {
   "cell_type": "code",
   "execution_count": 20,
   "id": "6540a1f3",
   "metadata": {},
   "outputs": [
    {
     "data": {
      "text/plain": [
       "(1064, 1)"
      ]
     },
     "execution_count": 20,
     "metadata": {},
     "output_type": "execute_result"
    }
   ],
   "source": [
    "testY.shape"
   ]
  },
  {
   "cell_type": "code",
   "execution_count": 67,
   "id": "ff0fec0e",
   "metadata": {},
   "outputs": [
    {
     "name": "stdout",
     "output_type": "stream",
     "text": [
      "Model: \"sequential_2\"\n",
      "_________________________________________________________________\n",
      " Layer (type)                Output Shape              Param #   \n",
      "=================================================================\n",
      " lstm_4 (LSTM)               (None, 10, 256)           283648    \n",
      "                                                                 \n",
      " dropout_4 (Dropout)         (None, 10, 256)           0         \n",
      "                                                                 \n",
      " lstm_5 (LSTM)               (None, 10, 128)           197120    \n",
      "                                                                 \n",
      " dropout_5 (Dropout)         (None, 10, 128)           0         \n",
      "                                                                 \n",
      " lstm_6 (LSTM)               (None, 64)                49408     \n",
      "                                                                 \n",
      " dropout_6 (Dropout)         (None, 64)                0         \n",
      "                                                                 \n",
      " dense_2 (Dense)             (None, 1)                 65        \n",
      "                                                                 \n",
      "=================================================================\n",
      "Total params: 530,241\n",
      "Trainable params: 530,241\n",
      "Non-trainable params: 0\n",
      "_________________________________________________________________\n"
     ]
    }
   ],
   "source": [
    "model = Sequential()\n",
    "model.add(LSTM(256, activation='relu', input_shape=(trainX.shape[1], trainX.shape[2]), return_sequences=True))\n",
    "model.add(Dropout(0.2))\n",
    "model.add(LSTM(128, activation='relu', return_sequences=True))\n",
    "model.add(Dropout(0.2))\n",
    "model.add(LSTM(64, activation='relu', return_sequences=False))\n",
    "model.add(Dropout(0.2))\n",
    "model.add(Dense(trainY.shape[1]))\n",
    "model.compile(optimizer=\"adam\", loss= \"mse\") ##Cambiar esto para la siguiente reunion (positivo 1, negativo 0)\n",
    "model.summary()"
   ]
  },
  {
   "cell_type": "code",
   "execution_count": 68,
   "id": "5596f13d",
   "metadata": {},
   "outputs": [
    {
     "name": "stdout",
     "output_type": "stream",
     "text": [
      "Epoch 1/12\n",
      "64/64 [==============================] - 8s 60ms/step - loss: 0.0484\n",
      "Epoch 2/12\n",
      "64/64 [==============================] - 4s 56ms/step - loss: 0.0213\n",
      "Epoch 3/12\n",
      "64/64 [==============================] - 4s 60ms/step - loss: 0.0157\n",
      "Epoch 4/12\n",
      "64/64 [==============================] - 4s 64ms/step - loss: 0.0128\n",
      "Epoch 5/12\n",
      "64/64 [==============================] - 4s 63ms/step - loss: 0.0117\n",
      "Epoch 6/12\n",
      "64/64 [==============================] - 4s 60ms/step - loss: 0.0117\n",
      "Epoch 7/12\n",
      "64/64 [==============================] - 4s 58ms/step - loss: 0.0108\n",
      "Epoch 8/12\n",
      "64/64 [==============================] - 4s 60ms/step - loss: 0.0104\n",
      "Epoch 9/12\n",
      "64/64 [==============================] - 4s 58ms/step - loss: 0.0098\n",
      "Epoch 10/12\n",
      "64/64 [==============================] - 4s 57ms/step - loss: 0.0102\n",
      "Epoch 11/12\n",
      "64/64 [==============================] - 4s 61ms/step - loss: 0.0088\n",
      "Epoch 12/12\n",
      "64/64 [==============================] - 4s 62ms/step - loss: 0.0095\n"
     ]
    },
    {
     "ename": "KeyError",
     "evalue": "'val_loss'",
     "output_type": "error",
     "traceback": [
      "\u001b[0;31m---------------------------------------------------------------------------\u001b[0m",
      "\u001b[0;31mKeyError\u001b[0m                                  Traceback (most recent call last)",
      "Cell \u001b[0;32mIn[68], line 4\u001b[0m\n\u001b[1;32m      1\u001b[0m history \u001b[38;5;241m=\u001b[39m model\u001b[38;5;241m.\u001b[39mfit(trainX, trainY, epochs\u001b[38;5;241m=\u001b[39m\u001b[38;5;241m12\u001b[39m, batch_size\u001b[38;5;241m=\u001b[39m\u001b[38;5;241m64\u001b[39m, validation_split\u001b[38;5;241m=\u001b[39m\u001b[38;5;241m0.0\u001b[39m, verbose\u001b[38;5;241m=\u001b[39m\u001b[38;5;241m1\u001b[39m)\n\u001b[1;32m      3\u001b[0m plt\u001b[38;5;241m.\u001b[39mplot(history\u001b[38;5;241m.\u001b[39mhistory[\u001b[38;5;124m'\u001b[39m\u001b[38;5;124mloss\u001b[39m\u001b[38;5;124m'\u001b[39m], label\u001b[38;5;241m=\u001b[39m\u001b[38;5;124m'\u001b[39m\u001b[38;5;124mTraining loss\u001b[39m\u001b[38;5;124m'\u001b[39m)\n\u001b[0;32m----> 4\u001b[0m plt\u001b[38;5;241m.\u001b[39mplot(\u001b[43mhistory\u001b[49m\u001b[38;5;241;43m.\u001b[39;49m\u001b[43mhistory\u001b[49m\u001b[43m[\u001b[49m\u001b[38;5;124;43m'\u001b[39;49m\u001b[38;5;124;43mval_loss\u001b[39;49m\u001b[38;5;124;43m'\u001b[39;49m\u001b[43m]\u001b[49m, label\u001b[38;5;241m=\u001b[39m\u001b[38;5;124m'\u001b[39m\u001b[38;5;124mValidation loss\u001b[39m\u001b[38;5;124m'\u001b[39m)\n\u001b[1;32m      5\u001b[0m plt\u001b[38;5;241m.\u001b[39mlegend()\n",
      "\u001b[0;31mKeyError\u001b[0m: 'val_loss'"
     ]
    },
    {
     "data": {
      "image/png": "[encoded data removed]",
      "text/plain": [
       "<Figure size 640x480 with 1 Axes>"
      ]
     },
     "metadata": {},
     "output_type": "display_data"
    }
   ],
   "source": [
    "history = model.fit(trainX, trainY, epochs=12, batch_size=64, validation_split=0.0, verbose=1)\n",
    "\n",
    "plt.plot(history.history['loss'], label='Training loss')\n",
    "plt.plot(history.history['val_loss'], label='Validation loss')\n",
    "plt.legend()"
   ]
  },
  {
   "cell_type": "code",
   "execution_count": 69,
   "id": "bb4091b2",
   "metadata": {},
   "outputs": [
    {
     "name": "stdout",
     "output_type": "stream",
     "text": [
      "1/1 [==============================] - 0s 382ms/step\n"
     ]
    },
    {
     "data": {
      "text/plain": [
       "array([[0.60869706]], dtype=float32)"
      ]
     },
     "execution_count": 69,
     "metadata": {},
     "output_type": "execute_result"
    }
   ],
   "source": [
    "prediction = model.predict(testX[100:101]) \n",
    "prediction"
   ]
  },
  {
   "cell_type": "code",
   "execution_count": 70,
   "id": "5b7e6296",
   "metadata": {},
   "outputs": [
    {
     "data": {
      "text/plain": [
       "array([0.66666667])"
      ]
     },
     "execution_count": 70,
     "metadata": {},
     "output_type": "execute_result"
    }
   ],
   "source": [
    "testY[100]"
   ]
  },
  {
   "cell_type": "markdown",
   "id": "0e3ad311",
   "metadata": {},
   "source": [
    "### Sacar métricas de lo que falla. Con el unique, ver a cual se acerca más. Sacar matrix_confusion, con este modelo."
   ]
  },
  {
   "cell_type": "markdown",
   "id": "d98c6fc8",
   "metadata": {},
   "source": [
    "### Ahora vamos a sacar todas las Y^ y todas las y."
   ]
  },
  {
   "cell_type": "code",
   "execution_count": 71,
   "id": "5ed6ed53",
   "metadata": {},
   "outputs": [],
   "source": [
    "y_real = testY.tolist()"
   ]
  },
  {
   "cell_type": "code",
   "execution_count": 72,
   "id": "62e9745c",
   "metadata": {},
   "outputs": [
    {
     "data": {
      "text/plain": [
       "'\\ny_pred = []\\nfor i in range (0, len(y_real)):\\n    prediction = model.predict(testX[i:i+1])     \\n    valor = prediction[0][0].item()\\n    y_pred.append(valor)\\n'"
      ]
     },
     "execution_count": 72,
     "metadata": {},
     "output_type": "execute_result"
    }
   ],
   "source": [
    "\"\"\"\n",
    "y_pred = []\n",
    "for i in range (0, len(y_real)):\n",
    "    prediction = model.predict(testX[i:i+1])     \n",
    "    valor = prediction[0][0].item()\n",
    "    y_pred.append(valor)\n",
    "\"\"\""
   ]
  },
  {
   "cell_type": "code",
   "execution_count": 73,
   "id": "2e198766",
   "metadata": {
    "scrolled": true
   },
   "outputs": [
    {
     "name": "stdout",
     "output_type": "stream",
     "text": [
      "34/34 [==============================] - 0s 13ms/step\n"
     ]
    }
   ],
   "source": [
    "#Predecimos con los datos de entrenamiento, solo queremos sacar los puntos\n",
    "predictions = model.predict(testX)\n"
   ]
  },
  {
   "cell_type": "code",
   "execution_count": 74,
   "id": "e2607646",
   "metadata": {},
   "outputs": [
    {
     "data": {
      "text/plain": [
       "array([0.60869706], dtype=float32)"
      ]
     },
     "execution_count": 74,
     "metadata": {},
     "output_type": "execute_result"
    }
   ],
   "source": [
    "predictions[100]"
   ]
  },
  {
   "cell_type": "code",
   "execution_count": 75,
   "id": "561c10c7",
   "metadata": {},
   "outputs": [
    {
     "data": {
      "text/plain": [
       "array([0.        , 0.33333333, 0.66666667, 1.        ])"
      ]
     },
     "execution_count": 75,
     "metadata": {},
     "output_type": "execute_result"
    }
   ],
   "source": [
    "clases = np.unique(trainY[:,0])\n",
    "clases"
   ]
  },
  {
   "cell_type": "markdown",
   "id": "6e4e98fc",
   "metadata": {},
   "source": [
    "### Vamos a sacar los puntos que mejor separan las clases, y para ello vamos a usar una regresion logistica"
   ]
  },
  {
   "cell_type": "code",
   "execution_count": null,
   "id": "48793fc2",
   "metadata": {},
   "outputs": [],
   "source": []
  },
  {
   "cell_type": "code",
   "execution_count": 31,
   "id": "496663fb",
   "metadata": {},
   "outputs": [],
   "source": [
    "puntos = []"
   ]
  },
  {
   "cell_type": "code",
   "execution_count": 398,
   "id": "1bfa930f",
   "metadata": {},
   "outputs": [
    {
     "name": "stdout",
     "output_type": "stream",
     "text": [
      "[[0.50432424]]\n"
     ]
    },
    {
     "name": "stderr",
     "output_type": "stream",
     "text": [
      "/Users/sergio/anaconda3/lib/python3.10/site-packages/sklearn/utils/validation.py:1143: DataConversionWarning: A column-vector y was passed when a 1d array was expected. Please change the shape of y to (n_samples, ), for example using ravel().\n",
      "  y = column_or_1d(y, warn=True)\n"
     ]
    }
   ],
   "source": [
    "from sklearn.linear_model import LogisticRegression\n",
    "##Este calcula el punto entre la clase 2 y la 3\n",
    "index0 = np.logical_or(trainY[:,0] == clases[0],trainY[:,0] == clases[1] )\n",
    "index1 = np.logical_or(trainY[:,0] == clases[2],trainY[:,0] == clases[3] )\n",
    "trainY[index0] = 0\n",
    "trainY[index1] = 1\n",
    "\n",
    "predictions = np.squeeze(predictions)\n",
    "predictions = predictions.reshape(-1,1)\n",
    "predictions.shape\n",
    "\n",
    "trainY = np.squeeze(trainY)\n",
    "trainY = trainY.reshape(-1,1)\n",
    "trainY.shape\n",
    "\n",
    "rl = LogisticRegression(random_state=0).fit(predictions, trainY)\n",
    "punto = -rl.intercept_/rl.coef_\n",
    "print(punto)\n",
    "puntos.append(punto)"
   ]
  },
  {
   "cell_type": "code",
   "execution_count": 401,
   "id": "e62ddf50",
   "metadata": {},
   "outputs": [
    {
     "name": "stdout",
     "output_type": "stream",
     "text": [
      "[[0.18204395]]\n"
     ]
    },
    {
     "name": "stderr",
     "output_type": "stream",
     "text": [
      "/Users/sergio/anaconda3/lib/python3.10/site-packages/sklearn/utils/validation.py:1143: DataConversionWarning: A column-vector y was passed when a 1d array was expected. Please change the shape of y to (n_samples, ), for example using ravel().\n",
      "  y = column_or_1d(y, warn=True)\n"
     ]
    }
   ],
   "source": [
    "##Este calcula el punto entre la clase 1 y la 2\n",
    "index0 = trainY[:,0] == clases[0]\n",
    "index1 = np.logical_or(trainY[:,0] == clases[1],trainY[:,0] == clases[2], trainY[:,0] == clases[3])\n",
    "trainY[index0] = 1\n",
    "trainY[index1] = 0\n",
    "\n",
    "predictions = np.squeeze(predictions)\n",
    "predictions = predictions.reshape(-1,1)\n",
    "predictions.shape\n",
    "\n",
    "trainY = np.squeeze(trainY)\n",
    "trainY = trainY.reshape(-1,1)\n",
    "trainY.shape\n",
    "\n",
    "rl = LogisticRegression(random_state=0).fit(predictions, trainY)\n",
    "punto = -rl.intercept_/rl.coef_\n",
    "print(punto)\n"
   ]
  },
  {
   "cell_type": "code",
   "execution_count": 419,
   "id": "30ea6223",
   "metadata": {},
   "outputs": [
    {
     "data": {
      "text/plain": [
       "1.0"
      ]
     },
     "execution_count": 419,
     "metadata": {},
     "output_type": "execute_result"
    }
   ],
   "source": [
    "clases[3]"
   ]
  },
  {
   "cell_type": "code",
   "execution_count": null,
   "id": "9cdbf541",
   "metadata": {},
   "outputs": [],
   "source": []
  },
  {
   "cell_type": "code",
   "execution_count": 430,
   "id": "b651e172",
   "metadata": {},
   "outputs": [
    {
     "name": "stdout",
     "output_type": "stream",
     "text": [
      "[[1.52959326]]\n"
     ]
    },
    {
     "name": "stderr",
     "output_type": "stream",
     "text": [
      "/Users/sergio/anaconda3/lib/python3.10/site-packages/sklearn/utils/validation.py:1143: DataConversionWarning: A column-vector y was passed when a 1d array was expected. Please change the shape of y to (n_samples, ), for example using ravel().\n",
      "  y = column_or_1d(y, warn=True)\n"
     ]
    }
   ],
   "source": [
    "index0 = trainY[:,0] != clases[3]\n",
    "index1 = trainY[:,0] == clases[3]\n",
    "trainY[index0] = 0\n",
    "trainY[index1] = 1\n",
    "\n",
    "predictions = np.squeeze(predictions)\n",
    "predictions = predictions.reshape(-1,1)\n",
    "\n",
    "trainY = np.squeeze(trainY)\n",
    "trainY = trainY.reshape(-1,1)\n",
    "\n",
    "rl = LogisticRegression(random_state=0).fit(predictions, trainY)\n",
    "punto = -rl.intercept_/rl.coef_\n",
    "print(punto)\n"
   ]
  },
  {
   "cell_type": "code",
   "execution_count": 368,
   "id": "0a2c51fe",
   "metadata": {},
   "outputs": [],
   "source": [
    "puntos = [0.18204395,0.50432424, 0.67542743]"
   ]
  },
  {
   "cell_type": "code",
   "execution_count": 76,
   "id": "2a228c26",
   "metadata": {},
   "outputs": [],
   "source": [
    "y_pred_2 = predictions[:,0].tolist()"
   ]
  },
  {
   "cell_type": "code",
   "execution_count": 50,
   "id": "ea619356",
   "metadata": {},
   "outputs": [
    {
     "data": {
      "text/plain": [
       "False"
      ]
     },
     "execution_count": 50,
     "metadata": {},
     "output_type": "execute_result"
    }
   ],
   "source": [
    "all([round(x,4) == round(y,4) for x, y in zip(y_pred, y_pred_2)])"
   ]
  },
  {
   "cell_type": "code",
   "execution_count": 77,
   "id": "139b3ecd",
   "metadata": {},
   "outputs": [],
   "source": [
    "y_pred = y_pred_2"
   ]
  },
  {
   "cell_type": "code",
   "execution_count": 78,
   "id": "b69cc69f",
   "metadata": {},
   "outputs": [
    {
     "name": "stdout",
     "output_type": "stream",
     "text": [
      "1064 1064\n"
     ]
    }
   ],
   "source": [
    "print(len(y_real), len(y_pred))"
   ]
  },
  {
   "cell_type": "code",
   "execution_count": 79,
   "id": "17a4f849",
   "metadata": {},
   "outputs": [],
   "source": [
    "uniques = set(tuple(x) for x in y_real)\n",
    "uniques = [list(x) for x in uniques]"
   ]
  },
  {
   "cell_type": "code",
   "execution_count": 80,
   "id": "e695cd8c",
   "metadata": {},
   "outputs": [
    {
     "data": {
      "text/plain": [
       "[[0.0], [1.0], [0.6666666666666667], [0.3333333333333333]]"
      ]
     },
     "execution_count": 80,
     "metadata": {},
     "output_type": "execute_result"
    }
   ],
   "source": [
    "uniques"
   ]
  },
  {
   "cell_type": "code",
   "execution_count": 81,
   "id": "9f5f81a5",
   "metadata": {
    "scrolled": false
   },
   "outputs": [
    {
     "ename": "IndexError",
     "evalue": "list index out of range",
     "output_type": "error",
     "traceback": [
      "\u001b[0;31m---------------------------------------------------------------------------\u001b[0m",
      "\u001b[0;31mIndexError\u001b[0m                                Traceback (most recent call last)",
      "Cell \u001b[0;32mIn[81], line 4\u001b[0m\n\u001b[1;32m      2\u001b[0m y_pred_normalized \u001b[38;5;241m=\u001b[39m []\n\u001b[1;32m      3\u001b[0m \u001b[38;5;28;01mfor\u001b[39;00m val \u001b[38;5;129;01min\u001b[39;00m y_pred:\n\u001b[0;32m----> 4\u001b[0m     \u001b[38;5;28;01mif\u001b[39;00m (val\u001b[38;5;241m<\u001b[39m\u001b[43mpuntos\u001b[49m\u001b[43m[\u001b[49m\u001b[38;5;241;43m0\u001b[39;49m\u001b[43m]\u001b[49m):\n\u001b[1;32m      5\u001b[0m         y_pred_normalized\u001b[38;5;241m.\u001b[39mappend(uniques[\u001b[38;5;241m0\u001b[39m][\u001b[38;5;241m0\u001b[39m])\n\u001b[1;32m      6\u001b[0m     \u001b[38;5;28;01mif\u001b[39;00m (val\u001b[38;5;241m>\u001b[39m\u001b[38;5;241m=\u001b[39mpuntos[\u001b[38;5;241m0\u001b[39m] \u001b[38;5;129;01mand\u001b[39;00m val\u001b[38;5;241m<\u001b[39mpuntos[\u001b[38;5;241m1\u001b[39m]):\n",
      "\u001b[0;31mIndexError\u001b[0m: list index out of range"
     ]
    }
   ],
   "source": [
    "#Esto es cogiendo el punto medio entre las dos clases\n",
    "y_pred_normalized = []\n",
    "for val in y_pred:\n",
    "    if (val<puntos[0]):\n",
    "        y_pred_normalized.append(uniques[0][0])\n",
    "    if (val>=puntos[0] and val<puntos[1]):\n",
    "        y_pred_normalized.append(uniques[3][0])\n",
    "    if (val>=puntos[1] and val<puntos[2]):\n",
    "        y_pred_normalized.append(uniques[3][0])\n",
    "    if (val>=puntos[2]):\n",
    "        y_pred_normalized.append(uniques[2][0])\n"
   ]
  },
  {
   "cell_type": "code",
   "execution_count": 82,
   "id": "a154a021",
   "metadata": {},
   "outputs": [
    {
     "ename": "IndexError",
     "evalue": "list index out of range",
     "output_type": "error",
     "traceback": [
      "\u001b[0;31m---------------------------------------------------------------------------\u001b[0m",
      "\u001b[0;31mIndexError\u001b[0m                                Traceback (most recent call last)",
      "Cell \u001b[0;32mIn[82], line 4\u001b[0m\n\u001b[1;32m      2\u001b[0m y_pred_normalized \u001b[38;5;241m=\u001b[39m []\n\u001b[1;32m      3\u001b[0m \u001b[38;5;28;01mfor\u001b[39;00m val \u001b[38;5;129;01min\u001b[39;00m y_pred:\n\u001b[0;32m----> 4\u001b[0m     dist \u001b[38;5;241m=\u001b[39m [\u001b[38;5;28mabs\u001b[39m(val\u001b[38;5;241m-\u001b[39mx[\u001b[38;5;241m0\u001b[39m]) \u001b[38;5;28;01mif\u001b[39;00m x[\u001b[38;5;241m0\u001b[39m] \u001b[38;5;241m!=\u001b[39m \u001b[38;5;241m1\u001b[39m \u001b[38;5;28;01melse\u001b[39;00m \u001b[38;5;28mabs\u001b[39m(val\u001b[38;5;241m-\u001b[39mpuntos[\u001b[38;5;241m2\u001b[39m]) \u001b[38;5;28;01mfor\u001b[39;00m x \u001b[38;5;129;01min\u001b[39;00m uniques]\n\u001b[1;32m      5\u001b[0m     closest_val \u001b[38;5;241m=\u001b[39m uniques[np\u001b[38;5;241m.\u001b[39margmin(dist)][\u001b[38;5;241m0\u001b[39m]\n\u001b[1;32m      6\u001b[0m     y_pred_normalized\u001b[38;5;241m.\u001b[39mappend(closest_val)\n",
      "Cell \u001b[0;32mIn[82], line 4\u001b[0m, in \u001b[0;36m<listcomp>\u001b[0;34m(.0)\u001b[0m\n\u001b[1;32m      2\u001b[0m y_pred_normalized \u001b[38;5;241m=\u001b[39m []\n\u001b[1;32m      3\u001b[0m \u001b[38;5;28;01mfor\u001b[39;00m val \u001b[38;5;129;01min\u001b[39;00m y_pred:\n\u001b[0;32m----> 4\u001b[0m     dist \u001b[38;5;241m=\u001b[39m [\u001b[38;5;28mabs\u001b[39m(val\u001b[38;5;241m-\u001b[39mx[\u001b[38;5;241m0\u001b[39m]) \u001b[38;5;28;01mif\u001b[39;00m x[\u001b[38;5;241m0\u001b[39m] \u001b[38;5;241m!=\u001b[39m \u001b[38;5;241m1\u001b[39m \u001b[38;5;28;01melse\u001b[39;00m \u001b[38;5;28mabs\u001b[39m(val\u001b[38;5;241m-\u001b[39m\u001b[43mpuntos\u001b[49m\u001b[43m[\u001b[49m\u001b[38;5;241;43m2\u001b[39;49m\u001b[43m]\u001b[49m) \u001b[38;5;28;01mfor\u001b[39;00m x \u001b[38;5;129;01min\u001b[39;00m uniques]\n\u001b[1;32m      5\u001b[0m     closest_val \u001b[38;5;241m=\u001b[39m uniques[np\u001b[38;5;241m.\u001b[39margmin(dist)][\u001b[38;5;241m0\u001b[39m]\n\u001b[1;32m      6\u001b[0m     y_pred_normalized\u001b[38;5;241m.\u001b[39mappend(closest_val)\n",
      "\u001b[0;31mIndexError\u001b[0m: list index out of range"
     ]
    }
   ],
   "source": [
    "#Esto es cogiendo el punto predicho con la regresion lineal entre las dos clases\n",
    "y_pred_normalized = []\n",
    "for val in y_pred:\n",
    "    dist = [abs(val-x[0]) if x[0] != 1 else abs(val-puntos[2]) for x in uniques]\n",
    "    closest_val = uniques[np.argmin(dist)][0]\n",
    "    y_pred_normalized.append(closest_val)\n"
   ]
  },
  {
   "cell_type": "code",
   "execution_count": 83,
   "id": "9afee124",
   "metadata": {},
   "outputs": [],
   "source": [
    "#Esto es cogiendo el punto predicho con la regresion lineal entre las dos clases\n",
    "y_pred_normalized = []\n",
    "for val in y_pred:\n",
    "    dist = [abs(val-x[0]) for x in uniques]\n",
    "    closest_val = uniques[np.argmin(dist)][0]\n",
    "    y_pred_normalized.append(closest_val)"
   ]
  },
  {
   "cell_type": "code",
   "execution_count": 84,
   "id": "1fedb014",
   "metadata": {},
   "outputs": [],
   "source": [
    "bien_predecidas = 0\n",
    "mal_predecidas = 0\n",
    "\n",
    "for i in range (0, len(y_real)):\n",
    "    if y_pred_normalized[i] == y_real[i][0]:\n",
    "        bien_predecidas += 1\n",
    "    else:\n",
    "        mal_predecidas += 1\n",
    "\n",
    "precision = bien_predecidas/(mal_predecidas+bien_predecidas)      "
   ]
  },
  {
   "cell_type": "code",
   "execution_count": 85,
   "id": "39e27f8b",
   "metadata": {},
   "outputs": [
    {
     "name": "stdout",
     "output_type": "stream",
     "text": [
      "El modelo tiene una precision de:  0.7396616541353384\n"
     ]
    }
   ],
   "source": [
    "print(\"El modelo tiene una precision de: \", precision)"
   ]
  },
  {
   "cell_type": "markdown",
   "id": "a4ceff83",
   "metadata": {},
   "source": [
    "### Ahora tenemos que sacar las demás métricas y como tenemos 4 clases"
   ]
  },
  {
   "cell_type": "markdown",
   "id": "89c46421",
   "metadata": {},
   "source": [
    "### El número de stint que más veces aparece en el conjunto de test, ¿qué porcentaje sobre el total supone? "
   ]
  },
  {
   "cell_type": "code",
   "execution_count": 59,
   "id": "9557ed69",
   "metadata": {},
   "outputs": [
    {
     "name": "stdout",
     "output_type": "stream",
     "text": [
      "El número que aparece con más frecuencia es: 0.6666666666666667\n",
      "Las frecuencias de cada número son:\n",
      "0.0 aparece 195 veces que supone un 18.33 del total\n",
      "0.3333333333333333 aparece 329 veces que supone un 30.92 del total\n",
      "0.6666666666666667 aparece 350 veces que supone un 32.89 del total\n",
      "1.0 aparece 190 veces que supone un 17.86 del total\n"
     ]
    }
   ],
   "source": [
    "frecuencias = {}\n",
    "\n",
    "y_real_ = [sublista[0] for sublista in y_real]\n",
    "frecuencias = {}\n",
    "numero_mas_frecuente = None\n",
    "frecuencia_maxima = 0\n",
    "\n",
    "for numero in y_real_:\n",
    "    if numero in frecuencias:\n",
    "        frecuencias[numero] += 1\n",
    "    else:\n",
    "        frecuencias[numero] = 1\n",
    "\n",
    "    if frecuencias[numero] > frecuencia_maxima:\n",
    "        frecuencia_maxima = frecuencias[numero]\n",
    "        numero_mas_frecuente = numero\n",
    "\n",
    "print(\"El número que aparece con más frecuencia es:\", numero_mas_frecuente)\n",
    "print(\"Las frecuencias de cada número son:\")\n",
    "total = len(y_real_)\n",
    "\n",
    "for numero, frecuencia in frecuencias.items():\n",
    "    print(numero, \"aparece\", frecuencia, \"veces que supone un\", round((frecuencia/total)*100, 2), \"del total\")\n",
    "    "
   ]
  },
  {
   "cell_type": "code",
   "execution_count": 60,
   "id": "fa9ace6b",
   "metadata": {},
   "outputs": [
    {
     "data": {
      "text/plain": [
       "['0.0', '1.0', '0.6666666666666667', '0.3333333333333333']"
      ]
     },
     "execution_count": 60,
     "metadata": {},
     "output_type": "execute_result"
    }
   ],
   "source": [
    "clases = [str(sublista[0]) for sublista in uniques]\n",
    "#Tenemos las clases en tipo string\n",
    "clases"
   ]
  },
  {
   "cell_type": "markdown",
   "id": "c0880606",
   "metadata": {},
   "source": [
    "### Ahora tenemos la lista clases, que son nuestras 4 clases para clasificar. Asi que vamos a pasar las clases a string, y vamos a sacar FN, FP, TP, TN"
   ]
  },
  {
   "cell_type": "code",
   "execution_count": 61,
   "id": "342a2d9b",
   "metadata": {},
   "outputs": [],
   "source": [
    "y_real_str = [str(sublista) for sublista in y_real_]\n",
    "y_pred_normalized_str = [str(sublista) for sublista in y_pred_normalized]"
   ]
  },
  {
   "cell_type": "code",
   "execution_count": 62,
   "id": "fc241077",
   "metadata": {},
   "outputs": [
    {
     "name": "stdout",
     "output_type": "stream",
     "text": [
      "Matriz de confusión:\n",
      "['0.0', '1.0', '0.6666666666666667', '0.3333333333333333']\n",
      "[[  0   6   9 180]\n",
      " [  0 140  50   0]\n",
      " [  0   0 338  12]\n",
      " [  0   1 188 140]]\n",
      "Métricas:\n",
      "                    precision    recall  f1-score   support\n",
      "\n",
      "               0.0       0.00      0.00      0.00       195\n",
      "               1.0       0.95      0.74      0.83       190\n",
      "0.6666666666666667       0.58      0.97      0.72       350\n",
      "0.3333333333333333       0.42      0.43      0.42       329\n",
      "\n",
      "          accuracy                           0.58      1064\n",
      "         macro avg       0.49      0.53      0.49      1064\n",
      "      weighted avg       0.49      0.58      0.52      1064\n",
      "\n"
     ]
    },
    {
     "name": "stderr",
     "output_type": "stream",
     "text": [
      "/Users/sergio/anaconda3/lib/python3.10/site-packages/sklearn/metrics/_classification.py:1344: UndefinedMetricWarning: Precision and F-score are ill-defined and being set to 0.0 in labels with no predicted samples. Use `zero_division` parameter to control this behavior.\n",
      "  _warn_prf(average, modifier, msg_start, len(result))\n",
      "/Users/sergio/anaconda3/lib/python3.10/site-packages/sklearn/metrics/_classification.py:1344: UndefinedMetricWarning: Precision and F-score are ill-defined and being set to 0.0 in labels with no predicted samples. Use `zero_division` parameter to control this behavior.\n",
      "  _warn_prf(average, modifier, msg_start, len(result))\n",
      "/Users/sergio/anaconda3/lib/python3.10/site-packages/sklearn/metrics/_classification.py:1344: UndefinedMetricWarning: Precision and F-score are ill-defined and being set to 0.0 in labels with no predicted samples. Use `zero_division` parameter to control this behavior.\n",
      "  _warn_prf(average, modifier, msg_start, len(result))\n"
     ]
    }
   ],
   "source": [
    "from sklearn.metrics import confusion_matrix, classification_report\n",
    "# Calcular la matriz de confusión\n",
    "cm = confusion_matrix(y_real_str, y_pred_normalized_str, labels=clases)\n",
    "\n",
    "# Imprimir la matriz de confusión\n",
    "print(\"Matriz de confusión:\")\n",
    "print(clases)\n",
    "print(cm)\n",
    "\n",
    "# Imprimir las métricas básicas\n",
    "print(\"Métricas:\")\n",
    "print(classification_report(y_real_str, y_pred_normalized_str, labels=clases))"
   ]
  },
  {
   "cell_type": "markdown",
   "id": "f339d2f1",
   "metadata": {},
   "source": [
    "### Cuidado, ¿puede haber desbalanceo de clases?"
   ]
  },
  {
   "cell_type": "code",
   "execution_count": null,
   "id": "2a76083a",
   "metadata": {},
   "outputs": [],
   "source": []
  },
  {
   "cell_type": "code",
   "execution_count": null,
   "id": "86ef6ded",
   "metadata": {},
   "outputs": [],
   "source": []
  }
 ],
 "metadata": {
  "kernelspec": {
   "display_name": "Python 3 (ipykernel)",
   "language": "python",
   "name": "python3"
  },
  "language_info": {
   "codemirror_mode": {
    "name": "ipython",
    "version": 3
   },
   "file_extension": ".py",
   "mimetype": "text/x-python",
   "name": "python",
   "nbconvert_exporter": "python",
   "pygments_lexer": "ipython3",
   "version": "3.10.9"
  }
 },
 "nbformat": 4,
 "nbformat_minor": 5
}
