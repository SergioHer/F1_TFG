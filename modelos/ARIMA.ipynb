{
 "cells": [
  {
   "cell_type": "markdown",
   "id": "5485c58e",
   "metadata": {},
   "source": [
    "# Modelo ARIMA\n",
    "\n",
    "El modelo ARIMA es un modelo autoregresivo integrado de promedio movil. Utiliza variaciones y regresiones de datos para poder predecir en el futuro.\n",
    "\n",
    "Hay tres terminos importantes en este modelo, los terminos p, d y q. \n",
    "\n",
    "P: Orden del termino autoregresivo (AR)\n",
    "D: Orden de diferenciación (I)\n",
    "Q: Orden del termino de media movil (MA)\n",
    "\n",
    "Es importante saber que se ha de tratar de hacer la serie estacionaria, para ello hay que conocer el termino de diferenciación. El termino de diferenciacion sera 0 (d=0), cuando la serie sea totalmente estacionaria. En caso contrario, se ha de saber el orden para poder hacerla estacionaria.\n",
    "\n",
    "## ¿Como se sabe el orden?\n",
    "\n",
    "El orden se sabe usando la prueba ADF (Augmented Dickey Fuller). Esta prueba tiene como hipotesis nula -> Serie no estacionaria, por lo que si PValor > 0.05, entonces seguimos adelante con la diferenciación.\n"
   ]
  },
  {
   "cell_type": "markdown",
   "id": "b7f2ae3f",
   "metadata": {},
   "source": [
    "### Para ello vamos a probarlo en nuestro dataset real, el dataset de las vueltas de Checo Perez en Austria en los GP 2018-2021."
   ]
  },
  {
   "cell_type": "code",
   "execution_count": 2,
   "id": "9d05018d",
   "metadata": {},
   "outputs": [],
   "source": [
    "import warnings\n",
    "warnings.filterwarnings('ignore')"
   ]
  },
  {
   "cell_type": "code",
   "execution_count": 3,
   "id": "a3e35aab",
   "metadata": {},
   "outputs": [],
   "source": [
    "import numpy as np, pandas as pd\n",
    "from statsmodels.graphics.tsaplots import plot_acf, plot_pacf\n",
    "import matplotlib.pyplot as plt"
   ]
  },
  {
   "cell_type": "code",
   "execution_count": 4,
   "id": "96a8855d",
   "metadata": {},
   "outputs": [
    {
     "data": {
      "text/html": [
       "<div>\n",
       "<style scoped>\n",
       "    .dataframe tbody tr th:only-of-type {\n",
       "        vertical-align: middle;\n",
       "    }\n",
       "\n",
       "    .dataframe tbody tr th {\n",
       "        vertical-align: top;\n",
       "    }\n",
       "\n",
       "    .dataframe thead th {\n",
       "        text-align: right;\n",
       "    }\n",
       "</style>\n",
       "<table border=\"1\" class=\"dataframe\">\n",
       "  <thead>\n",
       "    <tr style=\"text-align: right;\">\n",
       "      <th></th>\n",
       "      <th>LapTime</th>\n",
       "      <th>LapNumber</th>\n",
       "      <th>Compound</th>\n",
       "      <th>TyreLife</th>\n",
       "      <th>FreshTyre</th>\n",
       "      <th>TrackStatus</th>\n",
       "      <th>Stint</th>\n",
       "      <th>AirTemp</th>\n",
       "      <th>Rainfall</th>\n",
       "      <th>Humidity</th>\n",
       "      <th>TrackTemp</th>\n",
       "      <th>posicionActual</th>\n",
       "      <th>pilotoDelante</th>\n",
       "      <th>tiempoPilotoDelante</th>\n",
       "      <th>pilotoDetras</th>\n",
       "      <th>tiempoPilotoDetras</th>\n",
       "      <th>posicionSalida</th>\n",
       "      <th>nextPit</th>\n",
       "    </tr>\n",
       "  </thead>\n",
       "  <tbody>\n",
       "    <tr>\n",
       "      <th>0</th>\n",
       "      <td>0</td>\n",
       "      <td>1</td>\n",
       "      <td>NaN</td>\n",
       "      <td>NaN</td>\n",
       "      <td>NaN</td>\n",
       "      <td>1</td>\n",
       "      <td>NaN</td>\n",
       "      <td>22.7</td>\n",
       "      <td>False</td>\n",
       "      <td>38.1</td>\n",
       "      <td>47.4</td>\n",
       "      <td>13.0</td>\n",
       "      <td>sainz</td>\n",
       "      <td>1:18.889</td>\n",
       "      <td>leclerc</td>\n",
       "      <td>1:19.755</td>\n",
       "      <td>16.0</td>\n",
       "      <td>27</td>\n",
       "    </tr>\n",
       "    <tr>\n",
       "      <th>1</th>\n",
       "      <td>01:13.062</td>\n",
       "      <td>2</td>\n",
       "      <td>SUPERSOFT</td>\n",
       "      <td>1.0</td>\n",
       "      <td>True</td>\n",
       "      <td>2</td>\n",
       "      <td>1.0</td>\n",
       "      <td>22.7</td>\n",
       "      <td>False</td>\n",
       "      <td>37.4</td>\n",
       "      <td>47.4</td>\n",
       "      <td>13.0</td>\n",
       "      <td>stroll</td>\n",
       "      <td>1:13.397</td>\n",
       "      <td>gasly</td>\n",
       "      <td>1:13.059</td>\n",
       "      <td>16.0</td>\n",
       "      <td>27</td>\n",
       "    </tr>\n",
       "    <tr>\n",
       "      <th>2</th>\n",
       "      <td>01:11.715</td>\n",
       "      <td>3</td>\n",
       "      <td>SUPERSOFT</td>\n",
       "      <td>2.0</td>\n",
       "      <td>True</td>\n",
       "      <td>1</td>\n",
       "      <td>1.0</td>\n",
       "      <td>22.7</td>\n",
       "      <td>False</td>\n",
       "      <td>37.4</td>\n",
       "      <td>47.4</td>\n",
       "      <td>13.0</td>\n",
       "      <td>stroll</td>\n",
       "      <td>1:11.657</td>\n",
       "      <td>gasly</td>\n",
       "      <td>1:11.444</td>\n",
       "      <td>16.0</td>\n",
       "      <td>27</td>\n",
       "    </tr>\n",
       "    <tr>\n",
       "      <th>3</th>\n",
       "      <td>01:11.123</td>\n",
       "      <td>4</td>\n",
       "      <td>SUPERSOFT</td>\n",
       "      <td>3.0</td>\n",
       "      <td>True</td>\n",
       "      <td>1</td>\n",
       "      <td>1.0</td>\n",
       "      <td>22.8</td>\n",
       "      <td>False</td>\n",
       "      <td>37.6</td>\n",
       "      <td>47.3</td>\n",
       "      <td>13.0</td>\n",
       "      <td>stroll</td>\n",
       "      <td>1:11.195</td>\n",
       "      <td>gasly</td>\n",
       "      <td>1:11.165</td>\n",
       "      <td>16.0</td>\n",
       "      <td>27</td>\n",
       "    </tr>\n",
       "    <tr>\n",
       "      <th>4</th>\n",
       "      <td>01:11.171</td>\n",
       "      <td>5</td>\n",
       "      <td>SUPERSOFT</td>\n",
       "      <td>4.0</td>\n",
       "      <td>True</td>\n",
       "      <td>1</td>\n",
       "      <td>1.0</td>\n",
       "      <td>22.9</td>\n",
       "      <td>False</td>\n",
       "      <td>36.9</td>\n",
       "      <td>46.9</td>\n",
       "      <td>13.0</td>\n",
       "      <td>stroll</td>\n",
       "      <td>1:11.036</td>\n",
       "      <td>sirotkin</td>\n",
       "      <td>1:11.407</td>\n",
       "      <td>16.0</td>\n",
       "      <td>27</td>\n",
       "    </tr>\n",
       "  </tbody>\n",
       "</table>\n",
       "</div>"
      ],
      "text/plain": [
       "     LapTime  LapNumber   Compound  TyreLife FreshTyre  TrackStatus  Stint  \\\n",
       "0          0          1        NaN       NaN       NaN            1    NaN   \n",
       "1  01:13.062          2  SUPERSOFT       1.0      True            2    1.0   \n",
       "2  01:11.715          3  SUPERSOFT       2.0      True            1    1.0   \n",
       "3  01:11.123          4  SUPERSOFT       3.0      True            1    1.0   \n",
       "4  01:11.171          5  SUPERSOFT       4.0      True            1    1.0   \n",
       "\n",
       "   AirTemp Rainfall  Humidity  TrackTemp  posicionActual pilotoDelante  \\\n",
       "0     22.7    False      38.1       47.4            13.0         sainz   \n",
       "1     22.7    False      37.4       47.4            13.0        stroll   \n",
       "2     22.7    False      37.4       47.4            13.0        stroll   \n",
       "3     22.8    False      37.6       47.3            13.0        stroll   \n",
       "4     22.9    False      36.9       46.9            13.0        stroll   \n",
       "\n",
       "  tiempoPilotoDelante pilotoDetras tiempoPilotoDetras  posicionSalida  nextPit  \n",
       "0            1:18.889      leclerc           1:19.755            16.0       27  \n",
       "1            1:13.397        gasly           1:13.059            16.0       27  \n",
       "2            1:11.657        gasly           1:11.444            16.0       27  \n",
       "3            1:11.195        gasly           1:11.165            16.0       27  \n",
       "4            1:11.036     sirotkin           1:11.407            16.0       27  "
      ]
     },
     "execution_count": 4,
     "metadata": {},
     "output_type": "execute_result"
    }
   ],
   "source": [
    "vueltas = pd.read_csv(\"../datasets_completos/laps_Austria_PER_todas_vueltas.csv\", header = 0)\n",
    "vueltas.head()"
   ]
  },
  {
   "cell_type": "code",
   "execution_count": 11,
   "id": "7c2a11bd",
   "metadata": {},
   "outputs": [
    {
     "data": {
      "text/plain": [
       "Text(0.5, 1.0, 'Grafico de las paradas a lo largo de todas las vueltas')"
      ]
     },
     "execution_count": 11,
     "metadata": {},
     "output_type": "execute_result"
    },
    {
     "data": {
      "image/png": "[encoded data removed]",
      "text/plain": [
       "<Figure size 1500x600 with 1 Axes>"
      ]
     },
     "metadata": {},
     "output_type": "display_data"
    }
   ],
   "source": [
    "plt.figure(figsize=(15, 6))\n",
    "plt.plot(vueltas['nextPit'], lw=5, color=\"r\")\n",
    "plt.title(\"Grafico de las paradas a lo largo de todas las vueltas\")"
   ]
  },
  {
   "cell_type": "markdown",
   "id": "8fc2aa1c",
   "metadata": {},
   "source": [
    "### Ahora procedemos a ver la estacionalidad de nuestro modelo"
   ]
  },
  {
   "cell_type": "code",
   "execution_count": 21,
   "id": "04c48e64",
   "metadata": {},
   "outputs": [
    {
     "name": "stdout",
     "output_type": "stream",
     "text": [
      "ADF estadístico:  -2.796833353501025\n",
      "P-valor:  0.0587275266358281\n"
     ]
    }
   ],
   "source": [
    "from statsmodels.tsa.stattools import adfuller\n",
    "estacionalidad = adfuller(vueltas['nextPit'])\n",
    "print(\"ADF estadístico: \", estacionalidad[0])\n",
    "print(\"P-valor: \", estacionalidad[1])\n"
   ]
  },
  {
   "cell_type": "markdown",
   "id": "675e87b5",
   "metadata": {},
   "source": [
    "###  Dado que P-Valor > 0.05, se ha de diferenciar la serie\n",
    "\n",
    "¿Pero no es muy poca la diferencia como para poder obviar esa diferencia que parece poco significativa?"
   ]
  },
  {
   "cell_type": "code",
   "execution_count": null,
   "id": "50ada4e3",
   "metadata": {},
   "outputs": [],
   "source": []
  }
 ],
 "metadata": {
  "kernelspec": {
   "display_name": "Python 3 (ipykernel)",
   "language": "python",
   "name": "python3"
  },
  "language_info": {
   "codemirror_mode": {
    "name": "ipython",
    "version": 3
   },
   "file_extension": ".py",
   "mimetype": "text/x-python",
   "name": "python",
   "nbconvert_exporter": "python",
   "pygments_lexer": "ipython3",
   "version": "3.8.16"
  }
 },
 "nbformat": 4,
 "nbformat_minor": 5
}
