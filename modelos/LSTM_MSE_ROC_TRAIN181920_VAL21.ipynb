{
 "cells": [
  {
   "cell_type": "code",
   "execution_count": 245,
   "id": "9ee4b771",
   "metadata": {},
   "outputs": [],
   "source": [
    "import numpy as np\n",
    "from tensorflow.keras.models import Sequential\n",
    "from tensorflow.keras.layers import LSTM\n",
    "from tensorflow.keras.layers import Dense, Dropout\n",
    "from tensorflow import keras\n",
    "import pandas as pd\n",
    "from matplotlib import pyplot as plt\n",
    "from sklearn.preprocessing import StandardScaler, MinMaxScaler\n",
    "import seaborn as sns"
   ]
  },
  {
   "cell_type": "code",
   "execution_count": 249,
   "id": "b6688576",
   "metadata": {},
   "outputs": [],
   "source": [
    "vueltas = pd.read_csv(\"../dataset_todos_pilotos/vueltas_italy_final.csv\")\n"
   ]
  },
  {
   "cell_type": "code",
   "execution_count": 250,
   "id": "096f4b34",
   "metadata": {},
   "outputs": [
    {
     "name": "stderr",
     "output_type": "stream",
     "text": [
      "/var/folders/pd/wpkltt694qx207z03w_cmlbh0000gn/T/ipykernel_86474/1494221414.py:2: SettingWithCopyWarning: \n",
      "A value is trying to be set on a copy of a slice from a DataFrame\n",
      "\n",
      "See the caveats in the documentation: https://pandas.pydata.org/pandas-docs/stable/user_guide/indexing.html#returning-a-view-versus-a-copy\n",
      "  vueltas['makeStop'][0] = 0\n"
     ]
    }
   ],
   "source": [
    "vueltas['makeStop'] = vueltas['makeStop'].shift(1)   \n",
    "vueltas['makeStop'][0] = 0"
   ]
  },
  {
   "cell_type": "code",
   "execution_count": 251,
   "id": "f20c1e81",
   "metadata": {},
   "outputs": [],
   "source": [
    "columnas = [\"Stint\", \"Piloto\", 'anyo', 'makeStop']\n",
    "vueltas = vueltas[columnas]"
   ]
  },
  {
   "cell_type": "code",
   "execution_count": 252,
   "id": "9aafbad6",
   "metadata": {},
   "outputs": [
    {
     "name": "stderr",
     "output_type": "stream",
     "text": [
      "/var/folders/pd/wpkltt694qx207z03w_cmlbh0000gn/T/ipykernel_86474/2338451242.py:20: SettingWithCopyWarning: \n",
      "A value is trying to be set on a copy of a slice from a DataFrame\n",
      "\n",
      "See the caveats in the documentation: https://pandas.pydata.org/pandas-docs/stable/user_guide/indexing.html#returning-a-view-versus-a-copy\n",
      "  vueltas_train.drop(['Piloto'], axis = 1, inplace = True)\n"
     ]
    }
   ],
   "source": [
    "piloto=\"alonso\"\n",
    "\n",
    "#vueltas = vueltas.drop(['Piloto'], axis = 1)\n",
    "\n",
    "#Entrenamiento con todos pilotos -> TODO\n",
    "\n",
    "vueltas_train = vueltas[vueltas['anyo'].isin([2018, 2019, 2020])]\n",
    "vueltas_validation = vueltas[vueltas['anyo'].isin([2021])]\n",
    "vueltas_test = vueltas[vueltas['anyo'] == 2022]\n",
    "\n",
    "#vueltas_train = vueltas_train[vueltas_train['Piloto'] == \"hamilton\"]\n",
    "\n",
    "#vueltas_validation = vueltas_validation[vueltas_validation['Piloto'] == \"max_verstappen\"]\n",
    "vueltas_test = vueltas_test[vueltas_test['Piloto'] == piloto]\n",
    "\n",
    "#vueltas_train = vueltas_train.drop(['anyo'], axis=1)\n",
    "vueltas_validation = vueltas_validation.drop(['anyo'], axis=1)\n",
    "\n",
    "vueltas_test = vueltas_test.drop(['anyo'], axis=1)\n",
    "vueltas_train.drop(['Piloto'], axis = 1, inplace = True)\n",
    "vueltas_test.drop(['Piloto'], axis = 1, inplace = True)\n",
    "vueltas_validation.drop(['Piloto'], axis = 1, inplace = True)\n",
    "vueltas_train = vueltas_train.drop(['Stint'], axis=1)\n",
    "vueltas_validation = vueltas_validation.drop(['Stint'], axis=1)\n",
    "vueltas_test = vueltas_test.drop(['Stint'], axis=1)\n",
    "\n",
    "vueltas_train = vueltas_train.astype('float')\n",
    "vueltas_validation = vueltas_validation.astype(float)\n",
    "vueltas_test = vueltas_test.astype(float)"
   ]
  },
  {
   "cell_type": "code",
   "execution_count": 226,
   "id": "65166273",
   "metadata": {},
   "outputs": [],
   "source": [
    "vueltas_train_18 = vueltas_train[vueltas_train['anyo'] == 2018]\n",
    "\n",
    "vueltas_train_18 = vueltas_train_18.drop('anyo', axis=1)\n",
    "vueltas_train_18['makeStop'] = vueltas_train_18['makeStop'].astype('int32')\n",
    "scaler = MinMaxScaler()\n",
    "scaler.fit(vueltas_train_18)\n",
    "vueltas_train_scaler_18= scaler.transform(vueltas_train_18)"
   ]
  },
  {
   "cell_type": "code",
   "execution_count": 227,
   "id": "60ffe789",
   "metadata": {},
   "outputs": [],
   "source": [
    "vueltas_train_19 = vueltas_train[vueltas_train['anyo'] == 2019]\n",
    "\n",
    "vueltas_train_19 = vueltas_train_19.drop('anyo', axis=1)\n",
    "vueltas_train_19['makeStop'] = vueltas_train_19['makeStop'].astype('int32')\n",
    "\n",
    "scaler.fit(vueltas_train_19)\n",
    "vueltas_train_scaler_19= scaler.transform(vueltas_train_19)"
   ]
  },
  {
   "cell_type": "code",
   "execution_count": 228,
   "id": "435d48a9",
   "metadata": {},
   "outputs": [],
   "source": [
    "vueltas_train_20 = vueltas_train[vueltas_train['anyo'] == 2020]\n",
    "\n",
    "vueltas_train_20 = vueltas_train_20.drop('anyo', axis=1)\n",
    "vueltas_train_20['makeStop'] = vueltas_train_20['makeStop'].astype('int32')\n",
    "\n",
    "scaler.fit(vueltas_train_20)\n",
    "vueltas_train_scaler_20= scaler.transform(vueltas_train_20)"
   ]
  },
  {
   "cell_type": "code",
   "execution_count": 229,
   "id": "4b435a8e",
   "metadata": {},
   "outputs": [],
   "source": [
    "vueltas_test_scaler = scaler.transform(vueltas_test)\n",
    "vueltas_validation_scaler = scaler.transform(vueltas_validation)\n"
   ]
  },
  {
   "cell_type": "code",
   "execution_count": 230,
   "id": "83ece4da",
   "metadata": {},
   "outputs": [],
   "source": [
    "trainX = []\n",
    "trainY = []\n",
    "testX = []\n",
    "testY = []\n",
    "validationX = []\n",
    "validationY = []\n",
    "loopback = 8 # Esto es el numero de muestras que usara en el pasado \n",
    "future = 1 # Esto es el numero de hechos futuros que usará como salida a las 10 muestras del pasado\n",
    "\n",
    "for i in range (loopback, len(vueltas_train_scaler_18) -future +1):\n",
    "    trainX.append(vueltas_train_scaler_18[i-loopback:i, 0:vueltas_train_18.shape[1]])\n",
    "    trainY.append(vueltas_train_scaler_18[i + future - 1:i + future,5])\n",
    "    \n",
    "for i in range (loopback, len(vueltas_train_scaler_19) -future +1):\n",
    "    trainX.append(vueltas_train_scaler_19[i-loopback:i, 0:vueltas_train_19.shape[1]])\n",
    "    trainY.append(vueltas_train_scaler_19[i + future - 1:i + future,5])\n",
    "    \n",
    "for i in range (loopback, len(vueltas_train_scaler_20) -future +1):\n",
    "    trainX.append(vueltas_train_scaler_20[i-loopback:i, 0:vueltas_train_20.shape[1]])\n",
    "    trainY.append(vueltas_train_scaler_20[i + future - 1:i + future,5])\n",
    " \n",
    "for i in range (loopback, len(vueltas_test_scaler) -future +1):\n",
    "        testX.append(vueltas_test_scaler[i-loopback:i, 0:vueltas_test.shape[1]])\n",
    "        testY.append(vueltas_test_scaler[i + future - 1:i + future,5])\n",
    "        \n",
    "    \n",
    "for i in range (loopback, len(vueltas_validation_scaler) -future +1):\n",
    "    validationX.append(vueltas_validation_scaler[i-loopback:i, 0:vueltas_validation.shape[1]])\n",
    "    validationY.append(vueltas_validation_scaler[i + future - 1:i + future,5])"
   ]
  },
  {
   "cell_type": "code",
   "execution_count": 231,
   "id": "748744b3",
   "metadata": {},
   "outputs": [],
   "source": [
    "trainX, trainY, testX, testY, validationX, validationY = np.array(trainX), np.array(trainY), np.array(testX), np.array(testY), np.array(validationX), np.array(validationY)"
   ]
  },
  {
   "cell_type": "code",
   "execution_count": 232,
   "id": "f16e12f8",
   "metadata": {},
   "outputs": [
    {
     "name": "stderr",
     "output_type": "stream",
     "text": [
      "2023-07-27 23:24:49.627041: I tensorflow/core/common_runtime/executor.cc:1197] [/device:CPU:0] (DEBUG INFO) Executor start aborting (this does not indicate an error and you can ignore this message): INVALID_ARGUMENT: You must feed a value for placeholder tensor 'gradients/split_2_grad/concat/split_2/split_dim' with dtype int32\n",
      "\t [[{{node gradients/split_2_grad/concat/split_2/split_dim}}]]\n",
      "2023-07-27 23:24:49.628651: I tensorflow/core/common_runtime/executor.cc:1197] [/device:CPU:0] (DEBUG INFO) Executor start aborting (this does not indicate an error and you can ignore this message): INVALID_ARGUMENT: You must feed a value for placeholder tensor 'gradients/split_grad/concat/split/split_dim' with dtype int32\n",
      "\t [[{{node gradients/split_grad/concat/split/split_dim}}]]\n",
      "2023-07-27 23:24:49.629761: I tensorflow/core/common_runtime/executor.cc:1197] [/device:CPU:0] (DEBUG INFO) Executor start aborting (this does not indicate an error and you can ignore this message): INVALID_ARGUMENT: You must feed a value for placeholder tensor 'gradients/split_1_grad/concat/split_1/split_dim' with dtype int32\n",
      "\t [[{{node gradients/split_1_grad/concat/split_1/split_dim}}]]\n",
      "2023-07-27 23:24:49.825222: I tensorflow/core/common_runtime/executor.cc:1197] [/device:CPU:0] (DEBUG INFO) Executor start aborting (this does not indicate an error and you can ignore this message): INVALID_ARGUMENT: You must feed a value for placeholder tensor 'gradients/split_2_grad/concat/split_2/split_dim' with dtype int32\n",
      "\t [[{{node gradients/split_2_grad/concat/split_2/split_dim}}]]\n",
      "2023-07-27 23:24:49.826292: I tensorflow/core/common_runtime/executor.cc:1197] [/device:CPU:0] (DEBUG INFO) Executor start aborting (this does not indicate an error and you can ignore this message): INVALID_ARGUMENT: You must feed a value for placeholder tensor 'gradients/split_grad/concat/split/split_dim' with dtype int32\n",
      "\t [[{{node gradients/split_grad/concat/split/split_dim}}]]\n",
      "2023-07-27 23:24:49.827429: I tensorflow/core/common_runtime/executor.cc:1197] [/device:CPU:0] (DEBUG INFO) Executor start aborting (this does not indicate an error and you can ignore this message): INVALID_ARGUMENT: You must feed a value for placeholder tensor 'gradients/split_1_grad/concat/split_1/split_dim' with dtype int32\n",
      "\t [[{{node gradients/split_1_grad/concat/split_1/split_dim}}]]\n"
     ]
    },
    {
     "name": "stdout",
     "output_type": "stream",
     "text": [
      "Model: \"sequential_10\"\n",
      "_________________________________________________________________\n",
      " Layer (type)                Output Shape              Param #   \n",
      "=================================================================\n",
      " lstm_20 (LSTM)              (None, 8, 256)            282624    \n",
      "                                                                 \n",
      " dropout_20 (Dropout)        (None, 8, 256)            0         \n",
      "                                                                 \n",
      " lstm_21 (LSTM)              (None, 128)               197120    \n",
      "                                                                 \n",
      " dropout_21 (Dropout)        (None, 128)               0         \n",
      "                                                                 \n",
      " dense_10 (Dense)            (None, 1)                 129       \n",
      "                                                                 \n",
      "=================================================================\n",
      "Total params: 479,873\n",
      "Trainable params: 479,873\n",
      "Non-trainable params: 0\n",
      "_________________________________________________________________\n"
     ]
    }
   ],
   "source": [
    "model = Sequential()\n",
    "model.add(LSTM(256, activation='tanh', input_shape=(trainX.shape[1], trainX.shape[2]), return_sequences=True))\n",
    "model.add(Dropout(0.2))\n",
    "model.add(LSTM(128, activation='tanh', return_sequences=False))\n",
    "model.add(Dropout(0.2))\n",
    "model.add(Dense(1, activation='sigmoid'))\n",
    "model.compile(optimizer=\"adam\", loss= \"mse\") \n",
    "model.summary()"
   ]
  },
  {
   "cell_type": "code",
   "execution_count": 233,
   "id": "d48f6c99",
   "metadata": {
    "scrolled": false
   },
   "outputs": [
    {
     "name": "stdout",
     "output_type": "stream",
     "text": [
      "Epoch 1/30\n"
     ]
    },
    {
     "name": "stderr",
     "output_type": "stream",
     "text": [
      "2023-07-27 23:24:50.871261: I tensorflow/core/common_runtime/executor.cc:1197] [/device:CPU:0] (DEBUG INFO) Executor start aborting (this does not indicate an error and you can ignore this message): INVALID_ARGUMENT: You must feed a value for placeholder tensor 'gradients/split_2_grad/concat/split_2/split_dim' with dtype int32\n",
      "\t [[{{node gradients/split_2_grad/concat/split_2/split_dim}}]]\n",
      "2023-07-27 23:24:50.872589: I tensorflow/core/common_runtime/executor.cc:1197] [/device:CPU:0] (DEBUG INFO) Executor start aborting (this does not indicate an error and you can ignore this message): INVALID_ARGUMENT: You must feed a value for placeholder tensor 'gradients/split_grad/concat/split/split_dim' with dtype int32\n",
      "\t [[{{node gradients/split_grad/concat/split/split_dim}}]]\n",
      "2023-07-27 23:24:50.874274: I tensorflow/core/common_runtime/executor.cc:1197] [/device:CPU:0] (DEBUG INFO) Executor start aborting (this does not indicate an error and you can ignore this message): INVALID_ARGUMENT: You must feed a value for placeholder tensor 'gradients/split_1_grad/concat/split_1/split_dim' with dtype int32\n",
      "\t [[{{node gradients/split_1_grad/concat/split_1/split_dim}}]]\n",
      "2023-07-27 23:24:51.074544: I tensorflow/core/common_runtime/executor.cc:1197] [/device:CPU:0] (DEBUG INFO) Executor start aborting (this does not indicate an error and you can ignore this message): INVALID_ARGUMENT: You must feed a value for placeholder tensor 'gradients/split_2_grad/concat/split_2/split_dim' with dtype int32\n",
      "\t [[{{node gradients/split_2_grad/concat/split_2/split_dim}}]]\n",
      "2023-07-27 23:24:51.075921: I tensorflow/core/common_runtime/executor.cc:1197] [/device:CPU:0] (DEBUG INFO) Executor start aborting (this does not indicate an error and you can ignore this message): INVALID_ARGUMENT: You must feed a value for placeholder tensor 'gradients/split_grad/concat/split/split_dim' with dtype int32\n",
      "\t [[{{node gradients/split_grad/concat/split/split_dim}}]]\n",
      "2023-07-27 23:24:51.077160: I tensorflow/core/common_runtime/executor.cc:1197] [/device:CPU:0] (DEBUG INFO) Executor start aborting (this does not indicate an error and you can ignore this message): INVALID_ARGUMENT: You must feed a value for placeholder tensor 'gradients/split_1_grad/concat/split_1/split_dim' with dtype int32\n",
      "\t [[{{node gradients/split_1_grad/concat/split_1/split_dim}}]]\n",
      "2023-07-27 23:24:51.968990: I tensorflow/core/common_runtime/executor.cc:1197] [/device:CPU:0] (DEBUG INFO) Executor start aborting (this does not indicate an error and you can ignore this message): INVALID_ARGUMENT: You must feed a value for placeholder tensor 'gradients/split_2_grad/concat/split_2/split_dim' with dtype int32\n",
      "\t [[{{node gradients/split_2_grad/concat/split_2/split_dim}}]]\n",
      "2023-07-27 23:24:51.970303: I tensorflow/core/common_runtime/executor.cc:1197] [/device:CPU:0] (DEBUG INFO) Executor start aborting (this does not indicate an error and you can ignore this message): INVALID_ARGUMENT: You must feed a value for placeholder tensor 'gradients/split_grad/concat/split/split_dim' with dtype int32\n",
      "\t [[{{node gradients/split_grad/concat/split/split_dim}}]]\n",
      "2023-07-27 23:24:51.971879: I tensorflow/core/common_runtime/executor.cc:1197] [/device:CPU:0] (DEBUG INFO) Executor start aborting (this does not indicate an error and you can ignore this message): INVALID_ARGUMENT: You must feed a value for placeholder tensor 'gradients/split_1_grad/concat/split_1/split_dim' with dtype int32\n",
      "\t [[{{node gradients/split_1_grad/concat/split_1/split_dim}}]]\n",
      "2023-07-27 23:24:52.148359: I tensorflow/core/common_runtime/executor.cc:1197] [/device:CPU:0] (DEBUG INFO) Executor start aborting (this does not indicate an error and you can ignore this message): INVALID_ARGUMENT: You must feed a value for placeholder tensor 'gradients/split_2_grad/concat/split_2/split_dim' with dtype int32\n",
      "\t [[{{node gradients/split_2_grad/concat/split_2/split_dim}}]]\n",
      "2023-07-27 23:24:52.149688: I tensorflow/core/common_runtime/executor.cc:1197] [/device:CPU:0] (DEBUG INFO) Executor start aborting (this does not indicate an error and you can ignore this message): INVALID_ARGUMENT: You must feed a value for placeholder tensor 'gradients/split_grad/concat/split/split_dim' with dtype int32\n",
      "\t [[{{node gradients/split_grad/concat/split/split_dim}}]]\n",
      "2023-07-27 23:24:52.150955: I tensorflow/core/common_runtime/executor.cc:1197] [/device:CPU:0] (DEBUG INFO) Executor start aborting (this does not indicate an error and you can ignore this message): INVALID_ARGUMENT: You must feed a value for placeholder tensor 'gradients/split_1_grad/concat/split_1/split_dim' with dtype int32\n",
      "\t [[{{node gradients/split_1_grad/concat/split_1/split_dim}}]]\n"
     ]
    },
    {
     "name": "stdout",
     "output_type": "stream",
     "text": [
      "24/24 [==============================] - 5s 56ms/step - loss: 0.0457\n",
      "Epoch 2/30\n",
      "24/24 [==============================] - 1s 55ms/step - loss: 0.0258\n",
      "Epoch 3/30\n",
      "24/24 [==============================] - 1s 56ms/step - loss: 0.0258\n",
      "Epoch 4/30\n",
      "24/24 [==============================] - 1s 55ms/step - loss: 0.0258\n",
      "Epoch 5/30\n",
      "24/24 [==============================] - 1s 55ms/step - loss: 0.0258\n",
      "Epoch 6/30\n",
      "24/24 [==============================] - 1s 53ms/step - loss: 0.0258\n",
      "Epoch 7/30\n",
      "24/24 [==============================] - 1s 52ms/step - loss: 0.0258\n",
      "Epoch 8/30\n",
      "24/24 [==============================] - 1s 56ms/step - loss: 0.0258\n",
      "Epoch 9/30\n",
      "24/24 [==============================] - 1s 58ms/step - loss: 0.0258\n",
      "Epoch 10/30\n",
      "24/24 [==============================] - 1s 52ms/step - loss: 0.0258\n",
      "Epoch 11/30\n",
      "24/24 [==============================] - 1s 50ms/step - loss: 0.0258\n",
      "Epoch 12/30\n",
      "24/24 [==============================] - 1s 50ms/step - loss: 0.0258\n",
      "Epoch 13/30\n",
      "24/24 [==============================] - 1s 50ms/step - loss: 0.0258\n",
      "Epoch 14/30\n",
      "24/24 [==============================] - 1s 50ms/step - loss: 0.0257\n",
      "Epoch 15/30\n",
      "24/24 [==============================] - 1s 50ms/step - loss: 0.0253\n",
      "Epoch 16/30\n",
      "24/24 [==============================] - 1s 54ms/step - loss: 0.0253\n",
      "Epoch 17/30\n",
      "24/24 [==============================] - 1s 56ms/step - loss: 0.0253\n",
      "Epoch 18/30\n",
      "24/24 [==============================] - 1s 51ms/step - loss: 0.0253\n",
      "Epoch 19/30\n",
      "24/24 [==============================] - 1s 50ms/step - loss: 0.0253\n",
      "Epoch 20/30\n",
      "24/24 [==============================] - 1s 58ms/step - loss: 0.0252\n",
      "Epoch 21/30\n",
      "24/24 [==============================] - 1s 55ms/step - loss: 0.0253\n",
      "Epoch 22/30\n",
      "24/24 [==============================] - 1s 54ms/step - loss: 0.0252\n",
      "Epoch 23/30\n",
      "24/24 [==============================] - 1s 55ms/step - loss: 0.0252\n",
      "Epoch 24/30\n",
      "24/24 [==============================] - 1s 54ms/step - loss: 0.0251\n",
      "Epoch 25/30\n",
      "24/24 [==============================] - 1s 53ms/step - loss: 0.0250\n",
      "Epoch 26/30\n",
      "24/24 [==============================] - 1s 53ms/step - loss: 0.0253\n",
      "Epoch 27/30\n",
      "24/24 [==============================] - 1s 53ms/step - loss: 0.0252\n",
      "Epoch 28/30\n",
      "24/24 [==============================] - 1s 53ms/step - loss: 0.0248\n",
      "Epoch 29/30\n",
      "24/24 [==============================] - 1s 53ms/step - loss: 0.0249\n",
      "Epoch 30/30\n",
      "24/24 [==============================] - 1s 53ms/step - loss: 0.0252\n"
     ]
    },
    {
     "data": {
      "text/plain": [
       "<matplotlib.legend.Legend at 0x7ff459a1b400>"
      ]
     },
     "execution_count": 233,
     "metadata": {},
     "output_type": "execute_result"
    },
    {
     "data": {
      "image/png": "[encoded data removed]",
      "text/plain": [
       "<Figure size 640x480 with 1 Axes>"
      ]
     },
     "metadata": {},
     "output_type": "display_data"
    }
   ],
   "source": [
    "history = model.fit(trainX, trainY, epochs=30, batch_size=128, validation_split=0.0, verbose=1)\n",
    "plt.plot(history.history['loss'], label='Training loss')\n",
    "plt.legend()"
   ]
  },
  {
   "cell_type": "code",
   "execution_count": 234,
   "id": "e10c1eb5",
   "metadata": {},
   "outputs": [
    {
     "name": "stderr",
     "output_type": "stream",
     "text": [
      "2023-07-27 23:25:32.834582: I tensorflow/core/common_runtime/executor.cc:1197] [/device:CPU:0] (DEBUG INFO) Executor start aborting (this does not indicate an error and you can ignore this message): INVALID_ARGUMENT: You must feed a value for placeholder tensor 'gradients/split_2_grad/concat/split_2/split_dim' with dtype int32\n",
      "\t [[{{node gradients/split_2_grad/concat/split_2/split_dim}}]]\n",
      "2023-07-27 23:25:32.835657: I tensorflow/core/common_runtime/executor.cc:1197] [/device:CPU:0] (DEBUG INFO) Executor start aborting (this does not indicate an error and you can ignore this message): INVALID_ARGUMENT: You must feed a value for placeholder tensor 'gradients/split_grad/concat/split/split_dim' with dtype int32\n",
      "\t [[{{node gradients/split_grad/concat/split/split_dim}}]]\n",
      "2023-07-27 23:25:32.836982: I tensorflow/core/common_runtime/executor.cc:1197] [/device:CPU:0] (DEBUG INFO) Executor start aborting (this does not indicate an error and you can ignore this message): INVALID_ARGUMENT: You must feed a value for placeholder tensor 'gradients/split_1_grad/concat/split_1/split_dim' with dtype int32\n",
      "\t [[{{node gradients/split_1_grad/concat/split_1/split_dim}}]]\n",
      "2023-07-27 23:25:33.003795: I tensorflow/core/common_runtime/executor.cc:1197] [/device:CPU:0] (DEBUG INFO) Executor start aborting (this does not indicate an error and you can ignore this message): INVALID_ARGUMENT: You must feed a value for placeholder tensor 'gradients/split_2_grad/concat/split_2/split_dim' with dtype int32\n",
      "\t [[{{node gradients/split_2_grad/concat/split_2/split_dim}}]]\n",
      "2023-07-27 23:25:33.004984: I tensorflow/core/common_runtime/executor.cc:1197] [/device:CPU:0] (DEBUG INFO) Executor start aborting (this does not indicate an error and you can ignore this message): INVALID_ARGUMENT: You must feed a value for placeholder tensor 'gradients/split_grad/concat/split/split_dim' with dtype int32\n",
      "\t [[{{node gradients/split_grad/concat/split/split_dim}}]]\n",
      "2023-07-27 23:25:33.006097: I tensorflow/core/common_runtime/executor.cc:1197] [/device:CPU:0] (DEBUG INFO) Executor start aborting (this does not indicate an error and you can ignore this message): INVALID_ARGUMENT: You must feed a value for placeholder tensor 'gradients/split_1_grad/concat/split_1/split_dim' with dtype int32\n",
      "\t [[{{node gradients/split_1_grad/concat/split_1/split_dim}}]]\n"
     ]
    },
    {
     "name": "stdout",
     "output_type": "stream",
     "text": [
      "33/33 [==============================] - 1s 8ms/step\n"
     ]
    }
   ],
   "source": [
    "predictions_val = model.predict(validationX)"
   ]
  },
  {
   "cell_type": "code",
   "execution_count": 235,
   "id": "db019bb3",
   "metadata": {},
   "outputs": [
    {
     "data": {
      "text/plain": [
       "array([[0.8976003 ],\n",
       "       [0.8577688 ],\n",
       "       [0.81771827],\n",
       "       ...,\n",
       "       [0.0389924 ],\n",
       "       [0.0416516 ],\n",
       "       [0.0480323 ]], dtype=float32)"
      ]
     },
     "execution_count": 235,
     "metadata": {},
     "output_type": "execute_result"
    }
   ],
   "source": [
    "predictions_val"
   ]
  },
  {
   "cell_type": "markdown",
   "id": "c60536c0",
   "metadata": {},
   "source": [
    "### Sacamos el threeshold con los datos de entrenamiento"
   ]
  },
  {
   "cell_type": "code",
   "execution_count": 236,
   "id": "8e959713",
   "metadata": {},
   "outputs": [
    {
     "name": "stdout",
     "output_type": "stream",
     "text": [
      "El umbral óptimo según la curva ROC es: 0.017265037\n"
     ]
    }
   ],
   "source": [
    "import numpy as np\n",
    "from sklearn.metrics import roc_curve\n",
    "\n",
    "\n",
    "# Etiquetas reales (0 o 1 según la clase verdadera)\n",
    "true_labels = validationY\n",
    "\n",
    "# Calculamos la curva ROC\n",
    "fpr, tpr, thresholds = roc_curve(true_labels, predictions_val)\n",
    "\n",
    "# Encontramos el umbral que maximiza la suma de sensibilidad y especificidad\n",
    "optimal_idx = np.argmax(tpr - fpr)\n",
    "optimal_threshold = thresholds[optimal_idx]\n",
    "\n",
    "\n",
    "print(\"El umbral óptimo según la curva ROC es:\", optimal_threshold)\n",
    "\n"
   ]
  },
  {
   "cell_type": "markdown",
   "id": "9a51e2d3",
   "metadata": {},
   "source": [
    "### Sacamos las predicciones del año 2022"
   ]
  },
  {
   "cell_type": "code",
   "execution_count": 237,
   "id": "b6a40816",
   "metadata": {},
   "outputs": [
    {
     "name": "stdout",
     "output_type": "stream",
     "text": [
      "2/2 [==============================] - 0s 9ms/step\n"
     ]
    }
   ],
   "source": [
    "predictions = model.predict(testX)"
   ]
  },
  {
   "cell_type": "code",
   "execution_count": 238,
   "id": "49fab729",
   "metadata": {},
   "outputs": [
    {
     "data": {
      "text/plain": [
       "array([[0.02434159],\n",
       "       [0.02404638],\n",
       "       [0.02257769],\n",
       "       [0.02123009],\n",
       "       [0.01958578],\n",
       "       [0.01801941],\n",
       "       [0.01627117],\n",
       "       [0.01481128],\n",
       "       [0.01337631],\n",
       "       [0.0125014 ],\n",
       "       [0.01521186],\n",
       "       [0.01596416],\n",
       "       [0.01601237],\n",
       "       [0.01612494],\n",
       "       [0.01604501],\n",
       "       [0.01585521],\n",
       "       [0.01581937],\n",
       "       [0.01574511],\n",
       "       [0.01585448],\n",
       "       [0.01572717],\n",
       "       [0.01579228],\n",
       "       [0.01562636],\n",
       "       [0.01562598],\n",
       "       [0.01501617],\n",
       "       [0.01459451],\n",
       "       [0.01437446],\n",
       "       [0.0138578 ],\n",
       "       [0.0134369 ],\n",
       "       [0.0128647 ],\n",
       "       [0.01229905],\n",
       "       [0.01178157],\n",
       "       [0.01305275],\n",
       "       [0.01306358],\n",
       "       [0.01322733],\n",
       "       [0.01316469],\n",
       "       [0.0130673 ],\n",
       "       [0.01303535],\n",
       "       [0.01302941],\n",
       "       [0.01315947],\n",
       "       [0.01331871],\n",
       "       [0.01331071],\n",
       "       [0.01325806],\n",
       "       [0.01327138],\n",
       "       [0.013331  ],\n",
       "       [0.0134811 ],\n",
       "       [0.01313078],\n",
       "       [0.01282091],\n",
       "       [0.0127429 ],\n",
       "       [0.01264125],\n",
       "       [0.01248941],\n",
       "       [0.01232946],\n",
       "       [0.01217026],\n",
       "       [0.01235418],\n",
       "       [0.01450977],\n",
       "       [0.01470084],\n",
       "       [0.01464622]], dtype=float32)"
      ]
     },
     "execution_count": 238,
     "metadata": {},
     "output_type": "execute_result"
    }
   ],
   "source": [
    "predictions"
   ]
  },
  {
   "cell_type": "code",
   "execution_count": 239,
   "id": "e9aca464",
   "metadata": {},
   "outputs": [],
   "source": [
    "predictions[predictions>optimal_threshold] =1.0"
   ]
  },
  {
   "cell_type": "code",
   "execution_count": 240,
   "id": "8bde41ef",
   "metadata": {},
   "outputs": [],
   "source": [
    "predictions[predictions<=optimal_threshold] = 0.0"
   ]
  },
  {
   "cell_type": "code",
   "execution_count": 241,
   "id": "8ef82d5b",
   "metadata": {},
   "outputs": [
    {
     "data": {
      "text/plain": [
       "array([[1.],\n",
       "       [1.],\n",
       "       [1.],\n",
       "       [1.],\n",
       "       [1.],\n",
       "       [1.],\n",
       "       [0.],\n",
       "       [0.],\n",
       "       [0.],\n",
       "       [0.],\n",
       "       [0.],\n",
       "       [0.],\n",
       "       [0.],\n",
       "       [0.],\n",
       "       [0.],\n",
       "       [0.],\n",
       "       [0.],\n",
       "       [0.],\n",
       "       [0.],\n",
       "       [0.],\n",
       "       [0.],\n",
       "       [0.],\n",
       "       [0.],\n",
       "       [0.],\n",
       "       [0.],\n",
       "       [0.],\n",
       "       [0.],\n",
       "       [0.],\n",
       "       [0.],\n",
       "       [0.],\n",
       "       [0.],\n",
       "       [0.],\n",
       "       [0.],\n",
       "       [0.],\n",
       "       [0.],\n",
       "       [0.],\n",
       "       [0.],\n",
       "       [0.],\n",
       "       [0.],\n",
       "       [0.],\n",
       "       [0.],\n",
       "       [0.],\n",
       "       [0.],\n",
       "       [0.],\n",
       "       [0.],\n",
       "       [0.],\n",
       "       [0.],\n",
       "       [0.],\n",
       "       [0.],\n",
       "       [0.],\n",
       "       [0.],\n",
       "       [0.],\n",
       "       [0.],\n",
       "       [0.],\n",
       "       [0.],\n",
       "       [0.]], dtype=float32)"
      ]
     },
     "execution_count": 241,
     "metadata": {},
     "output_type": "execute_result"
    }
   ],
   "source": [
    "predictions"
   ]
  },
  {
   "cell_type": "code",
   "execution_count": 242,
   "id": "1188acbf",
   "metadata": {},
   "outputs": [
    {
     "name": "stdout",
     "output_type": "stream",
     "text": [
      "              precision    recall  f1-score   support\n",
      "\n",
      "         0.0       0.96      0.91      0.93        53\n",
      "         1.0       0.17      0.33      0.22         3\n",
      "\n",
      "    accuracy                           0.88        56\n",
      "   macro avg       0.56      0.62      0.58        56\n",
      "weighted avg       0.92      0.88      0.89        56\n",
      "\n"
     ]
    }
   ],
   "source": [
    "from sklearn.metrics import confusion_matrix\n",
    "from sklearn.metrics import classification_report\n",
    "metricas = classification_report(testY, predictions)\n",
    "print(metricas)"
   ]
  },
  {
   "cell_type": "code",
   "execution_count": 243,
   "id": "72986cb2",
   "metadata": {},
   "outputs": [],
   "source": [
    "def calculate_accuracy_within_range(real_values, predicted_values, within_range=3):\n",
    "    real_values = np.ravel(real_values).astype(int)\n",
    "    predicted_values = np.ravel(predicted_values).astype(int)\n",
    "\n",
    "    stop_indexes = np.where(real_values == 1)[0]\n",
    "\n",
    "    correct_laps = []\n",
    "\n",
    "    for stop_index in stop_indexes:\n",
    "        start_index = max(0, stop_index - within_range + 1)\n",
    "        #Esto lo hago para que no se me pase de la ultima vuelta\n",
    "        end_index = min(len(predicted_values), stop_index + within_range) \n",
    "\n",
    "        if 1 in predicted_values[start_index:end_index + 1]:\n",
    "            correct_laps.append(stop_index+1)\n",
    "\n",
    "    precision = len(correct_laps) / len(stop_indexes) if len(stop_indexes) > 0 else 0\n",
    "\n",
    "    return precision, correct_laps"
   ]
  },
  {
   "cell_type": "code",
   "execution_count": 244,
   "id": "e508c872",
   "metadata": {},
   "outputs": [
    {
     "name": "stdout",
     "output_type": "stream",
     "text": [
      "Los resultados se han guardado en el archivo: ./resultados/LSTM_MSE_ROC_TRAIN181920_VAL21/alonso.txt\n"
     ]
    }
   ],
   "source": [
    "import sys\n",
    "\n",
    "# Guardar la salida actual para restaurarla más tarde\n",
    "original_stdout = sys.stdout\n",
    "\n",
    "# Nombre del archivo en el que se guardarán los resultados\n",
    "nombre_archivo = f\"./resultados/LSTM_MSE_ROC_TRAIN181920_VAL21/{piloto}.txt\"\n",
    "\n",
    "# Abrir el archivo en modo de escritura y redirigir la salida estándar a ese archivo\n",
    "with open(nombre_archivo, \"w\") as f:\n",
    "    sys.stdout = f\n",
    "\n",
    "    # Ahora todos los prints se guardarán en el archivo en lugar de mostrarse en la consola\n",
    "\n",
    "    from sklearn.metrics import confusion_matrix\n",
    "    from sklearn.metrics import classification_report\n",
    "\n",
    "    metricas = classification_report(testY, predictions)\n",
    "    print(metricas)\n",
    "\n",
    "    rango = 2\n",
    "    accuracy, correct_laps = calculate_accuracy_within_range(testY, predictions, within_range=rango)\n",
    "    print(f\"Exactitud dentro del rango de vueltas: {accuracy:.2f}\")\n",
    "    print(f\"Vueltas en las que se ha acertado la parada o está dentro del rango con rango seteado a {rango}: {correct_laps}\")\n",
    "\n",
    "    precision = accuracy  # En este caso, la precisión es igual a la exactitud dentro del rango\n",
    "    recall = 1.0  # Recall es 1.0, ya que solo estamos considerando las paradas reales dentro del rango\n",
    "    f1_score = 2 * (precision * recall) / (precision + recall)  # Calculamos el F1-score\n",
    "\n",
    "    print(f\"Precisión: {precision:.2f}\")\n",
    "    print(f\"F1-score: {f1_score:.2f}\")\n",
    "\n",
    "    accuracy, correct_laps = calculate_accuracy_within_range(testY, predictions, within_range=0)\n",
    "    print(f\"Exactitud sin rango de vueltas: {accuracy:.2f}\")\n",
    "\n",
    "    precision = accuracy  # En este caso, la precisión es igual a la exactitud dentro del rango\n",
    "    recall = 1.0  # Recall es 1.0, ya que solo estamos considerando las paradas reales dentro del rango\n",
    "    f1_score = 2 * (precision * recall) / (precision + recall)  # Calculamos el F1-score\n",
    "\n",
    "    print(f\"Precisión: {precision:.2f}\")\n",
    "    print(f\"F1-score: {f1_score:.2f}\")\n",
    "    \n",
    "    print(f\"El threeshold ha sido: {optimal_threshold}\")\n",
    "\n",
    "# Restaurar la salida estándar original\n",
    "sys.stdout = original_stdout\n",
    "\n",
    "print(\"Los resultados se han guardado en el archivo:\", nombre_archivo)"
   ]
  },
  {
   "cell_type": "code",
   "execution_count": null,
   "id": "65d2cb40",
   "metadata": {},
   "outputs": [],
   "source": []
  },
  {
   "cell_type": "code",
   "execution_count": null,
   "id": "f1ff38eb",
   "metadata": {},
   "outputs": [],
   "source": []
  }
 ],
 "metadata": {
  "kernelspec": {
   "display_name": "Python 3 (ipykernel)",
   "language": "python",
   "name": "python3"
  },
  "language_info": {
   "codemirror_mode": {
    "name": "ipython",
    "version": 3
   },
   "file_extension": ".py",
   "mimetype": "text/x-python",
   "name": "python",
   "nbconvert_exporter": "python",
   "pygments_lexer": "ipython3",
   "version": "3.10.9"
  }
 },
 "nbformat": 4,
 "nbformat_minor": 5
}
