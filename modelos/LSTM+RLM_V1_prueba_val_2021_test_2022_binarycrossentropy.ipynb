{
 "cells": [
  {
   "cell_type": "code",
   "execution_count": 93,
   "id": "9ee4b771",
   "metadata": {},
   "outputs": [],
   "source": [
    "import numpy as np\n",
    "from tensorflow.keras.models import Sequential\n",
    "from tensorflow.keras.layers import LSTM\n",
    "from tensorflow.keras.layers import Dense, Dropout\n",
    "from tensorflow import keras\n",
    "import pandas as pd\n",
    "from matplotlib import pyplot as plt\n",
    "from sklearn.preprocessing import StandardScaler, MinMaxScaler\n",
    "import seaborn as sns\n",
    "\n"
   ]
  },
  {
   "cell_type": "code",
   "execution_count": 94,
   "id": "b6688576",
   "metadata": {},
   "outputs": [],
   "source": [
    "vueltas = pd.read_csv(\"../dataset_todos_pilotos/final/laps_spain_final_v2.csv\")\n",
    "vueltas.drop(['nextPit'], axis = 1, inplace = True)"
   ]
  },
  {
   "cell_type": "code",
   "execution_count": 95,
   "id": "096f4b34",
   "metadata": {},
   "outputs": [
    {
     "name": "stderr",
     "output_type": "stream",
     "text": [
      "/var/folders/pd/wpkltt694qx207z03w_cmlbh0000gn/T/ipykernel_2089/1494221414.py:2: SettingWithCopyWarning: \n",
      "A value is trying to be set on a copy of a slice from a DataFrame\n",
      "\n",
      "See the caveats in the documentation: https://pandas.pydata.org/pandas-docs/stable/user_guide/indexing.html#returning-a-view-versus-a-copy\n",
      "  vueltas['makeStop'][0] = 0\n"
     ]
    }
   ],
   "source": [
    "vueltas['makeStop'] = vueltas['makeStop'].shift(1)   \n",
    "vueltas['makeStop'][0] = 0"
   ]
  },
  {
   "cell_type": "code",
   "execution_count": 96,
   "id": "9aafbad6",
   "metadata": {},
   "outputs": [
    {
     "name": "stderr",
     "output_type": "stream",
     "text": [
      "/var/folders/pd/wpkltt694qx207z03w_cmlbh0000gn/T/ipykernel_2089/3320588093.py:20: SettingWithCopyWarning: \n",
      "A value is trying to be set on a copy of a slice from a DataFrame\n",
      "\n",
      "See the caveats in the documentation: https://pandas.pydata.org/pandas-docs/stable/user_guide/indexing.html#returning-a-view-versus-a-copy\n",
      "  vueltas_train.drop(['Piloto'], axis = 1, inplace = True)\n"
     ]
    }
   ],
   "source": [
    "piloto=\"hamilton\"\n",
    "\n",
    "#vueltas = vueltas.drop(['Piloto'], axis = 1)\n",
    "\n",
    "#Entrenamiento con todos pilotos -> TODO\n",
    "\n",
    "vueltas_train = vueltas[vueltas['anyo'].isin([2018, 2019, 2020])]\n",
    "vueltas_validation = vueltas[vueltas['anyo'].isin([2021])]\n",
    "vueltas_test = vueltas[vueltas['anyo'] == 2022]\n",
    "\n",
    "#vueltas_train = vueltas_train[vueltas_train['Piloto'] == \"hamilton\"]\n",
    "\n",
    "#vueltas_validation = vueltas_validation[vueltas_validation['Piloto'] == \"max_verstappen\"]\n",
    "vueltas_test = vueltas_test[vueltas_test['Piloto'] == piloto]\n",
    "\n",
    "#vueltas_train = vueltas_train.drop(['anyo'], axis=1)\n",
    "vueltas_validation = vueltas_validation.drop(['anyo'], axis=1)\n",
    "\n",
    "vueltas_test = vueltas_test.drop(['anyo'], axis=1)\n",
    "vueltas_train.drop(['Piloto'], axis = 1, inplace = True)\n",
    "vueltas_test.drop(['Piloto'], axis = 1, inplace = True)\n",
    "vueltas_validation.drop(['Piloto'], axis = 1, inplace = True)\n",
    "vueltas_train = vueltas_train.drop(['Stint'], axis=1)\n",
    "vueltas_validation = vueltas_validation.drop(['Stint'], axis=1)\n",
    "vueltas_test = vueltas_test.drop(['Stint'], axis=1)\n",
    "\n",
    "vueltas_train = vueltas_train.astype('float')\n",
    "vueltas_validation = vueltas_validation.astype(float)\n",
    "vueltas_test = vueltas_test.astype(float)"
   ]
  },
  {
   "cell_type": "code",
   "execution_count": 97,
   "id": "b78f467c",
   "metadata": {},
   "outputs": [],
   "source": [
    "vueltas_train_18 = vueltas_train[vueltas_train['anyo'] == 2018]\n",
    "\n",
    "vueltas_train_18 = vueltas_train_18.drop('anyo', axis=1)\n",
    "vueltas_train_18['makeStop'] = vueltas_train_18['makeStop'].astype('int32')\n",
    "scaler = MinMaxScaler()\n",
    "scaler.fit(vueltas_train_18)\n",
    "vueltas_train_scaler_18= scaler.transform(vueltas_train_18)"
   ]
  },
  {
   "cell_type": "code",
   "execution_count": 98,
   "id": "19adc793",
   "metadata": {},
   "outputs": [],
   "source": [
    "vueltas_train_19 = vueltas_train[vueltas_train['anyo'] == 2019]\n",
    "\n",
    "vueltas_train_19 = vueltas_train_19.drop('anyo', axis=1)\n",
    "vueltas_train_19['makeStop'] = vueltas_train_19['makeStop'].astype('int32')\n",
    "\n",
    "scaler.fit(vueltas_train_19)\n",
    "vueltas_train_scaler_19= scaler.transform(vueltas_train_19)"
   ]
  },
  {
   "cell_type": "code",
   "execution_count": 99,
   "id": "2d4b9fef",
   "metadata": {},
   "outputs": [],
   "source": [
    "vueltas_train_20 = vueltas_train[vueltas_train['anyo'] == 2020]\n",
    "\n",
    "vueltas_train_20 = vueltas_train_20.drop('anyo', axis=1)\n",
    "vueltas_train_20['makeStop'] = vueltas_train_20['makeStop'].astype('int32')\n",
    "\n",
    "scaler.fit(vueltas_train_20)\n",
    "vueltas_train_scaler_20= scaler.transform(vueltas_train_20)"
   ]
  },
  {
   "cell_type": "code",
   "execution_count": 100,
   "id": "4b435a8e",
   "metadata": {},
   "outputs": [],
   "source": [
    "vueltas_test_scaler = scaler.transform(vueltas_test)\n",
    "vueltas_validation_scaler = scaler.transform(vueltas_validation)\n"
   ]
  },
  {
   "cell_type": "code",
   "execution_count": 101,
   "id": "83ece4da",
   "metadata": {},
   "outputs": [],
   "source": [
    "trainX = []\n",
    "trainY = []\n",
    "testX = []\n",
    "testY = []\n",
    "validationX = []\n",
    "validationY = []\n",
    "loopback = 8 # Esto es el numero de muestras que usara en el pasado \n",
    "future = 1 # Esto es el numero de hechos futuros que usará como salida a las 10 muestras del pasado\n",
    "\n",
    "for i in range (loopback, len(vueltas_train_scaler_18) -future +1):\n",
    "    trainX.append(vueltas_train_scaler_18[i-loopback:i, 0:vueltas_train_18.shape[1]])\n",
    "    trainY.append(vueltas_train_scaler_18[i + future - 1:i + future,5])\n",
    "    \n",
    "for i in range (loopback, len(vueltas_train_scaler_19) -future +1):\n",
    "    trainX.append(vueltas_train_scaler_19[i-loopback:i, 0:vueltas_train_19.shape[1]])\n",
    "    trainY.append(vueltas_train_scaler_19[i + future - 1:i + future,5])\n",
    "    \n",
    "for i in range (loopback, len(vueltas_train_scaler_20) -future +1):\n",
    "    trainX.append(vueltas_train_scaler_20[i-loopback:i, 0:vueltas_train_20.shape[1]])\n",
    "    trainY.append(vueltas_train_scaler_20[i + future - 1:i + future,5])\n",
    " \n",
    "for i in range (loopback, len(vueltas_test_scaler) -future +1):\n",
    "        testX.append(vueltas_test_scaler[i-loopback:i, 0:vueltas_test.shape[1]])\n",
    "        testY.append(vueltas_test_scaler[i + future - 1:i + future,5])\n",
    "        \n",
    "    \n",
    "for i in range (loopback, len(vueltas_validation_scaler) -future +1):\n",
    "    validationX.append(vueltas_validation_scaler[i-loopback:i, 0:vueltas_validation.shape[1]])\n",
    "    validationY.append(vueltas_validation_scaler[i + future - 1:i + future,5])"
   ]
  },
  {
   "cell_type": "code",
   "execution_count": 102,
   "id": "748744b3",
   "metadata": {},
   "outputs": [],
   "source": [
    "trainX, trainY, testX, testY, validationX, validationY = np.array(trainX), np.array(trainY), np.array(testX), np.array(testY), np.array(validationX), np.array(validationY)"
   ]
  },
  {
   "cell_type": "code",
   "execution_count": 103,
   "id": "ad8eaad8",
   "metadata": {
    "scrolled": true
   },
   "outputs": [
    {
     "data": {
      "text/plain": [
       "3019"
      ]
     },
     "execution_count": 103,
     "metadata": {},
     "output_type": "execute_result"
    }
   ],
   "source": [
    "trainX.shape[0]"
   ]
  },
  {
   "cell_type": "code",
   "execution_count": 104,
   "id": "f29f14b7",
   "metadata": {},
   "outputs": [
    {
     "data": {
      "text/plain": [
       "(56, 8, 18)"
      ]
     },
     "execution_count": 104,
     "metadata": {},
     "output_type": "execute_result"
    }
   ],
   "source": [
    "testX.shape"
   ]
  },
  {
   "cell_type": "code",
   "execution_count": 105,
   "id": "f16e12f8",
   "metadata": {},
   "outputs": [
    {
     "name": "stderr",
     "output_type": "stream",
     "text": [
      "2023-08-27 21:08:26.309540: I tensorflow/core/common_runtime/executor.cc:1197] [/device:CPU:0] (DEBUG INFO) Executor start aborting (this does not indicate an error and you can ignore this message): INVALID_ARGUMENT: You must feed a value for placeholder tensor 'gradients/split_2_grad/concat/split_2/split_dim' with dtype int32\n",
      "\t [[{{node gradients/split_2_grad/concat/split_2/split_dim}}]]\n",
      "2023-08-27 21:08:26.314236: I tensorflow/core/common_runtime/executor.cc:1197] [/device:CPU:0] (DEBUG INFO) Executor start aborting (this does not indicate an error and you can ignore this message): INVALID_ARGUMENT: You must feed a value for placeholder tensor 'gradients/split_grad/concat/split/split_dim' with dtype int32\n",
      "\t [[{{node gradients/split_grad/concat/split/split_dim}}]]\n",
      "2023-08-27 21:08:26.316449: I tensorflow/core/common_runtime/executor.cc:1197] [/device:CPU:0] (DEBUG INFO) Executor start aborting (this does not indicate an error and you can ignore this message): INVALID_ARGUMENT: You must feed a value for placeholder tensor 'gradients/split_1_grad/concat/split_1/split_dim' with dtype int32\n",
      "\t [[{{node gradients/split_1_grad/concat/split_1/split_dim}}]]\n"
     ]
    },
    {
     "name": "stdout",
     "output_type": "stream",
     "text": [
      "Model: \"sequential_3\"\n",
      "_________________________________________________________________\n",
      " Layer (type)                Output Shape              Param #   \n",
      "=================================================================\n",
      " lstm_6 (LSTM)               (None, 8, 256)            281600    \n",
      "                                                                 \n",
      " dropout_6 (Dropout)         (None, 8, 256)            0         \n",
      "                                                                 \n",
      " lstm_7 (LSTM)               (None, 128)               197120    \n",
      "                                                                 \n",
      " dropout_7 (Dropout)         (None, 128)               0         \n",
      "                                                                 \n"
     ]
    },
    {
     "name": "stderr",
     "output_type": "stream",
     "text": [
      "2023-08-27 21:08:26.695396: I tensorflow/core/common_runtime/executor.cc:1197] [/device:CPU:0] (DEBUG INFO) Executor start aborting (this does not indicate an error and you can ignore this message): INVALID_ARGUMENT: You must feed a value for placeholder tensor 'gradients/split_2_grad/concat/split_2/split_dim' with dtype int32\n",
      "\t [[{{node gradients/split_2_grad/concat/split_2/split_dim}}]]\n",
      "2023-08-27 21:08:26.700533: I tensorflow/core/common_runtime/executor.cc:1197] [/device:CPU:0] (DEBUG INFO) Executor start aborting (this does not indicate an error and you can ignore this message): INVALID_ARGUMENT: You must feed a value for placeholder tensor 'gradients/split_grad/concat/split/split_dim' with dtype int32\n",
      "\t [[{{node gradients/split_grad/concat/split/split_dim}}]]\n",
      "2023-08-27 21:08:26.703993: I tensorflow/core/common_runtime/executor.cc:1197] [/device:CPU:0] (DEBUG INFO) Executor start aborting (this does not indicate an error and you can ignore this message): INVALID_ARGUMENT: You must feed a value for placeholder tensor 'gradients/split_1_grad/concat/split_1/split_dim' with dtype int32\n",
      "\t [[{{node gradients/split_1_grad/concat/split_1/split_dim}}]]\n"
     ]
    },
    {
     "name": "stdout",
     "output_type": "stream",
     "text": [
      " dense_3 (Dense)             (None, 1)                 129       \n",
      "                                                                 \n",
      "=================================================================\n",
      "Total params: 478,849\n",
      "Trainable params: 478,849\n",
      "Non-trainable params: 0\n",
      "_________________________________________________________________\n"
     ]
    }
   ],
   "source": [
    "model = Sequential()\n",
    "model.add(LSTM(256, activation='tanh', input_shape=(trainX.shape[1], trainX.shape[2]), return_sequences=True))\n",
    "model.add(Dropout(0.2))\n",
    "model.add(LSTM(128, activation='tanh', return_sequences=False))\n",
    "model.add(Dropout(0.2))\n",
    "model.add(Dense(1, activation='sigmoid'))\n",
    "model.compile(optimizer=\"adam\", loss= \"binary_crossentropy\")\n",
    "model.summary()"
   ]
  },
  {
   "cell_type": "code",
   "execution_count": 106,
   "id": "d48f6c99",
   "metadata": {
    "scrolled": false
   },
   "outputs": [
    {
     "name": "stdout",
     "output_type": "stream",
     "text": [
      "Epoch 1/15\n"
     ]
    },
    {
     "name": "stderr",
     "output_type": "stream",
     "text": [
      "2023-08-27 21:08:27.783065: I tensorflow/core/common_runtime/executor.cc:1197] [/device:CPU:0] (DEBUG INFO) Executor start aborting (this does not indicate an error and you can ignore this message): INVALID_ARGUMENT: You must feed a value for placeholder tensor 'gradients/split_2_grad/concat/split_2/split_dim' with dtype int32\n",
      "\t [[{{node gradients/split_2_grad/concat/split_2/split_dim}}]]\n",
      "2023-08-27 21:08:27.785158: I tensorflow/core/common_runtime/executor.cc:1197] [/device:CPU:0] (DEBUG INFO) Executor start aborting (this does not indicate an error and you can ignore this message): INVALID_ARGUMENT: You must feed a value for placeholder tensor 'gradients/split_grad/concat/split/split_dim' with dtype int32\n",
      "\t [[{{node gradients/split_grad/concat/split/split_dim}}]]\n",
      "2023-08-27 21:08:27.790553: I tensorflow/core/common_runtime/executor.cc:1197] [/device:CPU:0] (DEBUG INFO) Executor start aborting (this does not indicate an error and you can ignore this message): INVALID_ARGUMENT: You must feed a value for placeholder tensor 'gradients/split_1_grad/concat/split_1/split_dim' with dtype int32\n",
      "\t [[{{node gradients/split_1_grad/concat/split_1/split_dim}}]]\n",
      "2023-08-27 21:08:28.294235: I tensorflow/core/common_runtime/executor.cc:1197] [/device:CPU:0] (DEBUG INFO) Executor start aborting (this does not indicate an error and you can ignore this message): INVALID_ARGUMENT: You must feed a value for placeholder tensor 'gradients/split_2_grad/concat/split_2/split_dim' with dtype int32\n",
      "\t [[{{node gradients/split_2_grad/concat/split_2/split_dim}}]]\n",
      "2023-08-27 21:08:28.296638: I tensorflow/core/common_runtime/executor.cc:1197] [/device:CPU:0] (DEBUG INFO) Executor start aborting (this does not indicate an error and you can ignore this message): INVALID_ARGUMENT: You must feed a value for placeholder tensor 'gradients/split_grad/concat/split/split_dim' with dtype int32\n",
      "\t [[{{node gradients/split_grad/concat/split/split_dim}}]]\n",
      "2023-08-27 21:08:28.299182: I tensorflow/core/common_runtime/executor.cc:1197] [/device:CPU:0] (DEBUG INFO) Executor start aborting (this does not indicate an error and you can ignore this message): INVALID_ARGUMENT: You must feed a value for placeholder tensor 'gradients/split_1_grad/concat/split_1/split_dim' with dtype int32\n",
      "\t [[{{node gradients/split_1_grad/concat/split_1/split_dim}}]]\n",
      "2023-08-27 21:08:29.976333: I tensorflow/core/common_runtime/executor.cc:1197] [/device:CPU:0] (DEBUG INFO) Executor start aborting (this does not indicate an error and you can ignore this message): INVALID_ARGUMENT: You must feed a value for placeholder tensor 'gradients/split_2_grad/concat/split_2/split_dim' with dtype int32\n",
      "\t [[{{node gradients/split_2_grad/concat/split_2/split_dim}}]]\n",
      "2023-08-27 21:08:29.984129: I tensorflow/core/common_runtime/executor.cc:1197] [/device:CPU:0] (DEBUG INFO) Executor start aborting (this does not indicate an error and you can ignore this message): INVALID_ARGUMENT: You must feed a value for placeholder tensor 'gradients/split_grad/concat/split/split_dim' with dtype int32\n",
      "\t [[{{node gradients/split_grad/concat/split/split_dim}}]]\n",
      "2023-08-27 21:08:29.986127: I tensorflow/core/common_runtime/executor.cc:1197] [/device:CPU:0] (DEBUG INFO) Executor start aborting (this does not indicate an error and you can ignore this message): INVALID_ARGUMENT: You must feed a value for placeholder tensor 'gradients/split_1_grad/concat/split_1/split_dim' with dtype int32\n",
      "\t [[{{node gradients/split_1_grad/concat/split_1/split_dim}}]]\n",
      "2023-08-27 21:08:30.464689: I tensorflow/core/common_runtime/executor.cc:1197] [/device:CPU:0] (DEBUG INFO) Executor start aborting (this does not indicate an error and you can ignore this message): INVALID_ARGUMENT: You must feed a value for placeholder tensor 'gradients/split_2_grad/concat/split_2/split_dim' with dtype int32\n",
      "\t [[{{node gradients/split_2_grad/concat/split_2/split_dim}}]]\n",
      "2023-08-27 21:08:30.466775: I tensorflow/core/common_runtime/executor.cc:1197] [/device:CPU:0] (DEBUG INFO) Executor start aborting (this does not indicate an error and you can ignore this message): INVALID_ARGUMENT: You must feed a value for placeholder tensor 'gradients/split_grad/concat/split/split_dim' with dtype int32\n",
      "\t [[{{node gradients/split_grad/concat/split/split_dim}}]]\n",
      "2023-08-27 21:08:30.468426: I tensorflow/core/common_runtime/executor.cc:1197] [/device:CPU:0] (DEBUG INFO) Executor start aborting (this does not indicate an error and you can ignore this message): INVALID_ARGUMENT: You must feed a value for placeholder tensor 'gradients/split_1_grad/concat/split_1/split_dim' with dtype int32\n",
      "\t [[{{node gradients/split_1_grad/concat/split_1/split_dim}}]]\n"
     ]
    },
    {
     "name": "stdout",
     "output_type": "stream",
     "text": [
      "38/38 [==============================] - ETA: 0s - loss: 0.1767"
     ]
    },
    {
     "name": "stderr",
     "output_type": "stream",
     "text": [
      "2023-08-27 21:08:37.887942: I tensorflow/core/common_runtime/executor.cc:1197] [/device:CPU:0] (DEBUG INFO) Executor start aborting (this does not indicate an error and you can ignore this message): INVALID_ARGUMENT: You must feed a value for placeholder tensor 'gradients/split_2_grad/concat/split_2/split_dim' with dtype int32\n",
      "\t [[{{node gradients/split_2_grad/concat/split_2/split_dim}}]]\n",
      "2023-08-27 21:08:37.896927: I tensorflow/core/common_runtime/executor.cc:1197] [/device:CPU:0] (DEBUG INFO) Executor start aborting (this does not indicate an error and you can ignore this message): INVALID_ARGUMENT: You must feed a value for placeholder tensor 'gradients/split_grad/concat/split/split_dim' with dtype int32\n",
      "\t [[{{node gradients/split_grad/concat/split/split_dim}}]]\n",
      "2023-08-27 21:08:37.900717: I tensorflow/core/common_runtime/executor.cc:1197] [/device:CPU:0] (DEBUG INFO) Executor start aborting (this does not indicate an error and you can ignore this message): INVALID_ARGUMENT: You must feed a value for placeholder tensor 'gradients/split_1_grad/concat/split_1/split_dim' with dtype int32\n",
      "\t [[{{node gradients/split_1_grad/concat/split_1/split_dim}}]]\n",
      "2023-08-27 21:08:38.691239: I tensorflow/core/common_runtime/executor.cc:1197] [/device:CPU:0] (DEBUG INFO) Executor start aborting (this does not indicate an error and you can ignore this message): INVALID_ARGUMENT: You must feed a value for placeholder tensor 'gradients/split_2_grad/concat/split_2/split_dim' with dtype int32\n",
      "\t [[{{node gradients/split_2_grad/concat/split_2/split_dim}}]]\n",
      "2023-08-27 21:08:38.694371: I tensorflow/core/common_runtime/executor.cc:1197] [/device:CPU:0] (DEBUG INFO) Executor start aborting (this does not indicate an error and you can ignore this message): INVALID_ARGUMENT: You must feed a value for placeholder tensor 'gradients/split_grad/concat/split/split_dim' with dtype int32\n",
      "\t [[{{node gradients/split_grad/concat/split/split_dim}}]]\n",
      "2023-08-27 21:08:38.695921: I tensorflow/core/common_runtime/executor.cc:1197] [/device:CPU:0] (DEBUG INFO) Executor start aborting (this does not indicate an error and you can ignore this message): INVALID_ARGUMENT: You must feed a value for placeholder tensor 'gradients/split_1_grad/concat/split_1/split_dim' with dtype int32\n",
      "\t [[{{node gradients/split_1_grad/concat/split_1/split_dim}}]]\n"
     ]
    },
    {
     "name": "stdout",
     "output_type": "stream",
     "text": [
      "38/38 [==============================] - 12s 112ms/step - loss: 0.1767 - val_loss: 0.1103\n",
      "Epoch 2/15\n",
      "38/38 [==============================] - 2s 66ms/step - loss: 0.1210 - val_loss: 0.1081\n",
      "Epoch 3/15\n",
      "38/38 [==============================] - 3s 87ms/step - loss: 0.1206 - val_loss: 0.1201\n",
      "Epoch 4/15\n",
      "38/38 [==============================] - 3s 79ms/step - loss: 0.1195 - val_loss: 0.1054\n",
      "Epoch 5/15\n",
      "38/38 [==============================] - 3s 74ms/step - loss: 0.1169 - val_loss: 0.1003\n",
      "Epoch 6/15\n",
      "38/38 [==============================] - 3s 84ms/step - loss: 0.1157 - val_loss: 0.0923\n",
      "Epoch 7/15\n",
      "38/38 [==============================] - 3s 67ms/step - loss: 0.1085 - val_loss: 0.1037\n",
      "Epoch 8/15\n",
      "38/38 [==============================] - 2s 63ms/step - loss: 0.1051 - val_loss: 0.1036\n",
      "Epoch 9/15\n",
      "38/38 [==============================] - 3s 67ms/step - loss: 0.1054 - val_loss: 0.0823\n",
      "Epoch 10/15\n",
      "38/38 [==============================] - 2s 64ms/step - loss: 0.0963 - val_loss: 0.0843\n",
      "Epoch 11/15\n",
      "38/38 [==============================] - 3s 67ms/step - loss: 0.0955 - val_loss: 0.0951\n",
      "Epoch 12/15\n",
      "38/38 [==============================] - 2s 59ms/step - loss: 0.0895 - val_loss: 0.0819\n",
      "Epoch 13/15\n",
      "38/38 [==============================] - 2s 54ms/step - loss: 0.0895 - val_loss: 0.0849\n",
      "Epoch 14/15\n",
      "38/38 [==============================] - 2s 52ms/step - loss: 0.0906 - val_loss: 0.0811\n",
      "Epoch 15/15\n",
      "38/38 [==============================] - 2s 54ms/step - loss: 0.0828 - val_loss: 0.0896\n"
     ]
    },
    {
     "data": {
      "text/plain": [
       "<matplotlib.legend.Legend at 0x7fb284dafbb0>"
      ]
     },
     "execution_count": 106,
     "metadata": {},
     "output_type": "execute_result"
    },
    {
     "data": {
      "image/png": "[encoded data removed]",
      "text/plain": [
       "<Figure size 640x480 with 1 Axes>"
      ]
     },
     "metadata": {},
     "output_type": "display_data"
    }
   ],
   "source": [
    "history = model.fit(trainX, trainY, epochs=15, batch_size=64, validation_split=0.2, verbose=1)\n",
    "\n",
    "plt.plot(history.history['loss'], label='Training loss')\n",
    "plt.legend()"
   ]
  },
  {
   "cell_type": "code",
   "execution_count": 107,
   "id": "e10c1eb5",
   "metadata": {},
   "outputs": [
    {
     "name": "stderr",
     "output_type": "stream",
     "text": [
      "2023-08-27 21:09:15.537835: I tensorflow/core/common_runtime/executor.cc:1197] [/device:CPU:0] (DEBUG INFO) Executor start aborting (this does not indicate an error and you can ignore this message): INVALID_ARGUMENT: You must feed a value for placeholder tensor 'gradients/split_2_grad/concat/split_2/split_dim' with dtype int32\n",
      "\t [[{{node gradients/split_2_grad/concat/split_2/split_dim}}]]\n",
      "2023-08-27 21:09:15.539634: I tensorflow/core/common_runtime/executor.cc:1197] [/device:CPU:0] (DEBUG INFO) Executor start aborting (this does not indicate an error and you can ignore this message): INVALID_ARGUMENT: You must feed a value for placeholder tensor 'gradients/split_grad/concat/split/split_dim' with dtype int32\n",
      "\t [[{{node gradients/split_grad/concat/split/split_dim}}]]\n",
      "2023-08-27 21:09:15.541793: I tensorflow/core/common_runtime/executor.cc:1197] [/device:CPU:0] (DEBUG INFO) Executor start aborting (this does not indicate an error and you can ignore this message): INVALID_ARGUMENT: You must feed a value for placeholder tensor 'gradients/split_1_grad/concat/split_1/split_dim' with dtype int32\n",
      "\t [[{{node gradients/split_1_grad/concat/split_1/split_dim}}]]\n",
      "2023-08-27 21:09:15.813765: I tensorflow/core/common_runtime/executor.cc:1197] [/device:CPU:0] (DEBUG INFO) Executor start aborting (this does not indicate an error and you can ignore this message): INVALID_ARGUMENT: You must feed a value for placeholder tensor 'gradients/split_2_grad/concat/split_2/split_dim' with dtype int32\n",
      "\t [[{{node gradients/split_2_grad/concat/split_2/split_dim}}]]\n",
      "2023-08-27 21:09:15.815592: I tensorflow/core/common_runtime/executor.cc:1197] [/device:CPU:0] (DEBUG INFO) Executor start aborting (this does not indicate an error and you can ignore this message): INVALID_ARGUMENT: You must feed a value for placeholder tensor 'gradients/split_grad/concat/split/split_dim' with dtype int32\n",
      "\t [[{{node gradients/split_grad/concat/split/split_dim}}]]\n",
      "2023-08-27 21:09:15.817358: I tensorflow/core/common_runtime/executor.cc:1197] [/device:CPU:0] (DEBUG INFO) Executor start aborting (this does not indicate an error and you can ignore this message): INVALID_ARGUMENT: You must feed a value for placeholder tensor 'gradients/split_1_grad/concat/split_1/split_dim' with dtype int32\n",
      "\t [[{{node gradients/split_1_grad/concat/split_1/split_dim}}]]\n"
     ]
    },
    {
     "name": "stdout",
     "output_type": "stream",
     "text": [
      "2/2 [==============================] - 1s 16ms/step\n"
     ]
    }
   ],
   "source": [
    "predictions_test = model.predict(testX)"
   ]
  },
  {
   "cell_type": "code",
   "execution_count": 108,
   "id": "662b3e80",
   "metadata": {},
   "outputs": [
    {
     "data": {
      "text/plain": [
       "array([[0.00125209],\n",
       "       [0.00154136],\n",
       "       [0.00158444],\n",
       "       [0.0016197 ],\n",
       "       [0.00151127],\n",
       "       [0.00120431],\n",
       "       [0.00112187],\n",
       "       [0.00099482],\n",
       "       [0.0010177 ],\n",
       "       [0.00103901],\n",
       "       [0.00106234],\n",
       "       [0.00112795],\n",
       "       [0.00114922],\n",
       "       [0.00118189],\n",
       "       [0.00051574],\n",
       "       [0.00045189],\n",
       "       [0.00036676],\n",
       "       [0.0003108 ],\n",
       "       [0.00027171],\n",
       "       [0.00024238],\n",
       "       [0.00022276],\n",
       "       [0.0002275 ],\n",
       "       [0.00034806],\n",
       "       [0.0003559 ],\n",
       "       [0.00036818],\n",
       "       [0.00038099],\n",
       "       [0.00040403],\n",
       "       [0.00043442],\n",
       "       [0.00044664],\n",
       "       [0.00045724],\n",
       "       [0.00046913],\n",
       "       [0.00047436],\n",
       "       [0.00048234],\n",
       "       [0.00048817],\n",
       "       [0.00049621],\n",
       "       [0.00051378],\n",
       "       [0.00051932],\n",
       "       [0.00052596],\n",
       "       [0.00053165],\n",
       "       [0.00053948],\n",
       "       [0.00035138],\n",
       "       [0.00037123],\n",
       "       [0.00036098],\n",
       "       [0.00035718],\n",
       "       [0.00035116],\n",
       "       [0.00034452],\n",
       "       [0.00034323],\n",
       "       [0.00036015],\n",
       "       [0.00060206],\n",
       "       [0.00061417],\n",
       "       [0.00061827],\n",
       "       [0.00063005],\n",
       "       [0.00064005],\n",
       "       [0.00064844],\n",
       "       [0.00065747],\n",
       "       [0.00066659]], dtype=float32)"
      ]
     },
     "execution_count": 108,
     "metadata": {},
     "output_type": "execute_result"
    }
   ],
   "source": [
    "predictions_test"
   ]
  },
  {
   "cell_type": "markdown",
   "id": "784251d6",
   "metadata": {},
   "source": [
    "##PRUEBAS\n",
    " 1. PILOTO A PILOTO, probar 4-5 pilotos\n",
    " 2. Todos los pilotos (entrenamiento y test)\n",
    "\n",
    "Entrenamiento: Del 18 al 21 y test 22 -> Calcular el threeshold aqui con 0.5\n",
    "Entrenamiento: Del 18 al 20 y val 21 -> Sacar threeshold y con eso calcular del año 22 (ventanas y sin ventanas +-2)\n",
    "Meter en la de todos los pilotos, meter una variable cualitativa con el name del piloto (no borrarla)\n",
    "Todas estas pruebas con mse y con binary_crossentropy\n",
    "\n",
    "Entrenar modelos varias veces para ver variabilidad, es decir, cada prueba 5 veces para logearlos en fichero y sacar media\n",
    "\n",
    "\n",
    "Probar con mas capas, otras configuraciones de red neuronal (mirar parámetros, modificar los batches (mayor mejor), modificar capas, vector de la capa...)\n",
    "\n",
    "\n",
    "\n",
    "\n"
   ]
  },
  {
   "cell_type": "code",
   "execution_count": 109,
   "id": "571b3d2d",
   "metadata": {
    "scrolled": true
   },
   "outputs": [
    {
     "data": {
      "text/plain": [
       "array([0., 1.])"
      ]
     },
     "execution_count": 109,
     "metadata": {},
     "output_type": "execute_result"
    }
   ],
   "source": [
    "clases = np.unique(validationY[:,0]) \n",
    "clases"
   ]
  },
  {
   "cell_type": "code",
   "execution_count": 110,
   "id": "9928d8d7",
   "metadata": {
    "scrolled": false
   },
   "outputs": [],
   "source": [
    "f = lambda x: np.argwhere(x == clases)\n",
    "f = np.vectorize(f)\n",
    "y_real = f(validationY[:,0])"
   ]
  },
  {
   "cell_type": "code",
   "execution_count": 111,
   "id": "e8ed4bcf",
   "metadata": {},
   "outputs": [
    {
     "data": {
      "text/plain": [
       "array([0., 0., 0., ..., 0., 0., 0.])"
      ]
     },
     "execution_count": 111,
     "metadata": {},
     "output_type": "execute_result"
    }
   ],
   "source": [
    "validationY[:,0]"
   ]
  },
  {
   "cell_type": "code",
   "execution_count": 112,
   "id": "09d7b527",
   "metadata": {},
   "outputs": [
    {
     "data": {
      "text/plain": [
       "array([0, 0, 0, ..., 0, 0, 0])"
      ]
     },
     "execution_count": 112,
     "metadata": {},
     "output_type": "execute_result"
    }
   ],
   "source": [
    "y_real"
   ]
  },
  {
   "cell_type": "code",
   "execution_count": 113,
   "id": "01570325",
   "metadata": {},
   "outputs": [
    {
     "name": "stdout",
     "output_type": "stream",
     "text": [
      "33/33 [==============================] - 0s 11ms/step\n"
     ]
    }
   ],
   "source": [
    "#AQUI ES CON LOS DATOS DE VALIDADACION\n",
    "predictions = model.predict(validationX)"
   ]
  },
  {
   "cell_type": "code",
   "execution_count": 114,
   "id": "8e720daf",
   "metadata": {},
   "outputs": [
    {
     "data": {
      "text/plain": [
       "<matplotlib.collections.PathCollection at 0x7fb2988e0ee0>"
      ]
     },
     "execution_count": 114,
     "metadata": {},
     "output_type": "execute_result"
    },
    {
     "data": {
      "image/png": "[encoded data removed]",
      "text/plain": [
       "<Figure size 640x480 with 1 Axes>"
      ]
     },
     "metadata": {},
     "output_type": "display_data"
    }
   ],
   "source": [
    "plt.scatter(predictions[:,0], predictions[:,0], s=1, c=y_real+1)"
   ]
  },
  {
   "cell_type": "code",
   "execution_count": 115,
   "id": "66383536",
   "metadata": {},
   "outputs": [],
   "source": [
    "y_real_train = f(trainY[:,0])"
   ]
  },
  {
   "cell_type": "code",
   "execution_count": 116,
   "id": "faad911b",
   "metadata": {},
   "outputs": [
    {
     "data": {
      "text/plain": [
       "array([0, 0, 0, ..., 0, 0, 0])"
      ]
     },
     "execution_count": 116,
     "metadata": {},
     "output_type": "execute_result"
    }
   ],
   "source": [
    "y_real_train"
   ]
  },
  {
   "cell_type": "code",
   "execution_count": 117,
   "id": "4c08176c",
   "metadata": {
    "scrolled": true
   },
   "outputs": [
    {
     "name": "stdout",
     "output_type": "stream",
     "text": [
      "2/2 [==============================] - 0s 18ms/step\n"
     ]
    }
   ],
   "source": [
    "predictions_test = model.predict(testX)"
   ]
  },
  {
   "cell_type": "code",
   "execution_count": 118,
   "id": "493fc277",
   "metadata": {},
   "outputs": [],
   "source": [
    "y_real_test =  f(testY[:,0])"
   ]
  },
  {
   "cell_type": "code",
   "execution_count": 119,
   "id": "a3924feb",
   "metadata": {},
   "outputs": [],
   "source": [
    "#from sklearn.model_selection import train_test_split\n",
    "#X_train, X_test, y_train, y_test = train_test_split(predictions, y_real, test_size=0.3, stratify=y_real)"
   ]
  },
  {
   "cell_type": "code",
   "execution_count": 120,
   "id": "618ed0a4",
   "metadata": {},
   "outputs": [],
   "source": [
    "from sklearn.linear_model import LogisticRegression\n",
    "rl = LogisticRegression(random_state=0, penalty=None).fit(predictions, y_real) # Esto es de validacion"
   ]
  },
  {
   "cell_type": "code",
   "execution_count": 121,
   "id": "365ec7d2",
   "metadata": {},
   "outputs": [],
   "source": [
    "pred_test_2 = rl.predict(predictions_test)"
   ]
  },
  {
   "cell_type": "code",
   "execution_count": 122,
   "id": "c1c4661d",
   "metadata": {
    "scrolled": true
   },
   "outputs": [
    {
     "name": "stderr",
     "output_type": "stream",
     "text": [
      "/Users/sergio/anaconda3/lib/python3.10/site-packages/sklearn/metrics/_classification.py:1344: UndefinedMetricWarning: Precision and F-score are ill-defined and being set to 0.0 in labels with no predicted samples. Use `zero_division` parameter to control this behavior.\n",
      "  _warn_prf(average, modifier, msg_start, len(result))\n",
      "/Users/sergio/anaconda3/lib/python3.10/site-packages/sklearn/metrics/_classification.py:1344: UndefinedMetricWarning: Precision and F-score are ill-defined and being set to 0.0 in labels with no predicted samples. Use `zero_division` parameter to control this behavior.\n",
      "  _warn_prf(average, modifier, msg_start, len(result))\n",
      "/Users/sergio/anaconda3/lib/python3.10/site-packages/sklearn/metrics/_classification.py:1344: UndefinedMetricWarning: Precision and F-score are ill-defined and being set to 0.0 in labels with no predicted samples. Use `zero_division` parameter to control this behavior.\n",
      "  _warn_prf(average, modifier, msg_start, len(result))\n"
     ]
    }
   ],
   "source": [
    "from sklearn.metrics import confusion_matrix\n",
    "from sklearn.metrics import classification_report\n",
    "cm = confusion_matrix(y_real_test, pred_test_2)\n",
    "metricas = classification_report(y_real_test, pred_test_2)"
   ]
  },
  {
   "cell_type": "code",
   "execution_count": 92,
   "id": "d9c3670e",
   "metadata": {},
   "outputs": [
    {
     "name": "stdout",
     "output_type": "stream",
     "text": [
      "[[54  0]\n",
      " [ 2  0]]\n",
      "              precision    recall  f1-score   support\n",
      "\n",
      "           0       0.96      1.00      0.98        54\n",
      "           1       0.00      0.00      0.00         2\n",
      "\n",
      "    accuracy                           0.96        56\n",
      "   macro avg       0.48      0.50      0.49        56\n",
      "weighted avg       0.93      0.96      0.95        56\n",
      "\n"
     ]
    }
   ],
   "source": [
    "print(cm)\n",
    "print(metricas)"
   ]
  },
  {
   "cell_type": "code",
   "execution_count": null,
   "id": "aa51e4c2",
   "metadata": {},
   "outputs": [],
   "source": []
  },
  {
   "cell_type": "code",
   "execution_count": null,
   "id": "2d7399ca",
   "metadata": {},
   "outputs": [],
   "source": []
  }
 ],
 "metadata": {
  "kernelspec": {
   "display_name": "Python 3 (ipykernel)",
   "language": "python",
   "name": "python3"
  },
  "language_info": {
   "codemirror_mode": {
    "name": "ipython",
    "version": 3
   },
   "file_extension": ".py",
   "mimetype": "text/x-python",
   "name": "python",
   "nbconvert_exporter": "python",
   "pygments_lexer": "ipython3",
   "version": "3.10.9"
  }
 },
 "nbformat": 4,
 "nbformat_minor": 5
}
