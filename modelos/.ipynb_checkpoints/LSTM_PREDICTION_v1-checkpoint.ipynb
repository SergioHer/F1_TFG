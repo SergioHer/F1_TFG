{
 "cells": [
  {
   "cell_type": "code",
   "execution_count": 1,
   "id": "32c7e2d9",
   "metadata": {},
   "outputs": [
    {
     "name": "stderr",
     "output_type": "stream",
     "text": [
      "2023-08-25 14:22:53.011278: I tensorflow/core/platform/cpu_feature_guard.cc:182] This TensorFlow binary is optimized to use available CPU instructions in performance-critical operations.\n",
      "To enable the following instructions: AVX2 FMA, in other operations, rebuild TensorFlow with the appropriate compiler flags.\n"
     ]
    }
   ],
   "source": [
    "import numpy as np\n",
    "from tensorflow.keras.models import Sequential\n",
    "from tensorflow.keras.layers import LSTM\n",
    "from tensorflow.keras.layers import Dense, Dropout\n",
    "import pandas as pd\n",
    "from matplotlib import pyplot as plt\n",
    "from sklearn.preprocessing import StandardScaler, MinMaxScaler\n",
    "import seaborn as sns\n",
    "from sklearn.metrics import confusion_matrix, classification_report\n",
    "import warnings\n",
    "\n",
    "# Suppress FutureWarnings\n",
    "warnings.simplefilter(action='ignore', category=FutureWarning)"
   ]
  },
  {
   "cell_type": "code",
   "execution_count": 46,
   "id": "06ab3596",
   "metadata": {},
   "outputs": [],
   "source": [
    "vueltas = pd.read_csv(\"../dataset_todos_pilotos/vueltas_spain_final.csv\")\n",
    "vueltas.drop(['nextPit'], axis = 1, inplace = True)\n",
    "vueltas.drop(['makeStop'], axis = 1, inplace = True)\n"
   ]
  },
  {
   "cell_type": "markdown",
   "id": "320a0be8",
   "metadata": {},
   "source": [
    "### Vamos a limpiarlo un poco mas..."
   ]
  },
  {
   "cell_type": "code",
   "execution_count": 47,
   "id": "0aa7107a",
   "metadata": {},
   "outputs": [],
   "source": [
    "vueltas_train = vueltas[vueltas['anyo'].isin([2018, 2019, 2020, 2021])]\n",
    "vueltas_test = vueltas[vueltas['anyo'] == 2022]\n",
    "vueltas_test = vueltas_test[vueltas_test['Piloto'] == 'bottas']\n"
   ]
  },
  {
   "cell_type": "code",
   "execution_count": 48,
   "id": "3adc9b2e",
   "metadata": {},
   "outputs": [],
   "source": [
    "vueltas_train = vueltas_train.drop(['anyo'], axis=1)\n",
    "vueltas_train.drop(['Piloto'], axis = 1, inplace = True)\n",
    "vueltas_test = vueltas_test.drop(['anyo'], axis=1)\n",
    "vueltas_test.drop(['Piloto'], axis = 1, inplace = True)\n"
   ]
  },
  {
   "cell_type": "code",
   "execution_count": 49,
   "id": "72754df2",
   "metadata": {},
   "outputs": [],
   "source": [
    "vueltas_train = vueltas_train.astype(float)\n",
    "vueltas_test = vueltas_test.astype(float)"
   ]
  },
  {
   "cell_type": "code",
   "execution_count": 50,
   "id": "63e70427",
   "metadata": {},
   "outputs": [],
   "source": [
    "scaler = MinMaxScaler()\n",
    "scaler.fit(vueltas_train)\n",
    "vueltas_train_scaler = scaler.transform(vueltas_train)\n",
    "vueltas_test_scaler = scaler.transform(vueltas_test)"
   ]
  },
  {
   "cell_type": "code",
   "execution_count": 51,
   "id": "ca9b67f2",
   "metadata": {},
   "outputs": [],
   "source": [
    "trainX = []\n",
    "trainY = []\n",
    "testX = []\n",
    "testY = []\n",
    "loopback = 10 # Esto es el numero de muestras que usara en el pasado \n",
    "future = 1 # Esto es el numero de hechos futuros que usará como salida a las 10 muestras del pasado\n",
    "\n",
    "for i in range (loopback, len(vueltas_train_scaler) -future +1):\n",
    "    trainX.append(vueltas_train_scaler[i-loopback:i, 0:vueltas_train.shape[1]])\n",
    "    trainY.append(vueltas_train_scaler[i + future - 1:i + future, 5])\n",
    "    \n",
    "for i in range (loopback, len(vueltas_test_scaler) -future +1):\n",
    "    testX.append(vueltas_test_scaler[i-loopback:i, 0:vueltas_test.shape[1]])\n",
    "    testY.append(vueltas_test_scaler[i + future - 1:i + future,5])"
   ]
  },
  {
   "cell_type": "code",
   "execution_count": 52,
   "id": "9e056980",
   "metadata": {},
   "outputs": [],
   "source": [
    "trainX, trainY, testX, testY = np.array(trainX), np.array(trainY), np.array(testX), np.array(testY)"
   ]
  },
  {
   "cell_type": "code",
   "execution_count": 53,
   "id": "ff0fec0e",
   "metadata": {},
   "outputs": [],
   "source": [
    "model = Sequential()\n",
    "model.add(LSTM(256, activation='relu', input_shape=(trainX.shape[1], trainX.shape[2]), return_sequences=True))\n",
    "model.add(Dropout(0.2))\n",
    "model.add(LSTM(128, activation='relu', return_sequences=False))\n",
    "model.add(Dropout(0.2))\n",
    "model.add(Dense(1))"
   ]
  },
  {
   "cell_type": "code",
   "execution_count": 54,
   "id": "8d6435f4",
   "metadata": {},
   "outputs": [
    {
     "name": "stdout",
     "output_type": "stream",
     "text": [
      "Model: \"sequential_2\"\n",
      "_________________________________________________________________\n",
      " Layer (type)                Output Shape              Param #   \n",
      "=================================================================\n",
      " lstm_4 (LSTM)               (None, 10, 256)           281600    \n",
      "                                                                 \n",
      " dropout_4 (Dropout)         (None, 10, 256)           0         \n",
      "                                                                 \n",
      " lstm_5 (LSTM)               (None, 128)               197120    \n",
      "                                                                 \n",
      " dropout_5 (Dropout)         (None, 128)               0         \n",
      "                                                                 \n",
      " dense_2 (Dense)             (None, 1)                 129       \n",
      "                                                                 \n",
      "=================================================================\n",
      "Total params: 478,849\n",
      "Trainable params: 478,849\n",
      "Non-trainable params: 0\n",
      "_________________________________________________________________\n"
     ]
    }
   ],
   "source": [
    "model.compile(optimizer=\"adam\", loss= \"mse\") ##Cambiar esto para la siguiente reunion (positivo 1, negativo 0)\n",
    "model.summary()"
   ]
  },
  {
   "cell_type": "code",
   "execution_count": 55,
   "id": "5596f13d",
   "metadata": {},
   "outputs": [
    {
     "name": "stdout",
     "output_type": "stream",
     "text": [
      "Epoch 1/15\n",
      "58/58 [==============================] - 5s 46ms/step - loss: 0.0352 - val_loss: 0.0310\n",
      "Epoch 2/15\n",
      "58/58 [==============================] - 2s 41ms/step - loss: 0.0164 - val_loss: 0.0230\n",
      "Epoch 3/15\n",
      "58/58 [==============================] - 2s 41ms/step - loss: 0.0135 - val_loss: 0.0197\n",
      "Epoch 4/15\n",
      "58/58 [==============================] - 2s 41ms/step - loss: 0.0116 - val_loss: 0.0163\n",
      "Epoch 5/15\n",
      "58/58 [==============================] - 2s 41ms/step - loss: 0.0109 - val_loss: 0.0132\n",
      "Epoch 6/15\n",
      "58/58 [==============================] - 2s 41ms/step - loss: 0.0100 - val_loss: 0.0163\n",
      "Epoch 7/15\n",
      "58/58 [==============================] - 2s 41ms/step - loss: 0.0097 - val_loss: 0.0133\n",
      "Epoch 8/15\n",
      "58/58 [==============================] - 2s 41ms/step - loss: 0.0094 - val_loss: 0.0138\n",
      "Epoch 9/15\n",
      "58/58 [==============================] - 2s 40ms/step - loss: 0.0097 - val_loss: 0.0123\n",
      "Epoch 10/15\n",
      "58/58 [==============================] - 2s 41ms/step - loss: 0.0088 - val_loss: 0.0123\n",
      "Epoch 11/15\n",
      "58/58 [==============================] - 2s 41ms/step - loss: 0.0087 - val_loss: 0.0120\n",
      "Epoch 12/15\n",
      "58/58 [==============================] - 2s 41ms/step - loss: 0.0082 - val_loss: 0.0116\n",
      "Epoch 13/15\n",
      "58/58 [==============================] - 2s 41ms/step - loss: 0.0082 - val_loss: 0.0113\n",
      "Epoch 14/15\n",
      "58/58 [==============================] - 2s 41ms/step - loss: 0.0080 - val_loss: 0.0113\n",
      "Epoch 15/15\n",
      "58/58 [==============================] - 2s 41ms/step - loss: 0.0079 - val_loss: 0.0120\n"
     ]
    },
    {
     "data": {
      "text/plain": [
       "<matplotlib.legend.Legend at 0x7fa570220cd0>"
      ]
     },
     "execution_count": 55,
     "metadata": {},
     "output_type": "execute_result"
    },
    {
     "data": {
      "image/png": "[encoded data removed]",
      "text/plain": [
       "<Figure size 640x480 with 1 Axes>"
      ]
     },
     "metadata": {},
     "output_type": "display_data"
    }
   ],
   "source": [
    "history = model.fit(trainX, trainY, epochs=15, batch_size=64, validation_split=0.1, verbose=1)\n",
    "\n",
    "plt.plot(history.history['loss'], label='Training loss')\n",
    "plt.plot(history.history['val_loss'], label='Validation loss')\n",
    "plt.legend()"
   ]
  },
  {
   "cell_type": "markdown",
   "id": "8d3ff0ba",
   "metadata": {},
   "source": [
    "### Sacar métricas de lo que falla. Con el unique, ver a cual se acerca más. Sacar matrix_confusion, con este modelo."
   ]
  },
  {
   "cell_type": "markdown",
   "id": "51365bdd",
   "metadata": {},
   "source": [
    "### Ahora vamos a sacar todas las Y^ y todas las y."
   ]
  },
  {
   "cell_type": "code",
   "execution_count": 56,
   "id": "666de1dc",
   "metadata": {},
   "outputs": [],
   "source": [
    "y_real = testY.tolist()"
   ]
  },
  {
   "cell_type": "code",
   "execution_count": 57,
   "id": "5abf0072",
   "metadata": {},
   "outputs": [
    {
     "name": "stdout",
     "output_type": "stream",
     "text": [
      "2/2 [==============================] - 0s 11ms/step\n"
     ]
    }
   ],
   "source": [
    "y_pred = model.predict(testX)     "
   ]
  },
  {
   "cell_type": "code",
   "execution_count": 58,
   "id": "a3287234",
   "metadata": {},
   "outputs": [
    {
     "data": {
      "text/plain": [
       "[[0.0],\n",
       " [0.0],\n",
       " [0.0],\n",
       " [0.3333333333333333],\n",
       " [0.3333333333333333],\n",
       " [0.3333333333333333],\n",
       " [0.3333333333333333],\n",
       " [0.3333333333333333],\n",
       " [0.3333333333333333],\n",
       " [0.3333333333333333],\n",
       " [0.3333333333333333],\n",
       " [0.3333333333333333],\n",
       " [0.3333333333333333],\n",
       " [0.3333333333333333],\n",
       " [0.3333333333333333],\n",
       " [0.3333333333333333],\n",
       " [0.3333333333333333],\n",
       " [0.3333333333333333],\n",
       " [0.3333333333333333],\n",
       " [0.3333333333333333],\n",
       " [0.3333333333333333],\n",
       " [0.3333333333333333],\n",
       " [0.3333333333333333],\n",
       " [0.6666666666666667],\n",
       " [0.6666666666666667],\n",
       " [0.6666666666666667],\n",
       " [0.6666666666666667],\n",
       " [0.6666666666666667],\n",
       " [0.6666666666666667],\n",
       " [0.6666666666666667],\n",
       " [0.6666666666666667],\n",
       " [0.6666666666666667],\n",
       " [0.6666666666666667],\n",
       " [0.6666666666666667],\n",
       " [0.6666666666666667],\n",
       " [0.6666666666666667],\n",
       " [0.6666666666666667],\n",
       " [0.6666666666666667],\n",
       " [0.6666666666666667],\n",
       " [0.6666666666666667],\n",
       " [0.6666666666666667],\n",
       " [0.6666666666666667],\n",
       " [0.6666666666666667],\n",
       " [0.6666666666666667],\n",
       " [0.6666666666666667],\n",
       " [0.6666666666666667],\n",
       " [0.6666666666666667],\n",
       " [0.6666666666666667],\n",
       " [0.6666666666666667],\n",
       " [0.6666666666666667],\n",
       " [0.6666666666666667],\n",
       " [0.6666666666666667],\n",
       " [0.6666666666666667],\n",
       " [0.6666666666666667]]"
      ]
     },
     "execution_count": 58,
     "metadata": {},
     "output_type": "execute_result"
    }
   ],
   "source": [
    "y_real"
   ]
  },
  {
   "cell_type": "code",
   "execution_count": 59,
   "id": "c2b50f87",
   "metadata": {},
   "outputs": [
    {
     "data": {
      "text/plain": [
       "array([[0.12766606],\n",
       "       [0.13332051],\n",
       "       [0.1374321 ],\n",
       "       [0.14274015],\n",
       "       [0.36381847],\n",
       "       [0.37777072],\n",
       "       [0.383856  ],\n",
       "       [0.3777935 ],\n",
       "       [0.38268387],\n",
       "       [0.38564378],\n",
       "       [0.3840454 ],\n",
       "       [0.38158876],\n",
       "       [0.3809495 ],\n",
       "       [0.3784777 ],\n",
       "       [0.3799125 ],\n",
       "       [0.3802359 ],\n",
       "       [0.37341893],\n",
       "       [0.37582636],\n",
       "       [0.3826369 ],\n",
       "       [0.38863546],\n",
       "       [0.39634615],\n",
       "       [0.40055662],\n",
       "       [0.40318057],\n",
       "       [0.40570152],\n",
       "       [0.5302523 ],\n",
       "       [0.57057387],\n",
       "       [0.587972  ],\n",
       "       [0.60541207],\n",
       "       [0.61327475],\n",
       "       [0.6159145 ],\n",
       "       [0.6181876 ],\n",
       "       [0.621399  ],\n",
       "       [0.62303203],\n",
       "       [0.6213549 ],\n",
       "       [0.61975807],\n",
       "       [0.61871403],\n",
       "       [0.61684364],\n",
       "       [0.6167528 ],\n",
       "       [0.6144588 ],\n",
       "       [0.61368793],\n",
       "       [0.6122149 ],\n",
       "       [0.61406034],\n",
       "       [0.6170303 ],\n",
       "       [0.6147496 ],\n",
       "       [0.61237913],\n",
       "       [0.6107283 ],\n",
       "       [0.6081955 ],\n",
       "       [0.6123802 ],\n",
       "       [0.60665697],\n",
       "       [0.6039805 ],\n",
       "       [0.59872407],\n",
       "       [0.5842553 ],\n",
       "       [0.57768047],\n",
       "       [0.57329464]], dtype=float32)"
      ]
     },
     "execution_count": 59,
     "metadata": {},
     "output_type": "execute_result"
    }
   ],
   "source": [
    "y_pred"
   ]
  },
  {
   "cell_type": "code",
   "execution_count": 60,
   "id": "22b92d3a",
   "metadata": {},
   "outputs": [],
   "source": [
    "uniques = set(tuple(x) for x in y_real)\n",
    "uniques = [list(x) for x in uniques]"
   ]
  },
  {
   "cell_type": "code",
   "execution_count": 61,
   "id": "b06b9c5f",
   "metadata": {},
   "outputs": [
    {
     "data": {
      "text/plain": [
       "[[0.0], [0.6666666666666667], [0.3333333333333333]]"
      ]
     },
     "execution_count": 61,
     "metadata": {},
     "output_type": "execute_result"
    }
   ],
   "source": [
    "uniques"
   ]
  },
  {
   "cell_type": "code",
   "execution_count": 62,
   "id": "978f3d10",
   "metadata": {},
   "outputs": [],
   "source": [
    "y_pred_normalized = []\n",
    "for val in y_pred:\n",
    "    dist = [abs(val-x[0]) for x in uniques]\n",
    "    closest_val = uniques[np.argmin(dist)][0]\n",
    "    y_pred_normalized.append(closest_val)\n"
   ]
  },
  {
   "cell_type": "code",
   "execution_count": 63,
   "id": "9c85dd09",
   "metadata": {},
   "outputs": [],
   "source": [
    "bien_predecidas = 0\n",
    "mal_predecidas = 0\n",
    "\n",
    "for i in range (0, len(y_real)):\n",
    "    if y_pred_normalized[i] == y_real[i][0]:\n",
    "        bien_predecidas += 1\n",
    "    else:\n",
    "        mal_predecidas += 1\n",
    "\n",
    "precision = bien_predecidas/(mal_predecidas+bien_predecidas)      "
   ]
  },
  {
   "cell_type": "code",
   "execution_count": 64,
   "id": "03142d0a",
   "metadata": {},
   "outputs": [
    {
     "name": "stdout",
     "output_type": "stream",
     "text": [
      "El modelo tiene una precision de:  0.9629629629629629\n"
     ]
    }
   ],
   "source": [
    "print(\"El modelo tiene una precision de: \", precision)"
   ]
  },
  {
   "cell_type": "code",
   "execution_count": 65,
   "id": "7dd92b70",
   "metadata": {},
   "outputs": [],
   "source": [
    "y_real_str = [str(value[0]) for value in y_real]\n",
    "y_pred_normalized_str = [str(value) for value in y_pred_normalized]"
   ]
  },
  {
   "cell_type": "code",
   "execution_count": 66,
   "id": "5c08c392",
   "metadata": {},
   "outputs": [],
   "source": [
    "clases = sorted([sublista[0] for sublista in uniques])"
   ]
  },
  {
   "cell_type": "code",
   "execution_count": 67,
   "id": "8ed93ad7",
   "metadata": {
    "scrolled": true
   },
   "outputs": [
    {
     "name": "stdout",
     "output_type": "stream",
     "text": [
      "                    precision    recall  f1-score   support\n",
      "\n",
      "               0.0       0.75      1.00      0.86         3\n",
      "0.3333333333333333       0.95      0.95      0.95        20\n",
      "0.6666666666666667       1.00      0.97      0.98        31\n",
      "\n",
      "         micro avg       0.96      0.96      0.96        54\n",
      "         macro avg       0.90      0.97      0.93        54\n",
      "      weighted avg       0.97      0.96      0.96        54\n",
      "\n"
     ]
    }
   ],
   "source": [
    "report = classification_report(y_real_str, y_pred_normalized_str, labels=clases)\n",
    "print(report)"
   ]
  },
  {
   "cell_type": "code",
   "execution_count": null,
   "id": "a72d91ad",
   "metadata": {},
   "outputs": [],
   "source": []
  }
 ],
 "metadata": {
  "kernelspec": {
   "display_name": "Python 3 (ipykernel)",
   "language": "python",
   "name": "python3"
  },
  "language_info": {
   "codemirror_mode": {
    "name": "ipython",
    "version": 3
   },
   "file_extension": ".py",
   "mimetype": "text/x-python",
   "name": "python",
   "nbconvert_exporter": "python",
   "pygments_lexer": "ipython3",
   "version": "3.10.9"
  }
 },
 "nbformat": 4,
 "nbformat_minor": 5
}
