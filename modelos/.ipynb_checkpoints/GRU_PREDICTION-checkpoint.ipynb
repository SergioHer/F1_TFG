{
 "cells": [
  {
   "cell_type": "code",
   "execution_count": 20,
   "id": "32c7e2d9",
   "metadata": {},
   "outputs": [],
   "source": [
    "import numpy as np\n",
    "from tensorflow.keras.models import Sequential\n",
    "from tensorflow.keras.layers import LSTM\n",
    "from tensorflow.keras.layers import Dense, Dropout, GRU\n",
    "from tensorflow import keras\n",
    "import pandas as pd\n",
    "from matplotlib import pyplot as plt\n",
    "from sklearn.preprocessing import StandardScaler, MinMaxScaler\n",
    "import seaborn as sns\n",
    "from sklearn.metrics import confusion_matrix, classification_report\n"
   ]
  },
  {
   "cell_type": "code",
   "execution_count": 56,
   "id": "06ab3596",
   "metadata": {},
   "outputs": [],
   "source": [
    "vueltas = pd.read_csv(\"../dataset_todos_pilotos/vueltas_spain_final.csv\")\n",
    "vueltas.drop(['nextPit'], axis = 1, inplace = True)\n",
    "vueltas.drop(['makeStop'], axis = 1, inplace = True)"
   ]
  },
  {
   "cell_type": "code",
   "execution_count": 57,
   "id": "0aa7107a",
   "metadata": {},
   "outputs": [],
   "source": [
    "vueltas_train = vueltas[vueltas['anyo'].isin([2018, 2019, 2020, 2021])]\n",
    "vueltas_test = vueltas[vueltas['anyo'] == 2022]\n",
    "vueltas_test = vueltas_test[vueltas_test['Piloto'] == 'bottas']"
   ]
  },
  {
   "cell_type": "code",
   "execution_count": 58,
   "id": "ead79aa4",
   "metadata": {},
   "outputs": [],
   "source": [
    "vueltas_train = vueltas_train.drop(['anyo'], axis=1)\n",
    "vueltas_train.drop(['Piloto'], axis = 1, inplace = True)\n",
    "vueltas_test = vueltas_test.drop(['anyo'], axis=1)\n",
    "vueltas_test.drop(['Piloto'], axis = 1, inplace = True)"
   ]
  },
  {
   "cell_type": "code",
   "execution_count": 59,
   "id": "54ff995d",
   "metadata": {},
   "outputs": [],
   "source": [
    "vueltas_train = vueltas_train.astype(float)\n",
    "vueltas_test = vueltas_test.astype(float)"
   ]
  },
  {
   "cell_type": "code",
   "execution_count": 60,
   "id": "1e778c7a",
   "metadata": {},
   "outputs": [],
   "source": [
    "scaler = MinMaxScaler()\n",
    "scaler.fit(vueltas_train)\n",
    "vueltas_train_scaler = scaler.transform(vueltas_train)\n",
    "vueltas_test_scaler = scaler.transform(vueltas_test)\n"
   ]
  },
  {
   "cell_type": "code",
   "execution_count": 61,
   "id": "0f514b23",
   "metadata": {},
   "outputs": [],
   "source": [
    "trainX = []\n",
    "trainY = []\n",
    "testX = []\n",
    "testY = []\n",
    "loopback = 10 # Esto es el numero de muestras que usara en el pasado \n",
    "future = 1 # Esto es el numero de hechos futuros que usará como salida a las 10 muestras del pasado\n",
    "\n",
    "for i in range (loopback, len(vueltas_train_scaler) -future +1):\n",
    "    trainX.append(vueltas_train_scaler[i-loopback:i, 0:vueltas_train.shape[1]])\n",
    "    trainY.append(vueltas_train_scaler[i + future - 1:i + future, 5])\n",
    "    \n",
    "for i in range (loopback, len(vueltas_test_scaler) -future +1):\n",
    "    testX.append(vueltas_test_scaler[i-loopback:i, 0:vueltas_test.shape[1]])\n",
    "    testY.append(vueltas_test_scaler[i + future - 1:i + future,5])\n",
    "    "
   ]
  },
  {
   "cell_type": "code",
   "execution_count": 62,
   "id": "34a2addf",
   "metadata": {},
   "outputs": [],
   "source": [
    "trainX, trainY, testX, testY = np.array(trainX), np.array(trainY), np.array(testX), np.array(testY)"
   ]
  },
  {
   "cell_type": "code",
   "execution_count": 63,
   "id": "39877d53",
   "metadata": {},
   "outputs": [
    {
     "name": "stdout",
     "output_type": "stream",
     "text": [
      "Model: \"sequential_3\"\n",
      "_________________________________________________________________\n",
      " Layer (type)                Output Shape              Param #   \n",
      "=================================================================\n",
      " gru_12 (GRU)                (None, 10, 18)            2052      \n",
      "                                                                 \n",
      " gru_13 (GRU)                (None, 10, 256)           211968    \n",
      "                                                                 \n",
      " dropout_9 (Dropout)         (None, 10, 256)           0         \n",
      "                                                                 \n",
      " gru_14 (GRU)                (None, 10, 128)           148224    \n",
      "                                                                 \n",
      " dropout_10 (Dropout)        (None, 10, 128)           0         \n",
      "                                                                 \n",
      " gru_15 (GRU)                (None, 64)                37248     \n",
      "                                                                 \n",
      " dropout_11 (Dropout)        (None, 64)                0         \n",
      "                                                                 \n",
      " dense_3 (Dense)             (None, 1)                 65        \n",
      "                                                                 \n",
      "=================================================================\n",
      "Total params: 399,557\n",
      "Trainable params: 399,557\n",
      "Non-trainable params: 0\n",
      "_________________________________________________________________\n",
      "None\n"
     ]
    }
   ],
   "source": [
    "model = Sequential()\n",
    "model.add(GRU(trainX.shape[2],input_shape = (trainX.shape[1],trainX.shape[2]),return_sequences = True,\n",
    "                    activation = 'relu'))\n",
    "model.add(GRU(256,activation = 'relu',return_sequences = True))\n",
    "model.add(Dropout(0.2))\n",
    "model.add(GRU(128,activation = 'relu', return_sequences = True))\n",
    "model.add(Dropout(0.2))\n",
    "model.add(GRU(64,activation = 'relu', return_sequences = False))\n",
    "model.add(Dropout(0.2))\n",
    "model.add(Dense(1))\n",
    "model.compile(optimizer = \"adam\", loss = 'mse')\n",
    "print(model.summary())"
   ]
  },
  {
   "cell_type": "code",
   "execution_count": 64,
   "id": "2b98e150",
   "metadata": {
    "scrolled": true
   },
   "outputs": [
    {
     "name": "stdout",
     "output_type": "stream",
     "text": [
      "Epoch 1/20\n",
      "58/58 [==============================] - 10s 61ms/step - loss: 0.0450 - val_loss: 0.0406\n",
      "Epoch 2/20\n",
      "58/58 [==============================] - 3s 45ms/step - loss: 0.0208 - val_loss: 0.0252\n",
      "Epoch 3/20\n",
      "58/58 [==============================] - 2s 39ms/step - loss: 0.0143 - val_loss: 0.0175\n",
      "Epoch 4/20\n",
      "58/58 [==============================] - 2s 40ms/step - loss: 0.0133 - val_loss: 0.0173\n",
      "Epoch 5/20\n",
      "58/58 [==============================] - 2s 41ms/step - loss: 0.0110 - val_loss: 0.0131\n",
      "Epoch 6/20\n",
      "58/58 [==============================] - 2s 42ms/step - loss: 0.0111 - val_loss: 0.0131\n",
      "Epoch 7/20\n",
      "58/58 [==============================] - 3s 44ms/step - loss: 0.0104 - val_loss: 0.0126\n",
      "Epoch 8/20\n",
      "58/58 [==============================] - 2s 42ms/step - loss: 0.0102 - val_loss: 0.0129\n",
      "Epoch 9/20\n",
      "58/58 [==============================] - 2s 42ms/step - loss: 0.0098 - val_loss: 0.0153\n",
      "Epoch 10/20\n",
      "58/58 [==============================] - 3s 53ms/step - loss: 0.0098 - val_loss: 0.0162\n",
      "Epoch 11/20\n",
      "58/58 [==============================] - 2s 42ms/step - loss: 0.0093 - val_loss: 0.0118\n",
      "Epoch 12/20\n",
      "58/58 [==============================] - 3s 44ms/step - loss: 0.0093 - val_loss: 0.0118\n",
      "Epoch 13/20\n",
      "58/58 [==============================] - 2s 41ms/step - loss: 0.0088 - val_loss: 0.0123\n",
      "Epoch 14/20\n",
      "58/58 [==============================] - 2s 40ms/step - loss: 0.0093 - val_loss: 0.0166\n",
      "Epoch 15/20\n",
      "58/58 [==============================] - 2s 40ms/step - loss: 0.0093 - val_loss: 0.0141\n",
      "Epoch 16/20\n",
      "58/58 [==============================] - 2s 41ms/step - loss: 0.0087 - val_loss: 0.0120\n",
      "Epoch 17/20\n",
      "58/58 [==============================] - 2s 41ms/step - loss: 0.0085 - val_loss: 0.0125\n",
      "Epoch 18/20\n",
      "58/58 [==============================] - 3s 44ms/step - loss: 0.0084 - val_loss: 0.0124\n",
      "Epoch 19/20\n",
      "58/58 [==============================] - 3s 44ms/step - loss: 0.0088 - val_loss: 0.0126\n",
      "Epoch 20/20\n",
      "58/58 [==============================] - 2s 42ms/step - loss: 0.0091 - val_loss: 0.0118\n"
     ]
    },
    {
     "data": {
      "text/plain": [
       "<matplotlib.legend.Legend at 0x7fb310d08610>"
      ]
     },
     "execution_count": 64,
     "metadata": {},
     "output_type": "execute_result"
    },
    {
     "data": {
      "image/png": "[encoded data removed]",
      "text/plain": [
       "<Figure size 640x480 with 1 Axes>"
      ]
     },
     "metadata": {},
     "output_type": "display_data"
    }
   ],
   "source": [
    "history = model.fit(trainX,trainY,epochs = 20,batch_size = 64,validation_split =0.1,verbose = 1)\n",
    "plt.plot(history.history['loss'], label='Training loss')\n",
    "plt.plot(history.history['val_loss'], label='Validation loss')\n",
    "plt.legend()"
   ]
  },
  {
   "cell_type": "markdown",
   "id": "0e3ad311",
   "metadata": {},
   "source": [
    "### Sacar métricas de lo que falla. Con el unique, ver a cual se acerca más. Sacar matrix_confusion, con este modelo."
   ]
  },
  {
   "cell_type": "markdown",
   "id": "d98c6fc8",
   "metadata": {},
   "source": [
    "### Ahora vamos a sacar todas las Y^ y todas las y."
   ]
  },
  {
   "cell_type": "code",
   "execution_count": 65,
   "id": "5ed6ed53",
   "metadata": {},
   "outputs": [],
   "source": [
    "y_real = testY.tolist()"
   ]
  },
  {
   "cell_type": "code",
   "execution_count": 73,
   "id": "175e62cf",
   "metadata": {
    "scrolled": true
   },
   "outputs": [
    {
     "data": {
      "text/plain": [
       "[[0.0],\n",
       " [0.0],\n",
       " [0.0],\n",
       " [0.3333333333333333],\n",
       " [0.3333333333333333],\n",
       " [0.3333333333333333],\n",
       " [0.3333333333333333],\n",
       " [0.3333333333333333],\n",
       " [0.3333333333333333],\n",
       " [0.3333333333333333],\n",
       " [0.3333333333333333],\n",
       " [0.3333333333333333],\n",
       " [0.3333333333333333],\n",
       " [0.3333333333333333],\n",
       " [0.3333333333333333],\n",
       " [0.3333333333333333],\n",
       " [0.3333333333333333],\n",
       " [0.3333333333333333],\n",
       " [0.3333333333333333],\n",
       " [0.3333333333333333],\n",
       " [0.3333333333333333],\n",
       " [0.3333333333333333],\n",
       " [0.3333333333333333],\n",
       " [0.6666666666666667],\n",
       " [0.6666666666666667],\n",
       " [0.6666666666666667],\n",
       " [0.6666666666666667],\n",
       " [0.6666666666666667],\n",
       " [0.6666666666666667],\n",
       " [0.6666666666666667],\n",
       " [0.6666666666666667],\n",
       " [0.6666666666666667],\n",
       " [0.6666666666666667],\n",
       " [0.6666666666666667],\n",
       " [0.6666666666666667],\n",
       " [0.6666666666666667],\n",
       " [0.6666666666666667],\n",
       " [0.6666666666666667],\n",
       " [0.6666666666666667],\n",
       " [0.6666666666666667],\n",
       " [0.6666666666666667],\n",
       " [0.6666666666666667],\n",
       " [0.6666666666666667],\n",
       " [0.6666666666666667],\n",
       " [0.6666666666666667],\n",
       " [0.6666666666666667],\n",
       " [0.6666666666666667],\n",
       " [0.6666666666666667],\n",
       " [0.6666666666666667],\n",
       " [0.6666666666666667],\n",
       " [0.6666666666666667],\n",
       " [0.6666666666666667],\n",
       " [0.6666666666666667],\n",
       " [0.6666666666666667]]"
      ]
     },
     "execution_count": 73,
     "metadata": {},
     "output_type": "execute_result"
    }
   ],
   "source": [
    "y_real"
   ]
  },
  {
   "cell_type": "code",
   "execution_count": 74,
   "id": "5c3f46fe",
   "metadata": {},
   "outputs": [
    {
     "data": {
      "text/plain": [
       "array([[-0.09025592],\n",
       "       [-0.08884192],\n",
       "       [-0.08867749],\n",
       "       [-0.08995301],\n",
       "       [-0.07225988],\n",
       "       [-0.06515109],\n",
       "       [-0.06133003],\n",
       "       [-0.06136588],\n",
       "       [-0.05940802],\n",
       "       [-0.05749581],\n",
       "       [-0.05575889],\n",
       "       [-0.05417717],\n",
       "       [-0.0529291 ],\n",
       "       [-0.05136663],\n",
       "       [-0.05033496],\n",
       "       [-0.04927987],\n",
       "       [-0.05040871],\n",
       "       [-0.0489831 ],\n",
       "       [-0.05030934],\n",
       "       [-0.04737742],\n",
       "       [-0.04623494],\n",
       "       [-0.04498246],\n",
       "       [-0.04370596],\n",
       "       [-0.04175563],\n",
       "       [-0.0221462 ],\n",
       "       [-0.02015344],\n",
       "       [-0.01999504],\n",
       "       [-0.01773988],\n",
       "       [-0.01535339],\n",
       "       [-0.01409419],\n",
       "       [-0.01220398],\n",
       "       [-0.01119884],\n",
       "       [-0.01079879],\n",
       "       [-0.00961773],\n",
       "       [-0.01026127],\n",
       "       [-0.00884517],\n",
       "       [-0.00795684],\n",
       "       [-0.00835682],\n",
       "       [-0.00602961],\n",
       "       [-0.00468522],\n",
       "       [-0.00471444],\n",
       "       [-0.00994742],\n",
       "       [-0.00577111],\n",
       "       [-0.00294995],\n",
       "       [-0.00054131],\n",
       "       [ 0.00141529],\n",
       "       [ 0.00254218],\n",
       "       [ 0.00267332],\n",
       "       [ 0.00171148],\n",
       "       [ 0.00204731],\n",
       "       [ 0.00246227],\n",
       "       [ 0.0032583 ],\n",
       "       [ 0.00351527],\n",
       "       [ 0.00304731]], dtype=float32)"
      ]
     },
     "execution_count": 74,
     "metadata": {},
     "output_type": "execute_result"
    }
   ],
   "source": [
    "y_pred"
   ]
  },
  {
   "cell_type": "code",
   "execution_count": 66,
   "id": "700d4fad",
   "metadata": {
    "scrolled": true
   },
   "outputs": [
    {
     "name": "stdout",
     "output_type": "stream",
     "text": [
      "2/2 [==============================] - 0s 9ms/step\n"
     ]
    }
   ],
   "source": [
    "y_pred = model.predict(testX)"
   ]
  },
  {
   "cell_type": "code",
   "execution_count": 67,
   "id": "17a4f849",
   "metadata": {},
   "outputs": [],
   "source": [
    "uniques = set(tuple(x) for x in y_real)\n",
    "uniques = [list(x) for x in uniques]"
   ]
  },
  {
   "cell_type": "markdown",
   "id": "a4ceff83",
   "metadata": {},
   "source": [
    "### Ahora tenemos que sacar las demás métricas y como tenemos 4 clases"
   ]
  },
  {
   "cell_type": "markdown",
   "id": "89c46421",
   "metadata": {},
   "source": [
    "### El número de stint que más veces aparece en el conjunto de test, ¿qué porcentaje sobre el total supone? "
   ]
  },
  {
   "cell_type": "code",
   "execution_count": 68,
   "id": "9557ed69",
   "metadata": {},
   "outputs": [
    {
     "name": "stdout",
     "output_type": "stream",
     "text": [
      "El número que aparece con más frecuencia es: 0.6666666666666667\n",
      "Las frecuencias de cada número son:\n",
      "0.0 aparece 3 veces que supone un 5.56 del total\n",
      "0.3333333333333333 aparece 20 veces que supone un 37.04 del total\n",
      "0.6666666666666667 aparece 31 veces que supone un 57.41 del total\n"
     ]
    }
   ],
   "source": [
    "frecuencias = {}\n",
    "\n",
    "y_real_ = [sublista[0] for sublista in y_real]\n",
    "frecuencias = {}\n",
    "numero_mas_frecuente = None\n",
    "frecuencia_maxima = 0\n",
    "\n",
    "for numero in y_real_:\n",
    "    if numero in frecuencias:\n",
    "        frecuencias[numero] += 1\n",
    "    else:\n",
    "        frecuencias[numero] = 1\n",
    "\n",
    "    if frecuencias[numero] > frecuencia_maxima:\n",
    "        frecuencia_maxima = frecuencias[numero]\n",
    "        numero_mas_frecuente = numero\n",
    "\n",
    "print(\"El número que aparece con más frecuencia es:\", numero_mas_frecuente)\n",
    "print(\"Las frecuencias de cada número son:\")\n",
    "total = len(y_real_)\n",
    "\n",
    "for numero, frecuencia in frecuencias.items():\n",
    "    print(numero, \"aparece\", frecuencia, \"veces que supone un\", round((frecuencia/total)*100, 2), \"del total\")\n",
    "    "
   ]
  },
  {
   "cell_type": "code",
   "execution_count": 69,
   "id": "fa9ace6b",
   "metadata": {},
   "outputs": [
    {
     "data": {
      "text/plain": [
       "[0.0, 0.3333333333333333, 0.6666666666666667]"
      ]
     },
     "execution_count": 69,
     "metadata": {},
     "output_type": "execute_result"
    }
   ],
   "source": [
    "clases = sorted([sublista[0] for sublista in uniques])\n",
    "clases"
   ]
  },
  {
   "cell_type": "code",
   "execution_count": 70,
   "id": "1913911d",
   "metadata": {},
   "outputs": [],
   "source": [
    "y_pred_normalized = []\n",
    "for val in y_pred:\n",
    "    dist = [abs(val-x) for x in clases]\n",
    "    closest_val = uniques[np.argmin(dist)][0]\n",
    "    y_pred_normalized.append(closest_val)"
   ]
  },
  {
   "cell_type": "code",
   "execution_count": 71,
   "id": "342a2d9b",
   "metadata": {},
   "outputs": [],
   "source": [
    "y_real_str = [str(value[0]) for value in y_real]\n",
    "y_pred_normalized_str = [str(value) for value in y_pred_normalized]"
   ]
  },
  {
   "cell_type": "code",
   "execution_count": 72,
   "id": "fc241077",
   "metadata": {},
   "outputs": [
    {
     "name": "stdout",
     "output_type": "stream",
     "text": [
      "Métricas:\n",
      "                    precision    recall  f1-score   support\n",
      "\n",
      "               0.0       0.06      1.00      0.11         3\n",
      "0.3333333333333333       0.00      0.00      0.00        20\n",
      "0.6666666666666667       0.00      0.00      0.00        31\n",
      "\n",
      "         micro avg       0.06      0.06      0.06        54\n",
      "         macro avg       0.02      0.33      0.04        54\n",
      "      weighted avg       0.00      0.06      0.01        54\n",
      "\n"
     ]
    },
    {
     "name": "stderr",
     "output_type": "stream",
     "text": [
      "/Users/sergio/.local/lib/python3.10/site-packages/numpy/lib/arraysetops.py:608: FutureWarning: elementwise comparison failed; returning scalar instead, but in the future will perform elementwise comparison\n",
      "  mask &= (ar1 != a)\n",
      "/Users/sergio/anaconda3/lib/python3.10/site-packages/sklearn/metrics/_classification.py:1344: UndefinedMetricWarning: Precision and F-score are ill-defined and being set to 0.0 in labels with no predicted samples. Use `zero_division` parameter to control this behavior.\n",
      "  _warn_prf(average, modifier, msg_start, len(result))\n",
      "/Users/sergio/.local/lib/python3.10/site-packages/numpy/lib/arraysetops.py:608: FutureWarning: elementwise comparison failed; returning scalar instead, but in the future will perform elementwise comparison\n",
      "  mask &= (ar1 != a)\n",
      "/Users/sergio/.local/lib/python3.10/site-packages/numpy/lib/arraysetops.py:608: FutureWarning: elementwise comparison failed; returning scalar instead, but in the future will perform elementwise comparison\n",
      "  mask &= (ar1 != a)\n",
      "/Users/sergio/anaconda3/lib/python3.10/site-packages/sklearn/metrics/_classification.py:1344: UndefinedMetricWarning: Precision and F-score are ill-defined and being set to 0.0 in labels with no predicted samples. Use `zero_division` parameter to control this behavior.\n",
      "  _warn_prf(average, modifier, msg_start, len(result))\n",
      "/Users/sergio/.local/lib/python3.10/site-packages/numpy/lib/arraysetops.py:608: FutureWarning: elementwise comparison failed; returning scalar instead, but in the future will perform elementwise comparison\n",
      "  mask &= (ar1 != a)\n",
      "/Users/sergio/anaconda3/lib/python3.10/site-packages/sklearn/metrics/_classification.py:1344: UndefinedMetricWarning: Precision and F-score are ill-defined and being set to 0.0 in labels with no predicted samples. Use `zero_division` parameter to control this behavior.\n",
      "  _warn_prf(average, modifier, msg_start, len(result))\n"
     ]
    }
   ],
   "source": [
    "\n",
    "# Imprimir las métricas básicas\n",
    "print(\"Métricas:\")\n",
    "print(classification_report(y_real_str, y_pred_normalized_str, labels=clases))"
   ]
  },
  {
   "cell_type": "code",
   "execution_count": null,
   "id": "233f3737",
   "metadata": {},
   "outputs": [],
   "source": []
  },
  {
   "cell_type": "code",
   "execution_count": null,
   "id": "4dbe73ff",
   "metadata": {},
   "outputs": [],
   "source": []
  },
  {
   "cell_type": "code",
   "execution_count": null,
   "id": "fbcf0682",
   "metadata": {},
   "outputs": [],
   "source": []
  }
 ],
 "metadata": {
  "kernelspec": {
   "display_name": "Python 3 (ipykernel)",
   "language": "python",
   "name": "python3"
  },
  "language_info": {
   "codemirror_mode": {
    "name": "ipython",
    "version": 3
   },
   "file_extension": ".py",
   "mimetype": "text/x-python",
   "name": "python",
   "nbconvert_exporter": "python",
   "pygments_lexer": "ipython3",
   "version": "3.10.9"
  }
 },
 "nbformat": 4,
 "nbformat_minor": 5
}
