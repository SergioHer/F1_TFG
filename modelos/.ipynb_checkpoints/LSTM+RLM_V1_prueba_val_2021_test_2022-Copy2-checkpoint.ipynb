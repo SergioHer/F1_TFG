{
 "cells": [
  {
   "cell_type": "code",
   "execution_count": 2,
   "id": "9ee4b771",
   "metadata": {},
   "outputs": [
    {
     "name": "stderr",
     "output_type": "stream",
     "text": [
      "2023-06-14 12:56:18.055234: I tensorflow/core/platform/cpu_feature_guard.cc:182] This TensorFlow binary is optimized to use available CPU instructions in performance-critical operations.\n",
      "To enable the following instructions: AVX2 FMA, in other operations, rebuild TensorFlow with the appropriate compiler flags.\n"
     ]
    }
   ],
   "source": [
    "import numpy as np\n",
    "from tensorflow.keras.models import Sequential\n",
    "from tensorflow.keras.layers import LSTM\n",
    "from tensorflow.keras.layers import Dense, Dropout\n",
    "from tensorflow import keras\n",
    "import pandas as pd\n",
    "from matplotlib import pyplot as plt\n",
    "from sklearn.preprocessing import StandardScaler, MinMaxScaler\n",
    "import seaborn as sns"
   ]
  },
  {
   "cell_type": "code",
   "execution_count": 23,
   "id": "b6688576",
   "metadata": {},
   "outputs": [],
   "source": [
    "vueltas = pd.read_csv(\"../dataset_todos_pilotos/final/laps_spain_final_v2.csv \")"
   ]
  },
  {
   "cell_type": "code",
   "execution_count": 24,
   "id": "096f4b34",
   "metadata": {},
   "outputs": [
    {
     "data": {
      "text/html": [
       "<div>\n",
       "<style scoped>\n",
       "    .dataframe tbody tr th:only-of-type {\n",
       "        vertical-align: middle;\n",
       "    }\n",
       "\n",
       "    .dataframe tbody tr th {\n",
       "        vertical-align: top;\n",
       "    }\n",
       "\n",
       "    .dataframe thead th {\n",
       "        text-align: right;\n",
       "    }\n",
       "</style>\n",
       "<table border=\"1\" class=\"dataframe\">\n",
       "  <thead>\n",
       "    <tr style=\"text-align: right;\">\n",
       "      <th></th>\n",
       "      <th>LapTime</th>\n",
       "      <th>LapNumber</th>\n",
       "      <th>TyreLife</th>\n",
       "      <th>FreshTyre</th>\n",
       "      <th>TrackStatus</th>\n",
       "      <th>Stint</th>\n",
       "      <th>Piloto</th>\n",
       "      <th>makeStop</th>\n",
       "      <th>AirTemp</th>\n",
       "      <th>Rainfall</th>\n",
       "      <th>...</th>\n",
       "      <th>posicionActual</th>\n",
       "      <th>tiempoPilotoDelante</th>\n",
       "      <th>tiempoPilotoDetras</th>\n",
       "      <th>posicionSalida</th>\n",
       "      <th>anyo</th>\n",
       "      <th>nextPit</th>\n",
       "      <th>compound_HARD</th>\n",
       "      <th>compound_MEDIUM</th>\n",
       "      <th>compound_SOFT</th>\n",
       "      <th>compound_SUPERSOFT</th>\n",
       "    </tr>\n",
       "  </thead>\n",
       "  <tbody>\n",
       "    <tr>\n",
       "      <th>0</th>\n",
       "      <td>132.826</td>\n",
       "      <td>3.0</td>\n",
       "      <td>4.0</td>\n",
       "      <td>0</td>\n",
       "      <td>4</td>\n",
       "      <td>1.0</td>\n",
       "      <td>hamilton</td>\n",
       "      <td>0</td>\n",
       "      <td>16.3</td>\n",
       "      <td>1</td>\n",
       "      <td>...</td>\n",
       "      <td>1.0</td>\n",
       "      <td>134.646</td>\n",
       "      <td>133.906</td>\n",
       "      <td>1.0</td>\n",
       "      <td>2018</td>\n",
       "      <td>25.0</td>\n",
       "      <td>0</td>\n",
       "      <td>0</td>\n",
       "      <td>1</td>\n",
       "      <td>0</td>\n",
       "    </tr>\n",
       "    <tr>\n",
       "      <th>1</th>\n",
       "      <td>128.778</td>\n",
       "      <td>4.0</td>\n",
       "      <td>5.0</td>\n",
       "      <td>0</td>\n",
       "      <td>4</td>\n",
       "      <td>1.0</td>\n",
       "      <td>hamilton</td>\n",
       "      <td>0</td>\n",
       "      <td>15.9</td>\n",
       "      <td>1</td>\n",
       "      <td>...</td>\n",
       "      <td>1.0</td>\n",
       "      <td>133.632</td>\n",
       "      <td>128.681</td>\n",
       "      <td>1.0</td>\n",
       "      <td>2018</td>\n",
       "      <td>25.0</td>\n",
       "      <td>0</td>\n",
       "      <td>0</td>\n",
       "      <td>1</td>\n",
       "      <td>0</td>\n",
       "    </tr>\n",
       "    <tr>\n",
       "      <th>2</th>\n",
       "      <td>130.044</td>\n",
       "      <td>5.0</td>\n",
       "      <td>6.0</td>\n",
       "      <td>0</td>\n",
       "      <td>4</td>\n",
       "      <td>1.0</td>\n",
       "      <td>hamilton</td>\n",
       "      <td>0</td>\n",
       "      <td>16.1</td>\n",
       "      <td>1</td>\n",
       "      <td>...</td>\n",
       "      <td>1.0</td>\n",
       "      <td>127.041</td>\n",
       "      <td>129.827</td>\n",
       "      <td>1.0</td>\n",
       "      <td>2018</td>\n",
       "      <td>25.0</td>\n",
       "      <td>0</td>\n",
       "      <td>0</td>\n",
       "      <td>1</td>\n",
       "      <td>0</td>\n",
       "    </tr>\n",
       "    <tr>\n",
       "      <th>3</th>\n",
       "      <td>133.088</td>\n",
       "      <td>6.0</td>\n",
       "      <td>7.0</td>\n",
       "      <td>0</td>\n",
       "      <td>4</td>\n",
       "      <td>1.0</td>\n",
       "      <td>hamilton</td>\n",
       "      <td>0</td>\n",
       "      <td>16.7</td>\n",
       "      <td>0</td>\n",
       "      <td>...</td>\n",
       "      <td>1.0</td>\n",
       "      <td>119.521</td>\n",
       "      <td>133.232</td>\n",
       "      <td>1.0</td>\n",
       "      <td>2018</td>\n",
       "      <td>25.0</td>\n",
       "      <td>0</td>\n",
       "      <td>0</td>\n",
       "      <td>1</td>\n",
       "      <td>0</td>\n",
       "    </tr>\n",
       "    <tr>\n",
       "      <th>4</th>\n",
       "      <td>82.099</td>\n",
       "      <td>7.0</td>\n",
       "      <td>8.0</td>\n",
       "      <td>0</td>\n",
       "      <td>1</td>\n",
       "      <td>1.0</td>\n",
       "      <td>hamilton</td>\n",
       "      <td>0</td>\n",
       "      <td>16.4</td>\n",
       "      <td>0</td>\n",
       "      <td>...</td>\n",
       "      <td>1.0</td>\n",
       "      <td>90.479</td>\n",
       "      <td>83.604</td>\n",
       "      <td>1.0</td>\n",
       "      <td>2018</td>\n",
       "      <td>25.0</td>\n",
       "      <td>0</td>\n",
       "      <td>0</td>\n",
       "      <td>1</td>\n",
       "      <td>0</td>\n",
       "    </tr>\n",
       "    <tr>\n",
       "      <th>...</th>\n",
       "      <td>...</td>\n",
       "      <td>...</td>\n",
       "      <td>...</td>\n",
       "      <td>...</td>\n",
       "      <td>...</td>\n",
       "      <td>...</td>\n",
       "      <td>...</td>\n",
       "      <td>...</td>\n",
       "      <td>...</td>\n",
       "      <td>...</td>\n",
       "      <td>...</td>\n",
       "      <td>...</td>\n",
       "      <td>...</td>\n",
       "      <td>...</td>\n",
       "      <td>...</td>\n",
       "      <td>...</td>\n",
       "      <td>...</td>\n",
       "      <td>...</td>\n",
       "      <td>...</td>\n",
       "      <td>...</td>\n",
       "      <td>...</td>\n",
       "    </tr>\n",
       "    <tr>\n",
       "      <th>5146</th>\n",
       "      <td>87.021</td>\n",
       "      <td>23.0</td>\n",
       "      <td>2.0</td>\n",
       "      <td>1</td>\n",
       "      <td>1</td>\n",
       "      <td>2.0</td>\n",
       "      <td>leclerc</td>\n",
       "      <td>0</td>\n",
       "      <td>37.1</td>\n",
       "      <td>0</td>\n",
       "      <td>...</td>\n",
       "      <td>1.0</td>\n",
       "      <td>90.757</td>\n",
       "      <td>88.555</td>\n",
       "      <td>1.0</td>\n",
       "      <td>2022</td>\n",
       "      <td>27.0</td>\n",
       "      <td>0</td>\n",
       "      <td>1</td>\n",
       "      <td>0</td>\n",
       "      <td>0</td>\n",
       "    </tr>\n",
       "    <tr>\n",
       "      <th>5147</th>\n",
       "      <td>87.196</td>\n",
       "      <td>24.0</td>\n",
       "      <td>3.0</td>\n",
       "      <td>1</td>\n",
       "      <td>1</td>\n",
       "      <td>2.0</td>\n",
       "      <td>leclerc</td>\n",
       "      <td>0</td>\n",
       "      <td>37.1</td>\n",
       "      <td>0</td>\n",
       "      <td>...</td>\n",
       "      <td>1.0</td>\n",
       "      <td>90.558</td>\n",
       "      <td>89.588</td>\n",
       "      <td>1.0</td>\n",
       "      <td>2022</td>\n",
       "      <td>27.0</td>\n",
       "      <td>0</td>\n",
       "      <td>1</td>\n",
       "      <td>0</td>\n",
       "      <td>0</td>\n",
       "    </tr>\n",
       "    <tr>\n",
       "      <th>5148</th>\n",
       "      <td>87.003</td>\n",
       "      <td>25.0</td>\n",
       "      <td>4.0</td>\n",
       "      <td>1</td>\n",
       "      <td>1</td>\n",
       "      <td>2.0</td>\n",
       "      <td>leclerc</td>\n",
       "      <td>0</td>\n",
       "      <td>37.0</td>\n",
       "      <td>0</td>\n",
       "      <td>...</td>\n",
       "      <td>1.0</td>\n",
       "      <td>92.489</td>\n",
       "      <td>88.079</td>\n",
       "      <td>1.0</td>\n",
       "      <td>2022</td>\n",
       "      <td>27.0</td>\n",
       "      <td>0</td>\n",
       "      <td>1</td>\n",
       "      <td>0</td>\n",
       "      <td>0</td>\n",
       "    </tr>\n",
       "    <tr>\n",
       "      <th>5149</th>\n",
       "      <td>87.279</td>\n",
       "      <td>26.0</td>\n",
       "      <td>5.0</td>\n",
       "      <td>1</td>\n",
       "      <td>1</td>\n",
       "      <td>2.0</td>\n",
       "      <td>leclerc</td>\n",
       "      <td>0</td>\n",
       "      <td>37.0</td>\n",
       "      <td>0</td>\n",
       "      <td>...</td>\n",
       "      <td>1.0</td>\n",
       "      <td>108.293</td>\n",
       "      <td>88.687</td>\n",
       "      <td>1.0</td>\n",
       "      <td>2022</td>\n",
       "      <td>27.0</td>\n",
       "      <td>0</td>\n",
       "      <td>1</td>\n",
       "      <td>0</td>\n",
       "      <td>0</td>\n",
       "    </tr>\n",
       "    <tr>\n",
       "      <th>5150</th>\n",
       "      <td>109.008</td>\n",
       "      <td>27.0</td>\n",
       "      <td>6.0</td>\n",
       "      <td>1</td>\n",
       "      <td>1</td>\n",
       "      <td>2.0</td>\n",
       "      <td>leclerc</td>\n",
       "      <td>0</td>\n",
       "      <td>37.0</td>\n",
       "      <td>0</td>\n",
       "      <td>...</td>\n",
       "      <td>4.0</td>\n",
       "      <td>88.642</td>\n",
       "      <td>88.508</td>\n",
       "      <td>1.0</td>\n",
       "      <td>2022</td>\n",
       "      <td>27.0</td>\n",
       "      <td>0</td>\n",
       "      <td>1</td>\n",
       "      <td>0</td>\n",
       "      <td>0</td>\n",
       "    </tr>\n",
       "  </tbody>\n",
       "</table>\n",
       "<p>5151 rows × 22 columns</p>\n",
       "</div>"
      ],
      "text/plain": [
       "      LapTime  LapNumber  TyreLife  FreshTyre  TrackStatus  Stint    Piloto  \\\n",
       "0     132.826        3.0       4.0          0            4    1.0  hamilton   \n",
       "1     128.778        4.0       5.0          0            4    1.0  hamilton   \n",
       "2     130.044        5.0       6.0          0            4    1.0  hamilton   \n",
       "3     133.088        6.0       7.0          0            4    1.0  hamilton   \n",
       "4      82.099        7.0       8.0          0            1    1.0  hamilton   \n",
       "...       ...        ...       ...        ...          ...    ...       ...   \n",
       "5146   87.021       23.0       2.0          1            1    2.0   leclerc   \n",
       "5147   87.196       24.0       3.0          1            1    2.0   leclerc   \n",
       "5148   87.003       25.0       4.0          1            1    2.0   leclerc   \n",
       "5149   87.279       26.0       5.0          1            1    2.0   leclerc   \n",
       "5150  109.008       27.0       6.0          1            1    2.0   leclerc   \n",
       "\n",
       "      makeStop  AirTemp  Rainfall  ...  posicionActual  tiempoPilotoDelante  \\\n",
       "0            0     16.3         1  ...             1.0              134.646   \n",
       "1            0     15.9         1  ...             1.0              133.632   \n",
       "2            0     16.1         1  ...             1.0              127.041   \n",
       "3            0     16.7         0  ...             1.0              119.521   \n",
       "4            0     16.4         0  ...             1.0               90.479   \n",
       "...        ...      ...       ...  ...             ...                  ...   \n",
       "5146         0     37.1         0  ...             1.0               90.757   \n",
       "5147         0     37.1         0  ...             1.0               90.558   \n",
       "5148         0     37.0         0  ...             1.0               92.489   \n",
       "5149         0     37.0         0  ...             1.0              108.293   \n",
       "5150         0     37.0         0  ...             4.0               88.642   \n",
       "\n",
       "      tiempoPilotoDetras  posicionSalida  anyo  nextPit  compound_HARD  \\\n",
       "0                133.906             1.0  2018     25.0              0   \n",
       "1                128.681             1.0  2018     25.0              0   \n",
       "2                129.827             1.0  2018     25.0              0   \n",
       "3                133.232             1.0  2018     25.0              0   \n",
       "4                 83.604             1.0  2018     25.0              0   \n",
       "...                  ...             ...   ...      ...            ...   \n",
       "5146              88.555             1.0  2022     27.0              0   \n",
       "5147              89.588             1.0  2022     27.0              0   \n",
       "5148              88.079             1.0  2022     27.0              0   \n",
       "5149              88.687             1.0  2022     27.0              0   \n",
       "5150              88.508             1.0  2022     27.0              0   \n",
       "\n",
       "      compound_MEDIUM  compound_SOFT  compound_SUPERSOFT  \n",
       "0                   0              1                   0  \n",
       "1                   0              1                   0  \n",
       "2                   0              1                   0  \n",
       "3                   0              1                   0  \n",
       "4                   0              1                   0  \n",
       "...               ...            ...                 ...  \n",
       "5146                1              0                   0  \n",
       "5147                1              0                   0  \n",
       "5148                1              0                   0  \n",
       "5149                1              0                   0  \n",
       "5150                1              0                   0  \n",
       "\n",
       "[5151 rows x 22 columns]"
      ]
     },
     "execution_count": 24,
     "metadata": {},
     "output_type": "execute_result"
    }
   ],
   "source": [
    "vueltas"
   ]
  },
  {
   "cell_type": "code",
   "execution_count": 25,
   "id": "8177133d",
   "metadata": {
    "scrolled": true
   },
   "outputs": [
    {
     "data": {
      "text/plain": [
       "['LapTime',\n",
       " 'LapNumber',\n",
       " 'TyreLife',\n",
       " 'FreshTyre',\n",
       " 'TrackStatus',\n",
       " 'Stint',\n",
       " 'Piloto',\n",
       " 'makeStop',\n",
       " 'AirTemp',\n",
       " 'Rainfall',\n",
       " 'Humidity',\n",
       " 'TrackTemp',\n",
       " 'posicionActual',\n",
       " 'tiempoPilotoDelante',\n",
       " 'tiempoPilotoDetras',\n",
       " 'posicionSalida',\n",
       " 'anyo',\n",
       " 'nextPit',\n",
       " 'compound_HARD',\n",
       " 'compound_MEDIUM',\n",
       " 'compound_SOFT',\n",
       " 'compound_SUPERSOFT']"
      ]
     },
     "execution_count": 25,
     "metadata": {},
     "output_type": "execute_result"
    }
   ],
   "source": [
    "list(vueltas.columns.values)"
   ]
  },
  {
   "cell_type": "code",
   "execution_count": 26,
   "id": "81b14bf7",
   "metadata": {},
   "outputs": [],
   "source": [
    "columnas = [\"Stint\", \"Piloto\", 'anyo']\n",
    "vueltas = vueltas[columnas]"
   ]
  },
  {
   "cell_type": "code",
   "execution_count": 27,
   "id": "9aafbad6",
   "metadata": {},
   "outputs": [],
   "source": [
    "\n",
    "#vueltas = vueltas.drop(['Piloto'], axis = 1)\n",
    "\n",
    "vueltas_train = vueltas[vueltas['anyo'].isin([2018, 2019, 2020])]\n",
    "vueltas_validation = vueltas[vueltas['anyo'].isin([2021])]\n",
    "vueltas_test = vueltas[vueltas['anyo'] == 2022]\n",
    "\n",
    "vueltas_train = vueltas_train[vueltas_train['Piloto'] == \"alonso\"]\n",
    "vueltas_validation = vueltas_validation[vueltas_validation['Piloto'] == \"alonso\"]\n",
    "vueltas_test = vueltas_test[vueltas_test['Piloto'] == \"alonso\"]\n",
    "\n",
    "vueltas_train = vueltas_train.drop(['anyo'], axis=1)\n",
    "vueltas_validation = vueltas_validation.drop(['anyo'], axis=1)\n",
    "vueltas_test = vueltas_test.drop(['anyo'], axis=1)\n",
    "vueltas_train.drop(['Piloto'], axis = 1, inplace = True)\n",
    "vueltas_test.drop(['Piloto'], axis = 1, inplace = True)\n",
    "vueltas_validation.drop(['Piloto'], axis = 1, inplace = True)\n",
    "\n",
    "\n",
    "\n",
    "\n",
    "vueltas_train = vueltas_train.astype(float)\n",
    "vueltas_validation = vueltas_validation.astype(float)\n",
    "vueltas_test = vueltas_test.astype(float)"
   ]
  },
  {
   "cell_type": "code",
   "execution_count": 28,
   "id": "4b435a8e",
   "metadata": {},
   "outputs": [],
   "source": [
    "scaler = MinMaxScaler()\n",
    "scaler.fit(vueltas_train)\n",
    "vueltas_train_scaler = scaler.transform(vueltas_train)\n",
    "vueltas_test_scaler = scaler.transform(vueltas_test)\n",
    "vueltas_validation_scaler = scaler.transform(vueltas_validation)"
   ]
  },
  {
   "cell_type": "code",
   "execution_count": 29,
   "id": "a636d842",
   "metadata": {},
   "outputs": [
    {
     "data": {
      "text/html": [
       "<div>\n",
       "<style scoped>\n",
       "    .dataframe tbody tr th:only-of-type {\n",
       "        vertical-align: middle;\n",
       "    }\n",
       "\n",
       "    .dataframe tbody tr th {\n",
       "        vertical-align: top;\n",
       "    }\n",
       "\n",
       "    .dataframe thead th {\n",
       "        text-align: right;\n",
       "    }\n",
       "</style>\n",
       "<table border=\"1\" class=\"dataframe\">\n",
       "  <thead>\n",
       "    <tr style=\"text-align: right;\">\n",
       "      <th></th>\n",
       "      <th>0</th>\n",
       "    </tr>\n",
       "  </thead>\n",
       "  <tbody>\n",
       "    <tr>\n",
       "      <th>0</th>\n",
       "      <td>0.0</td>\n",
       "    </tr>\n",
       "    <tr>\n",
       "      <th>1</th>\n",
       "      <td>0.0</td>\n",
       "    </tr>\n",
       "    <tr>\n",
       "      <th>2</th>\n",
       "      <td>0.0</td>\n",
       "    </tr>\n",
       "    <tr>\n",
       "      <th>3</th>\n",
       "      <td>0.0</td>\n",
       "    </tr>\n",
       "    <tr>\n",
       "      <th>4</th>\n",
       "      <td>0.0</td>\n",
       "    </tr>\n",
       "    <tr>\n",
       "      <th>...</th>\n",
       "      <td>...</td>\n",
       "    </tr>\n",
       "    <tr>\n",
       "      <th>57</th>\n",
       "      <td>1.0</td>\n",
       "    </tr>\n",
       "    <tr>\n",
       "      <th>58</th>\n",
       "      <td>1.0</td>\n",
       "    </tr>\n",
       "    <tr>\n",
       "      <th>59</th>\n",
       "      <td>1.0</td>\n",
       "    </tr>\n",
       "    <tr>\n",
       "      <th>60</th>\n",
       "      <td>1.0</td>\n",
       "    </tr>\n",
       "    <tr>\n",
       "      <th>61</th>\n",
       "      <td>1.0</td>\n",
       "    </tr>\n",
       "  </tbody>\n",
       "</table>\n",
       "<p>62 rows × 1 columns</p>\n",
       "</div>"
      ],
      "text/plain": [
       "      0\n",
       "0   0.0\n",
       "1   0.0\n",
       "2   0.0\n",
       "3   0.0\n",
       "4   0.0\n",
       "..  ...\n",
       "57  1.0\n",
       "58  1.0\n",
       "59  1.0\n",
       "60  1.0\n",
       "61  1.0\n",
       "\n",
       "[62 rows x 1 columns]"
      ]
     },
     "execution_count": 29,
     "metadata": {},
     "output_type": "execute_result"
    }
   ],
   "source": [
    "pd.DataFrame(vueltas_train_scaler)"
   ]
  },
  {
   "cell_type": "code",
   "execution_count": 30,
   "id": "83ece4da",
   "metadata": {},
   "outputs": [],
   "source": [
    "trainX = []\n",
    "trainY = []\n",
    "testX = []\n",
    "testY = []\n",
    "validationX = []\n",
    "validationY = []\n",
    "loopback = 8 # Esto es el numero de muestras que usara en el pasado \n",
    "future = 1 # Esto es el numero de hechos futuros que usará como salida a las 10 muestras del pasado\n",
    "\n",
    "for i in range (loopback, len(vueltas_train_scaler) -future +1):\n",
    "    trainX.append(vueltas_train_scaler[i-loopback:i, 0:vueltas_train.shape[1]])\n",
    "    trainY.append(vueltas_train_scaler[i + future - 1:i + future, 0])\n",
    "5 \n",
    "for i in range (loopback, len(vueltas_test_scaler) -future +1):\n",
    "        testX.append(vueltas_test_scaler[i-loopback:i, 0:vueltas_test.shape[1]])\n",
    "        testY.append(vueltas_test_scaler[i + future - 1:i + future,0])\n",
    "        \n",
    "    \n",
    "for i in range (loopback, len(vueltas_validation_scaler) -future +1):\n",
    "    validationX.append(vueltas_validation_scaler[i-loopback:i, 0:vueltas_validation.shape[1]])\n",
    "    validationY.append(vueltas_validation_scaler[i + future - 1:i + future,0])"
   ]
  },
  {
   "cell_type": "code",
   "execution_count": 31,
   "id": "748744b3",
   "metadata": {},
   "outputs": [],
   "source": [
    "trainX, trainY, testX, testY, validationX, validationY = np.array(trainX), np.array(trainY), np.array(testX), np.array(testY), np.array(validationX), np.array(validationY)"
   ]
  },
  {
   "cell_type": "code",
   "execution_count": 32,
   "id": "f16e12f8",
   "metadata": {},
   "outputs": [
    {
     "name": "stdout",
     "output_type": "stream",
     "text": [
      "Model: \"sequential_1\"\n",
      "_________________________________________________________________\n",
      " Layer (type)                Output Shape              Param #   \n",
      "=================================================================\n",
      " lstm_2 (LSTM)               (None, 8, 256)            264192    \n",
      "                                                                 \n",
      " dropout_2 (Dropout)         (None, 8, 256)            0         \n",
      "                                                                 \n",
      " lstm_3 (LSTM)               (None, 128)               197120    \n",
      "                                                                 \n",
      " dropout_3 (Dropout)         (None, 128)               0         \n",
      "                                                                 \n",
      " dense_1 (Dense)             (None, 1)                 129       \n",
      "                                                                 \n",
      "=================================================================\n",
      "Total params: 461,441\n",
      "Trainable params: 461,441\n",
      "Non-trainable params: 0\n",
      "_________________________________________________________________\n"
     ]
    }
   ],
   "source": [
    "model = Sequential()\n",
    "model.add(LSTM(256, activation='relu', input_shape=(trainX.shape[1], trainX.shape[2]), return_sequences=True))\n",
    "model.add(Dropout(0.2))\n",
    "model.add(LSTM(128, activation='relu', return_sequences=False))\n",
    "model.add(Dropout(0.2))\n",
    "model.add(Dense(trainY.shape[1]))\n",
    "model.compile(optimizer=\"adam\", loss= \"mse\") ##Cambiar esto para la siguiente reunion (positivo 1, negativo 0)\n",
    "model.summary()"
   ]
  },
  {
   "cell_type": "code",
   "execution_count": 33,
   "id": "d48f6c99",
   "metadata": {},
   "outputs": [
    {
     "name": "stdout",
     "output_type": "stream",
     "text": [
      "Epoch 1/12\n",
      "1/1 [==============================] - 2s 2s/step - loss: 0.7506\n",
      "Epoch 2/12\n",
      "1/1 [==============================] - 0s 56ms/step - loss: 0.6860\n",
      "Epoch 3/12\n",
      "1/1 [==============================] - 0s 54ms/step - loss: 0.6104\n",
      "Epoch 4/12\n",
      "1/1 [==============================] - 0s 43ms/step - loss: 0.5329\n",
      "Epoch 5/12\n",
      "1/1 [==============================] - 0s 51ms/step - loss: 0.4559\n",
      "Epoch 6/12\n",
      "1/1 [==============================] - 0s 46ms/step - loss: 0.3574\n",
      "Epoch 7/12\n",
      "1/1 [==============================] - 0s 49ms/step - loss: 0.2560\n",
      "Epoch 8/12\n",
      "1/1 [==============================] - 0s 39ms/step - loss: 0.1548\n",
      "Epoch 9/12\n",
      "1/1 [==============================] - 0s 46ms/step - loss: 0.0904\n",
      "Epoch 10/12\n",
      "1/1 [==============================] - 0s 53ms/step - loss: 0.0756\n",
      "Epoch 11/12\n",
      "1/1 [==============================] - 0s 47ms/step - loss: 0.1532\n",
      "Epoch 12/12\n",
      "1/1 [==============================] - 0s 51ms/step - loss: 0.1604\n"
     ]
    },
    {
     "data": {
      "text/plain": [
       "<matplotlib.legend.Legend at 0x7fea6967f850>"
      ]
     },
     "execution_count": 33,
     "metadata": {},
     "output_type": "execute_result"
    },
    {
     "data": {
      "image/png": "[encoded data removed]",
      "text/plain": [
       "<Figure size 640x480 with 1 Axes>"
      ]
     },
     "metadata": {},
     "output_type": "display_data"
    }
   ],
   "source": [
    "history = model.fit(trainX, trainY, epochs=12, batch_size=64, validation_split=0.0, verbose=1)\n",
    "\n",
    "plt.plot(history.history['loss'], label='Training loss')\n",
    "plt.legend()"
   ]
  },
  {
   "cell_type": "code",
   "execution_count": 36,
   "id": "571b3d2d",
   "metadata": {},
   "outputs": [
    {
     "data": {
      "text/plain": [
       "array([0., 1., 2.])"
      ]
     },
     "execution_count": 36,
     "metadata": {},
     "output_type": "execute_result"
    }
   ],
   "source": [
    "clases = np.unique(validationY[:,0]) \n",
    "clases"
   ]
  },
  {
   "cell_type": "code",
   "execution_count": 37,
   "id": "9928d8d7",
   "metadata": {
    "scrolled": false
   },
   "outputs": [],
   "source": [
    "f = lambda x: np.argwhere(x == clases)\n",
    "f = np.vectorize(f)\n",
    "y_real = f(validationY[:,0])"
   ]
  },
  {
   "cell_type": "code",
   "execution_count": 46,
   "id": "4ef10ac4",
   "metadata": {},
   "outputs": [
    {
     "data": {
      "text/plain": [
       "array([0., 0., 0., 0., 0., 0., 0., 0., 0., 0., 0., 0., 1., 1., 1., 1., 1.,\n",
       "       1., 1., 1., 1., 1., 1., 1., 1., 1., 1., 1., 1., 1., 1., 1., 1., 1.,\n",
       "       1., 1., 1., 1., 1., 1., 1., 1., 1., 1., 1., 1., 1., 1., 1., 1., 1.,\n",
       "       1., 2., 2., 2.])"
      ]
     },
     "execution_count": 46,
     "metadata": {},
     "output_type": "execute_result"
    }
   ],
   "source": [
    "validationY[:,0]"
   ]
  },
  {
   "cell_type": "code",
   "execution_count": 44,
   "id": "1f9dbc79",
   "metadata": {},
   "outputs": [
    {
     "data": {
      "text/plain": [
       "array([0, 0, 0, 0, 0, 0, 0, 0, 0, 0, 0, 0, 1, 1, 1, 1, 1, 1, 1, 1, 1, 1,\n",
       "       1, 1, 1, 1, 1, 1, 1, 1, 1, 1, 1, 1, 1, 1, 1, 1, 1, 1, 1, 1, 1, 1,\n",
       "       1, 1, 1, 1, 1, 1, 1, 1, 2, 2, 2])"
      ]
     },
     "execution_count": 44,
     "metadata": {},
     "output_type": "execute_result"
    }
   ],
   "source": [
    "y_real"
   ]
  },
  {
   "cell_type": "code",
   "execution_count": 38,
   "id": "01570325",
   "metadata": {},
   "outputs": [
    {
     "name": "stdout",
     "output_type": "stream",
     "text": [
      "2/2 [==============================] - 0s 9ms/step\n"
     ]
    }
   ],
   "source": [
    "#AQUI ES CON LOS DATOS DE VALIDADACION\n",
    "predictions = model.predict(validationX)"
   ]
  },
  {
   "cell_type": "code",
   "execution_count": 39,
   "id": "8e720daf",
   "metadata": {},
   "outputs": [
    {
     "data": {
      "text/plain": [
       "<matplotlib.collections.PathCollection at 0x7fea6d500d30>"
      ]
     },
     "execution_count": 39,
     "metadata": {},
     "output_type": "execute_result"
    },
    {
     "data": {
      "image/png": "[encoded data removed]",
      "text/plain": [
       "<Figure size 640x480 with 1 Axes>"
      ]
     },
     "metadata": {},
     "output_type": "display_data"
    }
   ],
   "source": [
    "plt.scatter(predictions[:,0], predictions[:,0], s=1, c=y_real+1)"
   ]
  },
  {
   "cell_type": "code",
   "execution_count": 40,
   "id": "66383536",
   "metadata": {},
   "outputs": [],
   "source": [
    "y_real_train = f(trainY[:,0])"
   ]
  },
  {
   "cell_type": "code",
   "execution_count": 41,
   "id": "faad911b",
   "metadata": {},
   "outputs": [
    {
     "data": {
      "text/plain": [
       "array([0, 0, 0, 0, 0, 0, 0, 0, 0, 0, 0, 1, 1, 1, 1, 1, 1, 1, 1, 1, 1, 1,\n",
       "       1, 1, 1, 1, 1, 1, 1, 1, 1, 1, 1, 1, 1, 1, 1, 1, 1, 1, 1, 1, 1, 1,\n",
       "       1, 1, 1, 1, 1, 1, 1, 1, 1, 1])"
      ]
     },
     "execution_count": 41,
     "metadata": {},
     "output_type": "execute_result"
    }
   ],
   "source": [
    "y_real_train"
   ]
  },
  {
   "cell_type": "code",
   "execution_count": 42,
   "id": "4c08176c",
   "metadata": {
    "scrolled": true
   },
   "outputs": [
    {
     "name": "stdout",
     "output_type": "stream",
     "text": [
      "2/2 [==============================] - 0s 10ms/step\n"
     ]
    }
   ],
   "source": [
    "predictions_test = model.predict(testX)"
   ]
  },
  {
   "cell_type": "code",
   "execution_count": 43,
   "id": "493fc277",
   "metadata": {},
   "outputs": [
    {
     "ename": "ValueError",
     "evalue": "setting an array element with a sequence.",
     "output_type": "error",
     "traceback": [
      "\u001b[0;31m---------------------------------------------------------------------------\u001b[0m",
      "\u001b[0;31mTypeError\u001b[0m                                 Traceback (most recent call last)",
      "\u001b[0;31mTypeError\u001b[0m: only size-1 arrays can be converted to Python scalars",
      "\nThe above exception was the direct cause of the following exception:\n",
      "\u001b[0;31mValueError\u001b[0m                                Traceback (most recent call last)",
      "Cell \u001b[0;32mIn[43], line 1\u001b[0m\n\u001b[0;32m----> 1\u001b[0m y_real_test \u001b[38;5;241m=\u001b[39m  \u001b[43mf\u001b[49m\u001b[43m(\u001b[49m\u001b[43mtestY\u001b[49m\u001b[43m[\u001b[49m\u001b[43m:\u001b[49m\u001b[43m,\u001b[49m\u001b[38;5;241;43m0\u001b[39;49m\u001b[43m]\u001b[49m\u001b[43m)\u001b[49m\n",
      "File \u001b[0;32m~/.local/lib/python3.10/site-packages/numpy/lib/function_base.py:2328\u001b[0m, in \u001b[0;36mvectorize.__call__\u001b[0;34m(self, *args, **kwargs)\u001b[0m\n\u001b[1;32m   2325\u001b[0m     vargs \u001b[38;5;241m=\u001b[39m [args[_i] \u001b[38;5;28;01mfor\u001b[39;00m _i \u001b[38;5;129;01min\u001b[39;00m inds]\n\u001b[1;32m   2326\u001b[0m     vargs\u001b[38;5;241m.\u001b[39mextend([kwargs[_n] \u001b[38;5;28;01mfor\u001b[39;00m _n \u001b[38;5;129;01min\u001b[39;00m names])\n\u001b[0;32m-> 2328\u001b[0m \u001b[38;5;28;01mreturn\u001b[39;00m \u001b[38;5;28;43mself\u001b[39;49m\u001b[38;5;241;43m.\u001b[39;49m\u001b[43m_vectorize_call\u001b[49m\u001b[43m(\u001b[49m\u001b[43mfunc\u001b[49m\u001b[38;5;241;43m=\u001b[39;49m\u001b[43mfunc\u001b[49m\u001b[43m,\u001b[49m\u001b[43m \u001b[49m\u001b[43margs\u001b[49m\u001b[38;5;241;43m=\u001b[39;49m\u001b[43mvargs\u001b[49m\u001b[43m)\u001b[49m\n",
      "File \u001b[0;32m~/.local/lib/python3.10/site-packages/numpy/lib/function_base.py:2414\u001b[0m, in \u001b[0;36mvectorize._vectorize_call\u001b[0;34m(self, func, args)\u001b[0m\n\u001b[1;32m   2411\u001b[0m outputs \u001b[38;5;241m=\u001b[39m ufunc(\u001b[38;5;241m*\u001b[39minputs)\n\u001b[1;32m   2413\u001b[0m \u001b[38;5;28;01mif\u001b[39;00m ufunc\u001b[38;5;241m.\u001b[39mnout \u001b[38;5;241m==\u001b[39m \u001b[38;5;241m1\u001b[39m:\n\u001b[0;32m-> 2414\u001b[0m     res \u001b[38;5;241m=\u001b[39m \u001b[43masanyarray\u001b[49m\u001b[43m(\u001b[49m\u001b[43moutputs\u001b[49m\u001b[43m,\u001b[49m\u001b[43m \u001b[49m\u001b[43mdtype\u001b[49m\u001b[38;5;241;43m=\u001b[39;49m\u001b[43motypes\u001b[49m\u001b[43m[\u001b[49m\u001b[38;5;241;43m0\u001b[39;49m\u001b[43m]\u001b[49m\u001b[43m)\u001b[49m\n\u001b[1;32m   2415\u001b[0m \u001b[38;5;28;01melse\u001b[39;00m:\n\u001b[1;32m   2416\u001b[0m     res \u001b[38;5;241m=\u001b[39m \u001b[38;5;28mtuple\u001b[39m([asanyarray(x, dtype\u001b[38;5;241m=\u001b[39mt)\n\u001b[1;32m   2417\u001b[0m                  \u001b[38;5;28;01mfor\u001b[39;00m x, t \u001b[38;5;129;01min\u001b[39;00m \u001b[38;5;28mzip\u001b[39m(outputs, otypes)])\n",
      "\u001b[0;31mValueError\u001b[0m: setting an array element with a sequence."
     ]
    }
   ],
   "source": [
    "y_real_test =  f(testY[:,0])"
   ]
  },
  {
   "cell_type": "code",
   "execution_count": 394,
   "id": "a3924feb",
   "metadata": {},
   "outputs": [],
   "source": [
    "#from sklearn.model_selection import train_test_split\n",
    "#X_train, X_test, y_train, y_test = train_test_split(predictions, y_real, test_size=0.3, stratify=y_real)"
   ]
  },
  {
   "cell_type": "code",
   "execution_count": 395,
   "id": "618ed0a4",
   "metadata": {},
   "outputs": [],
   "source": [
    "from sklearn.linear_model import LogisticRegression\n",
    "rl = LogisticRegression(random_state=0, penalty=None).fit(predictions, y_real) # Esto es de validacion"
   ]
  },
  {
   "cell_type": "code",
   "execution_count": 396,
   "id": "365ec7d2",
   "metadata": {},
   "outputs": [],
   "source": [
    "pred_test_2 = rl.predict(predictions_test)"
   ]
  },
  {
   "cell_type": "code",
   "execution_count": 397,
   "id": "c1c4661d",
   "metadata": {
    "scrolled": true
   },
   "outputs": [],
   "source": [
    "from sklearn.metrics import confusion_matrix\n",
    "from sklearn.metrics import classification_report\n",
    "cm = confusion_matrix(y_real_test, pred_test_2)\n",
    "metricas = classification_report(y_real_test, pred_test_2)"
   ]
  },
  {
   "cell_type": "code",
   "execution_count": 398,
   "id": "d9c3670e",
   "metadata": {},
   "outputs": [
    {
     "name": "stdout",
     "output_type": "stream",
     "text": [
      "[[ 1  0  0  0]\n",
      " [ 1 20  0  0]\n",
      " [ 0  1 21  0]\n",
      " [ 0  0  2 10]]\n",
      "              precision    recall  f1-score   support\n",
      "\n",
      "           0       0.50      1.00      0.67         1\n",
      "           1       0.95      0.95      0.95        21\n",
      "           2       0.91      0.95      0.93        22\n",
      "           3       1.00      0.83      0.91        12\n",
      "\n",
      "    accuracy                           0.93        56\n",
      "   macro avg       0.84      0.94      0.87        56\n",
      "weighted avg       0.94      0.93      0.93        56\n",
      "\n"
     ]
    }
   ],
   "source": [
    "print(cm)\n",
    "print(metricas)"
   ]
  },
  {
   "cell_type": "code",
   "execution_count": 201,
   "id": "fe359c69",
   "metadata": {},
   "outputs": [],
   "source": [
    "nombre_archivo = \"ejecuciones/ejecuciones_val_2021/saudi_arabia.txt\"\n",
    "\n",
    "# Abrir el archivo en modo de escritura\n",
    "with open(nombre_archivo, \"w\") as archivo:\n",
    "    print(\"Matriz de confusión:\", file=archivo)\n",
    "    print(clases, file=archivo)\n",
    "    print(cm, file=archivo)\n",
    "    print(\"Métricas:\", file=archivo)\n",
    "    print(metricas, file=archivo)"
   ]
  },
  {
   "cell_type": "code",
   "execution_count": 399,
   "id": "55b91631",
   "metadata": {},
   "outputs": [],
   "source": [
    "\n",
    "real = f(testY[:,0])\n",
    "predicho = pred_test_2"
   ]
  },
  {
   "cell_type": "code",
   "execution_count": 400,
   "id": "38c29d06",
   "metadata": {
    "scrolled": true
   },
   "outputs": [
    {
     "data": {
      "text/plain": [
       "array([0, 1, 1, 1, 1, 1, 1, 1, 1, 1, 1, 1, 1, 1, 1, 1, 1, 1, 1, 1, 1, 1,\n",
       "       2, 2, 2, 2, 2, 2, 2, 2, 2, 2, 2, 2, 2, 2, 2, 2, 2, 2, 2, 2, 2, 2,\n",
       "       3, 3, 3, 3, 3, 3, 3, 3, 3, 3, 3, 3])"
      ]
     },
     "execution_count": 400,
     "metadata": {},
     "output_type": "execute_result"
    }
   ],
   "source": [
    "real"
   ]
  },
  {
   "cell_type": "code",
   "execution_count": 401,
   "id": "17f3bb9c",
   "metadata": {},
   "outputs": [
    {
     "data": {
      "text/plain": [
       "array([0, 0, 1, 1, 1, 1, 1, 1, 1, 1, 1, 1, 1, 1, 1, 1, 1, 1, 1, 1, 1, 1,\n",
       "       1, 2, 2, 2, 2, 2, 2, 2, 2, 2, 2, 2, 2, 2, 2, 2, 2, 2, 2, 2, 2, 2,\n",
       "       2, 2, 3, 3, 3, 3, 3, 3, 3, 3, 3, 3])"
      ]
     },
     "execution_count": 401,
     "metadata": {},
     "output_type": "execute_result"
    }
   ],
   "source": [
    "predicho"
   ]
  },
  {
   "cell_type": "code",
   "execution_count": 402,
   "id": "1b017f14",
   "metadata": {},
   "outputs": [
    {
     "name": "stdout",
     "output_type": "stream",
     "text": [
      "Precisión en el cambio: 0.0\n"
     ]
    }
   ],
   "source": [
    "\n",
    "indice_cambio_original = np.where(real[:-1] != real[1:])[0]\n",
    "\n",
    "# Encontrar el índice del cambio en la matriz predicha\n",
    "indice_cambio_predicha = np.where(predicho[:-1] != predicho[1:])[0]\n",
    "\n",
    "# Calcular la precisión en el cambio\n",
    "precision_cambio = np.sum(indice_cambio_original == indice_cambio_predicha) / len(indice_cambio_original)\n",
    "\n",
    "print(\"Precisión en el cambio:\", precision_cambio)"
   ]
  },
  {
   "cell_type": "code",
   "execution_count": null,
   "id": "aa51e4c2",
   "metadata": {},
   "outputs": [],
   "source": []
  }
 ],
 "metadata": {
  "kernelspec": {
   "display_name": "Python 3 (ipykernel)",
   "language": "python",
   "name": "python3"
  },
  "language_info": {
   "codemirror_mode": {
    "name": "ipython",
    "version": 3
   },
   "file_extension": ".py",
   "mimetype": "text/x-python",
   "name": "python",
   "nbconvert_exporter": "python",
   "pygments_lexer": "ipython3",
   "version": "3.10.9"
  }
 },
 "nbformat": 4,
 "nbformat_minor": 5
}
