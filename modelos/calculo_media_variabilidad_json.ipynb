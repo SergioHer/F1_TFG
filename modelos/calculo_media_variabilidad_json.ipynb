{
 "cells": [
  {
   "cell_type": "code",
   "execution_count": 3,
   "id": "d54ef75e",
   "metadata": {},
   "outputs": [
    {
     "name": "stdout",
     "output_type": "stream",
     "text": [
      "Media de las accuracies: 0.9011594202898551\n",
      "Variabilidad de las accuracies: 0.024029372873133968\n"
     ]
    }
   ],
   "source": [
    "import json\n",
    "import statistics\n",
    "\n",
    "# Leer el archivo JSON\n",
    "with open('ejecuciones/ejecuciones_austria/global_json_austria.json', 'r') as archivo:\n",
    "    json_data = json.load(archivo)\n",
    "\n",
    "# Extraer las accuracies en una lista\n",
    "accuracies = [item['Accuracy'] for item in json_data]\n",
    "\n",
    "# Calcular la media de las accuracies\n",
    "media_accuracy = statistics.mean(accuracies)\n",
    "\n",
    "# Calcular la variabilidad de las accuracies\n",
    "variabilidad_accuracy = statistics.stdev(accuracies)\n",
    "\n",
    "# Imprimir los resultados\n",
    "print(\"Media de las accuracies:\", media_accuracy)\n",
    "print(\"Variabilidad de las accuracies:\", variabilidad_accuracy)"
   ]
  },
  {
   "cell_type": "code",
   "execution_count": null,
   "id": "0a048965",
   "metadata": {},
   "outputs": [],
   "source": []
  }
 ],
 "metadata": {
  "kernelspec": {
   "display_name": "Python 3 (ipykernel)",
   "language": "python",
   "name": "python3"
  },
  "language_info": {
   "codemirror_mode": {
    "name": "ipython",
    "version": 3
   },
   "file_extension": ".py",
   "mimetype": "text/x-python",
   "name": "python",
   "nbconvert_exporter": "python",
   "pygments_lexer": "ipython3",
   "version": "3.10.9"
  }
 },
 "nbformat": 4,
 "nbformat_minor": 5
}
