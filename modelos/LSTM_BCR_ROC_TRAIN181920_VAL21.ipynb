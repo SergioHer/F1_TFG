{
 "cells": [
  {
   "cell_type": "code",
   "execution_count": 35,
   "id": "9ee4b771",
   "metadata": {},
   "outputs": [],
   "source": [
    "import numpy as np\n",
    "from tensorflow.keras.models import Sequential\n",
    "from tensorflow.keras.layers import LSTM\n",
    "from tensorflow.keras.layers import Dense, Dropout\n",
    "from tensorflow import keras\n",
    "import pandas as pd\n",
    "from matplotlib import pyplot as plt\n",
    "from sklearn.preprocessing import StandardScaler, MinMaxScaler\n",
    "import seaborn as sns"
   ]
  },
  {
   "cell_type": "code",
   "execution_count": 165,
   "id": "b6688576",
   "metadata": {},
   "outputs": [],
   "source": [
    "vueltas = pd.read_csv(\"../dataset_todos_pilotos/final/laps_spain_final_v2.csv\")"
   ]
  },
  {
   "cell_type": "code",
   "execution_count": 166,
   "id": "096f4b34",
   "metadata": {},
   "outputs": [
    {
     "name": "stderr",
     "output_type": "stream",
     "text": [
      "/var/folders/pd/wpkltt694qx207z03w_cmlbh0000gn/T/ipykernel_95103/2882609537.py:3: SettingWithCopyWarning: \n",
      "A value is trying to be set on a copy of a slice from a DataFrame\n",
      "\n",
      "See the caveats in the documentation: https://pandas.pydata.org/pandas-docs/stable/user_guide/indexing.html#returning-a-view-versus-a-copy\n",
      "  vueltas['makeStop'][0] = 0\n"
     ]
    }
   ],
   "source": [
    "#vueltas['makeStop'] = vueltas['makeStop'].shift(-1)#Bahrein\n",
    "vueltas['makeStop'] = vueltas['makeStop'].shift(1)#Spain\n",
    "vueltas['makeStop'][0] = 0"
   ]
  },
  {
   "cell_type": "code",
   "execution_count": 480,
   "id": "f20c1e81",
   "metadata": {},
   "outputs": [],
   "source": [
    "columnas = [\"Stint\", \"Piloto\", 'anyo', 'makeStop']\n",
    "vueltas = vueltas[columnas]"
   ]
  },
  {
   "cell_type": "code",
   "execution_count": 167,
   "id": "9aafbad6",
   "metadata": {},
   "outputs": [
    {
     "name": "stderr",
     "output_type": "stream",
     "text": [
      "/var/folders/pd/wpkltt694qx207z03w_cmlbh0000gn/T/ipykernel_95103/1637116034.py:20: SettingWithCopyWarning: \n",
      "A value is trying to be set on a copy of a slice from a DataFrame\n",
      "\n",
      "See the caveats in the documentation: https://pandas.pydata.org/pandas-docs/stable/user_guide/indexing.html#returning-a-view-versus-a-copy\n",
      "  vueltas_train.drop(['Piloto'], axis = 1, inplace = True)\n"
     ]
    }
   ],
   "source": [
    "piloto=\"bottas\"\n",
    "\n",
    "#vueltas = vueltas.drop(['Piloto'], axis = 1)\n",
    "\n",
    "#Entrenamiento con todos pilotos -> TODO\n",
    "\n",
    "vueltas_train = vueltas[vueltas['anyo'].isin([2018, 2019, 2020])]\n",
    "vueltas_validation = vueltas[vueltas['anyo'].isin([2021])]\n",
    "vueltas_test = vueltas[vueltas['anyo'] == 2022]\n",
    "\n",
    "#vueltas_train = vueltas_train[vueltas_train['Piloto'] == \"hamilton\"]\n",
    "\n",
    "#vueltas_validation = vueltas_validation[vueltas_validation['Piloto'] == \"max_verstappen\"]\n",
    "vueltas_test = vueltas_test[vueltas_test['Piloto'] == piloto]\n",
    "\n",
    "#vueltas_train = vueltas_train.drop(['anyo'], axis=1)\n",
    "vueltas_validation = vueltas_validation.drop(['anyo'], axis=1)\n",
    "\n",
    "vueltas_test = vueltas_test.drop(['anyo'], axis=1)\n",
    "vueltas_train.drop(['Piloto'], axis = 1, inplace = True)\n",
    "vueltas_test.drop(['Piloto'], axis = 1, inplace = True)\n",
    "vueltas_validation.drop(['Piloto'], axis = 1, inplace = True)\n",
    "vueltas_train = vueltas_train.drop(['Stint'], axis=1)\n",
    "vueltas_validation = vueltas_validation.drop(['Stint'], axis=1)\n",
    "vueltas_test = vueltas_test.drop(['Stint'], axis=1)\n",
    "\n",
    "vueltas_train = vueltas_train.astype('float')\n",
    "vueltas_validation = vueltas_validation.astype(float)\n",
    "vueltas_test = vueltas_test.astype(float)"
   ]
  },
  {
   "cell_type": "code",
   "execution_count": 168,
   "id": "65166273",
   "metadata": {},
   "outputs": [],
   "source": [
    "vueltas_train_18 = vueltas_train[vueltas_train['anyo'] == 2018]\n",
    "\n",
    "vueltas_train_18 = vueltas_train_18.drop('anyo', axis=1)\n",
    "vueltas_train_18['makeStop'] = vueltas_train_18['makeStop'].astype('int32')\n",
    "scaler = MinMaxScaler()\n",
    "scaler.fit(vueltas_train_18)\n",
    "vueltas_train_scaler_18= scaler.transform(vueltas_train_18)"
   ]
  },
  {
   "cell_type": "code",
   "execution_count": 169,
   "id": "60ffe789",
   "metadata": {},
   "outputs": [],
   "source": [
    "vueltas_train_19 = vueltas_train[vueltas_train['anyo'] == 2019]\n",
    "\n",
    "vueltas_train_19 = vueltas_train_19.drop('anyo', axis=1)\n",
    "vueltas_train_19['makeStop'] = vueltas_train_19['makeStop'].astype('int32')\n",
    "\n",
    "scaler.fit(vueltas_train_19)\n",
    "vueltas_train_scaler_19= scaler.transform(vueltas_train_19)"
   ]
  },
  {
   "cell_type": "code",
   "execution_count": 170,
   "id": "435d48a9",
   "metadata": {},
   "outputs": [],
   "source": [
    "vueltas_train_20 = vueltas_train[vueltas_train['anyo'] == 2020]\n",
    "\n",
    "vueltas_train_20 = vueltas_train_20.drop('anyo', axis=1)\n",
    "vueltas_train_20['makeStop'] = vueltas_train_20['makeStop'].astype('int32')\n",
    "\n",
    "scaler.fit(vueltas_train_20)\n",
    "vueltas_train_scaler_20= scaler.transform(vueltas_train_20)"
   ]
  },
  {
   "cell_type": "code",
   "execution_count": 171,
   "id": "4b435a8e",
   "metadata": {},
   "outputs": [],
   "source": [
    "vueltas_test_scaler = scaler.transform(vueltas_test)\n",
    "vueltas_validation_scaler = scaler.transform(vueltas_validation)\n"
   ]
  },
  {
   "cell_type": "code",
   "execution_count": 172,
   "id": "83ece4da",
   "metadata": {},
   "outputs": [],
   "source": [
    "trainX = []\n",
    "trainY = []\n",
    "testX = []\n",
    "testY = []\n",
    "validationX = []\n",
    "validationY = []\n",
    "loopback = 8 # Esto es el numero de muestras que usara en el pasado \n",
    "future = 1 # Esto es el numero de hechos futuros que usará como salida a las 10 muestras del pasado\n",
    "\n",
    "for i in range (loopback, len(vueltas_train_scaler_18) -future +1):\n",
    "    trainX.append(vueltas_train_scaler_18[i-loopback:i, 0:vueltas_train_18.shape[1]])\n",
    "    trainY.append(vueltas_train_scaler_18[i + future - 1:i + future,5])\n",
    "    \n",
    "for i in range (loopback, len(vueltas_train_scaler_19) -future +1):\n",
    "    trainX.append(vueltas_train_scaler_19[i-loopback:i, 0:vueltas_train_19.shape[1]])\n",
    "    trainY.append(vueltas_train_scaler_19[i + future - 1:i + future,5])\n",
    "    \n",
    "for i in range (loopback, len(vueltas_train_scaler_20) -future +1):\n",
    "    trainX.append(vueltas_train_scaler_20[i-loopback:i, 0:vueltas_train_20.shape[1]])\n",
    "    trainY.append(vueltas_train_scaler_20[i + future - 1:i + future,5])\n",
    " \n",
    "for i in range (loopback, len(vueltas_test_scaler) -future +1):\n",
    "        testX.append(vueltas_test_scaler[i-loopback:i, 0:vueltas_test.shape[1]])\n",
    "        testY.append(vueltas_test_scaler[i + future - 1:i + future,5])\n",
    "        \n",
    "    \n",
    "for i in range (loopback, len(vueltas_validation_scaler) -future +1):\n",
    "    validationX.append(vueltas_validation_scaler[i-loopback:i, 0:vueltas_validation.shape[1]])\n",
    "    validationY.append(vueltas_validation_scaler[i + future - 1:i + future,5])"
   ]
  },
  {
   "cell_type": "code",
   "execution_count": 173,
   "id": "748744b3",
   "metadata": {},
   "outputs": [],
   "source": [
    "trainX, trainY, testX, testY, validationX, validationY = np.array(trainX), np.array(trainY), np.array(testX), np.array(testY), np.array(validationX), np.array(validationY)"
   ]
  },
  {
   "cell_type": "code",
   "execution_count": 191,
   "id": "f16e12f8",
   "metadata": {},
   "outputs": [
    {
     "name": "stderr",
     "output_type": "stream",
     "text": [
      "2023-08-19 02:12:05.834240: I tensorflow/core/common_runtime/executor.cc:1197] [/device:CPU:0] (DEBUG INFO) Executor start aborting (this does not indicate an error and you can ignore this message): INVALID_ARGUMENT: You must feed a value for placeholder tensor 'gradients/split_2_grad/concat/split_2/split_dim' with dtype int32\n",
      "\t [[{{node gradients/split_2_grad/concat/split_2/split_dim}}]]\n",
      "2023-08-19 02:12:05.835900: I tensorflow/core/common_runtime/executor.cc:1197] [/device:CPU:0] (DEBUG INFO) Executor start aborting (this does not indicate an error and you can ignore this message): INVALID_ARGUMENT: You must feed a value for placeholder tensor 'gradients/split_grad/concat/split/split_dim' with dtype int32\n",
      "\t [[{{node gradients/split_grad/concat/split/split_dim}}]]\n",
      "2023-08-19 02:12:05.837053: I tensorflow/core/common_runtime/executor.cc:1197] [/device:CPU:0] (DEBUG INFO) Executor start aborting (this does not indicate an error and you can ignore this message): INVALID_ARGUMENT: You must feed a value for placeholder tensor 'gradients/split_1_grad/concat/split_1/split_dim' with dtype int32\n",
      "\t [[{{node gradients/split_1_grad/concat/split_1/split_dim}}]]\n"
     ]
    },
    {
     "name": "stdout",
     "output_type": "stream",
     "text": [
      "Model: \"sequential_8\"\n",
      "_________________________________________________________________\n",
      " Layer (type)                Output Shape              Param #   \n",
      "=================================================================\n",
      " lstm_20 (LSTM)              (None, 8, 256)            282624    \n",
      "                                                                 \n",
      " dropout_20 (Dropout)        (None, 8, 256)            0         \n",
      "                                                                 \n",
      " lstm_21 (LSTM)              (None, 128)               197120    \n",
      "                                                                 \n",
      " dropout_21 (Dropout)        (None, 128)               0         \n",
      "                                                                 \n",
      " dense_8 (Dense)             (None, 1)                 129       \n",
      "                                                                 \n",
      "=================================================================\n",
      "Total params: 479,873\n",
      "Trainable params: 479,873\n",
      "Non-trainable params: 0\n",
      "_________________________________________________________________\n"
     ]
    },
    {
     "name": "stderr",
     "output_type": "stream",
     "text": [
      "2023-08-19 02:12:06.052082: I tensorflow/core/common_runtime/executor.cc:1197] [/device:CPU:0] (DEBUG INFO) Executor start aborting (this does not indicate an error and you can ignore this message): INVALID_ARGUMENT: You must feed a value for placeholder tensor 'gradients/split_2_grad/concat/split_2/split_dim' with dtype int32\n",
      "\t [[{{node gradients/split_2_grad/concat/split_2/split_dim}}]]\n",
      "2023-08-19 02:12:06.054203: I tensorflow/core/common_runtime/executor.cc:1197] [/device:CPU:0] (DEBUG INFO) Executor start aborting (this does not indicate an error and you can ignore this message): INVALID_ARGUMENT: You must feed a value for placeholder tensor 'gradients/split_grad/concat/split/split_dim' with dtype int32\n",
      "\t [[{{node gradients/split_grad/concat/split/split_dim}}]]\n",
      "2023-08-19 02:12:06.055398: I tensorflow/core/common_runtime/executor.cc:1197] [/device:CPU:0] (DEBUG INFO) Executor start aborting (this does not indicate an error and you can ignore this message): INVALID_ARGUMENT: You must feed a value for placeholder tensor 'gradients/split_1_grad/concat/split_1/split_dim' with dtype int32\n",
      "\t [[{{node gradients/split_1_grad/concat/split_1/split_dim}}]]\n"
     ]
    }
   ],
   "source": [
    "model = Sequential()\n",
    "model.add(LSTM(256, activation='tanh', input_shape=(trainX.shape[1], trainX.shape[2]), return_sequences=True))\n",
    "model.add(Dropout(0.2))\n",
    "model.add(LSTM(128, activation='tanh', return_sequences=False))\n",
    "model.add(Dropout(0.2))\n",
    "model.add(Dense(1, activation='sigmoid'))\n",
    "model.compile(optimizer=\"adam\", loss= \"binary_crossentropy\")\n",
    "model.summary()"
   ]
  },
  {
   "cell_type": "code",
   "execution_count": 192,
   "id": "d48f6c99",
   "metadata": {
    "scrolled": false
   },
   "outputs": [
    {
     "name": "stdout",
     "output_type": "stream",
     "text": [
      "Epoch 1/25\n"
     ]
    },
    {
     "name": "stderr",
     "output_type": "stream",
     "text": [
      "2023-08-19 02:12:06.433693: I tensorflow/core/common_runtime/executor.cc:1197] [/device:CPU:0] (DEBUG INFO) Executor start aborting (this does not indicate an error and you can ignore this message): INVALID_ARGUMENT: You must feed a value for placeholder tensor 'gradients/split_2_grad/concat/split_2/split_dim' with dtype int32\n",
      "\t [[{{node gradients/split_2_grad/concat/split_2/split_dim}}]]\n",
      "2023-08-19 02:12:06.435488: I tensorflow/core/common_runtime/executor.cc:1197] [/device:CPU:0] (DEBUG INFO) Executor start aborting (this does not indicate an error and you can ignore this message): INVALID_ARGUMENT: You must feed a value for placeholder tensor 'gradients/split_grad/concat/split/split_dim' with dtype int32\n",
      "\t [[{{node gradients/split_grad/concat/split/split_dim}}]]\n",
      "2023-08-19 02:12:06.436774: I tensorflow/core/common_runtime/executor.cc:1197] [/device:CPU:0] (DEBUG INFO) Executor start aborting (this does not indicate an error and you can ignore this message): INVALID_ARGUMENT: You must feed a value for placeholder tensor 'gradients/split_1_grad/concat/split_1/split_dim' with dtype int32\n",
      "\t [[{{node gradients/split_1_grad/concat/split_1/split_dim}}]]\n",
      "2023-08-19 02:12:06.638327: I tensorflow/core/common_runtime/executor.cc:1197] [/device:CPU:0] (DEBUG INFO) Executor start aborting (this does not indicate an error and you can ignore this message): INVALID_ARGUMENT: You must feed a value for placeholder tensor 'gradients/split_2_grad/concat/split_2/split_dim' with dtype int32\n",
      "\t [[{{node gradients/split_2_grad/concat/split_2/split_dim}}]]\n",
      "2023-08-19 02:12:06.640215: I tensorflow/core/common_runtime/executor.cc:1197] [/device:CPU:0] (DEBUG INFO) Executor start aborting (this does not indicate an error and you can ignore this message): INVALID_ARGUMENT: You must feed a value for placeholder tensor 'gradients/split_grad/concat/split/split_dim' with dtype int32\n",
      "\t [[{{node gradients/split_grad/concat/split/split_dim}}]]\n",
      "2023-08-19 02:12:06.642695: I tensorflow/core/common_runtime/executor.cc:1197] [/device:CPU:0] (DEBUG INFO) Executor start aborting (this does not indicate an error and you can ignore this message): INVALID_ARGUMENT: You must feed a value for placeholder tensor 'gradients/split_1_grad/concat/split_1/split_dim' with dtype int32\n",
      "\t [[{{node gradients/split_1_grad/concat/split_1/split_dim}}]]\n",
      "2023-08-19 02:12:08.747443: I tensorflow/core/common_runtime/executor.cc:1197] [/device:CPU:0] (DEBUG INFO) Executor start aborting (this does not indicate an error and you can ignore this message): INVALID_ARGUMENT: You must feed a value for placeholder tensor 'gradients/split_2_grad/concat/split_2/split_dim' with dtype int32\n",
      "\t [[{{node gradients/split_2_grad/concat/split_2/split_dim}}]]\n",
      "2023-08-19 02:12:08.749179: I tensorflow/core/common_runtime/executor.cc:1197] [/device:CPU:0] (DEBUG INFO) Executor start aborting (this does not indicate an error and you can ignore this message): INVALID_ARGUMENT: You must feed a value for placeholder tensor 'gradients/split_grad/concat/split/split_dim' with dtype int32\n",
      "\t [[{{node gradients/split_grad/concat/split/split_dim}}]]\n",
      "2023-08-19 02:12:08.750358: I tensorflow/core/common_runtime/executor.cc:1197] [/device:CPU:0] (DEBUG INFO) Executor start aborting (this does not indicate an error and you can ignore this message): INVALID_ARGUMENT: You must feed a value for placeholder tensor 'gradients/split_1_grad/concat/split_1/split_dim' with dtype int32\n",
      "\t [[{{node gradients/split_1_grad/concat/split_1/split_dim}}]]\n",
      "2023-08-19 02:12:08.924422: I tensorflow/core/common_runtime/executor.cc:1197] [/device:CPU:0] (DEBUG INFO) Executor start aborting (this does not indicate an error and you can ignore this message): INVALID_ARGUMENT: You must feed a value for placeholder tensor 'gradients/split_2_grad/concat/split_2/split_dim' with dtype int32\n",
      "\t [[{{node gradients/split_2_grad/concat/split_2/split_dim}}]]\n",
      "2023-08-19 02:12:08.925657: I tensorflow/core/common_runtime/executor.cc:1197] [/device:CPU:0] (DEBUG INFO) Executor start aborting (this does not indicate an error and you can ignore this message): INVALID_ARGUMENT: You must feed a value for placeholder tensor 'gradients/split_grad/concat/split/split_dim' with dtype int32\n",
      "\t [[{{node gradients/split_grad/concat/split/split_dim}}]]\n",
      "2023-08-19 02:12:08.926742: I tensorflow/core/common_runtime/executor.cc:1197] [/device:CPU:0] (DEBUG INFO) Executor start aborting (this does not indicate an error and you can ignore this message): INVALID_ARGUMENT: You must feed a value for placeholder tensor 'gradients/split_1_grad/concat/split_1/split_dim' with dtype int32\n",
      "\t [[{{node gradients/split_1_grad/concat/split_1/split_dim}}]]\n"
     ]
    },
    {
     "name": "stdout",
     "output_type": "stream",
     "text": [
      "22/23 [===========================>..] - ETA: 0s - loss: 0.1935"
     ]
    },
    {
     "name": "stderr",
     "output_type": "stream",
     "text": [
      "2023-08-19 02:12:12.085720: I tensorflow/core/common_runtime/executor.cc:1197] [/device:CPU:0] (DEBUG INFO) Executor start aborting (this does not indicate an error and you can ignore this message): INVALID_ARGUMENT: You must feed a value for placeholder tensor 'gradients/split_2_grad/concat/split_2/split_dim' with dtype int32\n",
      "\t [[{{node gradients/split_2_grad/concat/split_2/split_dim}}]]\n",
      "2023-08-19 02:12:12.087169: I tensorflow/core/common_runtime/executor.cc:1197] [/device:CPU:0] (DEBUG INFO) Executor start aborting (this does not indicate an error and you can ignore this message): INVALID_ARGUMENT: You must feed a value for placeholder tensor 'gradients/split_grad/concat/split/split_dim' with dtype int32\n",
      "\t [[{{node gradients/split_grad/concat/split/split_dim}}]]\n",
      "2023-08-19 02:12:12.089162: I tensorflow/core/common_runtime/executor.cc:1197] [/device:CPU:0] (DEBUG INFO) Executor start aborting (this does not indicate an error and you can ignore this message): INVALID_ARGUMENT: You must feed a value for placeholder tensor 'gradients/split_1_grad/concat/split_1/split_dim' with dtype int32\n",
      "\t [[{{node gradients/split_1_grad/concat/split_1/split_dim}}]]\n",
      "2023-08-19 02:12:12.280407: I tensorflow/core/common_runtime/executor.cc:1197] [/device:CPU:0] (DEBUG INFO) Executor start aborting (this does not indicate an error and you can ignore this message): INVALID_ARGUMENT: You must feed a value for placeholder tensor 'gradients/split_2_grad/concat/split_2/split_dim' with dtype int32\n",
      "\t [[{{node gradients/split_2_grad/concat/split_2/split_dim}}]]\n",
      "2023-08-19 02:12:12.281571: I tensorflow/core/common_runtime/executor.cc:1197] [/device:CPU:0] (DEBUG INFO) Executor start aborting (this does not indicate an error and you can ignore this message): INVALID_ARGUMENT: You must feed a value for placeholder tensor 'gradients/split_grad/concat/split/split_dim' with dtype int32\n",
      "\t [[{{node gradients/split_grad/concat/split/split_dim}}]]\n",
      "2023-08-19 02:12:12.282644: I tensorflow/core/common_runtime/executor.cc:1197] [/device:CPU:0] (DEBUG INFO) Executor start aborting (this does not indicate an error and you can ignore this message): INVALID_ARGUMENT: You must feed a value for placeholder tensor 'gradients/split_1_grad/concat/split_1/split_dim' with dtype int32\n",
      "\t [[{{node gradients/split_1_grad/concat/split_1/split_dim}}]]\n"
     ]
    },
    {
     "name": "stdout",
     "output_type": "stream",
     "text": [
      "23/23 [==============================] - 6s 91ms/step - loss: 0.1918 - val_loss: 0.1013\n",
      "Epoch 2/25\n",
      "23/23 [==============================] - 2s 66ms/step - loss: 0.1198 - val_loss: 0.0920\n",
      "Epoch 3/25\n",
      "23/23 [==============================] - 1s 62ms/step - loss: 0.1130 - val_loss: 0.0846\n",
      "Epoch 4/25\n",
      "23/23 [==============================] - 1s 59ms/step - loss: 0.1071 - val_loss: 0.0967\n",
      "Epoch 5/25\n",
      "23/23 [==============================] - 1s 60ms/step - loss: 0.1125 - val_loss: 0.0888\n",
      "Epoch 6/25\n",
      "23/23 [==============================] - 1s 58ms/step - loss: 0.1003 - val_loss: 0.0687\n",
      "Epoch 7/25\n",
      "23/23 [==============================] - 1s 59ms/step - loss: 0.0884 - val_loss: 0.0716\n",
      "Epoch 8/25\n",
      "23/23 [==============================] - 1s 59ms/step - loss: 0.0856 - val_loss: 0.0849\n",
      "Epoch 9/25\n",
      "23/23 [==============================] - 1s 57ms/step - loss: 0.0868 - val_loss: 0.0621\n",
      "Epoch 10/25\n",
      "23/23 [==============================] - 1s 58ms/step - loss: 0.0792 - val_loss: 0.0550\n",
      "Epoch 11/25\n",
      "23/23 [==============================] - 1s 58ms/step - loss: 0.0773 - val_loss: 0.0554\n",
      "Epoch 12/25\n",
      "23/23 [==============================] - 1s 58ms/step - loss: 0.0775 - val_loss: 0.0960\n",
      "Epoch 13/25\n",
      "23/23 [==============================] - 1s 58ms/step - loss: 0.0776 - val_loss: 0.0507\n",
      "Epoch 14/25\n",
      "23/23 [==============================] - 1s 58ms/step - loss: 0.0743 - val_loss: 0.0568\n",
      "Epoch 15/25\n",
      "23/23 [==============================] - 1s 59ms/step - loss: 0.0699 - val_loss: 0.0511\n",
      "Epoch 16/25\n",
      "23/23 [==============================] - 1s 58ms/step - loss: 0.0731 - val_loss: 0.0531\n",
      "Epoch 17/25\n",
      "23/23 [==============================] - 1s 57ms/step - loss: 0.0673 - val_loss: 0.0507\n",
      "Epoch 18/25\n",
      "23/23 [==============================] - 1s 59ms/step - loss: 0.0701 - val_loss: 0.0471\n",
      "Epoch 19/25\n",
      "23/23 [==============================] - 1s 57ms/step - loss: 0.0683 - val_loss: 0.0528\n",
      "Epoch 20/25\n",
      "23/23 [==============================] - 1s 58ms/step - loss: 0.0708 - val_loss: 0.0660\n",
      "Epoch 21/25\n",
      "23/23 [==============================] - 1s 58ms/step - loss: 0.0602 - val_loss: 0.0460\n",
      "Epoch 22/25\n",
      "23/23 [==============================] - 1s 58ms/step - loss: 0.0609 - val_loss: 0.0503\n",
      "Epoch 23/25\n",
      "23/23 [==============================] - 1s 57ms/step - loss: 0.0620 - val_loss: 0.0782\n",
      "Epoch 24/25\n",
      "23/23 [==============================] - 1s 58ms/step - loss: 0.0625 - val_loss: 0.0449\n",
      "Epoch 25/25\n",
      "23/23 [==============================] - 1s 57ms/step - loss: 0.0566 - val_loss: 0.0453\n"
     ]
    },
    {
     "data": {
      "text/plain": [
       "<matplotlib.legend.Legend at 0x7f803c082320>"
      ]
     },
     "execution_count": 192,
     "metadata": {},
     "output_type": "execute_result"
    },
    {
     "data": {
      "image/png": "[encoded data removed]",
      "text/plain": [
       "<Figure size 640x480 with 1 Axes>"
      ]
     },
     "metadata": {},
     "output_type": "display_data"
    }
   ],
   "source": [
    "history = model.fit(trainX, trainY, epochs=25, batch_size=128, validation_split=0.05, verbose=1)\n",
    "plt.plot(history.history['loss'], label='Training loss')\n",
    "plt.legend()"
   ]
  },
  {
   "cell_type": "code",
   "execution_count": 193,
   "id": "e10c1eb5",
   "metadata": {},
   "outputs": [
    {
     "name": "stderr",
     "output_type": "stream",
     "text": [
      "2023-08-19 02:12:45.558398: I tensorflow/core/common_runtime/executor.cc:1197] [/device:CPU:0] (DEBUG INFO) Executor start aborting (this does not indicate an error and you can ignore this message): INVALID_ARGUMENT: You must feed a value for placeholder tensor 'gradients/split_2_grad/concat/split_2/split_dim' with dtype int32\n",
      "\t [[{{node gradients/split_2_grad/concat/split_2/split_dim}}]]\n",
      "2023-08-19 02:12:45.560008: I tensorflow/core/common_runtime/executor.cc:1197] [/device:CPU:0] (DEBUG INFO) Executor start aborting (this does not indicate an error and you can ignore this message): INVALID_ARGUMENT: You must feed a value for placeholder tensor 'gradients/split_grad/concat/split/split_dim' with dtype int32\n",
      "\t [[{{node gradients/split_grad/concat/split/split_dim}}]]\n",
      "2023-08-19 02:12:45.561451: I tensorflow/core/common_runtime/executor.cc:1197] [/device:CPU:0] (DEBUG INFO) Executor start aborting (this does not indicate an error and you can ignore this message): INVALID_ARGUMENT: You must feed a value for placeholder tensor 'gradients/split_1_grad/concat/split_1/split_dim' with dtype int32\n",
      "\t [[{{node gradients/split_1_grad/concat/split_1/split_dim}}]]\n",
      "2023-08-19 02:12:45.730639: I tensorflow/core/common_runtime/executor.cc:1197] [/device:CPU:0] (DEBUG INFO) Executor start aborting (this does not indicate an error and you can ignore this message): INVALID_ARGUMENT: You must feed a value for placeholder tensor 'gradients/split_2_grad/concat/split_2/split_dim' with dtype int32\n",
      "\t [[{{node gradients/split_2_grad/concat/split_2/split_dim}}]]\n",
      "2023-08-19 02:12:45.731750: I tensorflow/core/common_runtime/executor.cc:1197] [/device:CPU:0] (DEBUG INFO) Executor start aborting (this does not indicate an error and you can ignore this message): INVALID_ARGUMENT: You must feed a value for placeholder tensor 'gradients/split_grad/concat/split/split_dim' with dtype int32\n",
      "\t [[{{node gradients/split_grad/concat/split/split_dim}}]]\n",
      "2023-08-19 02:12:45.732731: I tensorflow/core/common_runtime/executor.cc:1197] [/device:CPU:0] (DEBUG INFO) Executor start aborting (this does not indicate an error and you can ignore this message): INVALID_ARGUMENT: You must feed a value for placeholder tensor 'gradients/split_1_grad/concat/split_1/split_dim' with dtype int32\n",
      "\t [[{{node gradients/split_1_grad/concat/split_1/split_dim}}]]\n"
     ]
    },
    {
     "name": "stdout",
     "output_type": "stream",
     "text": [
      "33/33 [==============================] - 1s 8ms/step\n"
     ]
    }
   ],
   "source": [
    "predictions_val = model.predict(validationX)"
   ]
  },
  {
   "cell_type": "code",
   "execution_count": 194,
   "id": "db019bb3",
   "metadata": {},
   "outputs": [
    {
     "data": {
      "text/plain": [
       "array([[0.9507074 ],\n",
       "       [0.9731961 ],\n",
       "       [0.9809802 ],\n",
       "       ...,\n",
       "       [0.7545586 ],\n",
       "       [0.77198213],\n",
       "       [0.7894808 ]], dtype=float32)"
      ]
     },
     "execution_count": 194,
     "metadata": {},
     "output_type": "execute_result"
    }
   ],
   "source": [
    "predictions_val"
   ]
  },
  {
   "cell_type": "markdown",
   "id": "c60536c0",
   "metadata": {},
   "source": [
    "### Sacamos el threeshold con los datos de entrenamiento"
   ]
  },
  {
   "cell_type": "code",
   "execution_count": 195,
   "id": "8e959713",
   "metadata": {},
   "outputs": [
    {
     "name": "stdout",
     "output_type": "stream",
     "text": [
      "El umbral óptimo según la curva ROC es: 0.35593\n"
     ]
    }
   ],
   "source": [
    "import numpy as np\n",
    "from sklearn.metrics import roc_curve\n",
    "\n",
    "\n",
    "# Etiquetas reales (0 o 1 según la clase verdadera)\n",
    "true_labels = validationY\n",
    "\n",
    "# Calculamos la curva ROC\n",
    "fpr, tpr, thresholds = roc_curve(true_labels, predictions_val)\n",
    "\n",
    "# Encontramos el umbral que maximiza la suma de sensibilidad y especificidad\n",
    "optimal_idx = np.argmax(tpr - fpr)\n",
    "optimal_threshold = thresholds[optimal_idx]\n",
    "\n",
    "\n",
    "print(\"El umbral óptimo según la curva ROC es:\", optimal_threshold)\n",
    "\n"
   ]
  },
  {
   "cell_type": "code",
   "execution_count": 196,
   "id": "924d2de6",
   "metadata": {},
   "outputs": [
    {
     "data": {
      "image/png": "[encoded data removed]",
      "text/plain": [
       "<Figure size 800x600 with 1 Axes>"
      ]
     },
     "metadata": {},
     "output_type": "display_data"
    }
   ],
   "source": [
    "plt.figure(figsize=(8, 6))\n",
    "plt.plot(fpr, tpr, label='Curva ROC')\n",
    "plt.plot([0, 1], [0, 1], 'k--', label='Línea de referencia')\n",
    "plt.xlabel('Tasa de Falsos Positivos')\n",
    "plt.ylabel('Tasa de Verdaderos Positivos')\n",
    "plt.title('Curva ROC')\n",
    "plt.legend()\n",
    "plt.show()"
   ]
  },
  {
   "cell_type": "markdown",
   "id": "9a51e2d3",
   "metadata": {},
   "source": [
    "### Sacamos las predicciones del año 2022"
   ]
  },
  {
   "cell_type": "code",
   "execution_count": 197,
   "id": "b6a40816",
   "metadata": {},
   "outputs": [
    {
     "name": "stdout",
     "output_type": "stream",
     "text": [
      "2/2 [==============================] - 0s 10ms/step\n"
     ]
    }
   ],
   "source": [
    "predictions = model.predict(testX)"
   ]
  },
  {
   "cell_type": "code",
   "execution_count": 198,
   "id": "7f56f461",
   "metadata": {},
   "outputs": [
    {
     "data": {
      "text/plain": [
       "array([[4.5781520e-01],\n",
       "       [5.2009732e-01],\n",
       "       [5.5561382e-01],\n",
       "       [5.6407601e-01],\n",
       "       [5.5207759e-01],\n",
       "       [5.2457559e-01],\n",
       "       [1.7465170e-01],\n",
       "       [4.9151074e-02],\n",
       "       [1.1959002e-02],\n",
       "       [3.9832816e-03],\n",
       "       [1.7578572e-03],\n",
       "       [9.8660646e-04],\n",
       "       [6.6580449e-04],\n",
       "       [4.5401766e-04],\n",
       "       [1.9915814e-03],\n",
       "       [2.1127495e-03],\n",
       "       [2.2180448e-03],\n",
       "       [2.3580729e-03],\n",
       "       [2.4902106e-03],\n",
       "       [2.6778753e-03],\n",
       "       [2.8240399e-03],\n",
       "       [3.1095583e-03],\n",
       "       [3.3928761e-03],\n",
       "       [3.7689894e-03],\n",
       "       [4.1959770e-03],\n",
       "       [4.3419264e-03],\n",
       "       [8.9879113e-04],\n",
       "       [5.6797470e-04],\n",
       "       [3.6739302e-04],\n",
       "       [2.7555798e-04],\n",
       "       [2.3284573e-04],\n",
       "       [2.0268449e-04],\n",
       "       [1.7655498e-04],\n",
       "       [1.7922609e-04],\n",
       "       [3.4870682e-04],\n",
       "       [3.5907485e-04],\n",
       "       [3.7427610e-04],\n",
       "       [3.8238123e-04],\n",
       "       [3.9931532e-04],\n",
       "       [4.1883721e-04],\n",
       "       [4.3476827e-04],\n",
       "       [4.4988675e-04],\n",
       "       [4.6966883e-04],\n",
       "       [4.9694907e-04],\n",
       "       [5.1909871e-04],\n",
       "       [5.3386099e-04],\n",
       "       [5.4927077e-04],\n",
       "       [5.6728115e-04],\n",
       "       [5.9285009e-04],\n",
       "       [6.2429981e-04],\n",
       "       [6.3770858e-04],\n",
       "       [6.6822744e-04],\n",
       "       [6.9136487e-04],\n",
       "       [7.0698478e-04],\n",
       "       [7.3022151e-04],\n",
       "       [7.5173640e-04]], dtype=float32)"
      ]
     },
     "execution_count": 198,
     "metadata": {},
     "output_type": "execute_result"
    }
   ],
   "source": [
    "predictions"
   ]
  },
  {
   "cell_type": "code",
   "execution_count": 199,
   "id": "e9aca464",
   "metadata": {},
   "outputs": [],
   "source": [
    "predictions[predictions>optimal_threshold] =1.0"
   ]
  },
  {
   "cell_type": "code",
   "execution_count": 200,
   "id": "8bde41ef",
   "metadata": {},
   "outputs": [],
   "source": [
    "predictions[predictions<=optimal_threshold] = 0.0"
   ]
  },
  {
   "cell_type": "code",
   "execution_count": 201,
   "id": "2fa82eb6",
   "metadata": {},
   "outputs": [
    {
     "data": {
      "text/plain": [
       "array([[1.],\n",
       "       [1.],\n",
       "       [1.],\n",
       "       [1.],\n",
       "       [1.],\n",
       "       [1.],\n",
       "       [0.],\n",
       "       [0.],\n",
       "       [0.],\n",
       "       [0.],\n",
       "       [0.],\n",
       "       [0.],\n",
       "       [0.],\n",
       "       [0.],\n",
       "       [0.],\n",
       "       [0.],\n",
       "       [0.],\n",
       "       [0.],\n",
       "       [0.],\n",
       "       [0.],\n",
       "       [0.],\n",
       "       [0.],\n",
       "       [0.],\n",
       "       [0.],\n",
       "       [0.],\n",
       "       [0.],\n",
       "       [0.],\n",
       "       [0.],\n",
       "       [0.],\n",
       "       [0.],\n",
       "       [0.],\n",
       "       [0.],\n",
       "       [0.],\n",
       "       [0.],\n",
       "       [0.],\n",
       "       [0.],\n",
       "       [0.],\n",
       "       [0.],\n",
       "       [0.],\n",
       "       [0.],\n",
       "       [0.],\n",
       "       [0.],\n",
       "       [0.],\n",
       "       [0.],\n",
       "       [0.],\n",
       "       [0.],\n",
       "       [0.],\n",
       "       [0.],\n",
       "       [0.],\n",
       "       [0.],\n",
       "       [0.],\n",
       "       [0.],\n",
       "       [0.],\n",
       "       [0.],\n",
       "       [0.],\n",
       "       [0.]], dtype=float32)"
      ]
     },
     "execution_count": 201,
     "metadata": {},
     "output_type": "execute_result"
    }
   ],
   "source": [
    "predictions"
   ]
  },
  {
   "cell_type": "code",
   "execution_count": 202,
   "id": "1188acbf",
   "metadata": {},
   "outputs": [
    {
     "name": "stdout",
     "output_type": "stream",
     "text": [
      "              precision    recall  f1-score   support\n",
      "\n",
      "         0.0       0.98      0.91      0.94        54\n",
      "         1.0       0.17      0.50      0.25         2\n",
      "\n",
      "    accuracy                           0.89        56\n",
      "   macro avg       0.57      0.70      0.60        56\n",
      "weighted avg       0.95      0.89      0.92        56\n",
      "\n"
     ]
    }
   ],
   "source": [
    "from sklearn.metrics import confusion_matrix\n",
    "from sklearn.metrics import classification_report\n",
    "metricas = classification_report(testY, predictions)\n",
    "print(metricas)\n"
   ]
  },
  {
   "cell_type": "code",
   "execution_count": 203,
   "id": "72986cb2",
   "metadata": {},
   "outputs": [],
   "source": [
    "def calculate_accuracy_within_range(real_values, predicted_values, within_range=2):\n",
    "    real_values = np.ravel(real_values).astype(int)\n",
    "    predicted_values = np.ravel(predicted_values).astype(int)\n",
    "\n",
    "    stop_indexes = np.where(real_values == 1)[0]\n",
    "\n",
    "    correct_laps = []\n",
    "\n",
    "    for stop_index in stop_indexes:\n",
    "        start_index = max(0, stop_index - within_range + 1)\n",
    "        #Esto lo hago para que no se me pase de la ultima vuelta\n",
    "        end_index = min(len(predicted_values), stop_index + within_range) \n",
    "\n",
    "        if 1 in predicted_values[start_index:end_index + 1]:\n",
    "            correct_laps.append(stop_index+1)\n",
    "\n",
    "    precision = len(correct_laps) / len(stop_indexes) if len(stop_indexes) > 0 else 0\n",
    "\n",
    "    return precision, correct_laps"
   ]
  },
  {
   "cell_type": "code",
   "execution_count": 204,
   "id": "b712a792",
   "metadata": {},
   "outputs": [
    {
     "name": "stdout",
     "output_type": "stream",
     "text": [
      "              precision    recall  f1-score   support\n",
      "\n",
      "         0.0       0.98      0.91      0.94        54\n",
      "         1.0       0.17      0.50      0.25         2\n",
      "\n",
      "    accuracy                           0.89        56\n",
      "   macro avg       0.57      0.70      0.60        56\n",
      "weighted avg       0.95      0.89      0.92        56\n",
      "\n",
      "Exactitud dentro del rango de vueltas: 0.50\n",
      "Vueltas en las que se ha acertado la parada o está dentro del rango con rango seteado a 2: [6]\n",
      "Precisión: 0.50\n",
      "F1-score: 0.67\n",
      "Exactitud sin rango de vueltas: 0.00\n",
      "Precisión: 0.00\n",
      "F1-score: 0.00\n",
      "El threeshold ha sido: 0.35593000054359436\n"
     ]
    }
   ],
   "source": [
    "from sklearn.metrics import confusion_matrix\n",
    "from sklearn.metrics import classification_report\n",
    "\n",
    "metricas = classification_report(testY, predictions)\n",
    "print(metricas)\n",
    "\n",
    "rango = 2\n",
    "accuracy, correct_laps = calculate_accuracy_within_range(testY, predictions, within_range=rango)\n",
    "print(f\"Exactitud dentro del rango de vueltas: {accuracy:.2f}\")\n",
    "print(f\"Vueltas en las que se ha acertado la parada o está dentro del rango con rango seteado a {rango}: {correct_laps}\")\n",
    "\n",
    "precision = accuracy  # En este caso, la precisión es igual a la exactitud dentro del rango\n",
    "recall = 1.0  # Recall es 1.0, ya que solo estamos considerando las paradas reales dentro del rango\n",
    "f1_score = 2 * (precision * recall) / (precision + recall)  # Calculamos el F1-score\n",
    "\n",
    "print(f\"Precisión: {precision:.2f}\")\n",
    "print(f\"F1-score: {f1_score:.2f}\")\n",
    "\n",
    "accuracy, correct_laps = calculate_accuracy_within_range(testY, predictions, within_range=0)\n",
    "print(f\"Exactitud sin rango de vueltas: {accuracy:.2f}\")\n",
    "\n",
    "precision = accuracy  # En este caso, la precisión es igual a la exactitud dentro del rango\n",
    "recall = 1.0  # Recall es 1.0, ya que solo estamos considerando las paradas reales dentro del rango\n",
    "f1_score = 2 * (precision * recall) / (precision + recall)  # Calculamos el F1-score\n",
    "\n",
    "print(f\"Precisión: {precision:.2f}\")\n",
    "print(f\"F1-score: {f1_score:.2f}\")\n",
    "\n",
    "print(f\"El threeshold ha sido: {optimal_threshold}\")"
   ]
  },
  {
   "cell_type": "code",
   "execution_count": 98,
   "id": "cab0cd9f",
   "metadata": {},
   "outputs": [
    {
     "name": "stdout",
     "output_type": "stream",
     "text": [
      "Los resultados se han guardado en el archivo: ./resultados/spain/LSTM_BCR_ROC_TRAIN181920_VAL21/max_verstappen_prueba.txt\n"
     ]
    }
   ],
   "source": [
    "import sys\n",
    "\n",
    "# Guardar la salida actual para restaurarla más tarde\n",
    "original_stdout = sys.stdout\n",
    "\n",
    "# Nombre del archivo en el que se guardarán los resultados\n",
    "nombre_archivo = f\"./resultados/spain/LSTM_BCR_ROC_TRAIN181920_VAL21/{piloto}_prueba.txt\"\n",
    "\n",
    "# Abrir el archivo en modo de escritura y redirigir la salida estándar a ese archivo\n",
    "with open(nombre_archivo, \"w\") as f:\n",
    "    sys.stdout = f\n",
    "\n",
    "    # Ahora todos los prints se guardarán en el archivo en lugar de mostrarse en la consola\n",
    "\n",
    "    from sklearn.metrics import confusion_matrix\n",
    "    from sklearn.metrics import classification_report\n",
    "\n",
    "    metricas = classification_report(testY, predictions)\n",
    "    print(metricas)\n",
    "\n",
    "    rango = 2\n",
    "    accuracy, correct_laps = calculate_accuracy_within_range(testY, predictions, within_range=rango)\n",
    "    print(f\"Exactitud dentro del rango de vueltas: {accuracy:.2f}\")\n",
    "    print(f\"Vueltas en las que se ha acertado la parada o está dentro del rango con rango seteado a {rango}: {correct_laps}\")\n",
    "\n",
    "    precision = accuracy  # En este caso, la precisión es igual a la exactitud dentro del rango\n",
    "    recall = 1.0  # Recall es 1.0, ya que solo estamos considerando las paradas reales dentro del rango\n",
    "    f1_score = 2 * (precision * recall) / (precision + recall)  # Calculamos el F1-score\n",
    "\n",
    "    print(f\"Precisión: {precision:.2f}\")\n",
    "    print(f\"F1-score: {f1_score:.2f}\")\n",
    "\n",
    "    accuracy, correct_laps = calculate_accuracy_within_range(testY, predictions, within_range=0)\n",
    "    print(f\"Exactitud sin rango de vueltas: {accuracy:.2f}\")\n",
    "\n",
    "    precision = accuracy  # En este caso, la precisión es igual a la exactitud dentro del rango\n",
    "    recall = 1.0  # Recall es 1.0, ya que solo estamos considerando las paradas reales dentro del rango\n",
    "    f1_score = 2 * (precision * recall) / (precision + recall)  # Calculamos el F1-score\n",
    "\n",
    "    print(f\"Precisión: {precision:.2f}\")\n",
    "    print(f\"F1-score: {f1_score:.2f}\")\n",
    "    \n",
    "    print(f\"El threeshold ha sido: {optimal_threshold}\")\n",
    "\n",
    "# Restaurar la salida estándar original\n",
    "sys.stdout = original_stdout\n",
    "\n",
    "print(\"Los resultados se han guardado en el archivo:\", nombre_archivo)"
   ]
  },
  {
   "cell_type": "code",
   "execution_count": null,
   "id": "1ac61e35",
   "metadata": {},
   "outputs": [],
   "source": []
  }
 ],
 "metadata": {
  "kernelspec": {
   "display_name": "Python 3 (ipykernel)",
   "language": "python",
   "name": "python3"
  },
  "language_info": {
   "codemirror_mode": {
    "name": "ipython",
    "version": 3
   },
   "file_extension": ".py",
   "mimetype": "text/x-python",
   "name": "python",
   "nbconvert_exporter": "python",
   "pygments_lexer": "ipython3",
   "version": "3.10.9"
  }
 },
 "nbformat": 4,
 "nbformat_minor": 5
}
