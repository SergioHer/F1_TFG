{
 "cells": [
  {
   "cell_type": "code",
   "execution_count": 2,
   "id": "32c7e2d9",
   "metadata": {},
   "outputs": [
    {
     "name": "stderr",
     "output_type": "stream",
     "text": [
      "2023-05-03 00:36:34.934681: I tensorflow/core/platform/cpu_feature_guard.cc:182] This TensorFlow binary is optimized to use available CPU instructions in performance-critical operations.\n",
      "To enable the following instructions: AVX2 FMA, in other operations, rebuild TensorFlow with the appropriate compiler flags.\n"
     ]
    }
   ],
   "source": [
    "import numpy as np\n",
    "from tensorflow.keras.models import Sequential\n",
    "from tensorflow.keras.layers import LSTM\n",
    "from tensorflow.keras.layers import Dense, Dropout\n",
    "from tensorflow import keras\n",
    "import pandas as pd\n",
    "from matplotlib import pyplot as plt\n",
    "from sklearn.preprocessing import StandardScaler, MinMaxScaler\n",
    "import seaborn as sns"
   ]
  },
  {
   "cell_type": "code",
   "execution_count": 207,
   "id": "06ab3596",
   "metadata": {},
   "outputs": [],
   "source": [
    "vueltas = pd.read_csv(\"../dataset_todos_pilotos/vueltas_spain_final.csv\")\n",
    "\n",
    "vueltas.drop(['Piloto'], axis = 1, inplace = True)"
   ]
  },
  {
   "cell_type": "code",
   "execution_count": 208,
   "id": "0aa7107a",
   "metadata": {},
   "outputs": [],
   "source": [
    "vueltas_train = vueltas[vueltas['anyo'].isin([2018, 2019, 2020, 2021])]\n",
    "vueltas_test = vueltas[vueltas['anyo'] == 2022]"
   ]
  },
  {
   "cell_type": "code",
   "execution_count": 209,
   "id": "04165c90",
   "metadata": {},
   "outputs": [],
   "source": [
    "#vueltas_test = vueltas_test[vueltas_test['Piloto'] == \"alonso\"]"
   ]
  },
  {
   "cell_type": "code",
   "execution_count": 210,
   "id": "ead79aa4",
   "metadata": {},
   "outputs": [],
   "source": [
    "vueltas_train = vueltas_train.drop(['anyo'], axis=1)\n",
    "vueltas_test = vueltas_test.drop(['anyo'], axis=1)\n",
    "#vueltas_train.drop(['Piloto'], axis = 1, inplace = True)\n",
    "#vueltas_test.drop(['Piloto'], axis = 1, inplace = True)"
   ]
  },
  {
   "cell_type": "code",
   "execution_count": 211,
   "id": "54ff995d",
   "metadata": {},
   "outputs": [],
   "source": [
    "vueltas_train = vueltas_train.astype(float)\n",
    "vueltas_test = vueltas_test.astype(float)"
   ]
  },
  {
   "cell_type": "code",
   "execution_count": 213,
   "id": "1e778c7a",
   "metadata": {},
   "outputs": [],
   "source": [
    "scaler = MinMaxScaler()\n",
    "scaler.fit(vueltas_train)\n",
    "vueltas_train_scaler = scaler.transform(vueltas_train)\n",
    "vueltas_test_scaler = scaler.transform(vueltas_test)\n"
   ]
  },
  {
   "cell_type": "code",
   "execution_count": 214,
   "id": "ca9b67f2",
   "metadata": {},
   "outputs": [],
   "source": [
    "trainX = []\n",
    "trainY = []\n",
    "testX = []\n",
    "testY = []\n",
    "loopback = 10 # Esto es el numero de muestras que usara en el pasado \n",
    "future = 1 # Esto es el numero de hechos futuros que usará como salida a las 10 muestras del pasado\n",
    "\n",
    "for i in range (loopback, len(vueltas_train_scaler) -future +1):\n",
    "    trainX.append(vueltas_train_scaler[i-loopback:i, 0:vueltas_train.shape[1]])\n",
    "    trainY.append(vueltas_train_scaler[i + future - 1:i + future, 5])\n",
    "    \n",
    "for i in range (loopback, len(vueltas_test_scaler) -future +1):\n",
    "    testX.append(vueltas_test_scaler[i-loopback:i, 0:vueltas_test.shape[1]])\n",
    "    testY.append(vueltas_test_scaler[i + future - 1:i + future,5\n",
    "                                    ])\n",
    "\n"
   ]
  },
  {
   "cell_type": "code",
   "execution_count": 215,
   "id": "9e056980",
   "metadata": {},
   "outputs": [],
   "source": [
    "trainX, trainY, testX, testY = np.array(trainX), np.array(trainY), np.array(testX), np.array(testY)"
   ]
  },
  {
   "cell_type": "code",
   "execution_count": 133,
   "id": "ff0fec0e",
   "metadata": {},
   "outputs": [
    {
     "name": "stdout",
     "output_type": "stream",
     "text": [
      "Model: \"sequential_5\"\n",
      "_________________________________________________________________\n",
      " Layer (type)                Output Shape              Param #   \n",
      "=================================================================\n",
      " lstm_12 (LSTM)              (None, 10, 256)           283648    \n",
      "                                                                 \n",
      " dropout_12 (Dropout)        (None, 10, 256)           0         \n",
      "                                                                 \n",
      " lstm_13 (LSTM)              (None, 128)               197120    \n",
      "                                                                 \n",
      " dropout_13 (Dropout)        (None, 128)               0         \n",
      "                                                                 \n",
      " dense_5 (Dense)             (None, 1)                 129       \n",
      "                                                                 \n",
      "=================================================================\n",
      "Total params: 480,897\n",
      "Trainable params: 480,897\n",
      "Non-trainable params: 0\n",
      "_________________________________________________________________\n"
     ]
    }
   ],
   "source": [
    "model = Sequential()\n",
    "model.add(LSTM(256, activation='relu', input_shape=(trainX.shape[1], trainX.shape[2]), return_sequences=True))\n",
    "model.add(Dropout(0.2))\n",
    "model.add(LSTM(128, activation='relu', return_sequences=False))\n",
    "model.add(Dropout(0.2))\n",
    "model.add(Dense(trainY.shape[1]))\n",
    "model.compile(optimizer=\"adam\", loss= \"mse\") ##Cambiar esto para la siguiente reunion (positivo 1, negativo 0)\n",
    "model.summary()"
   ]
  },
  {
   "cell_type": "code",
   "execution_count": 134,
   "id": "5596f13d",
   "metadata": {},
   "outputs": [
    {
     "name": "stdout",
     "output_type": "stream",
     "text": [
      "Epoch 1/12\n",
      "58/58 [==============================] - 6s 52ms/step - loss: 0.0307 - val_loss: 0.0317\n",
      "Epoch 2/12\n",
      "58/58 [==============================] - 3s 48ms/step - loss: 0.0159 - val_loss: 0.0188\n",
      "Epoch 3/12\n",
      "58/58 [==============================] - 3s 49ms/step - loss: 0.0117 - val_loss: 0.0140\n",
      "Epoch 4/12\n",
      "58/58 [==============================] - 3s 48ms/step - loss: 0.0108 - val_loss: 0.0160\n",
      "Epoch 5/12\n",
      "58/58 [==============================] - 3s 52ms/step - loss: 0.0099 - val_loss: 0.0123\n",
      "Epoch 6/12\n",
      "58/58 [==============================] - 3s 51ms/step - loss: 0.0092 - val_loss: 0.0126\n",
      "Epoch 7/12\n",
      "58/58 [==============================] - 3s 51ms/step - loss: 0.0092 - val_loss: 0.0122\n",
      "Epoch 8/12\n",
      "58/58 [==============================] - 3s 50ms/step - loss: 0.0086 - val_loss: 0.0123\n",
      "Epoch 9/12\n",
      "58/58 [==============================] - 3s 47ms/step - loss: 0.0086 - val_loss: 0.0110\n",
      "Epoch 10/12\n",
      "58/58 [==============================] - 3s 48ms/step - loss: 0.0087 - val_loss: 0.0109\n",
      "Epoch 11/12\n",
      "58/58 [==============================] - 3s 46ms/step - loss: 0.0083 - val_loss: 0.0115\n",
      "Epoch 12/12\n",
      "58/58 [==============================] - 3s 48ms/step - loss: 0.0082 - val_loss: 0.0107\n"
     ]
    },
    {
     "data": {
      "text/plain": [
       "<matplotlib.legend.Legend at 0x7fefa7b97880>"
      ]
     },
     "execution_count": 134,
     "metadata": {},
     "output_type": "execute_result"
    },
    {
     "data": {
      "image/png": "[encoded data removed]",
      "text/plain": [
       "<Figure size 640x480 with 1 Axes>"
      ]
     },
     "metadata": {},
     "output_type": "display_data"
    }
   ],
   "source": [
    "history = model.fit(trainX, trainY, epochs=12, batch_size=64, validation_split=0.1, verbose=1)\n",
    "\n",
    "plt.plot(history.history['loss'], label='Training loss')\n",
    "plt.plot(history.history['val_loss'], label='Validation loss')\n",
    "plt.legend()"
   ]
  },
  {
   "cell_type": "markdown",
   "id": "0e3ad311",
   "metadata": {},
   "source": [
    "### Sacar métricas de lo que falla. Con el unique, ver a cual se acerca más. Sacar matrix_confusion, con este modelo."
   ]
  },
  {
   "cell_type": "markdown",
   "id": "d98c6fc8",
   "metadata": {},
   "source": [
    "### Ahora vamos a sacar todas las Y^ y todas las y."
   ]
  },
  {
   "cell_type": "code",
   "execution_count": 218,
   "id": "5ed6ed53",
   "metadata": {},
   "outputs": [],
   "source": [
    "y_real = testY.tolist()"
   ]
  },
  {
   "cell_type": "code",
   "execution_count": 219,
   "id": "62e9745c",
   "metadata": {},
   "outputs": [
    {
     "name": "stdout",
     "output_type": "stream",
     "text": [
      "34/34 [==============================] - 0s 11ms/step\n"
     ]
    }
   ],
   "source": [
    "y_pred = model.predict(testX)  "
   ]
  },
  {
   "cell_type": "code",
   "execution_count": 220,
   "id": "2e198766",
   "metadata": {
    "scrolled": true
   },
   "outputs": [
    {
     "name": "stdout",
     "output_type": "stream",
     "text": [
      "128/128 [==============================] - 1s 10ms/step\n"
     ]
    }
   ],
   "source": [
    "#Predecimos con los datos de entrenamiento, solo queremos sacar los puntos\n",
    "predictions = model.predict(trainX)\n"
   ]
  },
  {
   "cell_type": "code",
   "execution_count": 221,
   "id": "561c10c7",
   "metadata": {},
   "outputs": [],
   "source": [
    "clases = np.unique(trainY[:,0])\n"
   ]
  },
  {
   "cell_type": "markdown",
   "id": "6e4e98fc",
   "metadata": {},
   "source": [
    "### Vamos a sacar los puntos que mejor separan las clases, y para ello vamos a usar una regresion logistica"
   ]
  },
  {
   "cell_type": "code",
   "execution_count": null,
   "id": "48793fc2",
   "metadata": {},
   "outputs": [],
   "source": []
  },
  {
   "cell_type": "code",
   "execution_count": 222,
   "id": "496663fb",
   "metadata": {},
   "outputs": [],
   "source": [
    "puntos = []"
   ]
  },
  {
   "cell_type": "code",
   "execution_count": 223,
   "id": "508cc9ca",
   "metadata": {},
   "outputs": [
    {
     "name": "stderr",
     "output_type": "stream",
     "text": [
      "/Users/sergio/anaconda3/lib/python3.10/site-packages/sklearn/utils/validation.py:1143: DataConversionWarning: A column-vector y was passed when a 1d array was expected. Please change the shape of y to (n_samples, ), for example using ravel().\n",
      "  y = column_or_1d(y, warn=True)\n"
     ]
    }
   ],
   "source": [
    "trainY_ = np.copy(trainY)\n",
    "index0 = trainY_[:,0] == clases[0]\n",
    "index1 = np.logical_or(trainY_[:,0] == clases[1],trainY_[:,0] == clases[2], trainY_[:,0] == clases[3])\n",
    "trainY_[index0] = 1\n",
    "trainY_[index1] = 0\n",
    "\n",
    "predictions = np.squeeze(predictions)\n",
    "predictions = predictions.reshape(-1,1)\n",
    "predictions.shape\n",
    "\n",
    "trainY_ = np.squeeze(trainY_)\n",
    "trainY_ = trainY_.reshape(-1,1)\n",
    "\n",
    "rl = LogisticRegression(random_state=0).fit(predictions, trainY_)\n",
    "punto = -rl.intercept_/rl.coef_\n",
    "puntos.append(punto)"
   ]
  },
  {
   "cell_type": "code",
   "execution_count": 224,
   "id": "1bfa930f",
   "metadata": {},
   "outputs": [
    {
     "name": "stderr",
     "output_type": "stream",
     "text": [
      "/Users/sergio/anaconda3/lib/python3.10/site-packages/sklearn/utils/validation.py:1143: DataConversionWarning: A column-vector y was passed when a 1d array was expected. Please change the shape of y to (n_samples, ), for example using ravel().\n",
      "  y = column_or_1d(y, warn=True)\n"
     ]
    }
   ],
   "source": [
    "from sklearn.linear_model import LogisticRegression\n",
    "##Este calcula el punto entre la clase 2 y la 3\n",
    "trainY_ = np.copy(trainY)\n",
    "index0 = np.logical_or(trainY_[:,0] == clases[0],trainY_[:,0] == clases[1] )\n",
    "index1 = np.logical_or(trainY_[:,0] == clases[2],trainY_[:,0] == clases[3] )\n",
    "trainY_[index0] = 0\n",
    "trainY_[index1] = 1\n",
    "\n",
    "predictions = np.squeeze(predictions)\n",
    "predictions = predictions.reshape(-1,1)\n",
    "predictions.shape\n",
    "\n",
    "trainY_ = np.squeeze(trainY_)\n",
    "trainY_ = trainY_.reshape(-1,1)\n",
    "\n",
    "rl = LogisticRegression(random_state=0).fit(predictions, trainY_)\n",
    "punto = -rl.intercept_/rl.coef_\n",
    "puntos.append(punto)"
   ]
  },
  {
   "cell_type": "code",
   "execution_count": 225,
   "id": "b651e172",
   "metadata": {},
   "outputs": [
    {
     "name": "stderr",
     "output_type": "stream",
     "text": [
      "/Users/sergio/anaconda3/lib/python3.10/site-packages/sklearn/utils/validation.py:1143: DataConversionWarning: A column-vector y was passed when a 1d array was expected. Please change the shape of y to (n_samples, ), for example using ravel().\n",
      "  y = column_or_1d(y, warn=True)\n"
     ]
    }
   ],
   "source": [
    "trainY_ = np.copy(trainY)\n",
    "index0 = trainY_[:,0] != clases[3]\n",
    "index1 = trainY_[:,0] == clases[3]\n",
    "trainY_[index0] = 0\n",
    "trainY_[index1] = 1\n",
    "\n",
    "predictions = np.squeeze(predictions)\n",
    "predictions = predictions.reshape(-1,1)\n",
    "\n",
    "trainY_ = np.squeeze(trainY_)\n",
    "trainY_ = trainY_.reshape(-1,1)\n",
    "\n",
    "rl = LogisticRegression(random_state=0, penalty=None).fit(predictions, trainY_)\n",
    "punto = -rl.intercept_/rl.coef_\n",
    "puntos.append(punto)"
   ]
  },
  {
   "cell_type": "code",
   "execution_count": 228,
   "id": "17a4f849",
   "metadata": {},
   "outputs": [],
   "source": [
    "uniques = set(tuple(x) for x in y_real)\n",
    "uniques = [list(x) for x in uniques]"
   ]
  },
  {
   "cell_type": "code",
   "execution_count": 229,
   "id": "9f5f81a5",
   "metadata": {
    "scrolled": false
   },
   "outputs": [],
   "source": [
    "#Esto es cogiendo el punto medio entre las dos clases con regresion logistica\n",
    "y_pred_normalized_rl = [] \n",
    "for val in y_pred:\n",
    "    if (val<puntos[0][0][0]):\n",
    "        y_pred_normalized_rl.append(uniques[0][0])\n",
    "    if (val>=puntos[0][0][0] and val<puntos[1][0][0]):\n",
    "        y_pred_normalized_rl.append(uniques[3][0])\n",
    "    if (val>=puntos[1][0][0] and val<puntos[2][0][0]):\n",
    "        y_pred_normalized_rl.append(uniques[3][0])\n",
    "    if (val>=puntos[2][0][0]):\n",
    "        y_pred_normalized_rl.append(uniques[2][0])\n"
   ]
  },
  {
   "cell_type": "code",
   "execution_count": 230,
   "id": "9afee124",
   "metadata": {},
   "outputs": [],
   "source": [
    "#Esto es cogiendo el punto medio\n",
    "y_pred_normalized_wrl = []\n",
    "for val in y_pred:\n",
    "    dist = [abs(val-x[0]) for x in uniques]\n",
    "    closest_val = uniques[np.argmin(dist)][0]\n",
    "    y_pred_normalized_wrl.append(closest_val)"
   ]
  },
  {
   "cell_type": "code",
   "execution_count": 247,
   "id": "1fedb014",
   "metadata": {},
   "outputs": [],
   "source": [
    "bien_predecidas = 0\n",
    "mal_predecidas = 0\n",
    "\n",
    "for i in range (0, len(y_real)):\n",
    "    if y_pred_normalized_rl[i] == y_real[i][0]:\n",
    "        bien_predecidas += 1\n",
    "    else:\n",
    "        mal_predecidas += 1\n",
    "\n",
    "precision_rl = bien_predecidas/(mal_predecidas+bien_predecidas)      "
   ]
  },
  {
   "cell_type": "code",
   "execution_count": 248,
   "id": "39e27f8b",
   "metadata": {
    "scrolled": false
   },
   "outputs": [
    {
     "name": "stdout",
     "output_type": "stream",
     "text": [
      "El modelo con rl tiene una precision de:  0.4558270676691729\n"
     ]
    }
   ],
   "source": [
    "print(\"El modelo con rl tiene una precision de: \", precision_rl)"
   ]
  },
  {
   "cell_type": "code",
   "execution_count": 257,
   "id": "47f3dee5",
   "metadata": {},
   "outputs": [],
   "source": [
    "bien_predecidas = 0\n",
    "mal_predecidas = 0\n",
    "\n",
    "for i in range (0, len(y_real)):\n",
    "    if y_pred_normalized_wrl[i] == y_real[i][0]:\n",
    "        bien_predecidas += 1\n",
    "    else:\n",
    "        mal_predecidas += 1\n",
    "\n",
    "precision_wrl = bien_predecidas/(mal_predecidas+bien_predecidas)   "
   ]
  },
  {
   "cell_type": "code",
   "execution_count": 258,
   "id": "01fc771f",
   "metadata": {},
   "outputs": [
    {
     "name": "stdout",
     "output_type": "stream",
     "text": [
      "El modelo sin rl tiene una precision de:  0.7847744360902256\n"
     ]
    }
   ],
   "source": [
    "print(\"El modelo sin rl tiene una precision de: \", precision_wrl)"
   ]
  },
  {
   "cell_type": "markdown",
   "id": "a4ceff83",
   "metadata": {},
   "source": [
    "### Ahora tenemos que sacar las demás métricas y como tenemos 4 clases"
   ]
  },
  {
   "cell_type": "markdown",
   "id": "89c46421",
   "metadata": {},
   "source": [
    "### El número de stint que más veces aparece en el conjunto de test, ¿qué porcentaje sobre el total supone? "
   ]
  },
  {
   "cell_type": "code",
   "execution_count": 259,
   "id": "fa9ace6b",
   "metadata": {},
   "outputs": [],
   "source": [
    "clases = [str(sublista[0]) for sublista in uniques]"
   ]
  },
  {
   "cell_type": "markdown",
   "id": "c0880606",
   "metadata": {},
   "source": [
    "### Ahora tenemos la lista clases, que son nuestras 4 clases para clasificar. Asi que vamos a pasar las clases a string, y vamos a sacar FN, FP, TP, TN"
   ]
  },
  {
   "cell_type": "code",
   "execution_count": 260,
   "id": "4d61d286",
   "metadata": {},
   "outputs": [],
   "source": [
    "y_real_ = [sublista[0] for sublista in y_real]"
   ]
  },
  {
   "cell_type": "code",
   "execution_count": 261,
   "id": "342a2d9b",
   "metadata": {},
   "outputs": [],
   "source": [
    "y_real_str = [str(sublista) for sublista in y_real_]\n",
    "y_pred_normalized_str_wrl = [str(sublista) for sublista in y_pred_normalized_wrl]"
   ]
  },
  {
   "cell_type": "code",
   "execution_count": 272,
   "id": "fc241077",
   "metadata": {
    "scrolled": true
   },
   "outputs": [],
   "source": [
    "from sklearn.metrics import confusion_matrix, classification_report\n",
    "# Calcular la matriz de confusión\n",
    "cm = confusion_matrix(y_real_str, y_pred_normalized_str_wrl, labels=clases)\n",
    "metricas=classification_report(y_real_str, y_pred_normalized_str_wrl, labels=clases)\n",
    "\n",
    "nombre_archivo = \"ejecuciones/ejecucion_1_wrl.txt\"\n",
    "\n",
    "# Abrir el archivo en modo de escritura\n",
    "with open(nombre_archivo, \"w\") as archivo:\n",
    "\n",
    "    # Redirigir la salida de print() al archivo\n",
    "    print(\"Matriz de confusión:\", file=archivo)\n",
    "    print(clases, file=archivo)\n",
    "    print(cm, file=archivo)\n",
    "    print(\"Métricas:\", file=archivo)\n",
    "    print(metricas, file=archivo)\n",
    "    print(\"Y real:\", file=archivo)\n",
    "    print(y_real_str, file = archivo)\n",
    "    print(\"Y predicho:\", file=archivo)\n",
    "    print(y_pred_normalized_str_wrl, file = archivo)"
   ]
  },
  {
   "cell_type": "code",
   "execution_count": 273,
   "id": "8904facc",
   "metadata": {},
   "outputs": [],
   "source": [
    "y_real_str = [str(sublista) for sublista in y_real_]\n",
    "y_pred_normalized_str_rl = [str(sublista) for sublista in y_pred_normalized_rl]"
   ]
  },
  {
   "cell_type": "code",
   "execution_count": 274,
   "id": "903263f2",
   "metadata": {},
   "outputs": [
    {
     "name": "stderr",
     "output_type": "stream",
     "text": [
      "/Users/sergio/anaconda3/lib/python3.10/site-packages/sklearn/metrics/_classification.py:1344: UndefinedMetricWarning: Precision and F-score are ill-defined and being set to 0.0 in labels with no predicted samples. Use `zero_division` parameter to control this behavior.\n",
      "  _warn_prf(average, modifier, msg_start, len(result))\n",
      "/Users/sergio/anaconda3/lib/python3.10/site-packages/sklearn/metrics/_classification.py:1344: UndefinedMetricWarning: Precision and F-score are ill-defined and being set to 0.0 in labels with no predicted samples. Use `zero_division` parameter to control this behavior.\n",
      "  _warn_prf(average, modifier, msg_start, len(result))\n",
      "/Users/sergio/anaconda3/lib/python3.10/site-packages/sklearn/metrics/_classification.py:1344: UndefinedMetricWarning: Precision and F-score are ill-defined and being set to 0.0 in labels with no predicted samples. Use `zero_division` parameter to control this behavior.\n",
      "  _warn_prf(average, modifier, msg_start, len(result))\n"
     ]
    }
   ],
   "source": [
    "cm = confusion_matrix(y_real_str, y_pred_normalized_str_rl, labels=clases)\n",
    "metricas_rl = classification_report(y_real_str, y_pred_normalized_str_rl, labels=clases)\n",
    "\n",
    "nombre_archivo = \"ejecuciones/ejecucion_1_rl.txt\"\n",
    "\n",
    "# Abrir el archivo en modo de escritura\n",
    "with open(nombre_archivo, \"w\") as archivo:\n",
    "\n",
    "    # Redirigir la salida de print() al archivo\n",
    "    print(\"Matriz de confusión:\", file=archivo)\n",
    "    print(clases, file=archivo)\n",
    "    print(cm, file=archivo)\n",
    "\n",
    "    print(\"Métricas:\", file=archivo)\n",
    "    print(metricas, file=archivo)\n",
    "    print(\"Y real:\", file=archivo)\n",
    "    print(y_real_str, file = archivo)\n",
    "    print(\"Y predicho:\", file=archivo)\n",
    "    print(y_pred_normalized_str_rl, file = archivo)"
   ]
  },
  {
   "cell_type": "code",
   "execution_count": null,
   "id": "d4998b11",
   "metadata": {},
   "outputs": [],
   "source": []
  },
  {
   "cell_type": "code",
   "execution_count": null,
   "id": "bf25b183",
   "metadata": {},
   "outputs": [],
   "source": []
  }
 ],
 "metadata": {
  "kernelspec": {
   "display_name": "Python 3 (ipykernel)",
   "language": "python",
   "name": "python3"
  },
  "language_info": {
   "codemirror_mode": {
    "name": "ipython",
    "version": 3
   },
   "file_extension": ".py",
   "mimetype": "text/x-python",
   "name": "python",
   "nbconvert_exporter": "python",
   "pygments_lexer": "ipython3",
   "version": "3.10.9"
  }
 },
 "nbformat": 4,
 "nbformat_minor": 5
}
