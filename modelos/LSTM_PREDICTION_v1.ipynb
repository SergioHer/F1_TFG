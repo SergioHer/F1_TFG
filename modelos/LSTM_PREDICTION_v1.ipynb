{
 "cells": [
  {
   "cell_type": "code",
   "execution_count": 423,
   "id": "32c7e2d9",
   "metadata": {},
   "outputs": [],
   "source": [
    "import numpy as np\n",
    "from tensorflow.keras.models import Sequential\n",
    "from tensorflow.keras.layers import LSTM\n",
    "from tensorflow.keras.layers import Dense, Dropout\n",
    "import pandas as pd\n",
    "from matplotlib import pyplot as plt\n",
    "from sklearn.preprocessing import StandardScaler, MinMaxScaler\n",
    "import seaborn as sns\n",
    "from sklearn.metrics import confusion_matrix, classification_report\n",
    "import warnings\n",
    "\n",
    "# Suppress FutureWarnings\n",
    "warnings.simplefilter(action='ignore', category=FutureWarning)"
   ]
  },
  {
   "cell_type": "code",
   "execution_count": 424,
   "id": "06ab3596",
   "metadata": {},
   "outputs": [],
   "source": [
    "vueltas = pd.read_csv(\"../dataset_todos_pilotos/vueltas_spain_final.csv\")\n",
    "vueltas.drop(['nextPit'], axis = 1, inplace = True)\n",
    "vueltas.drop(['makeStop'], axis = 1, inplace = True)"
   ]
  },
  {
   "cell_type": "markdown",
   "id": "320a0be8",
   "metadata": {},
   "source": [
    "### Vamos a limpiarlo un poco mas..."
   ]
  },
  {
   "cell_type": "code",
   "execution_count": 425,
   "id": "0aa7107a",
   "metadata": {},
   "outputs": [],
   "source": [
    "vueltas_train = vueltas[vueltas['anyo'].isin([2018, 2019, 2020])]\n",
    "vueltas_test = vueltas[vueltas['anyo'] == 2022]\n",
    "vueltas_test = vueltas_test[vueltas_test['Piloto'] == 'hamilton']\n"
   ]
  },
  {
   "cell_type": "code",
   "execution_count": 426,
   "id": "3adc9b2e",
   "metadata": {},
   "outputs": [],
   "source": [
    "vueltas_train = vueltas_train.drop(['anyo'], axis=1)\n",
    "vueltas_train.drop(['Piloto'], axis = 1, inplace = True)\n",
    "vueltas_test = vueltas_test.drop(['anyo'], axis=1)\n",
    "vueltas_test.drop(['Piloto'], axis = 1, inplace = True)\n"
   ]
  },
  {
   "cell_type": "code",
   "execution_count": 427,
   "id": "72754df2",
   "metadata": {},
   "outputs": [],
   "source": [
    "vueltas_train = vueltas_train.astype(float)\n",
    "vueltas_test = vueltas_test.astype(float)"
   ]
  },
  {
   "cell_type": "code",
   "execution_count": 428,
   "id": "63e70427",
   "metadata": {},
   "outputs": [],
   "source": [
    "scaler = MinMaxScaler()\n",
    "scaler.fit(vueltas_train)\n",
    "vueltas_train_scaler = scaler.transform(vueltas_train)\n",
    "vueltas_test_scaler = scaler.transform(vueltas_test)"
   ]
  },
  {
   "cell_type": "code",
   "execution_count": 429,
   "id": "ca9b67f2",
   "metadata": {},
   "outputs": [],
   "source": [
    "trainX = []\n",
    "trainY = []\n",
    "testX = []\n",
    "testY = []\n",
    "loopback = 10 # Esto es el numero de muestras que usara en el pasado \n",
    "future = 1 # Esto es el numero de hechos futuros que usará como salida a las 10 muestras del pasado\n",
    "\n",
    "for i in range (loopback, len(vueltas_train_scaler) -future +1):\n",
    "    trainX.append(vueltas_train_scaler[i-loopback:i, 0:vueltas_train.shape[1]])\n",
    "    trainY.append(vueltas_train_scaler[i + future - 1:i + future, 5])\n",
    "    \n",
    "for i in range (loopback, len(vueltas_test_scaler) -future +1):\n",
    "    testX.append(vueltas_test_scaler[i-loopback:i, 0:vueltas_test.shape[1]])\n",
    "    testY.append(vueltas_test_scaler[i + future - 1:i + future,5])"
   ]
  },
  {
   "cell_type": "code",
   "execution_count": 430,
   "id": "9e056980",
   "metadata": {},
   "outputs": [],
   "source": [
    "trainX, trainY, testX, testY = np.array(trainX), np.array(trainY), np.array(testX), np.array(testY)"
   ]
  },
  {
   "cell_type": "code",
   "execution_count": 431,
   "id": "ff0fec0e",
   "metadata": {},
   "outputs": [],
   "source": [
    "model = Sequential()\n",
    "model.add(LSTM(256, activation='relu', input_shape=(trainX.shape[1], trainX.shape[2]), return_sequences=True))\n",
    "model.add(Dropout(0.2))\n",
    "model.add(LSTM(128, activation='relu', return_sequences=False))\n",
    "model.add(Dropout(0.2))\n",
    "model.add(Dense(1))"
   ]
  },
  {
   "cell_type": "code",
   "execution_count": 432,
   "id": "8d6435f4",
   "metadata": {},
   "outputs": [
    {
     "name": "stdout",
     "output_type": "stream",
     "text": [
      "Model: \"sequential_22\"\n",
      "_________________________________________________________________\n",
      " Layer (type)                Output Shape              Param #   \n",
      "=================================================================\n",
      " lstm_44 (LSTM)              (None, 10, 256)           281600    \n",
      "                                                                 \n",
      " dropout_44 (Dropout)        (None, 10, 256)           0         \n",
      "                                                                 \n",
      " lstm_45 (LSTM)              (None, 128)               197120    \n",
      "                                                                 \n",
      " dropout_45 (Dropout)        (None, 128)               0         \n",
      "                                                                 \n",
      " dense_22 (Dense)            (None, 1)                 129       \n",
      "                                                                 \n",
      "=================================================================\n",
      "Total params: 478,849\n",
      "Trainable params: 478,849\n",
      "Non-trainable params: 0\n",
      "_________________________________________________________________\n"
     ]
    }
   ],
   "source": [
    "model.compile(optimizer=\"adam\", loss= \"mse\") ##Cambiar esto para la siguiente reunion (positivo 1, negativo 0)\n",
    "model.summary()"
   ]
  },
  {
   "cell_type": "code",
   "execution_count": 433,
   "id": "5596f13d",
   "metadata": {},
   "outputs": [
    {
     "name": "stdout",
     "output_type": "stream",
     "text": [
      "Epoch 1/15\n",
      "43/43 [==============================] - 8s 83ms/step - loss: 0.0369 - val_loss: 0.0223\n",
      "Epoch 2/15\n",
      "43/43 [==============================] - 3s 67ms/step - loss: 0.0188 - val_loss: 0.0171\n",
      "Epoch 3/15\n",
      "43/43 [==============================] - 3s 72ms/step - loss: 0.0144 - val_loss: 0.0138\n",
      "Epoch 4/15\n",
      "43/43 [==============================] - 3s 75ms/step - loss: 0.0120 - val_loss: 0.0126\n",
      "Epoch 5/15\n",
      "43/43 [==============================] - 4s 83ms/step - loss: 0.0116 - val_loss: 0.0118\n",
      "Epoch 6/15\n",
      "43/43 [==============================] - 4s 85ms/step - loss: 0.0101 - val_loss: 0.0115\n",
      "Epoch 7/15\n",
      "43/43 [==============================] - 3s 69ms/step - loss: 0.0099 - val_loss: 0.0105\n",
      "Epoch 8/15\n",
      "43/43 [==============================] - 3s 77ms/step - loss: 0.0092 - val_loss: 0.0103\n",
      "Epoch 9/15\n",
      "43/43 [==============================] - 3s 76ms/step - loss: 0.0095 - val_loss: 0.0106\n",
      "Epoch 10/15\n",
      "43/43 [==============================] - 3s 68ms/step - loss: 0.0083 - val_loss: 0.0095\n",
      "Epoch 11/15\n",
      "43/43 [==============================] - 2s 53ms/step - loss: 0.0092 - val_loss: 0.0096\n",
      "Epoch 12/15\n",
      "43/43 [==============================] - 2s 41ms/step - loss: 0.0088 - val_loss: 0.0087\n",
      "Epoch 13/15\n",
      "43/43 [==============================] - 2s 48ms/step - loss: 0.0085 - val_loss: 0.0100\n",
      "Epoch 14/15\n",
      "43/43 [==============================] - 2s 44ms/step - loss: 0.0084 - val_loss: 0.0102\n",
      "Epoch 15/15\n",
      "43/43 [==============================] - 2s 46ms/step - loss: 0.0077 - val_loss: 0.0099\n"
     ]
    },
    {
     "data": {
      "text/plain": [
       "<matplotlib.legend.Legend at 0x7fa56752f460>"
      ]
     },
     "execution_count": 433,
     "metadata": {},
     "output_type": "execute_result"
    },
    {
     "data": {
      "image/png": "[encoded data removed]",
      "text/plain": [
       "<Figure size 640x480 with 1 Axes>"
      ]
     },
     "metadata": {},
     "output_type": "display_data"
    }
   ],
   "source": [
    "history = model.fit(trainX, trainY, epochs=15, batch_size=64, validation_split=0.1, verbose=1)\n",
    "\n",
    "plt.plot(history.history['loss'], label='Training loss')\n",
    "plt.plot(history.history['val_loss'], label='Validation loss')\n",
    "plt.legend()"
   ]
  },
  {
   "cell_type": "markdown",
   "id": "8d3ff0ba",
   "metadata": {},
   "source": [
    "### Sacar métricas de lo que falla. Con el unique, ver a cual se acerca más. Sacar matrix_confusion, con este modelo."
   ]
  },
  {
   "cell_type": "markdown",
   "id": "51365bdd",
   "metadata": {},
   "source": [
    "### Ahora vamos a sacar todas las Y^ y todas las y."
   ]
  },
  {
   "cell_type": "code",
   "execution_count": 434,
   "id": "666de1dc",
   "metadata": {},
   "outputs": [],
   "source": [
    "y_real = testY.tolist()"
   ]
  },
  {
   "cell_type": "code",
   "execution_count": 435,
   "id": "5abf0072",
   "metadata": {},
   "outputs": [
    {
     "name": "stdout",
     "output_type": "stream",
     "text": [
      "2/2 [==============================] - 0s 13ms/step\n"
     ]
    }
   ],
   "source": [
    "y_pred = model.predict(testX)     "
   ]
  },
  {
   "cell_type": "code",
   "execution_count": 436,
   "id": "a3287234",
   "metadata": {},
   "outputs": [
    {
     "data": {
      "text/plain": [
       "[[0.3333333333333333],\n",
       " [0.3333333333333333],\n",
       " [0.3333333333333333],\n",
       " [0.3333333333333333],\n",
       " [0.3333333333333333],\n",
       " [0.3333333333333333],\n",
       " [0.3333333333333333],\n",
       " [0.3333333333333333],\n",
       " [0.3333333333333333],\n",
       " [0.3333333333333333],\n",
       " [0.3333333333333333],\n",
       " [0.6666666666666667],\n",
       " [0.6666666666666667],\n",
       " [0.6666666666666667],\n",
       " [0.6666666666666667],\n",
       " [0.6666666666666667],\n",
       " [0.6666666666666667],\n",
       " [0.6666666666666667],\n",
       " [0.6666666666666667],\n",
       " [0.6666666666666667],\n",
       " [0.6666666666666667],\n",
       " [0.6666666666666667],\n",
       " [0.6666666666666667],\n",
       " [0.6666666666666667],\n",
       " [0.6666666666666667],\n",
       " [0.6666666666666667],\n",
       " [0.6666666666666667],\n",
       " [0.6666666666666667],\n",
       " [0.6666666666666667],\n",
       " [0.6666666666666667],\n",
       " [0.6666666666666667],\n",
       " [0.6666666666666667],\n",
       " [0.6666666666666667],\n",
       " [0.6666666666666667],\n",
       " [0.6666666666666667],\n",
       " [0.6666666666666667],\n",
       " [0.6666666666666667],\n",
       " [1.0],\n",
       " [1.0],\n",
       " [1.0],\n",
       " [1.0],\n",
       " [1.0],\n",
       " [1.0],\n",
       " [1.0],\n",
       " [1.0],\n",
       " [1.0],\n",
       " [1.0],\n",
       " [1.0],\n",
       " [1.0],\n",
       " [1.0],\n",
       " [1.0],\n",
       " [1.0],\n",
       " [1.0],\n",
       " [1.0]]"
      ]
     },
     "execution_count": 436,
     "metadata": {},
     "output_type": "execute_result"
    }
   ],
   "source": [
    "y_real"
   ]
  },
  {
   "cell_type": "code",
   "execution_count": 437,
   "id": "c2b50f87",
   "metadata": {},
   "outputs": [
    {
     "data": {
      "text/plain": [
       "array([[0.2857807 ],\n",
       "       [0.28696156],\n",
       "       [0.2916136 ],\n",
       "       [0.2961562 ],\n",
       "       [0.2999421 ],\n",
       "       [0.30376422],\n",
       "       [0.30731747],\n",
       "       [0.31147894],\n",
       "       [0.31128964],\n",
       "       [0.3136669 ],\n",
       "       [0.31175864],\n",
       "       [0.31059498],\n",
       "       [0.45905575],\n",
       "       [0.50239295],\n",
       "       [0.52120703],\n",
       "       [0.5271385 ],\n",
       "       [0.5329658 ],\n",
       "       [0.5372275 ],\n",
       "       [0.54870504],\n",
       "       [0.556442  ],\n",
       "       [0.5658737 ],\n",
       "       [0.57284707],\n",
       "       [0.57535607],\n",
       "       [0.5767723 ],\n",
       "       [0.57225066],\n",
       "       [0.5720513 ],\n",
       "       [0.5714323 ],\n",
       "       [0.56973034],\n",
       "       [0.5678372 ],\n",
       "       [0.563633  ],\n",
       "       [0.5561814 ],\n",
       "       [0.5528015 ],\n",
       "       [0.5455608 ],\n",
       "       [0.5352778 ],\n",
       "       [0.5215356 ],\n",
       "       [0.51012933],\n",
       "       [0.5013671 ],\n",
       "       [0.49115664],\n",
       "       [0.5703397 ],\n",
       "       [0.62458616],\n",
       "       [0.66791946],\n",
       "       [0.70375997],\n",
       "       [0.7310623 ],\n",
       "       [0.7539013 ],\n",
       "       [0.77015555],\n",
       "       [0.78933614],\n",
       "       [0.8096974 ],\n",
       "       [0.8255102 ],\n",
       "       [0.8025481 ],\n",
       "       [0.7919659 ],\n",
       "       [0.78063744],\n",
       "       [0.7763139 ],\n",
       "       [0.77169955],\n",
       "       [0.7622415 ]], dtype=float32)"
      ]
     },
     "execution_count": 437,
     "metadata": {},
     "output_type": "execute_result"
    }
   ],
   "source": [
    "y_pred"
   ]
  },
  {
   "cell_type": "code",
   "execution_count": 438,
   "id": "22b92d3a",
   "metadata": {},
   "outputs": [],
   "source": [
    "uniques = set(tuple(x) for x in y_real)\n",
    "uniques = [list(x) for x in uniques]"
   ]
  },
  {
   "cell_type": "code",
   "execution_count": 439,
   "id": "b06b9c5f",
   "metadata": {},
   "outputs": [
    {
     "data": {
      "text/plain": [
       "[[0.6666666666666667], [1.0], [0.3333333333333333]]"
      ]
     },
     "execution_count": 439,
     "metadata": {},
     "output_type": "execute_result"
    }
   ],
   "source": [
    "uniques"
   ]
  },
  {
   "cell_type": "code",
   "execution_count": 403,
   "id": "978f3d10",
   "metadata": {},
   "outputs": [],
   "source": [
    "y_pred_normalized = []\n",
    "for val in y_pred:\n",
    "    dist = [abs(val-x[0]) for x in uniques]\n",
    "    closest_val = uniques[np.argmin(dist)][0]\n",
    "    y_pred_normalized.append(closest_val)\n"
   ]
  },
  {
   "cell_type": "code",
   "execution_count": 404,
   "id": "9c85dd09",
   "metadata": {},
   "outputs": [],
   "source": [
    "bien_predecidas = 0\n",
    "mal_predecidas = 0\n",
    "\n",
    "for i in range (0, len(y_real)):\n",
    "    if y_pred_normalized[i] == y_real[i][0]:\n",
    "        bien_predecidas += 1\n",
    "    else:\n",
    "        mal_predecidas += 1\n",
    "\n",
    "precision = bien_predecidas/(mal_predecidas+bien_predecidas)      "
   ]
  },
  {
   "cell_type": "code",
   "execution_count": 405,
   "id": "03142d0a",
   "metadata": {},
   "outputs": [
    {
     "name": "stdout",
     "output_type": "stream",
     "text": [
      "El modelo tiene una precision de:  0.5185185185185185\n"
     ]
    }
   ],
   "source": [
    "print(\"El modelo tiene una precision de: \", precision)"
   ]
  },
  {
   "cell_type": "code",
   "execution_count": 406,
   "id": "7dd92b70",
   "metadata": {},
   "outputs": [],
   "source": [
    "y_real_str = [str(value[0]) for value in y_real]\n",
    "y_pred_normalized_str = [str(value) for value in y_pred_normalized]"
   ]
  },
  {
   "cell_type": "code",
   "execution_count": 407,
   "id": "5c08c392",
   "metadata": {},
   "outputs": [],
   "source": [
    "clases = sorted([sublista[0] for sublista in uniques])"
   ]
  },
  {
   "cell_type": "code",
   "execution_count": 419,
   "id": "8ed93ad7",
   "metadata": {
    "scrolled": true
   },
   "outputs": [
    {
     "name": "stdout",
     "output_type": "stream",
     "text": [
      "{'0.0': {'precision': 0.6666666666666666, 'recall': 1.0, 'f1-score': 0.8, 'support': 2}, '0.3333333333333333': {'precision': 0.7368421052631579, 'recall': 0.9333333333333333, 'f1-score': 0.8235294117647058, 'support': 15}, '0.6666666666666667': {'precision': 0.375, 'recall': 0.75, 'f1-score': 0.5, 'support': 16}, '1.0': {'precision': 0.0, 'recall': 0.0, 'f1-score': 0.0, 'support': 21}, 'micro avg': {'precision': 0.5185185185185185, 'recall': 0.5185185185185185, 'f1-score': 0.5185185185185185, 'support': 54}, 'macro avg': {'precision': 0.4446271929824561, 'recall': 0.6708333333333334, 'f1-score': 0.5308823529411765, 'support': 54}, 'weighted avg': {'precision': 0.34048083170890187, 'recall': 0.5185185185185185, 'f1-score': 0.4065359477124183, 'support': 54}}\n"
     ]
    },
    {
     "name": "stderr",
     "output_type": "stream",
     "text": [
      "/Users/sergio/anaconda3/lib/python3.10/site-packages/sklearn/metrics/_classification.py:1344: UndefinedMetricWarning: Precision and F-score are ill-defined and being set to 0.0 in labels with no predicted samples. Use `zero_division` parameter to control this behavior.\n",
      "  _warn_prf(average, modifier, msg_start, len(result))\n",
      "/Users/sergio/anaconda3/lib/python3.10/site-packages/sklearn/metrics/_classification.py:1344: UndefinedMetricWarning: Precision and F-score are ill-defined and being set to 0.0 in labels with no predicted samples. Use `zero_division` parameter to control this behavior.\n",
      "  _warn_prf(average, modifier, msg_start, len(result))\n",
      "/Users/sergio/anaconda3/lib/python3.10/site-packages/sklearn/metrics/_classification.py:1344: UndefinedMetricWarning: Precision and F-score are ill-defined and being set to 0.0 in labels with no predicted samples. Use `zero_division` parameter to control this behavior.\n",
      "  _warn_prf(average, modifier, msg_start, len(result))\n"
     ]
    }
   ],
   "source": [
    "report = classification_report(y_real_str, y_pred_normalized_str, labels=clases, output_dict = True)\n",
    "print(report)"
   ]
  },
  {
   "cell_type": "code",
   "execution_count": 416,
   "id": "a72d91ad",
   "metadata": {},
   "outputs": [
    {
     "ename": "FileNotFoundError",
     "evalue": "[Errno 2] No such file or directory: 'pruebas_lstm_prediction_v1/max_verstappen/ejecucion_5.txt'",
     "output_type": "error",
     "traceback": [
      "\u001b[0;31m---------------------------------------------------------------------------\u001b[0m",
      "\u001b[0;31mFileNotFoundError\u001b[0m                         Traceback (most recent call last)",
      "Cell \u001b[0;32mIn[416], line 3\u001b[0m\n\u001b[1;32m      1\u001b[0m nombre_archivo \u001b[38;5;241m=\u001b[39m \u001b[38;5;124m\"\u001b[39m\u001b[38;5;124mpruebas_lstm_prediction_v1/max_verstappen/ejecucion_5.txt\u001b[39m\u001b[38;5;124m\"\u001b[39m\n\u001b[0;32m----> 3\u001b[0m \u001b[38;5;28;01mwith\u001b[39;00m \u001b[38;5;28;43mopen\u001b[39;49m\u001b[43m(\u001b[49m\u001b[43mnombre_archivo\u001b[49m\u001b[43m,\u001b[49m\u001b[43m \u001b[49m\u001b[38;5;124;43m\"\u001b[39;49m\u001b[38;5;124;43mw\u001b[39;49m\u001b[38;5;124;43m\"\u001b[39;49m\u001b[43m)\u001b[49m \u001b[38;5;28;01mas\u001b[39;00m archivo:\n\u001b[1;32m      4\u001b[0m     \u001b[38;5;28mprint\u001b[39m(report, file\u001b[38;5;241m=\u001b[39marchivo)\n",
      "File \u001b[0;32m~/anaconda3/lib/python3.10/site-packages/IPython/core/interactiveshell.py:282\u001b[0m, in \u001b[0;36m_modified_open\u001b[0;34m(file, *args, **kwargs)\u001b[0m\n\u001b[1;32m    275\u001b[0m \u001b[38;5;28;01mif\u001b[39;00m file \u001b[38;5;129;01min\u001b[39;00m {\u001b[38;5;241m0\u001b[39m, \u001b[38;5;241m1\u001b[39m, \u001b[38;5;241m2\u001b[39m}:\n\u001b[1;32m    276\u001b[0m     \u001b[38;5;28;01mraise\u001b[39;00m \u001b[38;5;167;01mValueError\u001b[39;00m(\n\u001b[1;32m    277\u001b[0m         \u001b[38;5;124mf\u001b[39m\u001b[38;5;124m\"\u001b[39m\u001b[38;5;124mIPython won\u001b[39m\u001b[38;5;124m'\u001b[39m\u001b[38;5;124mt let you open fd=\u001b[39m\u001b[38;5;132;01m{\u001b[39;00mfile\u001b[38;5;132;01m}\u001b[39;00m\u001b[38;5;124m by default \u001b[39m\u001b[38;5;124m\"\u001b[39m\n\u001b[1;32m    278\u001b[0m         \u001b[38;5;124m\"\u001b[39m\u001b[38;5;124mas it is likely to crash IPython. If you know what you are doing, \u001b[39m\u001b[38;5;124m\"\u001b[39m\n\u001b[1;32m    279\u001b[0m         \u001b[38;5;124m\"\u001b[39m\u001b[38;5;124myou can use builtins\u001b[39m\u001b[38;5;124m'\u001b[39m\u001b[38;5;124m open.\u001b[39m\u001b[38;5;124m\"\u001b[39m\n\u001b[1;32m    280\u001b[0m     )\n\u001b[0;32m--> 282\u001b[0m \u001b[38;5;28;01mreturn\u001b[39;00m \u001b[43mio_open\u001b[49m\u001b[43m(\u001b[49m\u001b[43mfile\u001b[49m\u001b[43m,\u001b[49m\u001b[43m \u001b[49m\u001b[38;5;241;43m*\u001b[39;49m\u001b[43margs\u001b[49m\u001b[43m,\u001b[49m\u001b[43m \u001b[49m\u001b[38;5;241;43m*\u001b[39;49m\u001b[38;5;241;43m*\u001b[39;49m\u001b[43mkwargs\u001b[49m\u001b[43m)\u001b[49m\n",
      "\u001b[0;31mFileNotFoundError\u001b[0m: [Errno 2] No such file or directory: 'pruebas_lstm_prediction_v1/max_verstappen/ejecucion_5.txt'"
     ]
    }
   ],
   "source": [
    "nombre_archivo = \"pruebas_lstm_prediction_v1/max_verstappen/ejecucion_5.txt\"\n",
    "\n",
    "with open(nombre_archivo, \"w\") as archivo:\n",
    "    print(report, file=archivo)"
   ]
  },
  {
   "cell_type": "code",
   "execution_count": 422,
   "id": "777e2134",
   "metadata": {},
   "outputs": [
    {
     "data": {
      "text/plain": [
       "0.5185185185185185"
      ]
     },
     "execution_count": 422,
     "metadata": {},
     "output_type": "execute_result"
    }
   ],
   "source": [
    "report['micro avg']['precision']"
   ]
  },
  {
   "cell_type": "code",
   "execution_count": null,
   "id": "c4d9082d",
   "metadata": {},
   "outputs": [],
   "source": []
  }
 ],
 "metadata": {
  "kernelspec": {
   "display_name": "Python 3 (ipykernel)",
   "language": "python",
   "name": "python3"
  },
  "language_info": {
   "codemirror_mode": {
    "name": "ipython",
    "version": 3
   },
   "file_extension": ".py",
   "mimetype": "text/x-python",
   "name": "python",
   "nbconvert_exporter": "python",
   "pygments_lexer": "ipython3",
   "version": "3.10.9"
  }
 },
 "nbformat": 4,
 "nbformat_minor": 5
}
