{
 "cells": [
  {
   "cell_type": "code",
   "execution_count": 40,
   "id": "32c7e2d9",
   "metadata": {},
   "outputs": [],
   "source": [
    "import numpy as np\n",
    "from tensorflow.keras.models import Sequential\n",
    "from tensorflow.keras.layers import LSTM\n",
    "from tensorflow.keras.layers import Dense, Dropout, GRU, SimpleRNN\n",
    "from tensorflow import keras\n",
    "import pandas as pd\n",
    "from matplotlib import pyplot as plt\n",
    "from sklearn.preprocessing import StandardScaler, MinMaxScaler\n",
    "import seaborn as sns"
   ]
  },
  {
   "cell_type": "code",
   "execution_count": 97,
   "id": "06ab3596",
   "metadata": {},
   "outputs": [],
   "source": [
    "vueltas = pd.read_csv(\"../dataset_todos_pilotos/vueltas_spain_final.csv\")"
   ]
  },
  {
   "cell_type": "code",
   "execution_count": 98,
   "id": "0aa7107a",
   "metadata": {},
   "outputs": [],
   "source": [
    "vueltas_train = vueltas[vueltas['anyo'].isin([2018, 2019, 2020, 2021])]\n",
    "vueltas_test = vueltas[vueltas['anyo'] == 2022]\n",
    "vueltas_test = vueltas_test[vueltas_test['Piloto'] == 'bottas']"
   ]
  },
  {
   "cell_type": "code",
   "execution_count": 99,
   "id": "ead79aa4",
   "metadata": {},
   "outputs": [],
   "source": [
    "vueltas_train = vueltas_train.drop(['anyo'], axis=1)\n",
    "vueltas_train.drop(['Piloto'], axis = 1, inplace = True)\n",
    "vueltas_test = vueltas_test.drop(['anyo'], axis=1)\n",
    "vueltas_test.drop(['Piloto'], axis = 1, inplace = True)"
   ]
  },
  {
   "cell_type": "code",
   "execution_count": 100,
   "id": "54ff995d",
   "metadata": {},
   "outputs": [],
   "source": [
    "vueltas_train = vueltas_train.astype(float)\n",
    "vueltas_test = vueltas_test.astype(float)"
   ]
  },
  {
   "cell_type": "code",
   "execution_count": 101,
   "id": "1e778c7a",
   "metadata": {},
   "outputs": [],
   "source": [
    "scaler = MinMaxScaler()\n",
    "scaler.fit(vueltas_train)\n",
    "vueltas_train_scaler = scaler.transform(vueltas_train)\n",
    "vueltas_test_scaler = scaler.transform(vueltas_test)\n"
   ]
  },
  {
   "cell_type": "code",
   "execution_count": 102,
   "id": "157b0016",
   "metadata": {},
   "outputs": [],
   "source": [
    "trainX = []\n",
    "trainY = []\n",
    "testX = []\n",
    "testY = []\n",
    "loopback = 10 # Esto es el numero de muestras que usara en el pasado \n",
    "future = 1 # Esto es el numero de hechos futuros que usará como salida a las 10 muestras del pasado\n",
    "\n",
    "for i in range (loopback, len(vueltas_train_scaler) -future +1):\n",
    "    trainX.append(vueltas_train_scaler[i-loopback:i, 0:vueltas_train.shape[1]])\n",
    "    trainY.append(vueltas_train_scaler[i + future - 1:i + future, 5])\n",
    "    #print(vueltas_train_scaler[i + future - 1:i + future, 5])\n",
    "    \n",
    "for i in range (loopback, len(vueltas_test_scaler) -future +1):\n",
    "    testX.append(vueltas_test_scaler[i-loopback:i, 0:vueltas_test.shape[1]])\n",
    "    testY.append(vueltas_test_scaler[i + future - 1:i + future,5])\n",
    "    "
   ]
  },
  {
   "cell_type": "code",
   "execution_count": 103,
   "id": "098c0057",
   "metadata": {},
   "outputs": [],
   "source": [
    "trainX, trainY, testX, testY = np.array(trainX), np.array(trainY), np.array(testX), np.array(testY)"
   ]
  },
  {
   "cell_type": "code",
   "execution_count": 104,
   "id": "96aa9aec",
   "metadata": {},
   "outputs": [
    {
     "name": "stdout",
     "output_type": "stream",
     "text": [
      "Model: \"sequential_4\"\n",
      "_________________________________________________________________\n",
      " Layer (type)                Output Shape              Param #   \n",
      "=================================================================\n",
      " simple_rnn_12 (SimpleRNN)   (None, 10, 20)            820       \n",
      "                                                                 \n",
      " simple_rnn_13 (SimpleRNN)   (None, 10, 256)           70912     \n",
      "                                                                 \n",
      " dropout_9 (Dropout)         (None, 10, 256)           0         \n",
      "                                                                 \n",
      " simple_rnn_14 (SimpleRNN)   (None, 10, 128)           49280     \n",
      "                                                                 \n",
      " dropout_10 (Dropout)        (None, 10, 128)           0         \n",
      "                                                                 \n",
      " simple_rnn_15 (SimpleRNN)   (None, 64)                12352     \n",
      "                                                                 \n",
      " dropout_11 (Dropout)        (None, 64)                0         \n",
      "                                                                 \n",
      " dense_3 (Dense)             (None, 1)                 65        \n",
      "                                                                 \n",
      "=================================================================\n",
      "Total params: 133,429\n",
      "Trainable params: 133,429\n",
      "Non-trainable params: 0\n",
      "_________________________________________________________________\n",
      "None\n"
     ]
    }
   ],
   "source": [
    "model = Sequential()\n",
    "model.add(SimpleRNN(trainX.shape[2],input_shape = (trainX.shape[1],trainX.shape[2]),return_sequences = True,\n",
    "                    activation = 'relu'))\n",
    "      \n",
    "model.add(SimpleRNN(256,activation = 'relu',return_sequences = True))\n",
    "model.add(Dropout(0.2))\n",
    "model.add(SimpleRNN(128,activation = 'relu', return_sequences= True))\n",
    "model.add(Dropout(0.2))\n",
    "model.add(SimpleRNN(64,activation = 'relu', return_sequences= False))\n",
    "model.add(Dropout(0.2))\n",
    "model.add(Dense(1))\n",
    "model.compile(optimizer =\"adam\", loss = 'mse')\n",
    "print(model.summary())"
   ]
  },
  {
   "cell_type": "code",
   "execution_count": 105,
   "id": "dd2e33de",
   "metadata": {},
   "outputs": [
    {
     "name": "stdout",
     "output_type": "stream",
     "text": [
      "Epoch 1/20\n",
      "58/58 [==============================] - 4s 27ms/step - loss: 0.0346 - val_loss: 0.0315\n",
      "Epoch 2/20\n",
      "58/58 [==============================] - 1s 19ms/step - loss: 0.0185 - val_loss: 0.0252\n",
      "Epoch 3/20\n",
      "58/58 [==============================] - 1s 20ms/step - loss: 0.0139 - val_loss: 0.0198\n",
      "Epoch 4/20\n",
      "58/58 [==============================] - 1s 19ms/step - loss: 0.0129 - val_loss: 0.0209\n",
      "Epoch 5/20\n",
      "58/58 [==============================] - 1s 20ms/step - loss: 0.0118 - val_loss: 0.0192\n",
      "Epoch 6/20\n",
      "58/58 [==============================] - 1s 19ms/step - loss: 0.0105 - val_loss: 0.0227\n",
      "Epoch 7/20\n",
      "58/58 [==============================] - 1s 19ms/step - loss: 0.0107 - val_loss: 0.0206\n",
      "Epoch 8/20\n",
      "58/58 [==============================] - 1s 20ms/step - loss: 0.0100 - val_loss: 0.0225\n",
      "Epoch 9/20\n",
      "58/58 [==============================] - 1s 20ms/step - loss: 0.0092 - val_loss: 0.0186\n",
      "Epoch 10/20\n",
      "58/58 [==============================] - 1s 20ms/step - loss: 0.0089 - val_loss: 0.0198\n",
      "Epoch 11/20\n",
      "58/58 [==============================] - 1s 19ms/step - loss: 0.0089 - val_loss: 0.0186\n",
      "Epoch 12/20\n",
      "58/58 [==============================] - 1s 20ms/step - loss: 0.0089 - val_loss: 0.0198\n",
      "Epoch 13/20\n",
      "58/58 [==============================] - 1s 19ms/step - loss: 0.0079 - val_loss: 0.0196\n",
      "Epoch 14/20\n",
      "58/58 [==============================] - 1s 20ms/step - loss: 0.0085 - val_loss: 0.0202\n",
      "Epoch 15/20\n",
      "58/58 [==============================] - 1s 20ms/step - loss: 0.0080 - val_loss: 0.0196\n",
      "Epoch 16/20\n",
      "58/58 [==============================] - 1s 19ms/step - loss: 0.0077 - val_loss: 0.0208\n",
      "Epoch 17/20\n",
      "58/58 [==============================] - 1s 20ms/step - loss: 0.0072 - val_loss: 0.0185\n",
      "Epoch 18/20\n",
      "58/58 [==============================] - 1s 20ms/step - loss: 0.0072 - val_loss: 0.0173\n",
      "Epoch 19/20\n",
      "58/58 [==============================] - 1s 20ms/step - loss: 0.0070 - val_loss: 0.0169\n",
      "Epoch 20/20\n",
      "58/58 [==============================] - 1s 19ms/step - loss: 0.0070 - val_loss: 0.0175\n"
     ]
    },
    {
     "data": {
      "text/plain": [
       "<matplotlib.legend.Legend at 0x7fe13a1ba530>"
      ]
     },
     "execution_count": 105,
     "metadata": {},
     "output_type": "execute_result"
    },
    {
     "data": {
      "image/png": "[encoded data removed]",
      "text/plain": [
       "<Figure size 640x480 with 1 Axes>"
      ]
     },
     "metadata": {},
     "output_type": "display_data"
    }
   ],
   "source": [
    "history = model.fit(trainX,trainY,epochs = 20,batch_size = 64,validation_split =0.1,verbose = 1)\n",
    "plt.plot(history.history['loss'], label='Training loss')\n",
    "plt.plot(history.history['val_loss'], label='Validation loss')\n",
    "plt.legend()"
   ]
  },
  {
   "cell_type": "markdown",
   "id": "0e3ad311",
   "metadata": {},
   "source": [
    "### Sacar métricas de lo que falla. Con el unique, ver a cual se acerca más. Sacar matrix_confusion, con este modelo."
   ]
  },
  {
   "cell_type": "markdown",
   "id": "d98c6fc8",
   "metadata": {},
   "source": [
    "### Ahora vamos a sacar todas las Y^ y todas las y."
   ]
  },
  {
   "cell_type": "code",
   "execution_count": 106,
   "id": "5ed6ed53",
   "metadata": {},
   "outputs": [],
   "source": [
    "y_real = testY.tolist()"
   ]
  },
  {
   "cell_type": "code",
   "execution_count": 107,
   "id": "700d4fad",
   "metadata": {},
   "outputs": [
    {
     "name": "stdout",
     "output_type": "stream",
     "text": [
      "2/2 [==============================] - 0s 6ms/step\n"
     ]
    }
   ],
   "source": [
    "y_pred = model.predict(testX)     "
   ]
  },
  {
   "cell_type": "code",
   "execution_count": 108,
   "id": "b69cc69f",
   "metadata": {},
   "outputs": [
    {
     "name": "stdout",
     "output_type": "stream",
     "text": [
      "54 54\n"
     ]
    }
   ],
   "source": [
    "print(len(y_real), len(y_pred))"
   ]
  },
  {
   "cell_type": "code",
   "execution_count": 109,
   "id": "17a4f849",
   "metadata": {},
   "outputs": [],
   "source": [
    "uniques = set(tuple(x) for x in y_real)\n",
    "uniques = [list(x) for x in uniques]"
   ]
  },
  {
   "cell_type": "code",
   "execution_count": 110,
   "id": "5e082556",
   "metadata": {
    "scrolled": true
   },
   "outputs": [
    {
     "data": {
      "text/plain": [
       "[[0.0], [0.6666666666666667], [0.3333333333333333]]"
      ]
     },
     "execution_count": 110,
     "metadata": {},
     "output_type": "execute_result"
    }
   ],
   "source": [
    "uniques"
   ]
  },
  {
   "cell_type": "code",
   "execution_count": 111,
   "id": "9f5f81a5",
   "metadata": {},
   "outputs": [],
   "source": [
    "y_pred_normalized = []\n",
    "for val in y_pred:\n",
    "    dist = [abs(val-x[0]) for x in uniques]\n",
    "    closest_val = uniques[np.argmin(dist)][0]\n",
    "    y_pred_normalized.append(closest_val)\n"
   ]
  },
  {
   "cell_type": "code",
   "execution_count": 112,
   "id": "1fedb014",
   "metadata": {},
   "outputs": [],
   "source": [
    "bien_predecidas = 0\n",
    "mal_predecidas = 0\n",
    "\n",
    "for i in range (0, len(y_real)):\n",
    "    if y_pred_normalized[i] == y_real[i][0]:\n",
    "        bien_predecidas += 1\n",
    "    else:\n",
    "        mal_predecidas += 1\n",
    "\n",
    "precision = bien_predecidas/(mal_predecidas+bien_predecidas)      "
   ]
  },
  {
   "cell_type": "code",
   "execution_count": 113,
   "id": "39e27f8b",
   "metadata": {},
   "outputs": [
    {
     "name": "stdout",
     "output_type": "stream",
     "text": [
      "El modelo tiene una precision de:  0.14814814814814814\n"
     ]
    }
   ],
   "source": [
    "print(\"El modelo tiene una precision de: \", precision)"
   ]
  },
  {
   "cell_type": "markdown",
   "id": "a4ceff83",
   "metadata": {},
   "source": [
    "### Ahora tenemos que sacar las demás métricas y como tenemos 4 clases"
   ]
  },
  {
   "cell_type": "markdown",
   "id": "89c46421",
   "metadata": {},
   "source": [
    "### El número de stint que más veces aparece en el conjunto de test, ¿qué porcentaje sobre el total supone? "
   ]
  },
  {
   "cell_type": "code",
   "execution_count": 114,
   "id": "9557ed69",
   "metadata": {},
   "outputs": [
    {
     "name": "stdout",
     "output_type": "stream",
     "text": [
      "El número que aparece con más frecuencia es: 0.6666666666666667\n",
      "Las frecuencias de cada número son:\n",
      "0.0 aparece 3 veces que supone un 5.56 del total\n",
      "0.3333333333333333 aparece 20 veces que supone un 37.04 del total\n",
      "0.6666666666666667 aparece 31 veces que supone un 57.41 del total\n"
     ]
    }
   ],
   "source": [
    "frecuencias = {}\n",
    "\n",
    "y_real_ = [sublista[0] for sublista in y_real]\n",
    "frecuencias = {}\n",
    "numero_mas_frecuente = None\n",
    "frecuencia_maxima = 0\n",
    "\n",
    "for numero in y_real_:\n",
    "    if numero in frecuencias:\n",
    "        frecuencias[numero] += 1\n",
    "    else:\n",
    "        frecuencias[numero] = 1\n",
    "\n",
    "    if frecuencias[numero] > frecuencia_maxima:\n",
    "        frecuencia_maxima = frecuencias[numero]\n",
    "        numero_mas_frecuente = numero\n",
    "\n",
    "print(\"El número que aparece con más frecuencia es:\", numero_mas_frecuente)\n",
    "print(\"Las frecuencias de cada número son:\")\n",
    "total = len(y_real_)\n",
    "\n",
    "for numero, frecuencia in frecuencias.items():\n",
    "    print(numero, \"aparece\", frecuencia, \"veces que supone un\", round((frecuencia/total)*100, 2), \"del total\")\n",
    "    "
   ]
  },
  {
   "cell_type": "code",
   "execution_count": 115,
   "id": "fa9ace6b",
   "metadata": {},
   "outputs": [
    {
     "data": {
      "text/plain": [
       "[0.0, 0.3333333333333333, 0.6666666666666667]"
      ]
     },
     "execution_count": 115,
     "metadata": {},
     "output_type": "execute_result"
    }
   ],
   "source": [
    "clases = sorted([sublista[0] for sublista in uniques])\n",
    "clases"
   ]
  },
  {
   "cell_type": "markdown",
   "id": "c0880606",
   "metadata": {},
   "source": [
    "### Ahora tenemos la lista clases, que son nuestras 4 clases para clasificar. Asi que vamos a pasar las clases a string, y vamos a sacar FN, FP, TP, TN"
   ]
  },
  {
   "cell_type": "code",
   "execution_count": 116,
   "id": "342a2d9b",
   "metadata": {},
   "outputs": [],
   "source": [
    "y_real_str = [str(sublista) for sublista in y_real_]\n",
    "y_pred_normalized_str = [str(sublista) for sublista in y_pred_normalized]"
   ]
  },
  {
   "cell_type": "code",
   "execution_count": 117,
   "id": "fc241077",
   "metadata": {},
   "outputs": [
    {
     "name": "stdout",
     "output_type": "stream",
     "text": [
      "Matriz de confusión:\n",
      "[0.0, 0.3333333333333333, 0.6666666666666667]\n",
      "[[0 0 0]\n",
      " [0 0 0]\n",
      " [0 0 0]]\n",
      "Métricas:\n",
      "                    precision    recall  f1-score   support\n",
      "\n",
      "               0.0       0.17      1.00      0.29         3\n",
      "0.3333333333333333       0.14      0.25      0.18        20\n",
      "0.6666666666666667       0.00      0.00      0.00        31\n",
      "\n",
      "         micro avg       0.15      0.15      0.15        54\n",
      "         macro avg       0.10      0.42      0.15        54\n",
      "      weighted avg       0.06      0.15      0.08        54\n",
      "\n"
     ]
    },
    {
     "name": "stderr",
     "output_type": "stream",
     "text": [
      "/Users/sergio/.local/lib/python3.10/site-packages/numpy/lib/arraysetops.py:608: FutureWarning: elementwise comparison failed; returning scalar instead, but in the future will perform elementwise comparison\n",
      "  mask &= (ar1 != a)\n",
      "/Users/sergio/anaconda3/lib/python3.10/site-packages/sklearn/metrics/_classification.py:1344: UndefinedMetricWarning: Precision and F-score are ill-defined and being set to 0.0 in labels with no predicted samples. Use `zero_division` parameter to control this behavior.\n",
      "  _warn_prf(average, modifier, msg_start, len(result))\n",
      "/Users/sergio/.local/lib/python3.10/site-packages/numpy/lib/arraysetops.py:608: FutureWarning: elementwise comparison failed; returning scalar instead, but in the future will perform elementwise comparison\n",
      "  mask &= (ar1 != a)\n",
      "/Users/sergio/.local/lib/python3.10/site-packages/numpy/lib/arraysetops.py:608: FutureWarning: elementwise comparison failed; returning scalar instead, but in the future will perform elementwise comparison\n",
      "  mask &= (ar1 != a)\n",
      "/Users/sergio/anaconda3/lib/python3.10/site-packages/sklearn/metrics/_classification.py:1344: UndefinedMetricWarning: Precision and F-score are ill-defined and being set to 0.0 in labels with no predicted samples. Use `zero_division` parameter to control this behavior.\n",
      "  _warn_prf(average, modifier, msg_start, len(result))\n",
      "/Users/sergio/.local/lib/python3.10/site-packages/numpy/lib/arraysetops.py:608: FutureWarning: elementwise comparison failed; returning scalar instead, but in the future will perform elementwise comparison\n",
      "  mask &= (ar1 != a)\n",
      "/Users/sergio/anaconda3/lib/python3.10/site-packages/sklearn/metrics/_classification.py:1344: UndefinedMetricWarning: Precision and F-score are ill-defined and being set to 0.0 in labels with no predicted samples. Use `zero_division` parameter to control this behavior.\n",
      "  _warn_prf(average, modifier, msg_start, len(result))\n"
     ]
    }
   ],
   "source": [
    "from sklearn.metrics import confusion_matrix, classification_report\n",
    "# Calcular la matriz de confusión\n",
    "cm = confusion_matrix(y_real_str, y_pred_normalized_str, labels=clases)\n",
    "\n",
    "# Imprimir la matriz de confusión\n",
    "print(\"Matriz de confusión:\")\n",
    "print(clases)\n",
    "print(cm)\n",
    "\n",
    "# Imprimir las métricas básicas\n",
    "print(\"Métricas:\")\n",
    "print(classification_report(y_real_str, y_pred_normalized_str, labels=clases))"
   ]
  },
  {
   "cell_type": "code",
   "execution_count": null,
   "id": "1cb57802",
   "metadata": {},
   "outputs": [],
   "source": []
  }
 ],
 "metadata": {
  "kernelspec": {
   "display_name": "Python 3 (ipykernel)",
   "language": "python",
   "name": "python3"
  },
  "language_info": {
   "codemirror_mode": {
    "name": "ipython",
    "version": 3
   },
   "file_extension": ".py",
   "mimetype": "text/x-python",
   "name": "python",
   "nbconvert_exporter": "python",
   "pygments_lexer": "ipython3",
   "version": "3.10.9"
  }
 },
 "nbformat": 4,
 "nbformat_minor": 5
}
