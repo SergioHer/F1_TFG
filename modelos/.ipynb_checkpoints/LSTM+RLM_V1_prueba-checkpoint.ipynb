{
 "cells": [
  {
   "cell_type": "code",
   "execution_count": 1,
   "id": "9ee4b771",
   "metadata": {},
   "outputs": [
    {
     "name": "stderr",
     "output_type": "stream",
     "text": [
      "2023-05-31 17:52:09.985622: I tensorflow/core/platform/cpu_feature_guard.cc:182] This TensorFlow binary is optimized to use available CPU instructions in performance-critical operations.\n",
      "To enable the following instructions: AVX2 FMA, in other operations, rebuild TensorFlow with the appropriate compiler flags.\n"
     ]
    }
   ],
   "source": [
    "import numpy as np\n",
    "from tensorflow.keras.models import Sequential\n",
    "from tensorflow.keras.layers import LSTM\n",
    "from tensorflow.keras.layers import Dense, Dropout\n",
    "from tensorflow import keras\n",
    "import pandas as pd\n",
    "from matplotlib import pyplot as plt\n",
    "from sklearn.preprocessing import StandardScaler, MinMaxScaler\n",
    "import seaborn as sns"
   ]
  },
  {
   "cell_type": "code",
   "execution_count": 212,
   "id": "9aafbad6",
   "metadata": {},
   "outputs": [],
   "source": [
    "vueltas = pd.read_csv(\"../dataset_todos_pilotos/vueltas_saudi_arabia_final.csv\")\n",
    "\n",
    "vueltas.drop(['Piloto'], axis = 1, inplace = True)\n",
    "\n",
    "vueltas_train = vueltas[vueltas['anyo'].isin([2018, 2019, 2020])]\n",
    "vueltas_validation = vueltas[vueltas['anyo'].isin([2021])]\n",
    "vueltas_test = vueltas[vueltas['anyo'] == 2021]\n",
    "\n",
    "#vueltas_test = vueltas_test[vueltas_test['Piloto'] == \"alonso\"]\n",
    "\n",
    "vueltas_train = vueltas_train.drop(['anyo'], axis=1)\n",
    "vueltas_validation = vueltas_validation.drop(['anyo'], axis=1)\n",
    "vueltas_test = vueltas_test.drop(['anyo'], axis=1)\n",
    "\n",
    "#vueltas_train.drop(['Piloto'], axis = 1, inplace = True)\n",
    "#vueltas_test.drop(['Piloto'], axis = 1, inplace = True)\n",
    "\n",
    "\n",
    "vueltas_train = vueltas_train.astype(float)\n",
    "vueltas_validation = vueltas_validation.astype(float)\n",
    "vueltas_test = vueltas_test.astype(float)"
   ]
  },
  {
   "cell_type": "code",
   "execution_count": 213,
   "id": "3741accf",
   "metadata": {},
   "outputs": [],
   "source": [
    "scaler = MinMaxScaler()\n",
    "scaler.fit(vueltas_train)\n",
    "vueltas_train_scaler = scaler.transform(vueltas_train)\n",
    "vueltas_test_scaler = scaler.transform(vueltas_test)\n",
    "vueltas_validation_scaler = scaler.transform(vueltas_validation)"
   ]
  },
  {
   "cell_type": "code",
   "execution_count": 216,
   "id": "a43f2520",
   "metadata": {},
   "outputs": [],
   "source": [
    "trainX = []\n",
    "trainY = []\n",
    "testX = []\n",
    "testY = []\n",
    "validationX = []\n",
    "validationY = []\n",
    "loopback = 10 # Esto es el numero de muestras que usara en el pasado \n",
    "future = 1 # Esto es el numero de hechos futuros que usará como salida a las 10 muestras del pasado\n",
    "\n",
    "for i in range (loopback, len(vueltas_train_scaler) -future +1):\n",
    "    trainX.append(vueltas_train_scaler[i-loopback:i, 0:vueltas_train.shape[1]])\n",
    "    trainY.append(vueltas_train_scaler[i + future - 1:i + future, 5])\n",
    "    \n",
    "for i in range (loopback, len(vueltas_test_scaler) -future +1):\n",
    "    testX.append(vueltas_test_scaler[i-loopback:i, 0:vueltas_test.shape[1]])\n",
    "    testY.append(vueltas_test_scaler[i + future - 1:i + future,5])\n",
    "    \n",
    "for i in range (loopback, len(vueltas_validation_scaler) -future +1):\n",
    "    validationX.append(vueltas_validation_scaler[i-loopback:i, 0:vueltas_validation.shape[1]])\n",
    "    validationY.append(vueltas_validation_scaler[i + future - 1:i + future,5])\n"
   ]
  },
  {
   "cell_type": "code",
   "execution_count": 217,
   "id": "748744b3",
   "metadata": {},
   "outputs": [],
   "source": [
    "trainX, trainY, testX, testY, validationX, validationY = np.array(trainX), np.array(trainY), np.array(testX), np.array(testY), np.array(validationX), np.array(validationY)\n",
    "\n",
    "\n",
    "\n"
   ]
  },
  {
   "cell_type": "code",
   "execution_count": 193,
   "id": "f16e12f8",
   "metadata": {},
   "outputs": [
    {
     "name": "stdout",
     "output_type": "stream",
     "text": [
      "Model: \"sequential_12\"\n",
      "_________________________________________________________________\n",
      " Layer (type)                Output Shape              Param #   \n",
      "=================================================================\n",
      " lstm_24 (LSTM)              (None, 10, 256)           284672    \n",
      "                                                                 \n",
      " dropout_24 (Dropout)        (None, 10, 256)           0         \n",
      "                                                                 \n",
      " lstm_25 (LSTM)              (None, 128)               197120    \n",
      "                                                                 \n",
      " dropout_25 (Dropout)        (None, 128)               0         \n",
      "                                                                 \n",
      " dense_12 (Dense)            (None, 1)                 129       \n",
      "                                                                 \n",
      "=================================================================\n",
      "Total params: 481,921\n",
      "Trainable params: 481,921\n",
      "Non-trainable params: 0\n",
      "_________________________________________________________________\n"
     ]
    }
   ],
   "source": [
    "model = Sequential()\n",
    "model.add(LSTM(256, activation='relu', input_shape=(trainX.shape[1], trainX.shape[2]), return_sequences=True))\n",
    "model.add(Dropout(0.2))\n",
    "model.add(LSTM(128, activation='relu', return_sequences=False))\n",
    "model.add(Dropout(0.2))\n",
    "model.add(Dense(trainY.shape[1]))\n",
    "model.compile(optimizer=\"adam\", loss= \"mse\") ##Cambiar esto para la siguiente reunion (positivo 1, negativo 0)\n",
    "model.summary()"
   ]
  },
  {
   "cell_type": "code",
   "execution_count": 194,
   "id": "d48f6c99",
   "metadata": {},
   "outputs": [
    {
     "name": "stdout",
     "output_type": "stream",
     "text": [
      "Epoch 1/12\n",
      "40/40 [==============================] - 4s 41ms/step - loss: 0.0548\n",
      "Epoch 2/12\n",
      "40/40 [==============================] - 2s 42ms/step - loss: 0.0242\n",
      "Epoch 3/12\n",
      "40/40 [==============================] - 2s 43ms/step - loss: 0.0166\n",
      "Epoch 4/12\n",
      "40/40 [==============================] - 2s 41ms/step - loss: 0.0154\n",
      "Epoch 5/12\n",
      "40/40 [==============================] - 2s 42ms/step - loss: 0.0133\n",
      "Epoch 6/12\n",
      "40/40 [==============================] - 2s 52ms/step - loss: 0.0124\n",
      "Epoch 7/12\n",
      "40/40 [==============================] - 2s 60ms/step - loss: 0.0115\n",
      "Epoch 8/12\n",
      "40/40 [==============================] - 2s 59ms/step - loss: 0.0105\n",
      "Epoch 9/12\n",
      "40/40 [==============================] - 2s 60ms/step - loss: 0.0095\n",
      "Epoch 10/12\n",
      "40/40 [==============================] - 2s 44ms/step - loss: 0.0097\n",
      "Epoch 11/12\n",
      "40/40 [==============================] - 2s 42ms/step - loss: 0.0088\n",
      "Epoch 12/12\n",
      "40/40 [==============================] - 2s 43ms/step - loss: 0.0100\n"
     ]
    },
    {
     "data": {
      "text/plain": [
       "<matplotlib.legend.Legend at 0x7fd1614835e0>"
      ]
     },
     "execution_count": 194,
     "metadata": {},
     "output_type": "execute_result"
    },
    {
     "data": {
      "image/png": "[encoded data removed]",
      "text/plain": [
       "<Figure size 640x480 with 1 Axes>"
      ]
     },
     "metadata": {},
     "output_type": "display_data"
    }
   ],
   "source": [
    "history = model.fit(trainX, trainY, epochs=12, batch_size=64, validation_split=0.0, verbose=1)\n",
    "\n",
    "plt.plot(history.history['loss'], label='Training loss')\n",
    "plt.legend()"
   ]
  },
  {
   "cell_type": "code",
   "execution_count": 231,
   "id": "571b3d2d",
   "metadata": {},
   "outputs": [
    {
     "data": {
      "text/plain": [
       "array([0. , 0.5, 1. , 1.5, 2. ])"
      ]
     },
     "execution_count": 231,
     "metadata": {},
     "output_type": "execute_result"
    }
   ],
   "source": [
    "clases = np.unique(validationY[:,0]) #Cuidado de donde sacamos las clases, deberiamos sacarlas de train, \n",
    "#pero si en 2021 hubo una parada mas por lo que sea, falla lo de abajo, lo he hecho con validationY pero\n",
    "# y si hace una menos en validation?\n",
    "clases\n",
    "\n",
    "#Por ejemplo en arabia saudi solo hubo 3 paradas, por lo cual es 0, 0,5 y 1. Si en validation hay 5,\n",
    "#ya no coinciden, es decir, no las va a predecir, que es lo que hablamos la semana anterior\n"
   ]
  },
  {
   "cell_type": "code",
   "execution_count": 232,
   "id": "9928d8d7",
   "metadata": {
    "scrolled": false
   },
   "outputs": [],
   "source": [
    "f = lambda x: np.argwhere(x == clases)\n",
    "f = np.vectorize(f)\n",
    "y_real = f(validationY[:,0])"
   ]
  },
  {
   "cell_type": "code",
   "execution_count": 233,
   "id": "01570325",
   "metadata": {},
   "outputs": [
    {
     "name": "stdout",
     "output_type": "stream",
     "text": [
      "18/18 [==============================] - 0s 11ms/step\n"
     ]
    }
   ],
   "source": [
    "#AQUI ES CON LOS DATOS DE VALIDADACION\n",
    "predictions = model.predict(validationX)"
   ]
  },
  {
   "cell_type": "code",
   "execution_count": 234,
   "id": "8e720daf",
   "metadata": {},
   "outputs": [
    {
     "data": {
      "text/plain": [
       "<matplotlib.collections.PathCollection at 0x7fd166850880>"
      ]
     },
     "execution_count": 234,
     "metadata": {},
     "output_type": "execute_result"
    },
    {
     "data": {
      "image/png": "[encoded data removed]",
      "text/plain": [
       "<Figure size 640x480 with 1 Axes>"
      ]
     },
     "metadata": {},
     "output_type": "display_data"
    }
   ],
   "source": [
    "plt.scatter(predictions[:,0], predictions[:,0], s=1, c=y_real+1)"
   ]
  },
  {
   "cell_type": "code",
   "execution_count": 235,
   "id": "66383536",
   "metadata": {},
   "outputs": [],
   "source": [
    "y_real_train = f(trainY[:,0])"
   ]
  },
  {
   "cell_type": "code",
   "execution_count": 236,
   "id": "4c08176c",
   "metadata": {
    "scrolled": true
   },
   "outputs": [
    {
     "name": "stdout",
     "output_type": "stream",
     "text": [
      "18/18 [==============================] - 0s 11ms/step\n"
     ]
    }
   ],
   "source": [
    "predictions_test = model.predict(testX)"
   ]
  },
  {
   "cell_type": "code",
   "execution_count": 237,
   "id": "493fc277",
   "metadata": {},
   "outputs": [],
   "source": [
    "y_real_test =  f(testY[:,0])"
   ]
  },
  {
   "cell_type": "code",
   "execution_count": 238,
   "id": "a3924feb",
   "metadata": {},
   "outputs": [],
   "source": [
    "#from sklearn.model_selection import train_test_split\n",
    "#X_train, X_test, y_train, y_test = train_test_split(predictions, y_real, test_size=0.3, stratify=y_real)"
   ]
  },
  {
   "cell_type": "code",
   "execution_count": 239,
   "id": "618ed0a4",
   "metadata": {},
   "outputs": [],
   "source": [
    "from sklearn.linear_model import LogisticRegression\n",
    "rl = LogisticRegression(random_state=0, penalty=None).fit(predictions, y_real) # Esto es de validacion"
   ]
  },
  {
   "cell_type": "code",
   "execution_count": null,
   "id": "f15f9b1c",
   "metadata": {},
   "outputs": [],
   "source": []
  },
  {
   "cell_type": "code",
   "execution_count": 240,
   "id": "365ec7d2",
   "metadata": {},
   "outputs": [],
   "source": [
    "pred_test_2 = rl.predict(predictions_test)"
   ]
  },
  {
   "cell_type": "code",
   "execution_count": 241,
   "id": "c1c4661d",
   "metadata": {
    "scrolled": true
   },
   "outputs": [
    {
     "name": "stderr",
     "output_type": "stream",
     "text": [
      "/Users/sergio/anaconda3/lib/python3.10/site-packages/sklearn/metrics/_classification.py:1344: UndefinedMetricWarning: Precision and F-score are ill-defined and being set to 0.0 in labels with no predicted samples. Use `zero_division` parameter to control this behavior.\n",
      "  _warn_prf(average, modifier, msg_start, len(result))\n",
      "/Users/sergio/anaconda3/lib/python3.10/site-packages/sklearn/metrics/_classification.py:1344: UndefinedMetricWarning: Precision and F-score are ill-defined and being set to 0.0 in labels with no predicted samples. Use `zero_division` parameter to control this behavior.\n",
      "  _warn_prf(average, modifier, msg_start, len(result))\n",
      "/Users/sergio/anaconda3/lib/python3.10/site-packages/sklearn/metrics/_classification.py:1344: UndefinedMetricWarning: Precision and F-score are ill-defined and being set to 0.0 in labels with no predicted samples. Use `zero_division` parameter to control this behavior.\n",
      "  _warn_prf(average, modifier, msg_start, len(result))\n"
     ]
    }
   ],
   "source": [
    "from sklearn.metrics import confusion_matrix\n",
    "from sklearn.metrics import classification_report\n",
    "cm = confusion_matrix(y_real_test, pred_test_2)\n",
    "metricas = classification_report(y_real_test, pred_test_2)"
   ]
  },
  {
   "cell_type": "code",
   "execution_count": 242,
   "id": "2907c2df",
   "metadata": {},
   "outputs": [
    {
     "name": "stdout",
     "output_type": "stream",
     "text": [
      "[[115   0  14   4   0]\n",
      " [  1   0   0   0   0]\n",
      " [  9   0 151  40   0]\n",
      " [  2   0  31 199   0]\n",
      " [  0   0   0   5   0]]\n",
      "              precision    recall  f1-score   support\n",
      "\n",
      "           0       0.91      0.86      0.88       133\n",
      "           1       0.00      0.00      0.00         1\n",
      "           2       0.77      0.76      0.76       200\n",
      "           3       0.80      0.86      0.83       232\n",
      "           4       0.00      0.00      0.00         5\n",
      "\n",
      "    accuracy                           0.81       571\n",
      "   macro avg       0.50      0.50      0.50       571\n",
      "weighted avg       0.81      0.81      0.81       571\n",
      "\n"
     ]
    }
   ],
   "source": [
    "print(cm)\n",
    "print(metricas)"
   ]
  },
  {
   "cell_type": "code",
   "execution_count": 207,
   "id": "4abf0613",
   "metadata": {},
   "outputs": [],
   "source": [
    "nombre_archivo = \"ejecuciones/ejecuciones_val_2021/saudi_arabia.txt\"\n",
    "\n",
    "# Abrir el archivo en modo de escritura\n",
    "with open(nombre_archivo, \"w\") as archivo:\n",
    "    print(\"Matriz de confusión:\", file=archivo)\n",
    "    print(clases, file=archivo)\n",
    "    print(cm, file=archivo)\n",
    "    print(\"Métricas:\", file=archivo)\n",
    "    print(metricas, file=archivo)"
   ]
  },
  {
   "cell_type": "code",
   "execution_count": null,
   "id": "2eb1cc96",
   "metadata": {},
   "outputs": [],
   "source": []
  },
  {
   "cell_type": "code",
   "execution_count": null,
   "id": "972a4186",
   "metadata": {},
   "outputs": [],
   "source": []
  }
 ],
 "metadata": {
  "kernelspec": {
   "display_name": "Python 3 (ipykernel)",
   "language": "python",
   "name": "python3"
  },
  "language_info": {
   "codemirror_mode": {
    "name": "ipython",
    "version": 3
   },
   "file_extension": ".py",
   "mimetype": "text/x-python",
   "name": "python",
   "nbconvert_exporter": "python",
   "pygments_lexer": "ipython3",
   "version": "3.10.9"
  }
 },
 "nbformat": 4,
 "nbformat_minor": 5
}
