{
 "cells": [
  {
   "cell_type": "code",
   "execution_count": 1,
   "id": "9ee4b771",
   "metadata": {},
   "outputs": [
    {
     "name": "stderr",
     "output_type": "stream",
     "text": [
      "2023-05-03 16:52:24.453885: I tensorflow/core/platform/cpu_feature_guard.cc:182] This TensorFlow binary is optimized to use available CPU instructions in performance-critical operations.\n",
      "To enable the following instructions: AVX2 FMA, in other operations, rebuild TensorFlow with the appropriate compiler flags.\n"
     ]
    }
   ],
   "source": [
    "import numpy as np\n",
    "from tensorflow.keras.models import Sequential\n",
    "from tensorflow.keras.layers import LSTM\n",
    "from tensorflow.keras.layers import Dense, Dropout\n",
    "from tensorflow import keras\n",
    "import pandas as pd\n",
    "from matplotlib import pyplot as plt\n",
    "from sklearn.preprocessing import StandardScaler, MinMaxScaler\n",
    "import seaborn as sns"
   ]
  },
  {
   "cell_type": "code",
   "execution_count": 85,
   "id": "9aafbad6",
   "metadata": {},
   "outputs": [],
   "source": [
    "vueltas = pd.read_csv(\"../dataset_todos_pilotos/vueltas_austria_final.csv\")\n",
    "\n",
    "vueltas.drop(['Piloto'], axis = 1, inplace = True)\n",
    "\n",
    "vueltas_train = vueltas[vueltas['anyo'].isin([2018, 2019, 2020, 2021])]\n",
    "vueltas_test = vueltas[vueltas['anyo'] == 2022]\n",
    "\n",
    "#vueltas_test = vueltas_test[vueltas_test['Piloto'] == \"alonso\"]\n",
    "\n",
    "vueltas_train = vueltas_train.drop(['anyo'], axis=1)\n",
    "vueltas_test = vueltas_test.drop(['anyo'], axis=1)\n",
    "\n",
    "#vueltas_train.drop(['Piloto'], axis = 1, inplace = True)\n",
    "#vueltas_test.drop(['Piloto'], axis = 1, inplace = True)\n",
    "\n",
    "\n",
    "vueltas_train = vueltas_train.astype(float)\n",
    "vueltas_test = vueltas_test.astype(float)"
   ]
  },
  {
   "cell_type": "code",
   "execution_count": 86,
   "id": "3741accf",
   "metadata": {},
   "outputs": [],
   "source": [
    "scaler = MinMaxScaler()\n",
    "scaler.fit(vueltas_train)\n",
    "vueltas_train_scaler = scaler.transform(vueltas_train)\n",
    "vueltas_test_scaler = scaler.transform(vueltas_test)"
   ]
  },
  {
   "cell_type": "code",
   "execution_count": 87,
   "id": "a43f2520",
   "metadata": {},
   "outputs": [],
   "source": [
    "trainX = []\n",
    "trainY = []\n",
    "testX = []\n",
    "testY = []\n",
    "loopback = 10 # Esto es el numero de muestras que usara en el pasado \n",
    "future = 1 # Esto es el numero de hechos futuros que usará como salida a las 10 muestras del pasado\n",
    "\n",
    "for i in range (loopback, len(vueltas_train_scaler) -future +1):\n",
    "    trainX.append(vueltas_train_scaler[i-loopback:i, 0:vueltas_train.shape[1]])\n",
    "    trainY.append(vueltas_train_scaler[i + future - 1:i + future, 5])\n",
    "    #print(vueltas_train_scaler[i + future - 1:i + future, 5])\n",
    "    \n",
    "for i in range (loopback, len(vueltas_test_scaler) -future +1):\n",
    "    testX.append(vueltas_test_scaler[i-loopback:i, 0:vueltas_test.shape[1]])\n",
    "    testY.append(vueltas_test_scaler[i + future - 1:i + future,5])\n"
   ]
  },
  {
   "cell_type": "code",
   "execution_count": 88,
   "id": "748744b3",
   "metadata": {},
   "outputs": [],
   "source": [
    "trainX, trainY, testX, testY = np.array(trainX), np.array(trainY), np.array(testX), np.array(testY)"
   ]
  },
  {
   "cell_type": "code",
   "execution_count": 89,
   "id": "f16e12f8",
   "metadata": {},
   "outputs": [
    {
     "name": "stdout",
     "output_type": "stream",
     "text": [
      "Model: \"sequential_5\"\n",
      "_________________________________________________________________\n",
      " Layer (type)                Output Shape              Param #   \n",
      "=================================================================\n",
      " lstm_11 (LSTM)              (None, 10, 256)           284672    \n",
      "                                                                 \n",
      " dropout_11 (Dropout)        (None, 10, 256)           0         \n",
      "                                                                 \n",
      " lstm_12 (LSTM)              (None, 128)               197120    \n",
      "                                                                 \n",
      " dropout_12 (Dropout)        (None, 128)               0         \n",
      "                                                                 \n",
      " dense_5 (Dense)             (None, 1)                 129       \n",
      "                                                                 \n",
      "=================================================================\n",
      "Total params: 481,921\n",
      "Trainable params: 481,921\n",
      "Non-trainable params: 0\n",
      "_________________________________________________________________\n"
     ]
    }
   ],
   "source": [
    "model = Sequential()\n",
    "model.add(LSTM(256, activation='relu', input_shape=(trainX.shape[1], trainX.shape[2]), return_sequences=True))\n",
    "model.add(Dropout(0.2))\n",
    "model.add(LSTM(128, activation='relu', return_sequences=False))\n",
    "model.add(Dropout(0.2))\n",
    "model.add(Dense(trainY.shape[1]))\n",
    "model.compile(optimizer=\"adam\", loss= \"mse\") ##Cambiar esto para la siguiente reunion (positivo 1, negativo 0)\n",
    "model.summary()"
   ]
  },
  {
   "cell_type": "code",
   "execution_count": 90,
   "id": "d48f6c99",
   "metadata": {},
   "outputs": [
    {
     "name": "stdout",
     "output_type": "stream",
     "text": [
      "Epoch 1/12\n",
      "67/67 [==============================] - 5s 39ms/step - loss: 0.0237\n",
      "Epoch 2/12\n",
      "67/67 [==============================] - 3s 39ms/step - loss: 0.0119\n",
      "Epoch 3/12\n",
      "67/67 [==============================] - 3s 40ms/step - loss: 0.0097\n",
      "Epoch 4/12\n",
      "67/67 [==============================] - 3s 46ms/step - loss: 0.0087\n",
      "Epoch 5/12\n",
      "67/67 [==============================] - 3s 39ms/step - loss: 0.0078\n",
      "Epoch 6/12\n",
      "67/67 [==============================] - 3s 39ms/step - loss: 0.0077\n",
      "Epoch 7/12\n",
      "67/67 [==============================] - 3s 39ms/step - loss: 0.0073\n",
      "Epoch 8/12\n",
      "67/67 [==============================] - 3s 39ms/step - loss: 0.0073\n",
      "Epoch 9/12\n",
      "67/67 [==============================] - 3s 44ms/step - loss: 0.0069\n",
      "Epoch 10/12\n",
      "67/67 [==============================] - 3s 40ms/step - loss: 0.0072\n",
      "Epoch 11/12\n",
      "67/67 [==============================] - 3s 40ms/step - loss: 0.0063\n",
      "Epoch 12/12\n",
      "67/67 [==============================] - 3s 43ms/step - loss: 0.0066\n"
     ]
    },
    {
     "data": {
      "text/plain": [
       "<matplotlib.legend.Legend at 0x7f850c228d90>"
      ]
     },
     "execution_count": 90,
     "metadata": {},
     "output_type": "execute_result"
    },
    {
     "data": {
      "image/png": "[encoded data removed]",
      "text/plain": [
       "<Figure size 640x480 with 1 Axes>"
      ]
     },
     "metadata": {},
     "output_type": "display_data"
    }
   ],
   "source": [
    "history = model.fit(trainX, trainY, epochs=12, batch_size=64, validation_split=0.0, verbose=1)\n",
    "\n",
    "plt.plot(history.history['loss'], label='Training loss')\n",
    "plt.legend()"
   ]
  },
  {
   "cell_type": "code",
   "execution_count": 91,
   "id": "571b3d2d",
   "metadata": {},
   "outputs": [
    {
     "data": {
      "text/plain": [
       "array([0.        , 0.33333333, 0.66666667, 1.        ])"
      ]
     },
     "execution_count": 91,
     "metadata": {},
     "output_type": "execute_result"
    }
   ],
   "source": [
    "clases = np.unique(trainY[:,0])\n",
    "clases"
   ]
  },
  {
   "cell_type": "code",
   "execution_count": 92,
   "id": "9928d8d7",
   "metadata": {},
   "outputs": [],
   "source": [
    "f = lambda x: np.argwhere(x == clases)\n",
    "f = np.vectorize(f)\n",
    "y_real = f(testY[:,0])"
   ]
  },
  {
   "cell_type": "code",
   "execution_count": 93,
   "id": "01570325",
   "metadata": {},
   "outputs": [
    {
     "name": "stdout",
     "output_type": "stream",
     "text": [
      "36/36 [==============================] - 1s 10ms/step\n"
     ]
    }
   ],
   "source": [
    "predictions = model.predict(testX)"
   ]
  },
  {
   "cell_type": "code",
   "execution_count": 94,
   "id": "8e720daf",
   "metadata": {},
   "outputs": [
    {
     "data": {
      "text/plain": [
       "<matplotlib.collections.PathCollection at 0x7f85119f3ac0>"
      ]
     },
     "execution_count": 94,
     "metadata": {},
     "output_type": "execute_result"
    },
    {
     "data": {
      "image/png": "[encoded data removed]",
      "text/plain": [
       "<Figure size 640x480 with 1 Axes>"
      ]
     },
     "metadata": {},
     "output_type": "display_data"
    }
   ],
   "source": [
    "plt.scatter(predictions[:,0], predictions[:,0], s=1, c=y_real+1)"
   ]
  },
  {
   "cell_type": "code",
   "execution_count": 95,
   "id": "66383536",
   "metadata": {},
   "outputs": [],
   "source": [
    "y_real_train = f(trainY[:,0])"
   ]
  },
  {
   "cell_type": "code",
   "execution_count": 96,
   "id": "4c08176c",
   "metadata": {},
   "outputs": [
    {
     "name": "stdout",
     "output_type": "stream",
     "text": [
      "133/133 [==============================] - 1s 10ms/step\n"
     ]
    }
   ],
   "source": [
    "predictions_train = model.predict(trainX)"
   ]
  },
  {
   "cell_type": "code",
   "execution_count": 97,
   "id": "2bf956b8",
   "metadata": {},
   "outputs": [
    {
     "data": {
      "text/plain": [
       "<matplotlib.collections.PathCollection at 0x7f850e25ab30>"
      ]
     },
     "execution_count": 97,
     "metadata": {},
     "output_type": "execute_result"
    },
    {
     "data": {
      "image/png": "[encoded data removed]",
      "text/plain": [
       "<Figure size 640x480 with 1 Axes>"
      ]
     },
     "metadata": {},
     "output_type": "display_data"
    }
   ],
   "source": [
    "plt.scatter(predictions_train[:,0], predictions_train[:,0], s=1, c=y_real_train+1)"
   ]
  },
  {
   "cell_type": "code",
   "execution_count": 80,
   "id": "a3924feb",
   "metadata": {},
   "outputs": [],
   "source": [
    "from sklearn.model_selection import train_test_split\n",
    "X_train, X_test, y_train, y_test = train_test_split(predictions, y_real, test_size=0.3, stratify=y_real)"
   ]
  },
  {
   "cell_type": "code",
   "execution_count": 81,
   "id": "618ed0a4",
   "metadata": {},
   "outputs": [],
   "source": [
    "rl = LogisticRegression(random_state=0, penalty=None).fit(X_train, y_train)"
   ]
  },
  {
   "cell_type": "code",
   "execution_count": 82,
   "id": "365ec7d2",
   "metadata": {},
   "outputs": [],
   "source": [
    "pred_test_2 = rl.predict(X_test)"
   ]
  },
  {
   "cell_type": "code",
   "execution_count": 83,
   "id": "c1c4661d",
   "metadata": {},
   "outputs": [
    {
     "name": "stdout",
     "output_type": "stream",
     "text": [
      "[[6 0 0]\n",
      " [0 7 0]\n",
      " [0 0 4]]\n",
      "              precision    recall  f1-score   support\n",
      "\n",
      "           1       1.00      1.00      1.00         6\n",
      "           2       1.00      1.00      1.00         7\n",
      "           3       1.00      1.00      1.00         4\n",
      "\n",
      "    accuracy                           1.00        17\n",
      "   macro avg       1.00      1.00      1.00        17\n",
      "weighted avg       1.00      1.00      1.00        17\n",
      "\n"
     ]
    }
   ],
   "source": [
    "print(confusion_matrix(y_test, pred_test_2))\n",
    "print(classification_report(y_test, pred_test_2))"
   ]
  },
  {
   "cell_type": "code",
   "execution_count": 103,
   "id": "1d9816d6",
   "metadata": {},
   "outputs": [
    {
     "data": {
      "text/plain": [
       "10"
      ]
     },
     "execution_count": 103,
     "metadata": {},
     "output_type": "execute_result"
    }
   ],
   "source": [
    "sum(vueltas_test['Stint'] == 2.0)"
   ]
  },
  {
   "cell_type": "code",
   "execution_count": null,
   "id": "86938bdc",
   "metadata": {},
   "outputs": [],
   "source": []
  }
 ],
 "metadata": {
  "kernelspec": {
   "display_name": "Python 3 (ipykernel)",
   "language": "python",
   "name": "python3"
  },
  "language_info": {
   "codemirror_mode": {
    "name": "ipython",
    "version": 3
   },
   "file_extension": ".py",
   "mimetype": "text/x-python",
   "name": "python",
   "nbconvert_exporter": "python",
   "pygments_lexer": "ipython3",
   "version": "3.10.9"
  }
 },
 "nbformat": 4,
 "nbformat_minor": 5
}
