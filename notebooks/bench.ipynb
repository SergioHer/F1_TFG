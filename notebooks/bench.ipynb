{
 "cells": [
  {
   "cell_type": "code",
   "execution_count": 28,
   "id": "5b58399a",
   "metadata": {},
   "outputs": [
    {
     "name": "stdout",
     "output_type": "stream",
     "text": [
      "14\n"
     ]
    }
   ],
   "source": [
    "import requests\n",
    "import json\n",
    "\n",
    "#El numero de vuelta es una iteracion a cada fila dell dataframe de vueltas del piloto\n",
    "\n",
    "api = \"http://ergast.com/api/f1/\" + \"2021\" + \"/\" + \"5\" + \"/drivers/\" +\"alonso\" + \"/laps/\" + \"1\" +\".json\"\n",
    "response = requests.get(api)\n",
    "response_dict = json.loads(response.text)\n",
    "print(response_dict['MRData']['RaceTable']['Races'][0]['Laps'][0]['Timings'][0]['position'])"
   ]
  },
  {
   "cell_type": "code",
   "execution_count": null,
   "id": "675ac186",
   "metadata": {},
   "outputs": [],
   "source": []
  }
 ],
 "metadata": {
  "kernelspec": {
   "display_name": "Python 3 (ipykernel)",
   "language": "python",
   "name": "python3"
  },
  "language_info": {
   "codemirror_mode": {
    "name": "ipython",
    "version": 3
   },
   "file_extension": ".py",
   "mimetype": "text/x-python",
   "name": "python",
   "nbconvert_exporter": "python",
   "pygments_lexer": "ipython3",
   "version": "3.8.15"
  }
 },
 "nbformat": 4,
 "nbformat_minor": 5
}
