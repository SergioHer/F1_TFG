{
 "cells": [
  {
   "cell_type": "code",
   "execution_count": 1,
   "id": "9ee4b771",
   "metadata": {},
   "outputs": [
    {
     "name": "stderr",
     "output_type": "stream",
     "text": [
      "2023-05-31 18:44:28.422487: I tensorflow/core/platform/cpu_feature_guard.cc:182] This TensorFlow binary is optimized to use available CPU instructions in performance-critical operations.\n",
      "To enable the following instructions: AVX2 FMA, in other operations, rebuild TensorFlow with the appropriate compiler flags.\n"
     ]
    }
   ],
   "source": [
    "import numpy as np\n",
    "from tensorflow.keras.models import Sequential\n",
    "from tensorflow.keras.layers import LSTM\n",
    "from tensorflow.keras.layers import Dense, Dropout\n",
    "from tensorflow import keras\n",
    "import pandas as pd\n",
    "from matplotlib import pyplot as plt\n",
    "from sklearn.preprocessing import StandardScaler, MinMaxScaler\n",
    "import seaborn as sns"
   ]
  },
  {
   "cell_type": "code",
   "execution_count": 632,
   "id": "e4d86cd8",
   "metadata": {},
   "outputs": [],
   "source": [
    "vueltas = pd.read_csv(\"../dataset_todos_pilotos/vueltas_spain_final.csv\")\n"
   ]
  },
  {
   "cell_type": "code",
   "execution_count": 633,
   "id": "5da13d7d",
   "metadata": {},
   "outputs": [
    {
     "data": {
      "text/plain": [
       "['LapTime',\n",
       " 'LapNumber',\n",
       " 'TyreLife',\n",
       " 'FreshTyre',\n",
       " 'TrackStatus',\n",
       " 'Stint',\n",
       " 'Piloto',\n",
       " 'makeStop',\n",
       " 'AirTemp',\n",
       " 'Rainfall',\n",
       " 'Humidity',\n",
       " 'TrackTemp',\n",
       " 'posicionActual',\n",
       " 'tiempoPilotoDelante',\n",
       " 'tiempoPilotoDetras',\n",
       " 'posicionSalida',\n",
       " 'anyo',\n",
       " 'nextPit',\n",
       " 'compound_HARD',\n",
       " 'compound_MEDIUM',\n",
       " 'compound_SOFT',\n",
       " 'compound_SUPERSOFT']"
      ]
     },
     "execution_count": 633,
     "metadata": {},
     "output_type": "execute_result"
    }
   ],
   "source": [
    "list(vueltas.columns.values)"
   ]
  },
  {
   "cell_type": "code",
   "execution_count": null,
   "id": "69382fd9",
   "metadata": {},
   "outputs": [],
   "source": []
  },
  {
   "cell_type": "code",
   "execution_count": 634,
   "id": "9aafbad6",
   "metadata": {},
   "outputs": [],
   "source": [
    "#vueltas.drop(['LapTime'], axis = 1, inplace = True)#Quitamos Laptime para ver cuando baja la prediccion\n",
    "#vueltas.drop(['LapNumber'], axis = 1, inplace = True)#Quitamos Laptime para ver cuando baja la prediccion\n",
    "#vueltas.drop(['nextPit'], axis = 1, inplace = True)#Quitamos Laptime para ver cuando baja la prediccion\n",
    "#vueltas.drop(['tiempoPilotoDelante'], axis = 1, inplace = True)#Quitamos Laptime para ver cuando baja la prediccion\n",
    "#vueltas.drop(['tiempoPilotoDetras'], axis = 1, inplace = True)#Quitamos Laptime para ver cuando baja la prediccion\n",
    "\n",
    "columnas = [\"Stint\", \"Piloto\",\"anyo\"]\n",
    "vueltas = vueltas[columnas]\n",
    "\n",
    "\n",
    "#vueltas.drop(['makeStop'], axis = 1, inplace = True)\n",
    "#vueltas.drop(['Piloto'], axis = 1, inplace = True)\n",
    "\n",
    "vueltas_train = vueltas[vueltas['anyo'].isin([2018, 2019, 2020, 2021])]\n",
    "vueltas_test = vueltas[vueltas['anyo'] == 2022]\n",
    "\n",
    "vueltas_test = vueltas_test[vueltas_test['Piloto'] == \"alonso\"]\n",
    "\n",
    "vueltas_train = vueltas_train.drop(['anyo'], axis=1)\n",
    "vueltas_test = vueltas_test.drop(['anyo'], axis=1)\n",
    "\n",
    "vueltas_train.drop(['Piloto'], axis = 1, inplace = True)\n",
    "vueltas_test.drop(['Piloto'], axis = 1, inplace = True)\n",
    "\n",
    "\n",
    "vueltas_train = vueltas_train.astype(float)\n",
    "vueltas_test = vueltas_test.astype(float)"
   ]
  },
  {
   "cell_type": "code",
   "execution_count": 635,
   "id": "3741accf",
   "metadata": {},
   "outputs": [],
   "source": [
    "scaler = MinMaxScaler()\n",
    "scaler.fit(vueltas_train)\n",
    "vueltas_train_scaler = scaler.transform(vueltas_train)\n",
    "vueltas_test_scaler = scaler.transform(vueltas_test)"
   ]
  },
  {
   "cell_type": "code",
   "execution_count": null,
   "id": "51651323",
   "metadata": {},
   "outputs": [],
   "source": []
  },
  {
   "cell_type": "code",
   "execution_count": 636,
   "id": "0e8e4df1",
   "metadata": {},
   "outputs": [
    {
     "data": {
      "text/html": [
       "<div>\n",
       "<style scoped>\n",
       "    .dataframe tbody tr th:only-of-type {\n",
       "        vertical-align: middle;\n",
       "    }\n",
       "\n",
       "    .dataframe tbody tr th {\n",
       "        vertical-align: top;\n",
       "    }\n",
       "\n",
       "    .dataframe thead th {\n",
       "        text-align: right;\n",
       "    }\n",
       "</style>\n",
       "<table border=\"1\" class=\"dataframe\">\n",
       "  <thead>\n",
       "    <tr style=\"text-align: right;\">\n",
       "      <th></th>\n",
       "      <th>0</th>\n",
       "    </tr>\n",
       "  </thead>\n",
       "  <tbody>\n",
       "    <tr>\n",
       "      <th>0</th>\n",
       "      <td>0.0</td>\n",
       "    </tr>\n",
       "    <tr>\n",
       "      <th>1</th>\n",
       "      <td>0.0</td>\n",
       "    </tr>\n",
       "    <tr>\n",
       "      <th>2</th>\n",
       "      <td>0.0</td>\n",
       "    </tr>\n",
       "    <tr>\n",
       "      <th>3</th>\n",
       "      <td>0.0</td>\n",
       "    </tr>\n",
       "    <tr>\n",
       "      <th>4</th>\n",
       "      <td>0.0</td>\n",
       "    </tr>\n",
       "    <tr>\n",
       "      <th>...</th>\n",
       "      <td>...</td>\n",
       "    </tr>\n",
       "    <tr>\n",
       "      <th>59</th>\n",
       "      <td>1.0</td>\n",
       "    </tr>\n",
       "    <tr>\n",
       "      <th>60</th>\n",
       "      <td>1.0</td>\n",
       "    </tr>\n",
       "    <tr>\n",
       "      <th>61</th>\n",
       "      <td>1.0</td>\n",
       "    </tr>\n",
       "    <tr>\n",
       "      <th>62</th>\n",
       "      <td>1.0</td>\n",
       "    </tr>\n",
       "    <tr>\n",
       "      <th>63</th>\n",
       "      <td>1.0</td>\n",
       "    </tr>\n",
       "  </tbody>\n",
       "</table>\n",
       "<p>64 rows × 1 columns</p>\n",
       "</div>"
      ],
      "text/plain": [
       "      0\n",
       "0   0.0\n",
       "1   0.0\n",
       "2   0.0\n",
       "3   0.0\n",
       "4   0.0\n",
       "..  ...\n",
       "59  1.0\n",
       "60  1.0\n",
       "61  1.0\n",
       "62  1.0\n",
       "63  1.0\n",
       "\n",
       "[64 rows x 1 columns]"
      ]
     },
     "execution_count": 636,
     "metadata": {},
     "output_type": "execute_result"
    }
   ],
   "source": [
    "pd.DataFrame(vueltas_test_scaler)"
   ]
  },
  {
   "cell_type": "code",
   "execution_count": 637,
   "id": "a43f2520",
   "metadata": {},
   "outputs": [],
   "source": [
    "trainX = []\n",
    "trainY = []\n",
    "testX = []\n",
    "testY = []\n",
    "loopback = 10 # Esto es el numero de muestras que usara en el pasado \n",
    "future = 1 # Esto es el numero de hechos futuros que usará como salida a las 10 muestras del pasado\n",
    "\n",
    "for i in range (loopback, len(vueltas_train_scaler) -future +1):\n",
    "    trainX.append(vueltas_train_scaler[i-loopback:i, 0:vueltas_train.shape[1]])\n",
    "    trainY.append(vueltas_train_scaler[i + future - 1:i + future, 0]) #Ajustar aqui la columna de stint\n",
    "    \n",
    "for i in range (loopback, len(vueltas_test_scaler) -future +1):\n",
    "    testX.append(vueltas_test_scaler[i-loopback:i, 0:vueltas_test.shape[1]]) #Aqui le tengo que quitar el Stint??\n",
    "    testY.append(vueltas_test_scaler[i + future - 1:i + future,0])\n"
   ]
  },
  {
   "cell_type": "code",
   "execution_count": 638,
   "id": "748744b3",
   "metadata": {},
   "outputs": [],
   "source": [
    "trainX, trainY, testX, testY= np.array(trainX), np.array(trainY), np.array(testX), np.array(testY)"
   ]
  },
  {
   "cell_type": "code",
   "execution_count": 639,
   "id": "f16e12f8",
   "metadata": {},
   "outputs": [
    {
     "name": "stdout",
     "output_type": "stream",
     "text": [
      "Model: \"sequential_30\"\n",
      "_________________________________________________________________\n",
      " Layer (type)                Output Shape              Param #   \n",
      "=================================================================\n",
      " lstm_60 (LSTM)              (None, 10, 256)           264192    \n",
      "                                                                 \n",
      " dropout_60 (Dropout)        (None, 10, 256)           0         \n",
      "                                                                 \n",
      " lstm_61 (LSTM)              (None, 128)               197120    \n",
      "                                                                 \n",
      " dropout_61 (Dropout)        (None, 128)               0         \n",
      "                                                                 \n",
      " dense_28 (Dense)            (None, 1)                 129       \n",
      "                                                                 \n",
      "=================================================================\n",
      "Total params: 461,441\n",
      "Trainable params: 461,441\n",
      "Non-trainable params: 0\n",
      "_________________________________________________________________\n"
     ]
    }
   ],
   "source": [
    "model = Sequential()\n",
    "model.add(LSTM(256, activation='relu', input_shape=(trainX.shape[1], trainX.shape[2]), return_sequences=True))\n",
    "model.add(Dropout(0.2))\n",
    "model.add(LSTM(128, activation='relu', return_sequences=False))\n",
    "model.add(Dropout(0.2))\n",
    "model.add(Dense(trainY.shape[1]))\n",
    "model.compile(optimizer=\"adam\", loss= \"mse\") ##Cambiar esto para la siguiente reunion (positivo 1, negativo 0)\n",
    "model.summary()"
   ]
  },
  {
   "cell_type": "code",
   "execution_count": 640,
   "id": "d48f6c99",
   "metadata": {},
   "outputs": [
    {
     "name": "stdout",
     "output_type": "stream",
     "text": [
      "Epoch 1/12\n",
      "64/64 [==============================] - 5s 40ms/step - loss: 0.0359\n",
      "Epoch 2/12\n",
      "64/64 [==============================] - 3s 40ms/step - loss: 0.0183\n",
      "Epoch 3/12\n",
      "64/64 [==============================] - 3s 40ms/step - loss: 0.0150\n",
      "Epoch 4/12\n",
      "64/64 [==============================] - 3s 41ms/step - loss: 0.0134\n",
      "Epoch 5/12\n",
      "64/64 [==============================] - 3s 41ms/step - loss: 0.0126\n",
      "Epoch 6/12\n",
      "64/64 [==============================] - 3s 42ms/step - loss: 0.0121\n",
      "Epoch 7/12\n",
      "64/64 [==============================] - 3s 42ms/step - loss: 0.0116\n",
      "Epoch 8/12\n",
      "64/64 [==============================] - 3s 41ms/step - loss: 0.0111\n",
      "Epoch 9/12\n",
      "64/64 [==============================] - 3s 43ms/step - loss: 0.0109\n",
      "Epoch 10/12\n",
      "64/64 [==============================] - 3s 41ms/step - loss: 0.0108\n",
      "Epoch 11/12\n",
      "64/64 [==============================] - 3s 45ms/step - loss: 0.0103\n",
      "Epoch 12/12\n",
      "64/64 [==============================] - 3s 45ms/step - loss: 0.0101\n"
     ]
    },
    {
     "data": {
      "text/plain": [
       "<matplotlib.legend.Legend at 0x7ff3f0cd3280>"
      ]
     },
     "execution_count": 640,
     "metadata": {},
     "output_type": "execute_result"
    },
    {
     "data": {
      "image/png": "[encoded data removed]",
      "text/plain": [
       "<Figure size 640x480 with 1 Axes>"
      ]
     },
     "metadata": {},
     "output_type": "display_data"
    }
   ],
   "source": [
    "history = model.fit(trainX, trainY, epochs=12, batch_size=64, validation_split=0.0, verbose=1)\n",
    "\n",
    "plt.plot(history.history['loss'], label='Training loss')\n",
    "plt.legend()"
   ]
  },
  {
   "cell_type": "code",
   "execution_count": 641,
   "id": "aaac36a2",
   "metadata": {},
   "outputs": [
    {
     "data": {
      "text/plain": [
       "(54, 1)"
      ]
     },
     "execution_count": 641,
     "metadata": {},
     "output_type": "execute_result"
    }
   ],
   "source": [
    "testY.shape"
   ]
  },
  {
   "cell_type": "code",
   "execution_count": 642,
   "id": "571b3d2d",
   "metadata": {},
   "outputs": [
    {
     "data": {
      "text/plain": [
       "array([0.        , 0.33333333, 0.66666667, 1.        ])"
      ]
     },
     "execution_count": 642,
     "metadata": {},
     "output_type": "execute_result"
    }
   ],
   "source": [
    "clases = np.unique(trainY[:,0])\n",
    "clases"
   ]
  },
  {
   "cell_type": "code",
   "execution_count": 643,
   "id": "9928d8d7",
   "metadata": {
    "scrolled": false
   },
   "outputs": [],
   "source": [
    "f = lambda x: np.argwhere(x == clases)\n",
    "f = np.vectorize(f)\n",
    "y_real = f(testY[:,0])"
   ]
  },
  {
   "cell_type": "code",
   "execution_count": 644,
   "id": "01570325",
   "metadata": {
    "scrolled": false
   },
   "outputs": [
    {
     "name": "stdout",
     "output_type": "stream",
     "text": [
      "2/2 [==============================] - 0s 10ms/step\n"
     ]
    }
   ],
   "source": [
    "predictions = model.predict(testX)"
   ]
  },
  {
   "cell_type": "code",
   "execution_count": 661,
   "id": "be629109",
   "metadata": {},
   "outputs": [
    {
     "data": {
      "image/png": "[encoded data removed]",
      "text/plain": [
       "<Figure size 640x480 with 1 Axes>"
      ]
     },
     "metadata": {},
     "output_type": "display_data"
    }
   ],
   "source": [
    "values1 = testY.flatten()\n",
    "indices1 = np.arange(len(values1))\n",
    "\n",
    "values2 = predictions.flatten()\n",
    "indices2 = np.arange(len(values2))\n",
    "\n",
    "# Crear el gráfico\n",
    "plt.plot(indices1, values1, label='Y real')\n",
    "plt.plot(indices2, values2, label='Predicho')\n",
    "plt.xlabel('Índice')\n",
    "plt.ylabel('Valor')\n",
    "plt.title('Predicciones')\n",
    "plt.legend()\n",
    "plt.show()"
   ]
  },
  {
   "cell_type": "code",
   "execution_count": 645,
   "id": "8e720daf",
   "metadata": {
    "scrolled": true
   },
   "outputs": [
    {
     "data": {
      "text/plain": [
       "<matplotlib.collections.PathCollection at 0x7ff3f6f2ec80>"
      ]
     },
     "execution_count": 645,
     "metadata": {},
     "output_type": "execute_result"
    },
    {
     "data": {
      "image/png": "[encoded data removed]",
      "text/plain": [
       "<Figure size 640x480 with 1 Axes>"
      ]
     },
     "metadata": {},
     "output_type": "display_data"
    }
   ],
   "source": [
    "plt.scatter(predictions[:,0], predictions[:,0], s=1, c=y_real+1)"
   ]
  },
  {
   "cell_type": "code",
   "execution_count": 646,
   "id": "a3924feb",
   "metadata": {},
   "outputs": [],
   "source": [
    "from sklearn.model_selection import train_test_split\n",
    "X_train, X_test, y_train, y_test = train_test_split(predictions, y_real, test_size=0.3, stratify=y_real)"
   ]
  },
  {
   "cell_type": "code",
   "execution_count": 647,
   "id": "618ed0a4",
   "metadata": {},
   "outputs": [],
   "source": [
    "from sklearn.linear_model import LogisticRegression\n",
    "rl = LogisticRegression(random_state=0, penalty=None).fit(X_train, y_train)"
   ]
  },
  {
   "cell_type": "code",
   "execution_count": 648,
   "id": "365ec7d2",
   "metadata": {},
   "outputs": [],
   "source": [
    "pred_test_2 = rl.predict(X_test)"
   ]
  },
  {
   "cell_type": "code",
   "execution_count": 659,
   "id": "30813289",
   "metadata": {},
   "outputs": [
    {
     "data": {
      "text/plain": [
       "array([3, 1, 2, 3, 2, 1, 2, 2, 1, 2, 2, 2, 3, 1, 1, 2, 1])"
      ]
     },
     "execution_count": 659,
     "metadata": {},
     "output_type": "execute_result"
    }
   ],
   "source": [
    "pred_test_2"
   ]
  },
  {
   "cell_type": "code",
   "execution_count": 658,
   "id": "e2a93fa0",
   "metadata": {},
   "outputs": [
    {
     "data": {
      "image/png": "[encoded data removed]",
      "text/plain": [
       "<Figure size 640x480 with 1 Axes>"
      ]
     },
     "metadata": {},
     "output_type": "display_data"
    }
   ],
   "source": [
    "values1 = y_test.flatten()\n",
    "indices1 = np.arange(len(values1))\n",
    "\n",
    "values2 = pred_test_2.flatten()\n",
    "indices2 = np.arange(len(values2))\n",
    "\n",
    "# Crear el gráfico\n",
    "plt.plot(indices1, values1, label='Y real')\n",
    "plt.plot(indices2, values2, label='Predicho')\n",
    "plt.xlabel('Índice')\n",
    "plt.ylabel('Valor')\n",
    "plt.title('Predicciones')\n",
    "plt.legend()\n",
    "plt.show()"
   ]
  },
  {
   "cell_type": "code",
   "execution_count": 660,
   "id": "c1c4661d",
   "metadata": {},
   "outputs": [
    {
     "name": "stdout",
     "output_type": "stream",
     "text": [
      "[[6 0 0]\n",
      " [0 7 0]\n",
      " [0 1 3]]\n",
      "              precision    recall  f1-score   support\n",
      "\n",
      "           1       1.00      1.00      1.00         6\n",
      "           2       0.88      1.00      0.93         7\n",
      "           3       1.00      0.75      0.86         4\n",
      "\n",
      "    accuracy                           0.94        17\n",
      "   macro avg       0.96      0.92      0.93        17\n",
      "weighted avg       0.95      0.94      0.94        17\n",
      "\n"
     ]
    }
   ],
   "source": [
    "from sklearn.metrics import confusion_matrix\n",
    "from sklearn.metrics import classification_report\n",
    "print(confusion_matrix(y_test, pred_test_2))\n",
    "print(classification_report(y_test, pred_test_2))"
   ]
  },
  {
   "cell_type": "markdown",
   "id": "7589f0fe",
   "metadata": {},
   "source": [
    "# Sin quitar nada -> 0.94\n",
    "##### Si le quito LapTime -> 0.92\n",
    "##### Si le quito LapTime + LapNumber -> 0.90\n",
    "##### Si le quito NextPit solo -> 0.85\n",
    "##### Si le quito NextPit + Laptime + LapNumber -> 0.91\n",
    "##### Si le quito NextPit + Laptime + LapNumber + TiempoPilotoDelante + TiempoPilotoDetras -> 0.65\n",
    "##### Si le quito tiempoPilotoDelante -> 0.91\n",
    "##### Si le quito tiempoPilotoDelante + tiempoPilotoDetras -> 0.88\n",
    "##### Si le quito makeStop-> 0.84\n",
    "##### Si le dejo solo nextPit + LapTime + LapNumber + tiempoPilotoDelante + tiempoPilotoDetras + Stint -> 0.93\n",
    "##### Si le dejo solo nextPit -> 0.90\n",
    "##### Si le dejo solo LapTime -> 0.96\n",
    "##### Si le dejo solo LapNumber -> 0.91\n",
    "##### Si le dejo solo tiempoPilotoDelante -> 0.93\n",
    "##### Si le dejo solo tiempoPilotoDetras -> 0.96\n",
    "\n"
   ]
  },
  {
   "cell_type": "code",
   "execution_count": 650,
   "id": "988508ad",
   "metadata": {
    "scrolled": true
   },
   "outputs": [
    {
     "data": {
      "text/html": [
       "<div>\n",
       "<style scoped>\n",
       "    .dataframe tbody tr th:only-of-type {\n",
       "        vertical-align: middle;\n",
       "    }\n",
       "\n",
       "    .dataframe tbody tr th {\n",
       "        vertical-align: top;\n",
       "    }\n",
       "\n",
       "    .dataframe thead th {\n",
       "        text-align: right;\n",
       "    }\n",
       "</style>\n",
       "<table border=\"1\" class=\"dataframe\">\n",
       "  <thead>\n",
       "    <tr style=\"text-align: right;\">\n",
       "      <th></th>\n",
       "      <th>Stint</th>\n",
       "    </tr>\n",
       "  </thead>\n",
       "  <tbody>\n",
       "    <tr>\n",
       "      <th>0</th>\n",
       "      <td>1.0</td>\n",
       "    </tr>\n",
       "    <tr>\n",
       "      <th>1</th>\n",
       "      <td>1.0</td>\n",
       "    </tr>\n",
       "    <tr>\n",
       "      <th>2</th>\n",
       "      <td>1.0</td>\n",
       "    </tr>\n",
       "    <tr>\n",
       "      <th>3</th>\n",
       "      <td>1.0</td>\n",
       "    </tr>\n",
       "    <tr>\n",
       "      <th>4</th>\n",
       "      <td>1.0</td>\n",
       "    </tr>\n",
       "    <tr>\n",
       "      <th>...</th>\n",
       "      <td>...</td>\n",
       "    </tr>\n",
       "    <tr>\n",
       "      <th>4072</th>\n",
       "      <td>1.0</td>\n",
       "    </tr>\n",
       "    <tr>\n",
       "      <th>4073</th>\n",
       "      <td>1.0</td>\n",
       "    </tr>\n",
       "    <tr>\n",
       "      <th>4074</th>\n",
       "      <td>1.0</td>\n",
       "    </tr>\n",
       "    <tr>\n",
       "      <th>4075</th>\n",
       "      <td>1.0</td>\n",
       "    </tr>\n",
       "    <tr>\n",
       "      <th>4076</th>\n",
       "      <td>1.0</td>\n",
       "    </tr>\n",
       "  </tbody>\n",
       "</table>\n",
       "<p>4077 rows × 1 columns</p>\n",
       "</div>"
      ],
      "text/plain": [
       "      Stint\n",
       "0       1.0\n",
       "1       1.0\n",
       "2       1.0\n",
       "3       1.0\n",
       "4       1.0\n",
       "...     ...\n",
       "4072    1.0\n",
       "4073    1.0\n",
       "4074    1.0\n",
       "4075    1.0\n",
       "4076    1.0\n",
       "\n",
       "[4077 rows x 1 columns]"
      ]
     },
     "execution_count": 650,
     "metadata": {},
     "output_type": "execute_result"
    }
   ],
   "source": [
    "vueltas_train"
   ]
  },
  {
   "cell_type": "code",
   "execution_count": null,
   "id": "4c1fb51d",
   "metadata": {},
   "outputs": [],
   "source": []
  }
 ],
 "metadata": {
  "kernelspec": {
   "display_name": "Python 3 (ipykernel)",
   "language": "python",
   "name": "python3"
  },
  "language_info": {
   "codemirror_mode": {
    "name": "ipython",
    "version": 3
   },
   "file_extension": ".py",
   "mimetype": "text/x-python",
   "name": "python",
   "nbconvert_exporter": "python",
   "pygments_lexer": "ipython3",
   "version": "3.10.9"
  }
 },
 "nbformat": 4,
 "nbformat_minor": 5
}
